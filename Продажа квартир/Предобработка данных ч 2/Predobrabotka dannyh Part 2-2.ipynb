{
 "cells": [
  {
   "cell_type": "markdown",
   "id": "a8c6038f",
   "metadata": {
    "deletable": false,
    "editable": false,
    "id": "c81daeeb"
   },
   "source": [
    "# Исследование надежности заемщиков\n"
   ]
  },
  {
   "cell_type": "markdown",
   "id": "212a52ce",
   "metadata": {
    "deletable": false,
    "editable": false,
    "id": "827c20bf"
   },
   "source": [
    "Во второй части проекта вы выполните шаги 3 и 4. Их вручную проверит ревьюер.\n",
    "Чтобы вам не пришлось писать код заново для шагов 1 и 2, мы добавили авторские решения в ячейки с кодом. \n",
    "\n"
   ]
  },
  {
   "cell_type": "markdown",
   "id": "a7e5e2ca",
   "metadata": {
    "deletable": false,
    "editable": false,
    "id": "744d7639"
   },
   "source": [
    "## Откройте таблицу и изучите общую информацию о данных"
   ]
  },
  {
   "cell_type": "markdown",
   "id": "3c66a6c7",
   "metadata": {
    "deletable": false,
    "editable": false,
    "id": "e7a14c31"
   },
   "source": [
    "**Задание 1. Импортируйте библиотеку pandas. Считайте данные из csv-файла в датафрейм и сохраните в переменную `data`. Путь к файлу:**\n",
    "\n",
    "`/datasets/data.csv`"
   ]
  },
  {
   "cell_type": "code",
   "execution_count": 1,
   "id": "cb65d607",
   "metadata": {
    "deletable": false,
    "id": "7bcf75c9"
   },
   "outputs": [],
   "source": [
    "import pandas as pd\n",
    "\n",
    "try:\n",
    "    data = pd.read_csv('/datasets/data.csv')\n",
    "except:\n",
    "    data = pd.read_csv('https://code.s3.yandex.net/datasets/data.csv')"
   ]
  },
  {
   "cell_type": "markdown",
   "id": "b8caa3e8",
   "metadata": {
    "deletable": false,
    "editable": false,
    "id": "b8038fe3"
   },
   "source": [
    "**Задание 2. Выведите первые 20 строчек датафрейма `data` на экран.**"
   ]
  },
  {
   "cell_type": "code",
   "execution_count": 2,
   "id": "7fc4f578",
   "metadata": {
    "deletable": false,
    "id": "2a7cab99",
    "outputId": "1a8f3ef2-d323-4ec2-ddf7-89670b5944c4"
   },
   "outputs": [
    {
     "data": {
      "text/html": [
       "<div>\n",
       "<style scoped>\n",
       "    .dataframe tbody tr th:only-of-type {\n",
       "        vertical-align: middle;\n",
       "    }\n",
       "\n",
       "    .dataframe tbody tr th {\n",
       "        vertical-align: top;\n",
       "    }\n",
       "\n",
       "    .dataframe thead th {\n",
       "        text-align: right;\n",
       "    }\n",
       "</style>\n",
       "<table border=\"1\" class=\"dataframe\">\n",
       "  <thead>\n",
       "    <tr style=\"text-align: right;\">\n",
       "      <th></th>\n",
       "      <th>children</th>\n",
       "      <th>days_employed</th>\n",
       "      <th>dob_years</th>\n",
       "      <th>education</th>\n",
       "      <th>education_id</th>\n",
       "      <th>family_status</th>\n",
       "      <th>family_status_id</th>\n",
       "      <th>gender</th>\n",
       "      <th>income_type</th>\n",
       "      <th>debt</th>\n",
       "      <th>total_income</th>\n",
       "      <th>purpose</th>\n",
       "    </tr>\n",
       "  </thead>\n",
       "  <tbody>\n",
       "    <tr>\n",
       "      <th>0</th>\n",
       "      <td>1</td>\n",
       "      <td>-8437.673028</td>\n",
       "      <td>42</td>\n",
       "      <td>высшее</td>\n",
       "      <td>0</td>\n",
       "      <td>женат / замужем</td>\n",
       "      <td>0</td>\n",
       "      <td>F</td>\n",
       "      <td>сотрудник</td>\n",
       "      <td>0</td>\n",
       "      <td>253875.639453</td>\n",
       "      <td>покупка жилья</td>\n",
       "    </tr>\n",
       "    <tr>\n",
       "      <th>1</th>\n",
       "      <td>1</td>\n",
       "      <td>-4024.803754</td>\n",
       "      <td>36</td>\n",
       "      <td>среднее</td>\n",
       "      <td>1</td>\n",
       "      <td>женат / замужем</td>\n",
       "      <td>0</td>\n",
       "      <td>F</td>\n",
       "      <td>сотрудник</td>\n",
       "      <td>0</td>\n",
       "      <td>112080.014102</td>\n",
       "      <td>приобретение автомобиля</td>\n",
       "    </tr>\n",
       "    <tr>\n",
       "      <th>2</th>\n",
       "      <td>0</td>\n",
       "      <td>-5623.422610</td>\n",
       "      <td>33</td>\n",
       "      <td>Среднее</td>\n",
       "      <td>1</td>\n",
       "      <td>женат / замужем</td>\n",
       "      <td>0</td>\n",
       "      <td>M</td>\n",
       "      <td>сотрудник</td>\n",
       "      <td>0</td>\n",
       "      <td>145885.952297</td>\n",
       "      <td>покупка жилья</td>\n",
       "    </tr>\n",
       "    <tr>\n",
       "      <th>3</th>\n",
       "      <td>3</td>\n",
       "      <td>-4124.747207</td>\n",
       "      <td>32</td>\n",
       "      <td>среднее</td>\n",
       "      <td>1</td>\n",
       "      <td>женат / замужем</td>\n",
       "      <td>0</td>\n",
       "      <td>M</td>\n",
       "      <td>сотрудник</td>\n",
       "      <td>0</td>\n",
       "      <td>267628.550329</td>\n",
       "      <td>дополнительное образование</td>\n",
       "    </tr>\n",
       "    <tr>\n",
       "      <th>4</th>\n",
       "      <td>0</td>\n",
       "      <td>340266.072047</td>\n",
       "      <td>53</td>\n",
       "      <td>среднее</td>\n",
       "      <td>1</td>\n",
       "      <td>гражданский брак</td>\n",
       "      <td>1</td>\n",
       "      <td>F</td>\n",
       "      <td>пенсионер</td>\n",
       "      <td>0</td>\n",
       "      <td>158616.077870</td>\n",
       "      <td>сыграть свадьбу</td>\n",
       "    </tr>\n",
       "    <tr>\n",
       "      <th>5</th>\n",
       "      <td>0</td>\n",
       "      <td>-926.185831</td>\n",
       "      <td>27</td>\n",
       "      <td>высшее</td>\n",
       "      <td>0</td>\n",
       "      <td>гражданский брак</td>\n",
       "      <td>1</td>\n",
       "      <td>M</td>\n",
       "      <td>компаньон</td>\n",
       "      <td>0</td>\n",
       "      <td>255763.565419</td>\n",
       "      <td>покупка жилья</td>\n",
       "    </tr>\n",
       "    <tr>\n",
       "      <th>6</th>\n",
       "      <td>0</td>\n",
       "      <td>-2879.202052</td>\n",
       "      <td>43</td>\n",
       "      <td>высшее</td>\n",
       "      <td>0</td>\n",
       "      <td>женат / замужем</td>\n",
       "      <td>0</td>\n",
       "      <td>F</td>\n",
       "      <td>компаньон</td>\n",
       "      <td>0</td>\n",
       "      <td>240525.971920</td>\n",
       "      <td>операции с жильем</td>\n",
       "    </tr>\n",
       "    <tr>\n",
       "      <th>7</th>\n",
       "      <td>0</td>\n",
       "      <td>-152.779569</td>\n",
       "      <td>50</td>\n",
       "      <td>СРЕДНЕЕ</td>\n",
       "      <td>1</td>\n",
       "      <td>женат / замужем</td>\n",
       "      <td>0</td>\n",
       "      <td>M</td>\n",
       "      <td>сотрудник</td>\n",
       "      <td>0</td>\n",
       "      <td>135823.934197</td>\n",
       "      <td>образование</td>\n",
       "    </tr>\n",
       "    <tr>\n",
       "      <th>8</th>\n",
       "      <td>2</td>\n",
       "      <td>-6929.865299</td>\n",
       "      <td>35</td>\n",
       "      <td>ВЫСШЕЕ</td>\n",
       "      <td>0</td>\n",
       "      <td>гражданский брак</td>\n",
       "      <td>1</td>\n",
       "      <td>F</td>\n",
       "      <td>сотрудник</td>\n",
       "      <td>0</td>\n",
       "      <td>95856.832424</td>\n",
       "      <td>на проведение свадьбы</td>\n",
       "    </tr>\n",
       "    <tr>\n",
       "      <th>9</th>\n",
       "      <td>0</td>\n",
       "      <td>-2188.756445</td>\n",
       "      <td>41</td>\n",
       "      <td>среднее</td>\n",
       "      <td>1</td>\n",
       "      <td>женат / замужем</td>\n",
       "      <td>0</td>\n",
       "      <td>M</td>\n",
       "      <td>сотрудник</td>\n",
       "      <td>0</td>\n",
       "      <td>144425.938277</td>\n",
       "      <td>покупка жилья для семьи</td>\n",
       "    </tr>\n",
       "    <tr>\n",
       "      <th>10</th>\n",
       "      <td>2</td>\n",
       "      <td>-4171.483647</td>\n",
       "      <td>36</td>\n",
       "      <td>высшее</td>\n",
       "      <td>0</td>\n",
       "      <td>женат / замужем</td>\n",
       "      <td>0</td>\n",
       "      <td>M</td>\n",
       "      <td>компаньон</td>\n",
       "      <td>0</td>\n",
       "      <td>113943.491460</td>\n",
       "      <td>покупка недвижимости</td>\n",
       "    </tr>\n",
       "    <tr>\n",
       "      <th>11</th>\n",
       "      <td>0</td>\n",
       "      <td>-792.701887</td>\n",
       "      <td>40</td>\n",
       "      <td>среднее</td>\n",
       "      <td>1</td>\n",
       "      <td>женат / замужем</td>\n",
       "      <td>0</td>\n",
       "      <td>F</td>\n",
       "      <td>сотрудник</td>\n",
       "      <td>0</td>\n",
       "      <td>77069.234271</td>\n",
       "      <td>покупка коммерческой недвижимости</td>\n",
       "    </tr>\n",
       "    <tr>\n",
       "      <th>12</th>\n",
       "      <td>0</td>\n",
       "      <td>NaN</td>\n",
       "      <td>65</td>\n",
       "      <td>среднее</td>\n",
       "      <td>1</td>\n",
       "      <td>гражданский брак</td>\n",
       "      <td>1</td>\n",
       "      <td>M</td>\n",
       "      <td>пенсионер</td>\n",
       "      <td>0</td>\n",
       "      <td>NaN</td>\n",
       "      <td>сыграть свадьбу</td>\n",
       "    </tr>\n",
       "    <tr>\n",
       "      <th>13</th>\n",
       "      <td>0</td>\n",
       "      <td>-1846.641941</td>\n",
       "      <td>54</td>\n",
       "      <td>неоконченное высшее</td>\n",
       "      <td>2</td>\n",
       "      <td>женат / замужем</td>\n",
       "      <td>0</td>\n",
       "      <td>F</td>\n",
       "      <td>сотрудник</td>\n",
       "      <td>0</td>\n",
       "      <td>130458.228857</td>\n",
       "      <td>приобретение автомобиля</td>\n",
       "    </tr>\n",
       "    <tr>\n",
       "      <th>14</th>\n",
       "      <td>0</td>\n",
       "      <td>-1844.956182</td>\n",
       "      <td>56</td>\n",
       "      <td>высшее</td>\n",
       "      <td>0</td>\n",
       "      <td>гражданский брак</td>\n",
       "      <td>1</td>\n",
       "      <td>F</td>\n",
       "      <td>компаньон</td>\n",
       "      <td>1</td>\n",
       "      <td>165127.911772</td>\n",
       "      <td>покупка жилой недвижимости</td>\n",
       "    </tr>\n",
       "    <tr>\n",
       "      <th>15</th>\n",
       "      <td>1</td>\n",
       "      <td>-972.364419</td>\n",
       "      <td>26</td>\n",
       "      <td>среднее</td>\n",
       "      <td>1</td>\n",
       "      <td>женат / замужем</td>\n",
       "      <td>0</td>\n",
       "      <td>F</td>\n",
       "      <td>сотрудник</td>\n",
       "      <td>0</td>\n",
       "      <td>116820.904450</td>\n",
       "      <td>строительство собственной недвижимости</td>\n",
       "    </tr>\n",
       "    <tr>\n",
       "      <th>16</th>\n",
       "      <td>0</td>\n",
       "      <td>-1719.934226</td>\n",
       "      <td>35</td>\n",
       "      <td>среднее</td>\n",
       "      <td>1</td>\n",
       "      <td>женат / замужем</td>\n",
       "      <td>0</td>\n",
       "      <td>F</td>\n",
       "      <td>сотрудник</td>\n",
       "      <td>0</td>\n",
       "      <td>289202.704229</td>\n",
       "      <td>недвижимость</td>\n",
       "    </tr>\n",
       "    <tr>\n",
       "      <th>17</th>\n",
       "      <td>0</td>\n",
       "      <td>-2369.999720</td>\n",
       "      <td>33</td>\n",
       "      <td>высшее</td>\n",
       "      <td>0</td>\n",
       "      <td>гражданский брак</td>\n",
       "      <td>1</td>\n",
       "      <td>M</td>\n",
       "      <td>сотрудник</td>\n",
       "      <td>0</td>\n",
       "      <td>90410.586745</td>\n",
       "      <td>строительство недвижимости</td>\n",
       "    </tr>\n",
       "    <tr>\n",
       "      <th>18</th>\n",
       "      <td>0</td>\n",
       "      <td>400281.136913</td>\n",
       "      <td>53</td>\n",
       "      <td>среднее</td>\n",
       "      <td>1</td>\n",
       "      <td>вдовец / вдова</td>\n",
       "      <td>2</td>\n",
       "      <td>F</td>\n",
       "      <td>пенсионер</td>\n",
       "      <td>0</td>\n",
       "      <td>56823.777243</td>\n",
       "      <td>на покупку подержанного автомобиля</td>\n",
       "    </tr>\n",
       "    <tr>\n",
       "      <th>19</th>\n",
       "      <td>0</td>\n",
       "      <td>-10038.818549</td>\n",
       "      <td>48</td>\n",
       "      <td>СРЕДНЕЕ</td>\n",
       "      <td>1</td>\n",
       "      <td>в разводе</td>\n",
       "      <td>3</td>\n",
       "      <td>F</td>\n",
       "      <td>сотрудник</td>\n",
       "      <td>0</td>\n",
       "      <td>242831.107982</td>\n",
       "      <td>на покупку своего автомобиля</td>\n",
       "    </tr>\n",
       "  </tbody>\n",
       "</table>\n",
       "</div>"
      ],
      "text/plain": [
       "    children  days_employed  dob_years            education  education_id  \\\n",
       "0          1   -8437.673028         42               высшее             0   \n",
       "1          1   -4024.803754         36              среднее             1   \n",
       "2          0   -5623.422610         33              Среднее             1   \n",
       "3          3   -4124.747207         32              среднее             1   \n",
       "4          0  340266.072047         53              среднее             1   \n",
       "5          0    -926.185831         27               высшее             0   \n",
       "6          0   -2879.202052         43               высшее             0   \n",
       "7          0    -152.779569         50              СРЕДНЕЕ             1   \n",
       "8          2   -6929.865299         35               ВЫСШЕЕ             0   \n",
       "9          0   -2188.756445         41              среднее             1   \n",
       "10         2   -4171.483647         36               высшее             0   \n",
       "11         0    -792.701887         40              среднее             1   \n",
       "12         0            NaN         65              среднее             1   \n",
       "13         0   -1846.641941         54  неоконченное высшее             2   \n",
       "14         0   -1844.956182         56               высшее             0   \n",
       "15         1    -972.364419         26              среднее             1   \n",
       "16         0   -1719.934226         35              среднее             1   \n",
       "17         0   -2369.999720         33               высшее             0   \n",
       "18         0  400281.136913         53              среднее             1   \n",
       "19         0  -10038.818549         48              СРЕДНЕЕ             1   \n",
       "\n",
       "       family_status  family_status_id gender income_type  debt  \\\n",
       "0    женат / замужем                 0      F   сотрудник     0   \n",
       "1    женат / замужем                 0      F   сотрудник     0   \n",
       "2    женат / замужем                 0      M   сотрудник     0   \n",
       "3    женат / замужем                 0      M   сотрудник     0   \n",
       "4   гражданский брак                 1      F   пенсионер     0   \n",
       "5   гражданский брак                 1      M   компаньон     0   \n",
       "6    женат / замужем                 0      F   компаньон     0   \n",
       "7    женат / замужем                 0      M   сотрудник     0   \n",
       "8   гражданский брак                 1      F   сотрудник     0   \n",
       "9    женат / замужем                 0      M   сотрудник     0   \n",
       "10   женат / замужем                 0      M   компаньон     0   \n",
       "11   женат / замужем                 0      F   сотрудник     0   \n",
       "12  гражданский брак                 1      M   пенсионер     0   \n",
       "13   женат / замужем                 0      F   сотрудник     0   \n",
       "14  гражданский брак                 1      F   компаньон     1   \n",
       "15   женат / замужем                 0      F   сотрудник     0   \n",
       "16   женат / замужем                 0      F   сотрудник     0   \n",
       "17  гражданский брак                 1      M   сотрудник     0   \n",
       "18    вдовец / вдова                 2      F   пенсионер     0   \n",
       "19         в разводе                 3      F   сотрудник     0   \n",
       "\n",
       "     total_income                                 purpose  \n",
       "0   253875.639453                           покупка жилья  \n",
       "1   112080.014102                 приобретение автомобиля  \n",
       "2   145885.952297                           покупка жилья  \n",
       "3   267628.550329              дополнительное образование  \n",
       "4   158616.077870                         сыграть свадьбу  \n",
       "5   255763.565419                           покупка жилья  \n",
       "6   240525.971920                       операции с жильем  \n",
       "7   135823.934197                             образование  \n",
       "8    95856.832424                   на проведение свадьбы  \n",
       "9   144425.938277                 покупка жилья для семьи  \n",
       "10  113943.491460                    покупка недвижимости  \n",
       "11   77069.234271       покупка коммерческой недвижимости  \n",
       "12            NaN                         сыграть свадьбу  \n",
       "13  130458.228857                 приобретение автомобиля  \n",
       "14  165127.911772              покупка жилой недвижимости  \n",
       "15  116820.904450  строительство собственной недвижимости  \n",
       "16  289202.704229                            недвижимость  \n",
       "17   90410.586745              строительство недвижимости  \n",
       "18   56823.777243      на покупку подержанного автомобиля  \n",
       "19  242831.107982            на покупку своего автомобиля  "
      ]
     },
     "execution_count": 2,
     "metadata": {},
     "output_type": "execute_result"
    }
   ],
   "source": [
    "data.head(20)"
   ]
  },
  {
   "cell_type": "markdown",
   "id": "96f489ca",
   "metadata": {
    "deletable": false,
    "editable": false,
    "id": "1c12e233"
   },
   "source": [
    "**Задание 3. Выведите основную информацию о датафрейме с помощью метода `info()`.**"
   ]
  },
  {
   "cell_type": "code",
   "execution_count": 3,
   "id": "5562bd3d",
   "metadata": {
    "deletable": false,
    "id": "2b757bca",
    "outputId": "15376089-8dad-46c9-b520-c05248d43158"
   },
   "outputs": [
    {
     "name": "stdout",
     "output_type": "stream",
     "text": [
      "<class 'pandas.core.frame.DataFrame'>\n",
      "RangeIndex: 21525 entries, 0 to 21524\n",
      "Data columns (total 12 columns):\n",
      " #   Column            Non-Null Count  Dtype  \n",
      "---  ------            --------------  -----  \n",
      " 0   children          21525 non-null  int64  \n",
      " 1   days_employed     19351 non-null  float64\n",
      " 2   dob_years         21525 non-null  int64  \n",
      " 3   education         21525 non-null  object \n",
      " 4   education_id      21525 non-null  int64  \n",
      " 5   family_status     21525 non-null  object \n",
      " 6   family_status_id  21525 non-null  int64  \n",
      " 7   gender            21525 non-null  object \n",
      " 8   income_type       21525 non-null  object \n",
      " 9   debt              21525 non-null  int64  \n",
      " 10  total_income      19351 non-null  float64\n",
      " 11  purpose           21525 non-null  object \n",
      "dtypes: float64(2), int64(5), object(5)\n",
      "memory usage: 2.0+ MB\n"
     ]
    }
   ],
   "source": [
    "data.info()"
   ]
  },
  {
   "cell_type": "markdown",
   "id": "5808096d",
   "metadata": {
    "deletable": false,
    "editable": false,
    "id": "333ec665"
   },
   "source": [
    "## Предобработка данных"
   ]
  },
  {
   "cell_type": "markdown",
   "id": "e9ce81f5",
   "metadata": {
    "deletable": false,
    "editable": false,
    "id": "02d92d53"
   },
   "source": [
    "### Удаление пропусков"
   ]
  },
  {
   "cell_type": "markdown",
   "id": "25cda918",
   "metadata": {
    "deletable": false,
    "editable": false,
    "id": "cd84967c"
   },
   "source": [
    "**Задание 4. Выведите количество пропущенных значений для каждого столбца. Используйте комбинацию двух методов.**"
   ]
  },
  {
   "cell_type": "code",
   "execution_count": 4,
   "id": "656ff806",
   "metadata": {
    "deletable": false,
    "id": "7f9b2309",
    "outputId": "81f4d817-781c-465c-ed15-91ce4446810d"
   },
   "outputs": [
    {
     "data": {
      "text/plain": [
       "children               0\n",
       "days_employed       2174\n",
       "dob_years              0\n",
       "education              0\n",
       "education_id           0\n",
       "family_status          0\n",
       "family_status_id       0\n",
       "gender                 0\n",
       "income_type            0\n",
       "debt                   0\n",
       "total_income        2174\n",
       "purpose                0\n",
       "dtype: int64"
      ]
     },
     "execution_count": 4,
     "metadata": {},
     "output_type": "execute_result"
    }
   ],
   "source": [
    "data.isna().sum() #подсчитаем кол-во пропусков"
   ]
  },
  {
   "cell_type": "markdown",
   "id": "9d09f6ac",
   "metadata": {
    "deletable": false,
    "editable": false,
    "id": "db86e27b"
   },
   "source": [
    "**Задание 5. В двух столбцах есть пропущенные значения. Один из них — `days_employed`. Пропуски в этом столбце вы обработаете на следующем этапе. Другой столбец с пропущенными значениями — `total_income` — хранит данные о доходах. На сумму дохода сильнее всего влияет тип занятости, поэтому заполнить пропуски в этом столбце нужно медианным значением по каждому типу из столбца `income_type`. Например, у человека с типом занятости `сотрудник` пропуск в столбце `total_income` должен быть заполнен медианным доходом среди всех записей с тем же типом.**"
   ]
  },
  {
   "cell_type": "code",
   "execution_count": 5,
   "id": "e6e2769e",
   "metadata": {
    "deletable": false,
    "id": "42006a93"
   },
   "outputs": [],
   "source": [
    "for t in data['income_type'].unique():\n",
    "    data.loc[(data['income_type'] == t) & (data['total_income'].isna()), 'total_income'] = \\\n",
    "    data.loc[(data['income_type'] == t), 'total_income'].median()"
   ]
  },
  {
   "cell_type": "markdown",
   "id": "04d35348",
   "metadata": {
    "deletable": false,
    "editable": false,
    "id": "89da5ece"
   },
   "source": [
    "### Обработка аномальных значений"
   ]
  },
  {
   "cell_type": "markdown",
   "id": "f7c16e8e",
   "metadata": {
    "deletable": false,
    "editable": false,
    "id": "57964554"
   },
   "source": [
    "**Задание 6. В данных могут встречаться артефакты (аномалии) — значения, которые не отражают действительность и появились по какой-то ошибке. таким артефактом будет отрицательное количество дней трудового стажа в столбце `days_employed`. Для реальных данных это нормально. Обработайте значения в этом столбце: замените все отрицательные значения положительными с помощью метода `abs()`.**"
   ]
  },
  {
   "cell_type": "code",
   "execution_count": 6,
   "id": "14a4e6de",
   "metadata": {
    "deletable": false,
    "id": "f6f055bf"
   },
   "outputs": [],
   "source": [
    "data['days_employed'] = data['days_employed'].abs()"
   ]
  },
  {
   "cell_type": "markdown",
   "id": "73b6f49d",
   "metadata": {
    "deletable": false,
    "editable": false,
    "id": "6107dd2f"
   },
   "source": [
    "**Задание 7. Для каждого типа занятости выведите медианное значение трудового стажа `days_employed` в днях.**"
   ]
  },
  {
   "cell_type": "code",
   "execution_count": 7,
   "id": "5899fadf",
   "metadata": {
    "deletable": false,
    "id": "85a5faf6",
    "outputId": "801ef80e-522b-4668-f34e-565af7432bcf"
   },
   "outputs": [
    {
     "data": {
      "text/plain": [
       "income_type\n",
       "безработный        366413.652744\n",
       "в декрете            3296.759962\n",
       "госслужащий          2689.368353\n",
       "компаньон            1547.382223\n",
       "пенсионер          365213.306266\n",
       "предприниматель       520.848083\n",
       "сотрудник            1574.202821\n",
       "студент               578.751554\n",
       "Name: days_employed, dtype: float64"
      ]
     },
     "execution_count": 7,
     "metadata": {},
     "output_type": "execute_result"
    }
   ],
   "source": [
    "data.groupby('income_type')['days_employed'].agg('median')"
   ]
  },
  {
   "cell_type": "markdown",
   "id": "b0ba7ec5",
   "metadata": {
    "deletable": false,
    "editable": false,
    "id": "38d1a030"
   },
   "source": [
    "У двух типов (безработные и пенсионеры) получатся аномально большие значения. Исправить такие значения сложно, поэтому оставьте их как есть. Тем более этот столбец не понадобится вам для исследования."
   ]
  },
  {
   "cell_type": "markdown",
   "id": "7e82c2c6",
   "metadata": {
    "deletable": false,
    "editable": false,
    "id": "d8a9f147"
   },
   "source": [
    "**Задание 8. Выведите перечень уникальных значений столбца `children`.**"
   ]
  },
  {
   "cell_type": "code",
   "execution_count": 8,
   "id": "87b5f4e0",
   "metadata": {
    "deletable": false,
    "id": "ef5056eb",
    "outputId": "6975b15c-7f95-4697-d16d-a0c79b657b03"
   },
   "outputs": [
    {
     "data": {
      "text/plain": [
       "array([ 1,  0,  3,  2, -1,  4, 20,  5])"
      ]
     },
     "execution_count": 8,
     "metadata": {},
     "output_type": "execute_result"
    }
   ],
   "source": [
    "data['children'].unique() #узнаем кол-во уникальных значений в столбе children"
   ]
  },
  {
   "cell_type": "markdown",
   "id": "6b9bab7e",
   "metadata": {
    "deletable": false,
    "editable": false,
    "id": "40b9ebf2"
   },
   "source": [
    "**Задание 9. В столбце `children` есть два аномальных значения. Удалите строки, в которых встречаются такие аномальные значения из датафрейма `data`.**"
   ]
  },
  {
   "cell_type": "code",
   "execution_count": 9,
   "id": "1cc0e558",
   "metadata": {
    "deletable": false,
    "id": "3ff9801d"
   },
   "outputs": [],
   "source": [
    "data = data[(data['children'] != -1) & (data['children'] != 20)]"
   ]
  },
  {
   "cell_type": "markdown",
   "id": "be656c81",
   "metadata": {
    "deletable": false,
    "editable": false,
    "id": "bbc4d0ce"
   },
   "source": [
    "**Задание 10. Ещё раз выведите перечень уникальных значений столбца `children`, чтобы убедиться, что артефакты удалены.**"
   ]
  },
  {
   "cell_type": "code",
   "execution_count": 10,
   "id": "7ea0ca94",
   "metadata": {
    "deletable": false,
    "id": "ad4fa8b7",
    "outputId": "b2097101-d49d-44d9-901b-32a65c9463d1"
   },
   "outputs": [
    {
     "data": {
      "text/plain": [
       "array([1, 0, 3, 2, 4, 5])"
      ]
     },
     "execution_count": 10,
     "metadata": {},
     "output_type": "execute_result"
    }
   ],
   "source": [
    "data['children'].unique()"
   ]
  },
  {
   "cell_type": "markdown",
   "id": "1e836396",
   "metadata": {
    "deletable": false,
    "editable": false,
    "id": "75440b63"
   },
   "source": [
    "### Удаление пропусков (продолжение)"
   ]
  },
  {
   "cell_type": "markdown",
   "id": "aed5ce28",
   "metadata": {
    "deletable": false,
    "editable": false,
    "id": "f4ea573f"
   },
   "source": [
    "**Задание 11. Заполните пропуски в столбце `days_employed` медианными значениями по каждого типа занятости `income_type`.**"
   ]
  },
  {
   "cell_type": "code",
   "execution_count": 11,
   "id": "21d1e884",
   "metadata": {
    "deletable": false,
    "id": "af6b1a7e"
   },
   "outputs": [],
   "source": [
    "for t in data['income_type'].unique():\n",
    "    data.loc[(data['income_type'] == t) & (data['days_employed'].isna()), 'days_employed'] = \\\n",
    "    data.loc[(data['income_type'] == t), 'days_employed'].median()"
   ]
  },
  {
   "cell_type": "markdown",
   "id": "d5d33904",
   "metadata": {
    "deletable": false,
    "editable": false,
    "id": "2753f40d"
   },
   "source": [
    "**Задание 12. Убедитесь, что все пропуски заполнены. Проверьте себя и ещё раз выведите количество пропущенных значений для каждого столбца с помощью двух методов.**"
   ]
  },
  {
   "cell_type": "code",
   "execution_count": 12,
   "id": "00256dd5",
   "metadata": {
    "deletable": false,
    "id": "55f78bc2",
    "outputId": "8da1e4e1-358e-4e87-98c9-f261bce0a7b2"
   },
   "outputs": [
    {
     "data": {
      "text/plain": [
       "children            0\n",
       "days_employed       0\n",
       "dob_years           0\n",
       "education           0\n",
       "education_id        0\n",
       "family_status       0\n",
       "family_status_id    0\n",
       "gender              0\n",
       "income_type         0\n",
       "debt                0\n",
       "total_income        0\n",
       "purpose             0\n",
       "dtype: int64"
      ]
     },
     "execution_count": 12,
     "metadata": {},
     "output_type": "execute_result"
    }
   ],
   "source": [
    "data.isna().sum()\n",
    "#isna().sum() позволяют узнать кол-во оставшихся пропусков (аналогично заданию 4)"
   ]
  },
  {
   "cell_type": "markdown",
   "id": "b0984967",
   "metadata": {
    "deletable": false,
    "editable": false,
    "id": "ddc81e43"
   },
   "source": [
    "### Изменение типов данных"
   ]
  },
  {
   "cell_type": "markdown",
   "id": "b1db8dfd",
   "metadata": {
    "deletable": false,
    "editable": false,
    "id": "42d19d24"
   },
   "source": [
    "**Задание 13. Замените вещественный тип данных в столбце `total_income` на целочисленный с помощью метода `astype()`.**"
   ]
  },
  {
   "cell_type": "code",
   "execution_count": 13,
   "id": "2386a31f",
   "metadata": {
    "deletable": false,
    "id": "920b65ad"
   },
   "outputs": [],
   "source": [
    "data['total_income'] = data['total_income'].astype(int)\n",
    "# в метод astype передаем целочисленный тип данных за который отвечает int"
   ]
  },
  {
   "cell_type": "markdown",
   "id": "a98c23e8",
   "metadata": {
    "deletable": false,
    "editable": false,
    "id": "80c420ba"
   },
   "source": [
    "### Обработка дубликатов"
   ]
  },
  {
   "cell_type": "markdown",
   "id": "d9a10cac",
   "metadata": {
    "deletable": false,
    "editable": false
   },
   "source": [
    "**Задание 14. Обработайте неявные дубликаты в столбце `education`. В этом столбце есть одни и те же значения, но записанные по-разному: с использованием заглавных и строчных букв. Приведите их к нижнему регистру. Проверьте остальные столбцы.**"
   ]
  },
  {
   "cell_type": "code",
   "execution_count": 14,
   "id": "1727e497",
   "metadata": {
    "deletable": false
   },
   "outputs": [],
   "source": [
    "data['education'] = data['education'].str.lower()\n",
    "#str.lower() используем для перевода в нижний регистр для Series\n",
    "#если бы применяли к DataFrame исполизоували бы lower()"
   ]
  },
  {
   "cell_type": "markdown",
   "id": "bf33319e",
   "metadata": {
    "deletable": false,
    "editable": false,
    "id": "dc587695"
   },
   "source": [
    "**Задание 15. Выведите на экран количество строк-дубликатов в данных. Если такие строки присутствуют, удалите их.**"
   ]
  },
  {
   "cell_type": "code",
   "execution_count": 15,
   "id": "24c0cd6c",
   "metadata": {
    "deletable": false,
    "id": "3ee445e4",
    "outputId": "9684deba-1934-42d1-99e1-cda61740f822"
   },
   "outputs": [
    {
     "data": {
      "text/plain": [
       "71"
      ]
     },
     "execution_count": 15,
     "metadata": {},
     "output_type": "execute_result"
    }
   ],
   "source": [
    "data.duplicated().sum()\n",
    "#считает количество дубликатов с помощью duplicated().sum()"
   ]
  },
  {
   "cell_type": "code",
   "execution_count": 17,
   "id": "f8f42908",
   "metadata": {
    "deletable": false,
    "id": "8575fe05"
   },
   "outputs": [],
   "source": [
    "data = data.drop_duplicates()\n",
    "#найденное кол-во дубликтов удаляесм с помощью команды data.drop_duplicates()"
   ]
  },
  {
   "cell_type": "markdown",
   "id": "884af4e0",
   "metadata": {
    "deletable": false,
    "editable": false,
    "id": "9904cf55"
   },
   "source": [
    "### Категоризация данных"
   ]
  },
  {
   "cell_type": "markdown",
   "id": "e2c13226",
   "metadata": {
    "deletable": false,
    "editable": false,
    "id": "72fcc8a2"
   },
   "source": [
    "**Задание 16. На основании диапазонов, указанных ниже, создайте в датафрейме `data` столбец `total_income_category` с категориями:**\n",
    "\n",
    "- 0–30000 — `'E'`;\n",
    "- 30001–50000 — `'D'`;\n",
    "- 50001–200000 — `'C'`;\n",
    "- 200001–1000000 — `'B'`;\n",
    "- 1000001 и выше — `'A'`.\n",
    "\n",
    "\n",
    "**Например, кредитополучателю с доходом 25000 нужно назначить категорию `'E'`, а клиенту, получающему 235000, — `'B'`. Используйте собственную функцию с именем `categorize_income()` и метод `apply()`.**"
   ]
  },
  {
   "cell_type": "code",
   "execution_count": 18,
   "id": "32546683",
   "metadata": {
    "deletable": false,
    "id": "e1771346"
   },
   "outputs": [],
   "source": [
    "def categorize_income(income):\n",
    "    try:\n",
    "        if 0 <= income <= 30000:\n",
    "            return 'E'\n",
    "        elif 30001 <= income <= 50000:\n",
    "            return 'D'\n",
    "        elif 50001 <= income <= 200000:\n",
    "            return 'C'\n",
    "        elif 200001 <= income <= 1000000:\n",
    "            return 'B'\n",
    "        elif income >= 1000001:\n",
    "            return 'A'\n",
    "    except:\n",
    "        pass"
   ]
  },
  {
   "cell_type": "code",
   "execution_count": 19,
   "id": "d59ddfef",
   "metadata": {
    "deletable": false,
    "id": "d5f3586d"
   },
   "outputs": [],
   "source": [
    "data['total_income_category'] = data['total_income'].apply(categorize_income)"
   ]
  },
  {
   "cell_type": "markdown",
   "id": "b17ea7d8",
   "metadata": {
    "deletable": false,
    "editable": false,
    "id": "dde49b5c"
   },
   "source": [
    "**Задание 17. Выведите на экран перечень уникальных целей взятия кредита из столбца `purpose`.**"
   ]
  },
  {
   "cell_type": "code",
   "execution_count": 20,
   "id": "38f5f6ad",
   "metadata": {
    "deletable": false,
    "id": "f67ce9b3",
    "outputId": "673c12d9-7d7e-4ae0-9812-c622c89dd244"
   },
   "outputs": [
    {
     "data": {
      "text/plain": [
       "array(['покупка жилья', 'приобретение автомобиля',\n",
       "       'дополнительное образование', 'сыграть свадьбу',\n",
       "       'операции с жильем', 'образование', 'на проведение свадьбы',\n",
       "       'покупка жилья для семьи', 'покупка недвижимости',\n",
       "       'покупка коммерческой недвижимости', 'покупка жилой недвижимости',\n",
       "       'строительство собственной недвижимости', 'недвижимость',\n",
       "       'строительство недвижимости', 'на покупку подержанного автомобиля',\n",
       "       'на покупку своего автомобиля',\n",
       "       'операции с коммерческой недвижимостью',\n",
       "       'строительство жилой недвижимости', 'жилье',\n",
       "       'операции со своей недвижимостью', 'автомобили',\n",
       "       'заняться образованием', 'сделка с подержанным автомобилем',\n",
       "       'получение образования', 'автомобиль', 'свадьба',\n",
       "       'получение дополнительного образования', 'покупка своего жилья',\n",
       "       'операции с недвижимостью', 'получение высшего образования',\n",
       "       'свой автомобиль', 'сделка с автомобилем',\n",
       "       'профильное образование', 'высшее образование',\n",
       "       'покупка жилья для сдачи', 'на покупку автомобиля', 'ремонт жилью',\n",
       "       'заняться высшим образованием'], dtype=object)"
      ]
     },
     "execution_count": 20,
     "metadata": {},
     "output_type": "execute_result"
    }
   ],
   "source": [
    "data['purpose'].unique()"
   ]
  },
  {
   "cell_type": "markdown",
   "id": "f9cbb96f",
   "metadata": {
    "deletable": false,
    "editable": false,
    "id": "85d0aef0"
   },
   "source": [
    "**Задание 18. Создайте функцию, которая на основании данных из столбца `purpose` сформирует новый столбец `purpose_category`, в который войдут следующие категории:**\n",
    "\n",
    "- `'операции с автомобилем'`,\n",
    "- `'операции с недвижимостью'`,\n",
    "- `'проведение свадьбы'`,\n",
    "- `'получение образования'`.\n",
    "\n",
    "**Например, если в столбце `purpose` находится подстрока `'на покупку автомобиля'`, то в столбце `purpose_category` должна появиться строка `'операции с автомобилем'`.**\n",
    "\n",
    "**Используйте собственную функцию с именем `categorize_purpose()` и метод `apply()`. Изучите данные в столбце `purpose` и определите, какие подстроки помогут вам правильно определить категорию.**"
   ]
  },
  {
   "cell_type": "code",
   "execution_count": 21,
   "id": "80c07aef",
   "metadata": {
    "deletable": false,
    "id": "e149fab4"
   },
   "outputs": [],
   "source": [
    "def categorize_purpose(row):\n",
    "    try:\n",
    "        if 'автом' in row:\n",
    "            return 'операции с автомобилем'\n",
    "        elif 'жил' in row or 'недвиж' in row:\n",
    "            return 'операции с недвижимостью'\n",
    "        elif 'свад' in row:\n",
    "            return 'проведение свадьбы'\n",
    "        elif 'образов' in row:\n",
    "            return 'получение образования'\n",
    "    except:\n",
    "        return 'нет категории'"
   ]
  },
  {
   "cell_type": "code",
   "execution_count": 22,
   "id": "44043670",
   "metadata": {
    "deletable": false,
    "id": "bf36e69b"
   },
   "outputs": [],
   "source": [
    "data['purpose_category'] = data['purpose'].apply(categorize_purpose)"
   ]
  },
  {
   "cell_type": "markdown",
   "id": "54925a27",
   "metadata": {
    "deletable": false,
    "editable": false,
    "id": "09b242bf"
   },
   "source": [
    "### Шаг 3. Исследуйте данные и ответьте на вопросы"
   ]
  },
  {
   "cell_type": "markdown",
   "id": "9ba75adc",
   "metadata": {
    "deletable": false,
    "editable": false,
    "id": "c5d66278"
   },
   "source": [
    "#### 3.1 Есть ли зависимость между количеством детей и возвратом кредита в срок?"
   ]
  },
  {
   "cell_type": "markdown",
   "id": "38630dd4",
   "metadata": {},
   "source": [
    "### Для работы с полученными данными нам необходимо обратиться к DataFrame,к столбцам 'children' 'debt' "
   ]
  },
  {
   "cell_type": "code",
   "execution_count": 23,
   "id": "bf8a26c5",
   "metadata": {},
   "outputs": [
    {
     "data": {
      "text/html": [
       "<div>\n",
       "<style scoped>\n",
       "    .dataframe tbody tr th:only-of-type {\n",
       "        vertical-align: middle;\n",
       "    }\n",
       "\n",
       "    .dataframe tbody tr th {\n",
       "        vertical-align: top;\n",
       "    }\n",
       "\n",
       "    .dataframe thead th {\n",
       "        text-align: right;\n",
       "    }\n",
       "</style>\n",
       "<table border=\"1\" class=\"dataframe\">\n",
       "  <thead>\n",
       "    <tr style=\"text-align: right;\">\n",
       "      <th></th>\n",
       "      <th>children</th>\n",
       "      <th>days_employed</th>\n",
       "      <th>dob_years</th>\n",
       "      <th>education</th>\n",
       "      <th>education_id</th>\n",
       "      <th>family_status</th>\n",
       "      <th>family_status_id</th>\n",
       "      <th>gender</th>\n",
       "      <th>income_type</th>\n",
       "      <th>debt</th>\n",
       "      <th>total_income</th>\n",
       "      <th>purpose</th>\n",
       "      <th>total_income_category</th>\n",
       "      <th>purpose_category</th>\n",
       "    </tr>\n",
       "  </thead>\n",
       "  <tbody>\n",
       "    <tr>\n",
       "      <th>0</th>\n",
       "      <td>1</td>\n",
       "      <td>8437.673028</td>\n",
       "      <td>42</td>\n",
       "      <td>высшее</td>\n",
       "      <td>0</td>\n",
       "      <td>женат / замужем</td>\n",
       "      <td>0</td>\n",
       "      <td>F</td>\n",
       "      <td>сотрудник</td>\n",
       "      <td>0</td>\n",
       "      <td>253875</td>\n",
       "      <td>покупка жилья</td>\n",
       "      <td>B</td>\n",
       "      <td>операции с недвижимостью</td>\n",
       "    </tr>\n",
       "    <tr>\n",
       "      <th>1</th>\n",
       "      <td>1</td>\n",
       "      <td>4024.803754</td>\n",
       "      <td>36</td>\n",
       "      <td>среднее</td>\n",
       "      <td>1</td>\n",
       "      <td>женат / замужем</td>\n",
       "      <td>0</td>\n",
       "      <td>F</td>\n",
       "      <td>сотрудник</td>\n",
       "      <td>0</td>\n",
       "      <td>112080</td>\n",
       "      <td>приобретение автомобиля</td>\n",
       "      <td>C</td>\n",
       "      <td>операции с автомобилем</td>\n",
       "    </tr>\n",
       "    <tr>\n",
       "      <th>2</th>\n",
       "      <td>0</td>\n",
       "      <td>5623.422610</td>\n",
       "      <td>33</td>\n",
       "      <td>среднее</td>\n",
       "      <td>1</td>\n",
       "      <td>женат / замужем</td>\n",
       "      <td>0</td>\n",
       "      <td>M</td>\n",
       "      <td>сотрудник</td>\n",
       "      <td>0</td>\n",
       "      <td>145885</td>\n",
       "      <td>покупка жилья</td>\n",
       "      <td>C</td>\n",
       "      <td>операции с недвижимостью</td>\n",
       "    </tr>\n",
       "    <tr>\n",
       "      <th>3</th>\n",
       "      <td>3</td>\n",
       "      <td>4124.747207</td>\n",
       "      <td>32</td>\n",
       "      <td>среднее</td>\n",
       "      <td>1</td>\n",
       "      <td>женат / замужем</td>\n",
       "      <td>0</td>\n",
       "      <td>M</td>\n",
       "      <td>сотрудник</td>\n",
       "      <td>0</td>\n",
       "      <td>267628</td>\n",
       "      <td>дополнительное образование</td>\n",
       "      <td>B</td>\n",
       "      <td>получение образования</td>\n",
       "    </tr>\n",
       "    <tr>\n",
       "      <th>4</th>\n",
       "      <td>0</td>\n",
       "      <td>340266.072047</td>\n",
       "      <td>53</td>\n",
       "      <td>среднее</td>\n",
       "      <td>1</td>\n",
       "      <td>гражданский брак</td>\n",
       "      <td>1</td>\n",
       "      <td>F</td>\n",
       "      <td>пенсионер</td>\n",
       "      <td>0</td>\n",
       "      <td>158616</td>\n",
       "      <td>сыграть свадьбу</td>\n",
       "      <td>C</td>\n",
       "      <td>проведение свадьбы</td>\n",
       "    </tr>\n",
       "  </tbody>\n",
       "</table>\n",
       "</div>"
      ],
      "text/plain": [
       "   children  days_employed  dob_years education  education_id  \\\n",
       "0         1    8437.673028         42    высшее             0   \n",
       "1         1    4024.803754         36   среднее             1   \n",
       "2         0    5623.422610         33   среднее             1   \n",
       "3         3    4124.747207         32   среднее             1   \n",
       "4         0  340266.072047         53   среднее             1   \n",
       "\n",
       "      family_status  family_status_id gender income_type  debt  total_income  \\\n",
       "0   женат / замужем                 0      F   сотрудник     0        253875   \n",
       "1   женат / замужем                 0      F   сотрудник     0        112080   \n",
       "2   женат / замужем                 0      M   сотрудник     0        145885   \n",
       "3   женат / замужем                 0      M   сотрудник     0        267628   \n",
       "4  гражданский брак                 1      F   пенсионер     0        158616   \n",
       "\n",
       "                      purpose total_income_category          purpose_category  \n",
       "0               покупка жилья                     B  операции с недвижимостью  \n",
       "1     приобретение автомобиля                     C    операции с автомобилем  \n",
       "2               покупка жилья                     C  операции с недвижимостью  \n",
       "3  дополнительное образование                     B     получение образования  \n",
       "4             сыграть свадьбу                     C        проведение свадьбы  "
      ]
     },
     "execution_count": 23,
     "metadata": {},
     "output_type": "execute_result"
    }
   ],
   "source": [
    "#просмотрим еще раз таблицу головы\n",
    "data.head()"
   ]
  },
  {
   "cell_type": "raw",
   "id": "4443b22c-eb47-451e-92ee-9478b3e039b1",
   "metadata": {},
   "source": []
  },
  {
   "cell_type": "code",
   "execution_count": 24,
   "id": "00a496a1",
   "metadata": {
    "scrolled": true
   },
   "outputs": [
    {
     "data": {
      "text/html": [
       "<div>\n",
       "<style scoped>\n",
       "    .dataframe tbody tr th:only-of-type {\n",
       "        vertical-align: middle;\n",
       "    }\n",
       "\n",
       "    .dataframe tbody tr th {\n",
       "        vertical-align: top;\n",
       "    }\n",
       "\n",
       "    .dataframe thead th {\n",
       "        text-align: right;\n",
       "    }\n",
       "</style>\n",
       "<table border=\"1\" class=\"dataframe\">\n",
       "  <thead>\n",
       "    <tr style=\"text-align: right;\">\n",
       "      <th></th>\n",
       "      <th>children</th>\n",
       "      <th>days_employed</th>\n",
       "      <th>dob_years</th>\n",
       "      <th>education</th>\n",
       "      <th>education_id</th>\n",
       "      <th>family_status</th>\n",
       "      <th>family_status_id</th>\n",
       "      <th>gender</th>\n",
       "      <th>income_type</th>\n",
       "      <th>debt</th>\n",
       "      <th>total_income</th>\n",
       "      <th>purpose</th>\n",
       "      <th>total_income_category</th>\n",
       "      <th>purpose_category</th>\n",
       "    </tr>\n",
       "  </thead>\n",
       "  <tbody>\n",
       "    <tr>\n",
       "      <th>21520</th>\n",
       "      <td>1</td>\n",
       "      <td>4529.316663</td>\n",
       "      <td>43</td>\n",
       "      <td>среднее</td>\n",
       "      <td>1</td>\n",
       "      <td>гражданский брак</td>\n",
       "      <td>1</td>\n",
       "      <td>F</td>\n",
       "      <td>компаньон</td>\n",
       "      <td>0</td>\n",
       "      <td>224791</td>\n",
       "      <td>операции с жильем</td>\n",
       "      <td>B</td>\n",
       "      <td>операции с недвижимостью</td>\n",
       "    </tr>\n",
       "    <tr>\n",
       "      <th>21521</th>\n",
       "      <td>0</td>\n",
       "      <td>343937.404131</td>\n",
       "      <td>67</td>\n",
       "      <td>среднее</td>\n",
       "      <td>1</td>\n",
       "      <td>женат / замужем</td>\n",
       "      <td>0</td>\n",
       "      <td>F</td>\n",
       "      <td>пенсионер</td>\n",
       "      <td>0</td>\n",
       "      <td>155999</td>\n",
       "      <td>сделка с автомобилем</td>\n",
       "      <td>C</td>\n",
       "      <td>операции с автомобилем</td>\n",
       "    </tr>\n",
       "    <tr>\n",
       "      <th>21522</th>\n",
       "      <td>1</td>\n",
       "      <td>2113.346888</td>\n",
       "      <td>38</td>\n",
       "      <td>среднее</td>\n",
       "      <td>1</td>\n",
       "      <td>гражданский брак</td>\n",
       "      <td>1</td>\n",
       "      <td>M</td>\n",
       "      <td>сотрудник</td>\n",
       "      <td>1</td>\n",
       "      <td>89672</td>\n",
       "      <td>недвижимость</td>\n",
       "      <td>C</td>\n",
       "      <td>операции с недвижимостью</td>\n",
       "    </tr>\n",
       "    <tr>\n",
       "      <th>21523</th>\n",
       "      <td>3</td>\n",
       "      <td>3112.481705</td>\n",
       "      <td>38</td>\n",
       "      <td>среднее</td>\n",
       "      <td>1</td>\n",
       "      <td>женат / замужем</td>\n",
       "      <td>0</td>\n",
       "      <td>M</td>\n",
       "      <td>сотрудник</td>\n",
       "      <td>1</td>\n",
       "      <td>244093</td>\n",
       "      <td>на покупку своего автомобиля</td>\n",
       "      <td>B</td>\n",
       "      <td>операции с автомобилем</td>\n",
       "    </tr>\n",
       "    <tr>\n",
       "      <th>21524</th>\n",
       "      <td>2</td>\n",
       "      <td>1984.507589</td>\n",
       "      <td>40</td>\n",
       "      <td>среднее</td>\n",
       "      <td>1</td>\n",
       "      <td>женат / замужем</td>\n",
       "      <td>0</td>\n",
       "      <td>F</td>\n",
       "      <td>сотрудник</td>\n",
       "      <td>0</td>\n",
       "      <td>82047</td>\n",
       "      <td>на покупку автомобиля</td>\n",
       "      <td>C</td>\n",
       "      <td>операции с автомобилем</td>\n",
       "    </tr>\n",
       "  </tbody>\n",
       "</table>\n",
       "</div>"
      ],
      "text/plain": [
       "       children  days_employed  dob_years education  education_id  \\\n",
       "21520         1    4529.316663         43   среднее             1   \n",
       "21521         0  343937.404131         67   среднее             1   \n",
       "21522         1    2113.346888         38   среднее             1   \n",
       "21523         3    3112.481705         38   среднее             1   \n",
       "21524         2    1984.507589         40   среднее             1   \n",
       "\n",
       "          family_status  family_status_id gender income_type  debt  \\\n",
       "21520  гражданский брак                 1      F   компаньон     0   \n",
       "21521   женат / замужем                 0      F   пенсионер     0   \n",
       "21522  гражданский брак                 1      M   сотрудник     1   \n",
       "21523   женат / замужем                 0      M   сотрудник     1   \n",
       "21524   женат / замужем                 0      F   сотрудник     0   \n",
       "\n",
       "       total_income                       purpose total_income_category  \\\n",
       "21520        224791             операции с жильем                     B   \n",
       "21521        155999          сделка с автомобилем                     C   \n",
       "21522         89672                  недвижимость                     C   \n",
       "21523        244093  на покупку своего автомобиля                     B   \n",
       "21524         82047         на покупку автомобиля                     C   \n",
       "\n",
       "               purpose_category  \n",
       "21520  операции с недвижимостью  \n",
       "21521    операции с автомобилем  \n",
       "21522  операции с недвижимостью  \n",
       "21523    операции с автомобилем  \n",
       "21524    операции с автомобилем  "
      ]
     },
     "execution_count": 24,
     "metadata": {},
     "output_type": "execute_result"
    }
   ],
   "source": [
    "# и с хвоста \n",
    "data.tail()\n"
   ]
  },
  {
   "cell_type": "markdown",
   "id": "202a5279-4c7e-4ff5-93a0-42ade65cc15c",
   "metadata": {},
   "source": [
    "\"на первый взгляд в столбцах отсутствуют пропуски(мы их удаляли выше), но считаю, что необходима перепроверка \n",
    "для этого применим .isnull().sum() к столбцу children\""
   ]
  },
  {
   "cell_type": "code",
   "execution_count": 25,
   "id": "c305f0f5-f5ed-415e-8f05-559ba7f41f16",
   "metadata": {},
   "outputs": [
    {
     "data": {
      "text/plain": [
       "0"
      ]
     },
     "execution_count": 25,
     "metadata": {},
     "output_type": "execute_result"
    }
   ],
   "source": [
    "#проверим пропуски в сторбце children\n",
    "data['children'].isnull().sum()"
   ]
  },
  {
   "cell_type": "code",
   "execution_count": 26,
   "id": "7adfe140-ebcf-4740-8336-386c7f26157f",
   "metadata": {},
   "outputs": [
    {
     "data": {
      "text/plain": [
       "0"
      ]
     },
     "execution_count": 26,
     "metadata": {},
     "output_type": "execute_result"
    }
   ],
   "source": [
    "#а тут проверим пропуски в столбце debt\n",
    "data['debt'].isnull().sum()"
   ]
  },
  {
   "cell_type": "code",
   "execution_count": 27,
   "id": "9db873e0-f4c7-48c7-889b-83f45f2b0536",
   "metadata": {},
   "outputs": [
    {
     "name": "stdout",
     "output_type": "stream",
     "text": [
      "Empty DataFrame\n",
      "Columns: [children, days_employed, dob_years, education, education_id, family_status, family_status_id, gender, income_type, debt, total_income, purpose, total_income_category, purpose_category]\n",
      "Index: []\n"
     ]
    },
    {
     "data": {
      "text/html": [
       "<div>\n",
       "<style scoped>\n",
       "    .dataframe tbody tr th:only-of-type {\n",
       "        vertical-align: middle;\n",
       "    }\n",
       "\n",
       "    .dataframe tbody tr th {\n",
       "        vertical-align: top;\n",
       "    }\n",
       "\n",
       "    .dataframe thead th {\n",
       "        text-align: right;\n",
       "    }\n",
       "</style>\n",
       "<table border=\"1\" class=\"dataframe\">\n",
       "  <thead>\n",
       "    <tr style=\"text-align: right;\">\n",
       "      <th></th>\n",
       "      <th>children</th>\n",
       "      <th>days_employed</th>\n",
       "      <th>dob_years</th>\n",
       "      <th>education</th>\n",
       "      <th>education_id</th>\n",
       "      <th>family_status</th>\n",
       "      <th>family_status_id</th>\n",
       "      <th>gender</th>\n",
       "      <th>income_type</th>\n",
       "      <th>debt</th>\n",
       "      <th>total_income</th>\n",
       "      <th>purpose</th>\n",
       "      <th>total_income_category</th>\n",
       "      <th>purpose_category</th>\n",
       "    </tr>\n",
       "  </thead>\n",
       "  <tbody>\n",
       "  </tbody>\n",
       "</table>\n",
       "</div>"
      ],
      "text/plain": [
       "Empty DataFrame\n",
       "Columns: [children, days_employed, dob_years, education, education_id, family_status, family_status_id, gender, income_type, debt, total_income, purpose, total_income_category, purpose_category]\n",
       "Index: []"
      ]
     },
     "metadata": {},
     "output_type": "display_data"
    }
   ],
   "source": [
    "#проверим отсутствие отрицательных значений в столбцах\n",
    "#все отрицательные значения - это значения в столбцах  меньше 0  \n",
    "data_neg = data[data['children'] < 0]\n",
    "print(data_neg)\n",
    "data_neg_debt = data[data['debt'] < 0]\n",
    "display(data_neg_debt)"
   ]
  },
  {
   "cell_type": "markdown",
   "id": "082bfb11-befe-4d21-ade2-75d8bd55c968",
   "metadata": {},
   "source": [
    "**Как мы видим в столбцах отсутствуют отрицательные значения**\n",
    "\n"
   ]
  },
  {
   "cell_type": "code",
   "execution_count": 28,
   "id": "5a4152a2-e690-446f-be90-26204cd4a2f5",
   "metadata": {},
   "outputs": [
    {
     "data": {
      "text/plain": [
       "children\n",
       "0    14091\n",
       "1     4808\n",
       "2     2052\n",
       "3      330\n",
       "4       41\n",
       "5        9\n",
       "Name: debt, dtype: int64"
      ]
     },
     "execution_count": 28,
     "metadata": {},
     "output_type": "execute_result"
    }
   ],
   "source": [
    "#опсчитаем кол-во задолжностей для сгруппированного столбца children\n",
    "data_groupby = data.groupby('children')['debt'].sum() \n",
    "data.groupby('children')['debt'].count()"
   ]
  },
  {
   "cell_type": "code",
   "execution_count": 29,
   "id": "6c35844a",
   "metadata": {
    "deletable": false,
    "id": "2cacfc4a"
   },
   "outputs": [
    {
     "name": "stdout",
     "output_type": "stream",
     "text": [
      "children\n",
      "0    7.543822\n",
      "1    9.234609\n",
      "2    9.454191\n",
      "3    8.181818\n",
      "4    9.756098\n",
      "5    0.000000\n",
      "Name: debt, dtype: float64\n"
     ]
    }
   ],
   "source": [
    "#посчитаем средее % соотношение\n",
    "#для этого сгруппируем значения по столбцу и посчитаем среднее количество по кредиту\n",
    "data_value = data.groupby('children')['debt'].mean()*100\n",
    "print(data_value)"
   ]
  },
  {
   "cell_type": "markdown",
   "id": "c96ed558-08f8-42af-8084-2ed7cf9cf3cf",
   "metadata": {},
   "source": [
    "в данных подсчетах прослеживается следующая логика:\n",
    "те, у кого 5 детей почти не имею просрочки по кредитам, значит они ответственно относятся к выплатам\n",
    "интересен факт, что семьи без детей нарушают выплаты +- как и семьи с 3 детьми\n",
    "максимальная(max) просрочка по кредитам у семей с 4 детьми\n",
    "минимальная(min) у семей с 3 детьми\n",
    "p.s. max $ min взяты для сравнения из выборки семей с детьми т.е. от 1-5"
   ]
  },
  {
   "cell_type": "markdown",
   "id": "b578b4e3-7ff9-4606-a3e3-f8258e329692",
   "metadata": {},
   "source": [
    "#### Попробуем решить через категоризацию"
   ]
  },
  {
   "cell_type": "markdown",
   "id": "2854888d-23c8-428d-bc25-a2f22383e292",
   "metadata": {},
   "source": [
    "#### def family_status_children(row):\n",
    "    if row == 0:\n",
    "        return 'нет детей'\n",
    "    elif row <= 3:\n",
    "        return '1-2 ребенка(малодетная семья)'\n",
    "    else:\n",
    "        return 'многодетная семья'\n",
    "    \n",
    "data['family_status_children'] = data['children'].apply(family_status_children)\n",
    "data['family_status_children'].value_counts()"
   ]
  },
  {
   "cell_type": "markdown",
   "id": "5156d6eb-72be-4099-87c2-33bb66a9a9cc",
   "metadata": {},
   "source": [
    "схходится с данными моего предыдущего расчета(по сводной таблице) ==> ниже\n"
   ]
  },
  {
   "cell_type": "markdown",
   "id": "4b4ac5b1-7365-4307-8910-7d02f4a8c8cd",
   "metadata": {},
   "source": [
    "Но данные принято демонстрировать(визуализировать), поэтому у нас есть 2 варианта:\n",
    "1. Составить отдельную таблицу(pivot) для полученных данных;\n",
    "2. Построить график"
   ]
  },
  {
   "cell_type": "code",
   "execution_count": 30,
   "id": "1cc0dcc9-0d1c-4925-befe-ccee0644b510",
   "metadata": {},
   "outputs": [
    {
     "data": {
      "text/html": [
       "<div>\n",
       "<style scoped>\n",
       "    .dataframe tbody tr th:only-of-type {\n",
       "        vertical-align: middle;\n",
       "    }\n",
       "\n",
       "    .dataframe tbody tr th {\n",
       "        vertical-align: top;\n",
       "    }\n",
       "\n",
       "    .dataframe thead th {\n",
       "        text-align: right;\n",
       "    }\n",
       "</style>\n",
       "<table border=\"1\" class=\"dataframe\">\n",
       "  <thead>\n",
       "    <tr style=\"text-align: right;\">\n",
       "      <th>debt</th>\n",
       "      <th>0</th>\n",
       "      <th>1</th>\n",
       "      <th>%</th>\n",
       "    </tr>\n",
       "    <tr>\n",
       "      <th>children</th>\n",
       "      <th></th>\n",
       "      <th></th>\n",
       "      <th></th>\n",
       "    </tr>\n",
       "  </thead>\n",
       "  <tbody>\n",
       "    <tr>\n",
       "      <th>0</th>\n",
       "      <td>13028.0</td>\n",
       "      <td>1063.0</td>\n",
       "      <td>7.543822</td>\n",
       "    </tr>\n",
       "    <tr>\n",
       "      <th>1</th>\n",
       "      <td>4364.0</td>\n",
       "      <td>444.0</td>\n",
       "      <td>9.234609</td>\n",
       "    </tr>\n",
       "    <tr>\n",
       "      <th>2</th>\n",
       "      <td>1858.0</td>\n",
       "      <td>194.0</td>\n",
       "      <td>9.454191</td>\n",
       "    </tr>\n",
       "    <tr>\n",
       "      <th>3</th>\n",
       "      <td>303.0</td>\n",
       "      <td>27.0</td>\n",
       "      <td>8.181818</td>\n",
       "    </tr>\n",
       "    <tr>\n",
       "      <th>4</th>\n",
       "      <td>37.0</td>\n",
       "      <td>4.0</td>\n",
       "      <td>9.756098</td>\n",
       "    </tr>\n",
       "    <tr>\n",
       "      <th>5</th>\n",
       "      <td>9.0</td>\n",
       "      <td>NaN</td>\n",
       "      <td>NaN</td>\n",
       "    </tr>\n",
       "  </tbody>\n",
       "</table>\n",
       "</div>"
      ],
      "text/plain": [
       "debt            0       1         %\n",
       "children                           \n",
       "0         13028.0  1063.0  7.543822\n",
       "1          4364.0   444.0  9.234609\n",
       "2          1858.0   194.0  9.454191\n",
       "3           303.0    27.0  8.181818\n",
       "4            37.0     4.0  9.756098\n",
       "5             9.0     NaN       NaN"
      ]
     },
     "execution_count": 30,
     "metadata": {},
     "output_type": "execute_result"
    }
   ],
   "source": [
    "data_children_pivot = data.pivot_table(index = ['children'], \\\n",
    "                                columns = ['debt'], \\\n",
    "                                values = 'purpose', aggfunc='count')\n",
    "\n",
    "data_children_pivot['%'] = data_children_pivot[1] / (data_children_pivot[0]+data_children_pivot[1])*100\n",
    "data_children_pivot\n"
   ]
  },
  {
   "cell_type": "code",
   "execution_count": 31,
   "id": "68ae68af-7cae-468f-97fc-68232979626d",
   "metadata": {
    "scrolled": true
   },
   "outputs": [
    {
     "data": {
      "text/plain": [
       "<AxesSubplot:ylabel='children'>"
      ]
     },
     "execution_count": 31,
     "metadata": {},
     "output_type": "execute_result"
    },
    {
     "data": {
      "image/png": "[encoded data removed]",
      "text/plain": [
       "<Figure size 432x288 with 1 Axes>"
      ]
     },
     "metadata": {
      "needs_background": "light"
     },
     "output_type": "display_data"
    }
   ],
   "source": [
    "\n",
    "data.groupby('children')['debt'].mean().plot.barh()"
   ]
  },
  {
   "cell_type": "markdown",
   "id": "e550bdb4",
   "metadata": {
    "deletable": false,
    "id": "3a6b99ec"
   },
   "source": [
    "**Вывод:** \n",
    "Бездетные ***берут кредитов больше и отдают их лучше***\n",
    "\n",
    "семьи у которых 5 детей погасили все взятые кредиты\n",
    "\n",
    "\n"
   ]
  },
  {
   "cell_type": "markdown",
   "id": "43118948",
   "metadata": {
    "deletable": false,
    "editable": false,
    "id": "97be82ca"
   },
   "source": [
    "#### 3.2 Есть ли зависимость между семейным положением и возвратом кредита в срок?"
   ]
  },
  {
   "cell_type": "code",
   "execution_count": 32,
   "id": "a25a8348",
   "metadata": {
    "deletable": false,
    "id": "dc3f7ee8",
    "scrolled": true
   },
   "outputs": [
    {
     "data": {
      "text/html": [
       "<div>\n",
       "<style scoped>\n",
       "    .dataframe tbody tr th:only-of-type {\n",
       "        vertical-align: middle;\n",
       "    }\n",
       "\n",
       "    .dataframe tbody tr th {\n",
       "        vertical-align: top;\n",
       "    }\n",
       "\n",
       "    .dataframe thead th {\n",
       "        text-align: right;\n",
       "    }\n",
       "</style>\n",
       "<table border=\"1\" class=\"dataframe\">\n",
       "  <thead>\n",
       "    <tr style=\"text-align: right;\">\n",
       "      <th></th>\n",
       "      <th>children</th>\n",
       "      <th>days_employed</th>\n",
       "      <th>dob_years</th>\n",
       "      <th>education</th>\n",
       "      <th>education_id</th>\n",
       "      <th>family_status</th>\n",
       "      <th>family_status_id</th>\n",
       "      <th>gender</th>\n",
       "      <th>income_type</th>\n",
       "      <th>debt</th>\n",
       "      <th>total_income</th>\n",
       "      <th>purpose</th>\n",
       "      <th>total_income_category</th>\n",
       "      <th>purpose_category</th>\n",
       "    </tr>\n",
       "  </thead>\n",
       "  <tbody>\n",
       "    <tr>\n",
       "      <th>0</th>\n",
       "      <td>1</td>\n",
       "      <td>8437.673028</td>\n",
       "      <td>42</td>\n",
       "      <td>высшее</td>\n",
       "      <td>0</td>\n",
       "      <td>женат / замужем</td>\n",
       "      <td>0</td>\n",
       "      <td>F</td>\n",
       "      <td>сотрудник</td>\n",
       "      <td>0</td>\n",
       "      <td>253875</td>\n",
       "      <td>покупка жилья</td>\n",
       "      <td>B</td>\n",
       "      <td>операции с недвижимостью</td>\n",
       "    </tr>\n",
       "    <tr>\n",
       "      <th>1</th>\n",
       "      <td>1</td>\n",
       "      <td>4024.803754</td>\n",
       "      <td>36</td>\n",
       "      <td>среднее</td>\n",
       "      <td>1</td>\n",
       "      <td>женат / замужем</td>\n",
       "      <td>0</td>\n",
       "      <td>F</td>\n",
       "      <td>сотрудник</td>\n",
       "      <td>0</td>\n",
       "      <td>112080</td>\n",
       "      <td>приобретение автомобиля</td>\n",
       "      <td>C</td>\n",
       "      <td>операции с автомобилем</td>\n",
       "    </tr>\n",
       "    <tr>\n",
       "      <th>2</th>\n",
       "      <td>0</td>\n",
       "      <td>5623.422610</td>\n",
       "      <td>33</td>\n",
       "      <td>среднее</td>\n",
       "      <td>1</td>\n",
       "      <td>женат / замужем</td>\n",
       "      <td>0</td>\n",
       "      <td>M</td>\n",
       "      <td>сотрудник</td>\n",
       "      <td>0</td>\n",
       "      <td>145885</td>\n",
       "      <td>покупка жилья</td>\n",
       "      <td>C</td>\n",
       "      <td>операции с недвижимостью</td>\n",
       "    </tr>\n",
       "    <tr>\n",
       "      <th>3</th>\n",
       "      <td>3</td>\n",
       "      <td>4124.747207</td>\n",
       "      <td>32</td>\n",
       "      <td>среднее</td>\n",
       "      <td>1</td>\n",
       "      <td>женат / замужем</td>\n",
       "      <td>0</td>\n",
       "      <td>M</td>\n",
       "      <td>сотрудник</td>\n",
       "      <td>0</td>\n",
       "      <td>267628</td>\n",
       "      <td>дополнительное образование</td>\n",
       "      <td>B</td>\n",
       "      <td>получение образования</td>\n",
       "    </tr>\n",
       "    <tr>\n",
       "      <th>4</th>\n",
       "      <td>0</td>\n",
       "      <td>340266.072047</td>\n",
       "      <td>53</td>\n",
       "      <td>среднее</td>\n",
       "      <td>1</td>\n",
       "      <td>гражданский брак</td>\n",
       "      <td>1</td>\n",
       "      <td>F</td>\n",
       "      <td>пенсионер</td>\n",
       "      <td>0</td>\n",
       "      <td>158616</td>\n",
       "      <td>сыграть свадьбу</td>\n",
       "      <td>C</td>\n",
       "      <td>проведение свадьбы</td>\n",
       "    </tr>\n",
       "  </tbody>\n",
       "</table>\n",
       "</div>"
      ],
      "text/plain": [
       "   children  days_employed  dob_years education  education_id  \\\n",
       "0         1    8437.673028         42    высшее             0   \n",
       "1         1    4024.803754         36   среднее             1   \n",
       "2         0    5623.422610         33   среднее             1   \n",
       "3         3    4124.747207         32   среднее             1   \n",
       "4         0  340266.072047         53   среднее             1   \n",
       "\n",
       "      family_status  family_status_id gender income_type  debt  total_income  \\\n",
       "0   женат / замужем                 0      F   сотрудник     0        253875   \n",
       "1   женат / замужем                 0      F   сотрудник     0        112080   \n",
       "2   женат / замужем                 0      M   сотрудник     0        145885   \n",
       "3   женат / замужем                 0      M   сотрудник     0        267628   \n",
       "4  гражданский брак                 1      F   пенсионер     0        158616   \n",
       "\n",
       "                      purpose total_income_category          purpose_category  \n",
       "0               покупка жилья                     B  операции с недвижимостью  \n",
       "1     приобретение автомобиля                     C    операции с автомобилем  \n",
       "2               покупка жилья                     C  операции с недвижимостью  \n",
       "3  дополнительное образование                     B     получение образования  \n",
       "4             сыграть свадьбу                     C        проведение свадьбы  "
      ]
     },
     "execution_count": 32,
     "metadata": {},
     "output_type": "execute_result"
    }
   ],
   "source": [
    "data.head()\n"
   ]
  },
  {
   "cell_type": "code",
   "execution_count": 33,
   "id": "e6a1ece3-ba80-40a4-a35f-ccd00fa78bb6",
   "metadata": {},
   "outputs": [
    {
     "data": {
      "text/plain": [
       "0"
      ]
     },
     "execution_count": 33,
     "metadata": {},
     "output_type": "execute_result"
    }
   ],
   "source": [
    "data['family_status'].isnull().sum()\n",
    "#debt проверять не будем т.к. проверку выполняли на прошлом этапе и знаем, что пропусков нет"
   ]
  },
  {
   "cell_type": "code",
   "execution_count": 34,
   "id": "bf744eea-fbbd-4bfd-a996-6d1d6a2c319b",
   "metadata": {},
   "outputs": [
    {
     "data": {
      "text/html": [
       "<div>\n",
       "<style scoped>\n",
       "    .dataframe tbody tr th:only-of-type {\n",
       "        vertical-align: middle;\n",
       "    }\n",
       "\n",
       "    .dataframe tbody tr th {\n",
       "        vertical-align: top;\n",
       "    }\n",
       "\n",
       "    .dataframe thead th {\n",
       "        text-align: right;\n",
       "    }\n",
       "</style>\n",
       "<table border=\"1\" class=\"dataframe\">\n",
       "  <thead>\n",
       "    <tr style=\"text-align: right;\">\n",
       "      <th>debt</th>\n",
       "      <th>0</th>\n",
       "      <th>1</th>\n",
       "    </tr>\n",
       "    <tr>\n",
       "      <th>family_status</th>\n",
       "      <th></th>\n",
       "      <th></th>\n",
       "    </tr>\n",
       "  </thead>\n",
       "  <tbody>\n",
       "    <tr>\n",
       "      <th>Не женат / не замужем</th>\n",
       "      <td>2523</td>\n",
       "      <td>273</td>\n",
       "    </tr>\n",
       "    <tr>\n",
       "      <th>в разводе</th>\n",
       "      <td>1105</td>\n",
       "      <td>84</td>\n",
       "    </tr>\n",
       "    <tr>\n",
       "      <th>вдовец / вдова</th>\n",
       "      <td>888</td>\n",
       "      <td>63</td>\n",
       "    </tr>\n",
       "    <tr>\n",
       "      <th>гражданский брак</th>\n",
       "      <td>3749</td>\n",
       "      <td>385</td>\n",
       "    </tr>\n",
       "    <tr>\n",
       "      <th>женат / замужем</th>\n",
       "      <td>11334</td>\n",
       "      <td>927</td>\n",
       "    </tr>\n",
       "  </tbody>\n",
       "</table>\n",
       "</div>"
      ],
      "text/plain": [
       "debt                       0    1\n",
       "family_status                    \n",
       "Не женат / не замужем   2523  273\n",
       "в разводе               1105   84\n",
       "вдовец / вдова           888   63\n",
       "гражданский брак        3749  385\n",
       "женат / замужем        11334  927"
      ]
     },
     "metadata": {},
     "output_type": "display_data"
    }
   ],
   "source": [
    "#будем продолжать работать со сводными таблицами\n",
    "#Немного теории из теории:\n",
    "#Аргументы метода:\n",
    "#index — столбец или столбцы, по которым группируют данные (название товара)\n",
    "#columns — столбец, по значениям которого происходит группировка (даты)\n",
    "#values — значения, по которым мы хотим увидеть сводную таблицу (количество проданного товара)\n",
    "#aggfunc — функция, применяемая к значениям (сумма товаров)\n",
    "\n",
    "#группируем по столбцу family_status, со значением столбца debt, values - пол, к aggfunc применим count\n",
    "\n",
    "data_pivot_table_family = data.pivot_table(index = ['family_status'], columns = 'debt', values = 'gender', aggfunc = 'count')\n",
    "display(data_pivot_table_family)\n"
   ]
  },
  {
   "cell_type": "markdown",
   "id": "d56060aa-8d77-43f7-b99e-3e0c7a8776db",
   "metadata": {},
   "source": [
    "Для красивой 'картинки' считаю, что не хватает столбца с отношением 0/1\n",
    "для этого добавим новый столбец с именем '%' и поиграем округлением, как в прошлом задании, но тут возможно округление будет критично и будет влиять на рейтинг, проверим "
   ]
  },
  {
   "cell_type": "code",
   "execution_count": 35,
   "id": "7e64162c-f22f-4d83-a048-d28a693af01b",
   "metadata": {},
   "outputs": [
    {
     "data": {
      "text/html": [
       "<div>\n",
       "<style scoped>\n",
       "    .dataframe tbody tr th:only-of-type {\n",
       "        vertical-align: middle;\n",
       "    }\n",
       "\n",
       "    .dataframe tbody tr th {\n",
       "        vertical-align: top;\n",
       "    }\n",
       "\n",
       "    .dataframe thead th {\n",
       "        text-align: right;\n",
       "    }\n",
       "</style>\n",
       "<table border=\"1\" class=\"dataframe\">\n",
       "  <thead>\n",
       "    <tr style=\"text-align: right;\">\n",
       "      <th>debt</th>\n",
       "      <th>0</th>\n",
       "      <th>1</th>\n",
       "      <th>%</th>\n",
       "    </tr>\n",
       "    <tr>\n",
       "      <th>family_status</th>\n",
       "      <th></th>\n",
       "      <th></th>\n",
       "      <th></th>\n",
       "    </tr>\n",
       "  </thead>\n",
       "  <tbody>\n",
       "    <tr>\n",
       "      <th>вдовец / вдова</th>\n",
       "      <td>888</td>\n",
       "      <td>63</td>\n",
       "      <td>6.624606</td>\n",
       "    </tr>\n",
       "    <tr>\n",
       "      <th>в разводе</th>\n",
       "      <td>1105</td>\n",
       "      <td>84</td>\n",
       "      <td>7.064760</td>\n",
       "    </tr>\n",
       "    <tr>\n",
       "      <th>женат / замужем</th>\n",
       "      <td>11334</td>\n",
       "      <td>927</td>\n",
       "      <td>7.560558</td>\n",
       "    </tr>\n",
       "    <tr>\n",
       "      <th>гражданский брак</th>\n",
       "      <td>3749</td>\n",
       "      <td>385</td>\n",
       "      <td>9.313014</td>\n",
       "    </tr>\n",
       "    <tr>\n",
       "      <th>Не женат / не замужем</th>\n",
       "      <td>2523</td>\n",
       "      <td>273</td>\n",
       "      <td>9.763948</td>\n",
       "    </tr>\n",
       "  </tbody>\n",
       "</table>\n",
       "</div>"
      ],
      "text/plain": [
       "debt                       0    1         %\n",
       "family_status                              \n",
       "вдовец / вдова           888   63  6.624606\n",
       "в разводе               1105   84  7.064760\n",
       "женат / замужем        11334  927  7.560558\n",
       "гражданский брак        3749  385  9.313014\n",
       "Не женат / не замужем   2523  273  9.763948"
      ]
     },
     "execution_count": 35,
     "metadata": {},
     "output_type": "execute_result"
    }
   ],
   "source": [
    "data_pivot_table_family['%'] = data_pivot_table_family[1]/ (data_pivot_table_family[0]+data_pivot_table_family[1])*100\n",
    "data_pivot_table_family.sort_values('%')"
   ]
  },
  {
   "cell_type": "code",
   "execution_count": 36,
   "id": "497a0033-a85b-4bba-b342-9dff50dc0292",
   "metadata": {},
   "outputs": [
    {
     "data": {
      "text/plain": [
       "<AxesSubplot:xlabel='family_status'>"
      ]
     },
     "execution_count": 36,
     "metadata": {},
     "output_type": "execute_result"
    },
    {
     "data": {
      "image/png": "[encoded data removed]",
      "text/plain": [
       "<Figure size 432x288 with 1 Axes>"
      ]
     },
     "metadata": {
      "needs_background": "light"
     },
     "output_type": "display_data"
    }
   ],
   "source": [
    "data.groupby('family_status')['debt'].mean().plot.bar()"
   ]
  },
  {
   "cell_type": "markdown",
   "id": "5dc9d072",
   "metadata": {
    "deletable": false,
    "id": "1cef7837"
   },
   "source": [
    "**Вывод:** \n",
    "Как я и предполагал округлять до целого и тут не надо, иначе в столбце % по строкам\n",
    "в разводе\n",
    "женат / замужем\n",
    "значения бы получились одинаковые\n",
    "Исходя из полученных данных видим, что большинство строк в столбце family_status можно сгруппировать. И так пары  в статусе гражданский брак,в разводе,вдовец / вдова можно отнести к категории 'хотя бы раз женаты/замужем', в свою очередь они показывают лучшую динамику по соблюдению сроков выплат кредита"
   ]
  },
  {
   "cell_type": "markdown",
   "id": "d04ad578",
   "metadata": {
    "deletable": false,
    "editable": false,
    "id": "1e8b2fca"
   },
   "source": [
    "#### 3.3 Есть ли зависимость между уровнем дохода и возвратом кредита в срок?"
   ]
  },
  {
   "cell_type": "code",
   "execution_count": 37,
   "id": "427d1eae",
   "metadata": {
    "deletable": false,
    "id": "cd7e3720"
   },
   "outputs": [
    {
     "data": {
      "text/html": [
       "<div>\n",
       "<style scoped>\n",
       "    .dataframe tbody tr th:only-of-type {\n",
       "        vertical-align: middle;\n",
       "    }\n",
       "\n",
       "    .dataframe tbody tr th {\n",
       "        vertical-align: top;\n",
       "    }\n",
       "\n",
       "    .dataframe thead th {\n",
       "        text-align: right;\n",
       "    }\n",
       "</style>\n",
       "<table border=\"1\" class=\"dataframe\">\n",
       "  <thead>\n",
       "    <tr style=\"text-align: right;\">\n",
       "      <th></th>\n",
       "      <th>children</th>\n",
       "      <th>days_employed</th>\n",
       "      <th>dob_years</th>\n",
       "      <th>education</th>\n",
       "      <th>education_id</th>\n",
       "      <th>family_status</th>\n",
       "      <th>family_status_id</th>\n",
       "      <th>gender</th>\n",
       "      <th>income_type</th>\n",
       "      <th>debt</th>\n",
       "      <th>total_income</th>\n",
       "      <th>purpose</th>\n",
       "      <th>total_income_category</th>\n",
       "      <th>purpose_category</th>\n",
       "    </tr>\n",
       "  </thead>\n",
       "  <tbody>\n",
       "    <tr>\n",
       "      <th>0</th>\n",
       "      <td>1</td>\n",
       "      <td>8437.673028</td>\n",
       "      <td>42</td>\n",
       "      <td>высшее</td>\n",
       "      <td>0</td>\n",
       "      <td>женат / замужем</td>\n",
       "      <td>0</td>\n",
       "      <td>F</td>\n",
       "      <td>сотрудник</td>\n",
       "      <td>0</td>\n",
       "      <td>253875</td>\n",
       "      <td>покупка жилья</td>\n",
       "      <td>B</td>\n",
       "      <td>операции с недвижимостью</td>\n",
       "    </tr>\n",
       "    <tr>\n",
       "      <th>1</th>\n",
       "      <td>1</td>\n",
       "      <td>4024.803754</td>\n",
       "      <td>36</td>\n",
       "      <td>среднее</td>\n",
       "      <td>1</td>\n",
       "      <td>женат / замужем</td>\n",
       "      <td>0</td>\n",
       "      <td>F</td>\n",
       "      <td>сотрудник</td>\n",
       "      <td>0</td>\n",
       "      <td>112080</td>\n",
       "      <td>приобретение автомобиля</td>\n",
       "      <td>C</td>\n",
       "      <td>операции с автомобилем</td>\n",
       "    </tr>\n",
       "    <tr>\n",
       "      <th>2</th>\n",
       "      <td>0</td>\n",
       "      <td>5623.422610</td>\n",
       "      <td>33</td>\n",
       "      <td>среднее</td>\n",
       "      <td>1</td>\n",
       "      <td>женат / замужем</td>\n",
       "      <td>0</td>\n",
       "      <td>M</td>\n",
       "      <td>сотрудник</td>\n",
       "      <td>0</td>\n",
       "      <td>145885</td>\n",
       "      <td>покупка жилья</td>\n",
       "      <td>C</td>\n",
       "      <td>операции с недвижимостью</td>\n",
       "    </tr>\n",
       "    <tr>\n",
       "      <th>3</th>\n",
       "      <td>3</td>\n",
       "      <td>4124.747207</td>\n",
       "      <td>32</td>\n",
       "      <td>среднее</td>\n",
       "      <td>1</td>\n",
       "      <td>женат / замужем</td>\n",
       "      <td>0</td>\n",
       "      <td>M</td>\n",
       "      <td>сотрудник</td>\n",
       "      <td>0</td>\n",
       "      <td>267628</td>\n",
       "      <td>дополнительное образование</td>\n",
       "      <td>B</td>\n",
       "      <td>получение образования</td>\n",
       "    </tr>\n",
       "    <tr>\n",
       "      <th>4</th>\n",
       "      <td>0</td>\n",
       "      <td>340266.072047</td>\n",
       "      <td>53</td>\n",
       "      <td>среднее</td>\n",
       "      <td>1</td>\n",
       "      <td>гражданский брак</td>\n",
       "      <td>1</td>\n",
       "      <td>F</td>\n",
       "      <td>пенсионер</td>\n",
       "      <td>0</td>\n",
       "      <td>158616</td>\n",
       "      <td>сыграть свадьбу</td>\n",
       "      <td>C</td>\n",
       "      <td>проведение свадьбы</td>\n",
       "    </tr>\n",
       "  </tbody>\n",
       "</table>\n",
       "</div>"
      ],
      "text/plain": [
       "   children  days_employed  dob_years education  education_id  \\\n",
       "0         1    8437.673028         42    высшее             0   \n",
       "1         1    4024.803754         36   среднее             1   \n",
       "2         0    5623.422610         33   среднее             1   \n",
       "3         3    4124.747207         32   среднее             1   \n",
       "4         0  340266.072047         53   среднее             1   \n",
       "\n",
       "      family_status  family_status_id gender income_type  debt  total_income  \\\n",
       "0   женат / замужем                 0      F   сотрудник     0        253875   \n",
       "1   женат / замужем                 0      F   сотрудник     0        112080   \n",
       "2   женат / замужем                 0      M   сотрудник     0        145885   \n",
       "3   женат / замужем                 0      M   сотрудник     0        267628   \n",
       "4  гражданский брак                 1      F   пенсионер     0        158616   \n",
       "\n",
       "                      purpose total_income_category          purpose_category  \n",
       "0               покупка жилья                     B  операции с недвижимостью  \n",
       "1     приобретение автомобиля                     C    операции с автомобилем  \n",
       "2               покупка жилья                     C  операции с недвижимостью  \n",
       "3  дополнительное образование                     B     получение образования  \n",
       "4             сыграть свадьбу                     C        проведение свадьбы  "
      ]
     },
     "execution_count": 37,
     "metadata": {},
     "output_type": "execute_result"
    }
   ],
   "source": [
    "# прдолжим решать задачи с помощь сводных таблиц\n",
    "data.head()"
   ]
  },
  {
   "cell_type": "code",
   "execution_count": 38,
   "id": "9e9235e9-b5ea-47eb-961b-c2c42b94dc87",
   "metadata": {},
   "outputs": [
    {
     "data": {
      "text/plain": [
       "0"
      ]
     },
     "execution_count": 38,
     "metadata": {},
     "output_type": "execute_result"
    }
   ],
   "source": [
    "data['total_income'].isnull().sum()"
   ]
  },
  {
   "cell_type": "code",
   "execution_count": 39,
   "id": "2c49930c-732f-4f28-8280-b46b41d6e00a",
   "metadata": {},
   "outputs": [
    {
     "data": {
      "text/plain": [
       "0"
      ]
     },
     "execution_count": 39,
     "metadata": {},
     "output_type": "execute_result"
    }
   ],
   "source": [
    "data['total_income_category'].isnull().sum()"
   ]
  },
  {
   "cell_type": "code",
   "execution_count": 40,
   "id": "d8e6464a-e3aa-4255-87a8-2c6d96205db4",
   "metadata": {},
   "outputs": [
    {
     "data": {
      "text/plain": [
       "14585      20667\n",
       "13006      21205\n",
       "16174      21367\n",
       "1598       21695\n",
       "14276      21895\n",
       "          ...   \n",
       "17178    1711309\n",
       "20809    1715018\n",
       "9169     1726276\n",
       "19606    2200852\n",
       "12412    2265604\n",
       "Name: total_income, Length: 21331, dtype: int64"
      ]
     },
     "execution_count": 40,
     "metadata": {},
     "output_type": "execute_result"
    }
   ],
   "source": [
    "data['total_income'].sort_values()"
   ]
  },
  {
   "cell_type": "code",
   "execution_count": 41,
   "id": "b3f99df2-2325-4ab3-9f7f-ca917272d732",
   "metadata": {},
   "outputs": [
    {
     "name": "stdout",
     "output_type": "stream",
     "text": [
      "debt                       0     1\n",
      "total_income_category             \n",
      "A                         23     2\n",
      "B                       4660   354\n",
      "C                      14568  1353\n",
      "D                        328    21\n",
      "E                         20     2\n"
     ]
    }
   ],
   "source": [
    "# видим, что в таблице есть столбец 'total_income' отвечаающий за сумму дохода, а также мы категоризировали уровень дохода в 16 задании 1 части\n",
    "# за это отвечает столбец 'total_income_category'\n",
    "#0–30000 — 'E';\n",
    "#30001–50000 — 'D';\n",
    "#50001–200000 — 'C';\n",
    "#200001–1000000 — 'B';\n",
    "#1000001 и выше — 'A'.\n",
    "\n",
    "\n",
    "data_pivot_table_income = data.pivot_table(index = ['total_income_category'], columns = 'debt', values = 'gender', aggfunc = 'count')\n",
    "print(data_pivot_table_income)\n",
    "\n"
   ]
  },
  {
   "cell_type": "code",
   "execution_count": 42,
   "id": "9e6d8978-6a66-4200-b71f-94dc0f2cbf36",
   "metadata": {},
   "outputs": [
    {
     "data": {
      "text/html": [
       "<div>\n",
       "<style scoped>\n",
       "    .dataframe tbody tr th:only-of-type {\n",
       "        vertical-align: middle;\n",
       "    }\n",
       "\n",
       "    .dataframe tbody tr th {\n",
       "        vertical-align: top;\n",
       "    }\n",
       "\n",
       "    .dataframe thead th {\n",
       "        text-align: right;\n",
       "    }\n",
       "</style>\n",
       "<table border=\"1\" class=\"dataframe\">\n",
       "  <thead>\n",
       "    <tr style=\"text-align: right;\">\n",
       "      <th>debt</th>\n",
       "      <th>0</th>\n",
       "      <th>1</th>\n",
       "      <th>%</th>\n",
       "    </tr>\n",
       "    <tr>\n",
       "      <th>total_income_category</th>\n",
       "      <th></th>\n",
       "      <th></th>\n",
       "      <th></th>\n",
       "    </tr>\n",
       "  </thead>\n",
       "  <tbody>\n",
       "    <tr>\n",
       "      <th>D</th>\n",
       "      <td>328</td>\n",
       "      <td>21</td>\n",
       "      <td>6.402439</td>\n",
       "    </tr>\n",
       "    <tr>\n",
       "      <th>B</th>\n",
       "      <td>4660</td>\n",
       "      <td>354</td>\n",
       "      <td>7.596567</td>\n",
       "    </tr>\n",
       "    <tr>\n",
       "      <th>A</th>\n",
       "      <td>23</td>\n",
       "      <td>2</td>\n",
       "      <td>8.695652</td>\n",
       "    </tr>\n",
       "    <tr>\n",
       "      <th>C</th>\n",
       "      <td>14568</td>\n",
       "      <td>1353</td>\n",
       "      <td>9.287479</td>\n",
       "    </tr>\n",
       "    <tr>\n",
       "      <th>E</th>\n",
       "      <td>20</td>\n",
       "      <td>2</td>\n",
       "      <td>10.000000</td>\n",
       "    </tr>\n",
       "  </tbody>\n",
       "</table>\n",
       "</div>"
      ],
      "text/plain": [
       "debt                       0     1          %\n",
       "total_income_category                        \n",
       "D                        328    21   6.402439\n",
       "B                       4660   354   7.596567\n",
       "A                         23     2   8.695652\n",
       "C                      14568  1353   9.287479\n",
       "E                         20     2  10.000000"
      ]
     },
     "execution_count": 42,
     "metadata": {},
     "output_type": "execute_result"
    }
   ],
   "source": [
    "data_pivot_table_income['%'] = data_pivot_table_income[1]/ data_pivot_table_income[0]*100\n",
    "data_pivot_table_income.sort_values('%')"
   ]
  },
  {
   "cell_type": "code",
   "execution_count": 43,
   "id": "6b98f43a-c1b8-46ed-aaa7-f7b67d7f1b01",
   "metadata": {},
   "outputs": [
    {
     "data": {
      "text/plain": [
       "<AxesSubplot:ylabel='total_income_category'>"
      ]
     },
     "execution_count": 43,
     "metadata": {},
     "output_type": "execute_result"
    },
    {
     "data": {
      "image/png": "[encoded data removed]",
      "text/plain": [
       "<Figure size 432x288 with 1 Axes>"
      ]
     },
     "metadata": {
      "needs_background": "light"
     },
     "output_type": "display_data"
    }
   ],
   "source": [
    "data.groupby('total_income_category')['debt'].mean().sort_values().plot.barh()"
   ]
  },
  {
   "cell_type": "markdown",
   "id": "cb3da6ac",
   "metadata": {
    "deletable": false,
    "id": "e8593def"
   },
   "source": [
    "**Вывод:** \n",
    "можно увидеть, что высокий доход позволяет платить по кредиту во время\n",
    "однако, удивительно то, что категории Е и D c небольшим доходом также выплачивают кредит без задержек\n",
    "возможно, данный факт связан с распределением бюджета"
   ]
  },
  {
   "cell_type": "markdown",
   "id": "85859f54",
   "metadata": {
    "deletable": false,
    "editable": false,
    "id": "99ecbd1f"
   },
   "source": [
    "#### 3.4 Как разные цели кредита влияют на его возврат в срок?"
   ]
  },
  {
   "cell_type": "code",
   "execution_count": 44,
   "id": "e26dec94",
   "metadata": {
    "deletable": false,
    "id": "2b687290"
   },
   "outputs": [
    {
     "data": {
      "text/plain": [
       "0"
      ]
     },
     "execution_count": 44,
     "metadata": {},
     "output_type": "execute_result"
    }
   ],
   "source": [
    "data['purpose'].isnull().sum()"
   ]
  },
  {
   "cell_type": "code",
   "execution_count": 45,
   "id": "a1d2c403-e680-423b-82e2-1cf47d34235a",
   "metadata": {},
   "outputs": [
    {
     "data": {
      "text/plain": [
       "array(['покупка жилья', 'приобретение автомобиля',\n",
       "       'дополнительное образование', 'сыграть свадьбу',\n",
       "       'операции с жильем', 'образование', 'на проведение свадьбы',\n",
       "       'покупка жилья для семьи', 'покупка недвижимости',\n",
       "       'покупка коммерческой недвижимости', 'покупка жилой недвижимости',\n",
       "       'строительство собственной недвижимости', 'недвижимость',\n",
       "       'строительство недвижимости', 'на покупку подержанного автомобиля',\n",
       "       'на покупку своего автомобиля',\n",
       "       'операции с коммерческой недвижимостью',\n",
       "       'строительство жилой недвижимости', 'жилье',\n",
       "       'операции со своей недвижимостью', 'автомобили',\n",
       "       'заняться образованием', 'сделка с подержанным автомобилем',\n",
       "       'получение образования', 'автомобиль', 'свадьба',\n",
       "       'получение дополнительного образования', 'покупка своего жилья',\n",
       "       'операции с недвижимостью', 'получение высшего образования',\n",
       "       'свой автомобиль', 'сделка с автомобилем',\n",
       "       'профильное образование', 'высшее образование',\n",
       "       'покупка жилья для сдачи', 'на покупку автомобиля', 'ремонт жилью',\n",
       "       'заняться высшим образованием'], dtype=object)"
      ]
     },
     "execution_count": 45,
     "metadata": {},
     "output_type": "execute_result"
    }
   ],
   "source": [
    "data['purpose'].unique()"
   ]
  },
  {
   "cell_type": "code",
   "execution_count": 46,
   "id": "1abc8b20-f74f-42de-afb2-c3cfff230a6d",
   "metadata": {},
   "outputs": [
    {
     "name": "stdout",
     "output_type": "stream",
     "text": [
      "debt                                      0   1\n",
      "purpose                                        \n",
      "автомобили                              432  44\n",
      "автомобиль                              450  41\n",
      "высшее образование                      406  40\n",
      "дополнительное образование              417  38\n",
      "жилье                                   595  46\n",
      "заняться высшим образованием            453  43\n",
      "заняться образованием                   369  39\n",
      "на покупку автомобиля                   425  44\n",
      "на покупку подержанного автомобиля      436  35\n",
      "на покупку своего автомобиля            458  46\n",
      "на проведение свадьбы                   702  61\n",
      "недвижимость                            589  42\n",
      "образование                             410  32\n",
      "операции с жильем                       599  48\n",
      "операции с коммерческой недвижимостью   593  52\n",
      "операции с недвижимостью                617  55\n",
      "операции со своей недвижимостью         573  50\n",
      "покупка жилой недвижимости              561  41\n",
      "покупка жилья                           592  48\n",
      "покупка жилья для сдачи                 597  52\n",
      "покупка жилья для семьи                 592  45\n",
      "покупка коммерческой недвижимости       612  46\n",
      "покупка недвижимости                    573  43\n",
      "покупка своего жилья                    585  34\n",
      "получение высшего образования           379  46\n",
      "получение дополнительного образования   393  51\n",
      "получение образования                   404  36\n",
      "приобретение автомобиля                 417  42\n",
      "профильное образование                  388  44\n",
      "ремонт жилью                            569  35\n",
      "свадьба                                 726  64\n",
      "свой автомобиль                         426  47\n",
      "сделка с автомобилем                    405  50\n",
      "сделка с подержанным автомобилем        430  51\n",
      "строительство жилой недвижимости        572  48\n",
      "строительство недвижимости              565  54\n",
      "строительство собственной недвижимости  587  41\n",
      "сыграть свадьбу                         702  58\n"
     ]
    }
   ],
   "source": [
    "data_pivot_table_purpose = data.pivot_table(index = ['purpose'], columns = 'debt', values = 'gender', aggfunc = 'count')\n",
    "print(data_pivot_table_purpose)\n",
    "\n"
   ]
  },
  {
   "cell_type": "code",
   "execution_count": 47,
   "id": "8c6f6144-cd42-4a9d-98f2-55ff022dbc65",
   "metadata": {},
   "outputs": [
    {
     "data": {
      "text/html": [
       "<div>\n",
       "<style scoped>\n",
       "    .dataframe tbody tr th:only-of-type {\n",
       "        vertical-align: middle;\n",
       "    }\n",
       "\n",
       "    .dataframe tbody tr th {\n",
       "        vertical-align: top;\n",
       "    }\n",
       "\n",
       "    .dataframe thead th {\n",
       "        text-align: right;\n",
       "    }\n",
       "</style>\n",
       "<table border=\"1\" class=\"dataframe\">\n",
       "  <thead>\n",
       "    <tr style=\"text-align: right;\">\n",
       "      <th>debt</th>\n",
       "      <th>0</th>\n",
       "      <th>1</th>\n",
       "      <th>%</th>\n",
       "    </tr>\n",
       "    <tr>\n",
       "      <th>purpose</th>\n",
       "      <th></th>\n",
       "      <th></th>\n",
       "      <th></th>\n",
       "    </tr>\n",
       "  </thead>\n",
       "  <tbody>\n",
       "    <tr>\n",
       "      <th>покупка своего жилья</th>\n",
       "      <td>585</td>\n",
       "      <td>34</td>\n",
       "      <td>5.811966</td>\n",
       "    </tr>\n",
       "    <tr>\n",
       "      <th>ремонт жилью</th>\n",
       "      <td>569</td>\n",
       "      <td>35</td>\n",
       "      <td>6.151142</td>\n",
       "    </tr>\n",
       "    <tr>\n",
       "      <th>строительство собственной недвижимости</th>\n",
       "      <td>587</td>\n",
       "      <td>41</td>\n",
       "      <td>6.984668</td>\n",
       "    </tr>\n",
       "    <tr>\n",
       "      <th>недвижимость</th>\n",
       "      <td>589</td>\n",
       "      <td>42</td>\n",
       "      <td>7.130730</td>\n",
       "    </tr>\n",
       "    <tr>\n",
       "      <th>покупка жилой недвижимости</th>\n",
       "      <td>561</td>\n",
       "      <td>41</td>\n",
       "      <td>7.308378</td>\n",
       "    </tr>\n",
       "    <tr>\n",
       "      <th>покупка недвижимости</th>\n",
       "      <td>573</td>\n",
       "      <td>43</td>\n",
       "      <td>7.504363</td>\n",
       "    </tr>\n",
       "    <tr>\n",
       "      <th>покупка коммерческой недвижимости</th>\n",
       "      <td>612</td>\n",
       "      <td>46</td>\n",
       "      <td>7.516340</td>\n",
       "    </tr>\n",
       "    <tr>\n",
       "      <th>покупка жилья для семьи</th>\n",
       "      <td>592</td>\n",
       "      <td>45</td>\n",
       "      <td>7.601351</td>\n",
       "    </tr>\n",
       "    <tr>\n",
       "      <th>жилье</th>\n",
       "      <td>595</td>\n",
       "      <td>46</td>\n",
       "      <td>7.731092</td>\n",
       "    </tr>\n",
       "    <tr>\n",
       "      <th>образование</th>\n",
       "      <td>410</td>\n",
       "      <td>32</td>\n",
       "      <td>7.804878</td>\n",
       "    </tr>\n",
       "    <tr>\n",
       "      <th>операции с жильем</th>\n",
       "      <td>599</td>\n",
       "      <td>48</td>\n",
       "      <td>8.013356</td>\n",
       "    </tr>\n",
       "    <tr>\n",
       "      <th>на покупку подержанного автомобиля</th>\n",
       "      <td>436</td>\n",
       "      <td>35</td>\n",
       "      <td>8.027523</td>\n",
       "    </tr>\n",
       "    <tr>\n",
       "      <th>покупка жилья</th>\n",
       "      <td>592</td>\n",
       "      <td>48</td>\n",
       "      <td>8.108108</td>\n",
       "    </tr>\n",
       "    <tr>\n",
       "      <th>сыграть свадьбу</th>\n",
       "      <td>702</td>\n",
       "      <td>58</td>\n",
       "      <td>8.262108</td>\n",
       "    </tr>\n",
       "    <tr>\n",
       "      <th>строительство жилой недвижимости</th>\n",
       "      <td>572</td>\n",
       "      <td>48</td>\n",
       "      <td>8.391608</td>\n",
       "    </tr>\n",
       "    <tr>\n",
       "      <th>на проведение свадьбы</th>\n",
       "      <td>702</td>\n",
       "      <td>61</td>\n",
       "      <td>8.689459</td>\n",
       "    </tr>\n",
       "    <tr>\n",
       "      <th>покупка жилья для сдачи</th>\n",
       "      <td>597</td>\n",
       "      <td>52</td>\n",
       "      <td>8.710218</td>\n",
       "    </tr>\n",
       "    <tr>\n",
       "      <th>операции со своей недвижимостью</th>\n",
       "      <td>573</td>\n",
       "      <td>50</td>\n",
       "      <td>8.726003</td>\n",
       "    </tr>\n",
       "    <tr>\n",
       "      <th>операции с коммерческой недвижимостью</th>\n",
       "      <td>593</td>\n",
       "      <td>52</td>\n",
       "      <td>8.768971</td>\n",
       "    </tr>\n",
       "    <tr>\n",
       "      <th>свадьба</th>\n",
       "      <td>726</td>\n",
       "      <td>64</td>\n",
       "      <td>8.815427</td>\n",
       "    </tr>\n",
       "    <tr>\n",
       "      <th>получение образования</th>\n",
       "      <td>404</td>\n",
       "      <td>36</td>\n",
       "      <td>8.910891</td>\n",
       "    </tr>\n",
       "    <tr>\n",
       "      <th>операции с недвижимостью</th>\n",
       "      <td>617</td>\n",
       "      <td>55</td>\n",
       "      <td>8.914100</td>\n",
       "    </tr>\n",
       "    <tr>\n",
       "      <th>автомобиль</th>\n",
       "      <td>450</td>\n",
       "      <td>41</td>\n",
       "      <td>9.111111</td>\n",
       "    </tr>\n",
       "    <tr>\n",
       "      <th>дополнительное образование</th>\n",
       "      <td>417</td>\n",
       "      <td>38</td>\n",
       "      <td>9.112710</td>\n",
       "    </tr>\n",
       "    <tr>\n",
       "      <th>заняться высшим образованием</th>\n",
       "      <td>453</td>\n",
       "      <td>43</td>\n",
       "      <td>9.492274</td>\n",
       "    </tr>\n",
       "    <tr>\n",
       "      <th>строительство недвижимости</th>\n",
       "      <td>565</td>\n",
       "      <td>54</td>\n",
       "      <td>9.557522</td>\n",
       "    </tr>\n",
       "    <tr>\n",
       "      <th>высшее образование</th>\n",
       "      <td>406</td>\n",
       "      <td>40</td>\n",
       "      <td>9.852217</td>\n",
       "    </tr>\n",
       "    <tr>\n",
       "      <th>на покупку своего автомобиля</th>\n",
       "      <td>458</td>\n",
       "      <td>46</td>\n",
       "      <td>10.043668</td>\n",
       "    </tr>\n",
       "    <tr>\n",
       "      <th>приобретение автомобиля</th>\n",
       "      <td>417</td>\n",
       "      <td>42</td>\n",
       "      <td>10.071942</td>\n",
       "    </tr>\n",
       "    <tr>\n",
       "      <th>автомобили</th>\n",
       "      <td>432</td>\n",
       "      <td>44</td>\n",
       "      <td>10.185185</td>\n",
       "    </tr>\n",
       "    <tr>\n",
       "      <th>на покупку автомобиля</th>\n",
       "      <td>425</td>\n",
       "      <td>44</td>\n",
       "      <td>10.352941</td>\n",
       "    </tr>\n",
       "    <tr>\n",
       "      <th>заняться образованием</th>\n",
       "      <td>369</td>\n",
       "      <td>39</td>\n",
       "      <td>10.569106</td>\n",
       "    </tr>\n",
       "    <tr>\n",
       "      <th>свой автомобиль</th>\n",
       "      <td>426</td>\n",
       "      <td>47</td>\n",
       "      <td>11.032864</td>\n",
       "    </tr>\n",
       "    <tr>\n",
       "      <th>профильное образование</th>\n",
       "      <td>388</td>\n",
       "      <td>44</td>\n",
       "      <td>11.340206</td>\n",
       "    </tr>\n",
       "    <tr>\n",
       "      <th>сделка с подержанным автомобилем</th>\n",
       "      <td>430</td>\n",
       "      <td>51</td>\n",
       "      <td>11.860465</td>\n",
       "    </tr>\n",
       "    <tr>\n",
       "      <th>получение высшего образования</th>\n",
       "      <td>379</td>\n",
       "      <td>46</td>\n",
       "      <td>12.137203</td>\n",
       "    </tr>\n",
       "    <tr>\n",
       "      <th>сделка с автомобилем</th>\n",
       "      <td>405</td>\n",
       "      <td>50</td>\n",
       "      <td>12.345679</td>\n",
       "    </tr>\n",
       "    <tr>\n",
       "      <th>получение дополнительного образования</th>\n",
       "      <td>393</td>\n",
       "      <td>51</td>\n",
       "      <td>12.977099</td>\n",
       "    </tr>\n",
       "  </tbody>\n",
       "</table>\n",
       "</div>"
      ],
      "text/plain": [
       "debt                                      0   1          %\n",
       "purpose                                                   \n",
       "покупка своего жилья                    585  34   5.811966\n",
       "ремонт жилью                            569  35   6.151142\n",
       "строительство собственной недвижимости  587  41   6.984668\n",
       "недвижимость                            589  42   7.130730\n",
       "покупка жилой недвижимости              561  41   7.308378\n",
       "покупка недвижимости                    573  43   7.504363\n",
       "покупка коммерческой недвижимости       612  46   7.516340\n",
       "покупка жилья для семьи                 592  45   7.601351\n",
       "жилье                                   595  46   7.731092\n",
       "образование                             410  32   7.804878\n",
       "операции с жильем                       599  48   8.013356\n",
       "на покупку подержанного автомобиля      436  35   8.027523\n",
       "покупка жилья                           592  48   8.108108\n",
       "сыграть свадьбу                         702  58   8.262108\n",
       "строительство жилой недвижимости        572  48   8.391608\n",
       "на проведение свадьбы                   702  61   8.689459\n",
       "покупка жилья для сдачи                 597  52   8.710218\n",
       "операции со своей недвижимостью         573  50   8.726003\n",
       "операции с коммерческой недвижимостью   593  52   8.768971\n",
       "свадьба                                 726  64   8.815427\n",
       "получение образования                   404  36   8.910891\n",
       "операции с недвижимостью                617  55   8.914100\n",
       "автомобиль                              450  41   9.111111\n",
       "дополнительное образование              417  38   9.112710\n",
       "заняться высшим образованием            453  43   9.492274\n",
       "строительство недвижимости              565  54   9.557522\n",
       "высшее образование                      406  40   9.852217\n",
       "на покупку своего автомобиля            458  46  10.043668\n",
       "приобретение автомобиля                 417  42  10.071942\n",
       "автомобили                              432  44  10.185185\n",
       "на покупку автомобиля                   425  44  10.352941\n",
       "заняться образованием                   369  39  10.569106\n",
       "свой автомобиль                         426  47  11.032864\n",
       "профильное образование                  388  44  11.340206\n",
       "сделка с подержанным автомобилем        430  51  11.860465\n",
       "получение высшего образования           379  46  12.137203\n",
       "сделка с автомобилем                    405  50  12.345679\n",
       "получение дополнительного образования   393  51  12.977099"
      ]
     },
     "execution_count": 47,
     "metadata": {},
     "output_type": "execute_result"
    }
   ],
   "source": [
    "data_pivot_table_purpose['%'] = data_pivot_table_purpose[1]/ data_pivot_table_purpose[0]*100\n",
    "data_pivot_table_purpose.sort_values('%', ascending = True)"
   ]
  },
  {
   "cell_type": "markdown",
   "id": "0a9427fd-fbbc-4fbe-a71a-5ee1aa5bde14",
   "metadata": {},
   "source": [
    "Но тут мы сталкиваемся со следующей проблемой, что категории кредита повторяются и дать точную оценку и заключение на основании\n",
    "данной сводной таблицы невезможно.\n",
    "Попробуем применить лемматизацию\n",
    "Для этого объявим функцию"
   ]
  },
  {
   "cell_type": "code",
   "execution_count": null,
   "id": "74c10fd7-c0a9-40d6-b5f8-88659ffe3440",
   "metadata": {},
   "outputs": [],
   "source": []
  },
  {
   "cell_type": "code",
   "execution_count": 48,
   "id": "edf13797-aa06-4f13-95ca-dcadb46bea27",
   "metadata": {},
   "outputs": [],
   "source": [
    "def purpose_category(purpose):\n",
    "    if 'образ' in purpose:\n",
    "             return 'Образование'\n",
    "    if 'авто' in purpose:\n",
    "             return 'Автомобиль'\n",
    "    if 'свадь' in purpose:\n",
    "             return 'Свадьба'\n",
    "    if 'жиль' or 'недв' in purpose:\n",
    "             return 'Недвижимость'\n",
    "    return 'Иные цели'\n",
    "\n",
    "data['purpose_category'] = data['purpose'].apply(purpose_category)\n",
    "\n"
   ]
  },
  {
   "cell_type": "code",
   "execution_count": 49,
   "id": "03f1e8e9-ce0a-482f-ab73-b3ec5ce6c4f2",
   "metadata": {},
   "outputs": [
    {
     "data": {
      "text/html": [
       "<div>\n",
       "<style scoped>\n",
       "    .dataframe tbody tr th:only-of-type {\n",
       "        vertical-align: middle;\n",
       "    }\n",
       "\n",
       "    .dataframe tbody tr th {\n",
       "        vertical-align: top;\n",
       "    }\n",
       "\n",
       "    .dataframe thead th {\n",
       "        text-align: right;\n",
       "    }\n",
       "</style>\n",
       "<table border=\"1\" class=\"dataframe\">\n",
       "  <thead>\n",
       "    <tr style=\"text-align: right;\">\n",
       "      <th></th>\n",
       "      <th>children</th>\n",
       "      <th>days_employed</th>\n",
       "      <th>dob_years</th>\n",
       "      <th>education</th>\n",
       "      <th>education_id</th>\n",
       "      <th>family_status</th>\n",
       "      <th>family_status_id</th>\n",
       "      <th>gender</th>\n",
       "      <th>income_type</th>\n",
       "      <th>debt</th>\n",
       "      <th>total_income</th>\n",
       "      <th>purpose</th>\n",
       "      <th>total_income_category</th>\n",
       "      <th>purpose_category</th>\n",
       "    </tr>\n",
       "  </thead>\n",
       "  <tbody>\n",
       "    <tr>\n",
       "      <th>0</th>\n",
       "      <td>1</td>\n",
       "      <td>8437.673028</td>\n",
       "      <td>42</td>\n",
       "      <td>высшее</td>\n",
       "      <td>0</td>\n",
       "      <td>женат / замужем</td>\n",
       "      <td>0</td>\n",
       "      <td>F</td>\n",
       "      <td>сотрудник</td>\n",
       "      <td>0</td>\n",
       "      <td>253875</td>\n",
       "      <td>покупка жилья</td>\n",
       "      <td>B</td>\n",
       "      <td>Недвижимость</td>\n",
       "    </tr>\n",
       "    <tr>\n",
       "      <th>1</th>\n",
       "      <td>1</td>\n",
       "      <td>4024.803754</td>\n",
       "      <td>36</td>\n",
       "      <td>среднее</td>\n",
       "      <td>1</td>\n",
       "      <td>женат / замужем</td>\n",
       "      <td>0</td>\n",
       "      <td>F</td>\n",
       "      <td>сотрудник</td>\n",
       "      <td>0</td>\n",
       "      <td>112080</td>\n",
       "      <td>приобретение автомобиля</td>\n",
       "      <td>C</td>\n",
       "      <td>Автомобиль</td>\n",
       "    </tr>\n",
       "    <tr>\n",
       "      <th>2</th>\n",
       "      <td>0</td>\n",
       "      <td>5623.422610</td>\n",
       "      <td>33</td>\n",
       "      <td>среднее</td>\n",
       "      <td>1</td>\n",
       "      <td>женат / замужем</td>\n",
       "      <td>0</td>\n",
       "      <td>M</td>\n",
       "      <td>сотрудник</td>\n",
       "      <td>0</td>\n",
       "      <td>145885</td>\n",
       "      <td>покупка жилья</td>\n",
       "      <td>C</td>\n",
       "      <td>Недвижимость</td>\n",
       "    </tr>\n",
       "    <tr>\n",
       "      <th>3</th>\n",
       "      <td>3</td>\n",
       "      <td>4124.747207</td>\n",
       "      <td>32</td>\n",
       "      <td>среднее</td>\n",
       "      <td>1</td>\n",
       "      <td>женат / замужем</td>\n",
       "      <td>0</td>\n",
       "      <td>M</td>\n",
       "      <td>сотрудник</td>\n",
       "      <td>0</td>\n",
       "      <td>267628</td>\n",
       "      <td>дополнительное образование</td>\n",
       "      <td>B</td>\n",
       "      <td>Образование</td>\n",
       "    </tr>\n",
       "    <tr>\n",
       "      <th>4</th>\n",
       "      <td>0</td>\n",
       "      <td>340266.072047</td>\n",
       "      <td>53</td>\n",
       "      <td>среднее</td>\n",
       "      <td>1</td>\n",
       "      <td>гражданский брак</td>\n",
       "      <td>1</td>\n",
       "      <td>F</td>\n",
       "      <td>пенсионер</td>\n",
       "      <td>0</td>\n",
       "      <td>158616</td>\n",
       "      <td>сыграть свадьбу</td>\n",
       "      <td>C</td>\n",
       "      <td>Свадьба</td>\n",
       "    </tr>\n",
       "  </tbody>\n",
       "</table>\n",
       "</div>"
      ],
      "text/plain": [
       "   children  days_employed  dob_years education  education_id  \\\n",
       "0         1    8437.673028         42    высшее             0   \n",
       "1         1    4024.803754         36   среднее             1   \n",
       "2         0    5623.422610         33   среднее             1   \n",
       "3         3    4124.747207         32   среднее             1   \n",
       "4         0  340266.072047         53   среднее             1   \n",
       "\n",
       "      family_status  family_status_id gender income_type  debt  total_income  \\\n",
       "0   женат / замужем                 0      F   сотрудник     0        253875   \n",
       "1   женат / замужем                 0      F   сотрудник     0        112080   \n",
       "2   женат / замужем                 0      M   сотрудник     0        145885   \n",
       "3   женат / замужем                 0      M   сотрудник     0        267628   \n",
       "4  гражданский брак                 1      F   пенсионер     0        158616   \n",
       "\n",
       "                      purpose total_income_category purpose_category  \n",
       "0               покупка жилья                     B     Недвижимость  \n",
       "1     приобретение автомобиля                     C       Автомобиль  \n",
       "2               покупка жилья                     C     Недвижимость  \n",
       "3  дополнительное образование                     B      Образование  \n",
       "4             сыграть свадьбу                     C          Свадьба  "
      ]
     },
     "execution_count": 49,
     "metadata": {},
     "output_type": "execute_result"
    }
   ],
   "source": [
    "data.head()"
   ]
  },
  {
   "cell_type": "code",
   "execution_count": 50,
   "id": "4e6a5761-a25c-48f4-b593-ebc79010867e",
   "metadata": {},
   "outputs": [
    {
     "data": {
      "text/plain": [
       "purpose_category\n",
       "Автомобиль      9.347978\n",
       "Недвижимость    7.255139\n",
       "Образование     9.252758\n",
       "Свадьба         7.911803\n",
       "Name: debt, dtype: float64"
      ]
     },
     "metadata": {},
     "output_type": "display_data"
    }
   ],
   "source": [
    "purpose_category = data.groupby('purpose_category')['debt'].sum()  / \\\n",
    "    data.groupby('purpose_category')['debt'].count() * 100\n",
    "display(purpose_category)"
   ]
  },
  {
   "cell_type": "code",
   "execution_count": 51,
   "id": "9398e524-2b84-4fa3-92cd-d77f607d7728",
   "metadata": {},
   "outputs": [
    {
     "data": {
      "text/plain": [
       "purpose_category\n",
       "Недвижимость    7.255139\n",
       "Свадьба         7.911803\n",
       "Образование     9.252758\n",
       "Автомобиль      9.347978\n",
       "Name: debt, dtype: float64"
      ]
     },
     "execution_count": 51,
     "metadata": {},
     "output_type": "execute_result"
    }
   ],
   "source": [
    "purpose_category.sort_values()"
   ]
  },
  {
   "cell_type": "code",
   "execution_count": 52,
   "id": "6f999317-a7cd-4ea3-a6ca-465e2db6b373",
   "metadata": {},
   "outputs": [
    {
     "data": {
      "text/plain": [
       "<AxesSubplot:ylabel='purpose_category'>"
      ]
     },
     "execution_count": 52,
     "metadata": {},
     "output_type": "execute_result"
    },
    {
     "data": {
      "image/png": "[encoded data removed]",
      "text/plain": [
       "<Figure size 432x288 with 1 Axes>"
      ]
     },
     "metadata": {
      "needs_background": "light"
     },
     "output_type": "display_data"
    }
   ],
   "source": [
    "data.groupby('purpose_category')['debt'].mean().sort_values().plot.barh()\n"
   ]
  },
  {
   "cell_type": "markdown",
   "id": "ba1cf2ac",
   "metadata": {
    "deletable": false,
    "id": "b4bb2ce6"
   },
   "source": [
    "**Вывод:** \n",
    "результат анализа поделился на 2 части почти в равном соотношении\n",
    "со стороны банка безопаснее выдавать кредиты на свадьбу и недвижимость\n",
    "чуть тяжелее обстоит ситуация с возвратом кредита на образование и покупку автомобиля\n"
   ]
  },
  {
   "cell_type": "markdown",
   "id": "2ba5ebe3",
   "metadata": {
    "deletable": false,
    "editable": false,
    "id": "09c3ac4c"
   },
   "source": [
    "#### 3.5 Приведите возможные причины появления пропусков в исходных данных."
   ]
  },
  {
   "cell_type": "markdown",
   "id": "a3732464",
   "metadata": {
    "deletable": false,
    "id": "9da2ceda"
   },
   "source": [
    "*Ответ:* человеческий фактор,случайное отсутствие данных( такова может быть логика, например у врача давление могут мерить только пожилым людяи),отсутствует не случайно (пример заполнения анкеты с вопросом о курении, наркотиках и т.п.) и как раз эти пропуски могут повлять на корректность проведенного анализа в целом"
   ]
  },
  {
   "cell_type": "markdown",
   "id": "a68b9c2c",
   "metadata": {
    "deletable": false,
    "editable": false,
    "id": "7b0487d6"
   },
   "source": [
    "#### 3.6 Объясните, почему заполнить пропуски медианным значением — лучшее решение для количественных переменных."
   ]
  },
  {
   "cell_type": "markdown",
   "id": "0ad34c4c",
   "metadata": {
    "deletable": false,
    "id": "7ecf2b8e"
   },
   "source": [
    "*Ответ:* \n",
    "ну тут можно привести пример заполнения пропусков mean, median\n",
    "при рбнаружении пропусков необходимо принятьрешение, чем их заполнять\n",
    "если мы это сделаем средним, то получим неправдивую картину, т.к.  часть значений будет слишком мальнькая, а часть значений слишком большая. Об этом нам рассказывали и в теории текущего курса на примере зарплаты\n",
    "именно поэтому необходимо использовать median"
   ]
  },
  {
   "cell_type": "markdown",
   "id": "65aa4ac5",
   "metadata": {},
   "source": [
    "Среднее арифметическое набора данных - суммированием всех чисел в выборке и деление полученной суммы на количество чисел.\n",
    "Медиана — это число, которое окажется строго по центру списка чисел в упорядоченном наборе данных"
   ]
  },
  {
   "cell_type": "markdown",
   "id": "5ff7de20",
   "metadata": {
    "deletable": false,
    "editable": false,
    "id": "6db5255a"
   },
   "source": [
    "### Шаг 4: общий вывод."
   ]
  },
  {
   "cell_type": "markdown",
   "id": "bc9cec50",
   "metadata": {
    "deletable": false,
    "id": "bad65432"
   },
   "source": [
    "Напишите ваш общий вывод."
   ]
  },
  {
   "cell_type": "markdown",
   "id": "00ed1b33-ffb7-4760-b232-d30c0dda5c16",
   "metadata": {},
   "source": [
    "Согласно поставленной задачи о необходимости проведения исследования влияния семейного положения и количества детей клиента на факт погашения кредита в срок мы выдвинули несколько предположений\n",
    "\n",
    "*Есть ли зависимость между семейным положением и возвратом кредита в срок?*\n",
    "*Есть ли зависимость между количеством детей и возвратом кредита в срок?*\n",
    "*Есть ли зависимость между уровнем дохода и возвратом кредита в срок?*\n",
    "*Как разные цели кредита влияют на его возврат в срок?*\n",
    " \n",
    " 1. Бездетные берут кредитов больше и возвращают их лучше. Также выялено, что чем больше детей в семье, тем кол-во взятых кредитов снижается, но и просрочка по возврату не более 10% \n",
    " 2. пары в статусе гражданский брак,в разводе,вдовец / вдова можно отнести к категории **'хотя бы раз женаты/замужем',** в свою очередь они показывают **лучшую динамику по соблюдению сроков выплат кредита, чем у не женатых/не замужних**\n",
    " 3. Люди со **средним достатком** совершают **меньше просрочек** чем с низким и высоким достатком. Что,Возможно, может указывать на правильное распределение бюджета.\n",
    " 4. результат анализа поделился на 2 части почти в равном соотношении.\n",
    "Заемщики денежных средств на свадьбу и недвижимость выплачивают кредиты в срок с долей просрочки **Недвижимость    7.255139%, Свадьба         7.911803 %**\n",
    "чуть тяжелее обстоит ситуация с возвратом кредита на образование и покупку автомобиля\n",
    "**Образование     9.252758 %, Автомобиль      9.347978 %**"
   ]
  },
  {
   "cell_type": "code",
   "execution_count": null,
   "id": "0307a737",
   "metadata": {},
   "outputs": [],
   "source": []
  }
 ],
 "metadata": {
  "ExecuteTimeLog": [
   {
    "duration": 50,
    "start_time": "2023-02-24T08:18:09.571Z"
   },
   {
    "duration": 753,
    "start_time": "2023-02-24T08:18:25.563Z"
   },
   {
    "duration": 38,
    "start_time": "2023-02-24T08:18:26.319Z"
   },
   {
    "duration": 24,
    "start_time": "2023-02-24T08:18:26.556Z"
   },
   {
    "duration": 12,
    "start_time": "2023-02-24T08:18:27.266Z"
   },
   {
    "duration": 47,
    "start_time": "2023-02-24T08:18:27.766Z"
   },
   {
    "duration": 5,
    "start_time": "2023-02-24T08:18:28.300Z"
   },
   {
    "duration": 10,
    "start_time": "2023-02-24T08:18:28.665Z"
   },
   {
    "duration": 5,
    "start_time": "2023-02-24T08:18:29.156Z"
   },
   {
    "duration": 8,
    "start_time": "2023-02-24T08:18:29.506Z"
   },
   {
    "duration": 7,
    "start_time": "2023-02-24T08:18:29.850Z"
   },
   {
    "duration": 41,
    "start_time": "2023-02-24T08:18:30.399Z"
   },
   {
    "duration": 12,
    "start_time": "2023-02-24T08:18:30.906Z"
   },
   {
    "duration": 6,
    "start_time": "2023-02-24T08:18:32.097Z"
   },
   {
    "duration": 12,
    "start_time": "2023-02-24T08:18:32.682Z"
   },
   {
    "duration": 22,
    "start_time": "2023-02-24T08:18:33.232Z"
   },
   {
    "duration": 28,
    "start_time": "2023-02-24T08:18:33.390Z"
   },
   {
    "duration": 4,
    "start_time": "2023-02-24T08:18:37.449Z"
   },
   {
    "duration": 10,
    "start_time": "2023-02-24T08:18:38.785Z"
   },
   {
    "duration": 6,
    "start_time": "2023-02-24T08:18:40.332Z"
   },
   {
    "duration": 6,
    "start_time": "2023-02-24T08:18:41.664Z"
   },
   {
    "duration": 9,
    "start_time": "2023-02-24T08:18:42.566Z"
   },
   {
    "duration": 31,
    "start_time": "2023-02-24T08:18:44.434Z"
   },
   {
    "duration": 42,
    "start_time": "2023-02-24T08:44:16.861Z"
   },
   {
    "duration": 23,
    "start_time": "2023-02-24T08:44:30.290Z"
   },
   {
    "duration": 5,
    "start_time": "2023-02-24T08:52:29.892Z"
   },
   {
    "duration": 5,
    "start_time": "2023-02-24T08:56:20.123Z"
   },
   {
    "duration": 6,
    "start_time": "2023-02-24T08:56:36.940Z"
   },
   {
    "duration": 6,
    "start_time": "2023-02-24T08:59:09.431Z"
   },
   {
    "duration": 25,
    "start_time": "2023-02-24T09:32:42.289Z"
   },
   {
    "duration": 6,
    "start_time": "2023-02-24T09:33:09.555Z"
   },
   {
    "duration": 27,
    "start_time": "2023-02-24T09:33:28.205Z"
   },
   {
    "duration": 18,
    "start_time": "2023-02-24T09:34:22.000Z"
   },
   {
    "duration": 19,
    "start_time": "2023-02-24T09:34:31.515Z"
   },
   {
    "duration": 4,
    "start_time": "2023-02-24T09:50:51.715Z"
   },
   {
    "duration": 9,
    "start_time": "2023-02-24T09:51:07.515Z"
   },
   {
    "duration": 11,
    "start_time": "2023-02-24T09:52:13.933Z"
   },
   {
    "duration": 11,
    "start_time": "2023-02-24T09:52:20.699Z"
   },
   {
    "duration": 11,
    "start_time": "2023-02-24T09:52:40.558Z"
   },
   {
    "duration": 10,
    "start_time": "2023-02-24T09:53:12.398Z"
   },
   {
    "duration": 62,
    "start_time": "2023-02-24T09:53:31.079Z"
   },
   {
    "duration": 12,
    "start_time": "2023-02-24T09:53:45.883Z"
   },
   {
    "duration": 13,
    "start_time": "2023-02-24T10:04:00.296Z"
   },
   {
    "duration": 3,
    "start_time": "2023-02-24T10:04:08.005Z"
   },
   {
    "duration": 2,
    "start_time": "2023-02-24T10:04:08.666Z"
   },
   {
    "duration": 2,
    "start_time": "2023-02-24T10:04:09.389Z"
   },
   {
    "duration": 95,
    "start_time": "2023-02-24T10:04:18.772Z"
   },
   {
    "duration": 17,
    "start_time": "2023-02-24T10:04:19.395Z"
   },
   {
    "duration": 20,
    "start_time": "2023-02-24T10:04:19.787Z"
   },
   {
    "duration": 11,
    "start_time": "2023-02-24T10:04:20.654Z"
   },
   {
    "duration": 53,
    "start_time": "2023-02-24T10:04:21.023Z"
   },
   {
    "duration": 5,
    "start_time": "2023-02-24T10:04:21.776Z"
   },
   {
    "duration": 11,
    "start_time": "2023-02-24T10:04:22.122Z"
   },
   {
    "duration": 6,
    "start_time": "2023-02-24T10:04:22.907Z"
   },
   {
    "duration": 9,
    "start_time": "2023-02-24T10:04:23.306Z"
   },
   {
    "duration": 6,
    "start_time": "2023-02-24T10:04:23.707Z"
   },
   {
    "duration": 34,
    "start_time": "2023-02-24T10:04:24.664Z"
   },
   {
    "duration": 16,
    "start_time": "2023-02-24T10:04:25.038Z"
   },
   {
    "duration": 5,
    "start_time": "2023-02-24T10:04:26.191Z"
   },
   {
    "duration": 17,
    "start_time": "2023-02-24T10:04:26.972Z"
   },
   {
    "duration": 29,
    "start_time": "2023-02-24T10:04:27.375Z"
   },
   {
    "duration": 24,
    "start_time": "2023-02-24T10:04:27.567Z"
   },
   {
    "duration": 6,
    "start_time": "2023-02-24T10:04:28.304Z"
   },
   {
    "duration": 12,
    "start_time": "2023-02-24T10:04:28.534Z"
   },
   {
    "duration": 7,
    "start_time": "2023-02-24T10:04:29.008Z"
   },
   {
    "duration": 4,
    "start_time": "2023-02-24T10:04:29.508Z"
   },
   {
    "duration": 11,
    "start_time": "2023-02-24T10:04:29.809Z"
   },
   {
    "duration": 7,
    "start_time": "2023-02-24T10:04:30.439Z"
   },
   {
    "duration": 3,
    "start_time": "2023-02-24T10:04:31.340Z"
   },
   {
    "duration": 3,
    "start_time": "2023-02-24T10:04:31.923Z"
   },
   {
    "duration": 8,
    "start_time": "2023-02-24T10:05:04.843Z"
   },
   {
    "duration": 7,
    "start_time": "2023-02-24T10:05:33.470Z"
   },
   {
    "duration": 7,
    "start_time": "2023-02-24T10:20:59.640Z"
   },
   {
    "duration": 26,
    "start_time": "2023-02-24T10:21:04.743Z"
   },
   {
    "duration": 8,
    "start_time": "2023-02-24T10:35:33.772Z"
   },
   {
    "duration": 834,
    "start_time": "2023-02-24T10:37:04.818Z"
   },
   {
    "duration": 14,
    "start_time": "2023-02-24T10:38:32.987Z"
   },
   {
    "duration": 8,
    "start_time": "2023-02-24T10:41:06.664Z"
   },
   {
    "duration": 8,
    "start_time": "2023-02-24T10:41:16.575Z"
   },
   {
    "duration": 8,
    "start_time": "2023-02-24T10:41:22.234Z"
   },
   {
    "duration": 12,
    "start_time": "2023-02-24T10:44:23.175Z"
   },
   {
    "duration": 13,
    "start_time": "2023-02-24T10:44:30.968Z"
   },
   {
    "duration": 9,
    "start_time": "2023-02-24T10:44:36.406Z"
   },
   {
    "duration": 9,
    "start_time": "2023-02-24T10:44:49.187Z"
   },
   {
    "duration": 41,
    "start_time": "2023-02-24T10:46:07.756Z"
   },
   {
    "duration": 9,
    "start_time": "2023-02-24T10:46:23.000Z"
   },
   {
    "duration": 16,
    "start_time": "2023-02-24T10:46:30.159Z"
   },
   {
    "duration": 10,
    "start_time": "2023-02-24T10:46:34.259Z"
   },
   {
    "duration": 12,
    "start_time": "2023-02-24T10:46:43.574Z"
   },
   {
    "duration": 10,
    "start_time": "2023-02-24T10:46:49.086Z"
   },
   {
    "duration": 15,
    "start_time": "2023-02-24T10:48:02.377Z"
   },
   {
    "duration": 12,
    "start_time": "2023-02-24T10:48:06.721Z"
   },
   {
    "duration": 12,
    "start_time": "2023-02-24T10:48:14.976Z"
   },
   {
    "duration": 13,
    "start_time": "2023-02-24T10:48:20.622Z"
   },
   {
    "duration": 11,
    "start_time": "2023-02-24T10:48:25.781Z"
   },
   {
    "duration": 22,
    "start_time": "2023-02-24T10:49:12.572Z"
   },
   {
    "duration": 17,
    "start_time": "2023-02-24T10:49:24.362Z"
   },
   {
    "duration": 12,
    "start_time": "2023-02-24T10:49:38.796Z"
   },
   {
    "duration": 11,
    "start_time": "2023-02-24T10:49:55.227Z"
   },
   {
    "duration": 14,
    "start_time": "2023-02-24T10:50:11.492Z"
   },
   {
    "duration": 13,
    "start_time": "2023-02-24T10:50:16.493Z"
   },
   {
    "duration": 81,
    "start_time": "2023-02-24T10:52:39.896Z"
   },
   {
    "duration": 25,
    "start_time": "2023-02-24T10:52:48.033Z"
   },
   {
    "duration": 564,
    "start_time": "2023-02-28T07:36:27.935Z"
   },
   {
    "duration": 26,
    "start_time": "2023-02-28T07:36:28.501Z"
   },
   {
    "duration": 25,
    "start_time": "2023-02-28T07:36:28.529Z"
   },
   {
    "duration": 14,
    "start_time": "2023-02-28T07:36:28.557Z"
   },
   {
    "duration": 40,
    "start_time": "2023-02-28T07:36:28.573Z"
   },
   {
    "duration": 14,
    "start_time": "2023-02-28T07:36:28.615Z"
   },
   {
    "duration": 35,
    "start_time": "2023-02-28T07:36:28.630Z"
   },
   {
    "duration": 17,
    "start_time": "2023-02-28T07:36:28.667Z"
   },
   {
    "duration": 45,
    "start_time": "2023-02-28T07:36:28.686Z"
   },
   {
    "duration": 24,
    "start_time": "2023-02-28T07:36:28.734Z"
   },
   {
    "duration": 37,
    "start_time": "2023-02-28T07:36:28.760Z"
   },
   {
    "duration": 11,
    "start_time": "2023-02-28T07:36:28.799Z"
   },
   {
    "duration": 28,
    "start_time": "2023-02-28T07:36:28.812Z"
   },
   {
    "duration": 14,
    "start_time": "2023-02-28T07:36:28.842Z"
   },
   {
    "duration": 23,
    "start_time": "2023-02-28T07:36:28.858Z"
   },
   {
    "duration": 17,
    "start_time": "2023-02-28T07:36:28.882Z"
   },
   {
    "duration": 4,
    "start_time": "2023-02-28T07:36:28.900Z"
   },
   {
    "duration": 29,
    "start_time": "2023-02-28T07:36:28.906Z"
   },
   {
    "duration": 11,
    "start_time": "2023-02-28T07:36:28.937Z"
   },
   {
    "duration": 4,
    "start_time": "2023-02-28T07:36:28.950Z"
   },
   {
    "duration": 12,
    "start_time": "2023-02-28T07:36:28.956Z"
   },
   {
    "duration": 22,
    "start_time": "2023-02-28T07:36:28.970Z"
   },
   {
    "duration": 33,
    "start_time": "2023-02-28T07:36:28.995Z"
   },
   {
    "duration": 5,
    "start_time": "2023-02-28T07:36:29.030Z"
   },
   {
    "duration": 6,
    "start_time": "2023-02-28T07:36:29.037Z"
   },
   {
    "duration": 13,
    "start_time": "2023-02-28T07:36:29.045Z"
   },
   {
    "duration": 11,
    "start_time": "2023-02-28T07:36:29.060Z"
   },
   {
    "duration": 7,
    "start_time": "2023-02-28T07:36:29.075Z"
   },
   {
    "duration": 51,
    "start_time": "2023-02-28T07:36:29.084Z"
   },
   {
    "duration": 700,
    "start_time": "2023-02-28T07:36:29.137Z"
   },
   {
    "duration": 18,
    "start_time": "2023-02-28T07:36:29.839Z"
   },
   {
    "duration": 19,
    "start_time": "2023-02-28T07:36:29.858Z"
   },
   {
    "duration": 26,
    "start_time": "2023-02-28T07:36:29.879Z"
   },
   {
    "duration": 9,
    "start_time": "2023-02-28T07:36:29.906Z"
   },
   {
    "duration": 465,
    "start_time": "2023-02-28T07:36:29.917Z"
   },
   {
    "duration": 17,
    "start_time": "2023-02-28T07:36:30.385Z"
   },
   {
    "duration": 82,
    "start_time": "2023-02-28T07:36:30.404Z"
   },
   {
    "duration": 71,
    "start_time": "2023-02-28T07:36:30.488Z"
   },
   {
    "duration": 64,
    "start_time": "2023-02-28T07:36:30.562Z"
   },
   {
    "duration": 133,
    "start_time": "2023-02-28T07:36:30.628Z"
   },
   {
    "duration": 145,
    "start_time": "2023-02-28T07:36:30.763Z"
   },
   {
    "duration": 388,
    "start_time": "2023-02-28T07:36:30.910Z"
   },
   {
    "duration": 7,
    "start_time": "2023-02-28T07:36:31.300Z"
   },
   {
    "duration": 72,
    "start_time": "2023-02-28T07:36:31.308Z"
   },
   {
    "duration": 52,
    "start_time": "2023-02-28T07:36:31.381Z"
   },
   {
    "duration": 38,
    "start_time": "2023-02-28T07:36:31.435Z"
   },
   {
    "duration": 569,
    "start_time": "2023-02-28T07:36:31.474Z"
   },
   {
    "duration": 83,
    "start_time": "2023-02-28T07:36:32.045Z"
   },
   {
    "duration": 505,
    "start_time": "2023-02-28T08:34:56.623Z"
   },
   {
    "duration": 22,
    "start_time": "2023-02-28T08:34:57.130Z"
   },
   {
    "duration": 14,
    "start_time": "2023-02-28T08:34:57.153Z"
   },
   {
    "duration": 9,
    "start_time": "2023-02-28T08:34:57.170Z"
   },
   {
    "duration": 61,
    "start_time": "2023-02-28T08:34:57.180Z"
   },
   {
    "duration": 4,
    "start_time": "2023-02-28T08:34:57.243Z"
   },
   {
    "duration": 9,
    "start_time": "2023-02-28T08:34:57.249Z"
   },
   {
    "duration": 5,
    "start_time": "2023-02-28T08:34:57.260Z"
   },
   {
    "duration": 8,
    "start_time": "2023-02-28T08:34:57.267Z"
   },
   {
    "duration": 5,
    "start_time": "2023-02-28T08:34:57.278Z"
   },
   {
    "duration": 74,
    "start_time": "2023-02-28T08:34:57.284Z"
   },
   {
    "duration": 9,
    "start_time": "2023-02-28T08:34:57.360Z"
   },
   {
    "duration": 5,
    "start_time": "2023-02-28T08:34:57.371Z"
   },
   {
    "duration": 27,
    "start_time": "2023-02-28T08:34:57.378Z"
   },
   {
    "duration": 44,
    "start_time": "2023-02-28T08:34:57.407Z"
   },
   {
    "duration": 25,
    "start_time": "2023-02-28T08:34:57.453Z"
   },
   {
    "duration": 5,
    "start_time": "2023-02-28T08:34:57.480Z"
   },
   {
    "duration": 22,
    "start_time": "2023-02-28T08:34:57.487Z"
   },
   {
    "duration": 26,
    "start_time": "2023-02-28T08:34:57.511Z"
   },
   {
    "duration": 5,
    "start_time": "2023-02-28T08:34:57.539Z"
   },
   {
    "duration": 13,
    "start_time": "2023-02-28T08:34:57.546Z"
   },
   {
    "duration": 17,
    "start_time": "2023-02-28T08:34:57.560Z"
   },
   {
    "duration": 18,
    "start_time": "2023-02-28T08:34:57.578Z"
   },
   {
    "duration": 6,
    "start_time": "2023-02-28T08:34:57.627Z"
   },
   {
    "duration": 8,
    "start_time": "2023-02-28T08:34:57.635Z"
   },
   {
    "duration": 16,
    "start_time": "2023-02-28T08:34:57.645Z"
   },
   {
    "duration": 11,
    "start_time": "2023-02-28T08:34:57.664Z"
   },
   {
    "duration": 14,
    "start_time": "2023-02-28T08:34:57.680Z"
   },
   {
    "duration": 42,
    "start_time": "2023-02-28T08:34:57.696Z"
   },
   {
    "duration": 565,
    "start_time": "2023-02-28T08:34:57.740Z"
   },
   {
    "duration": 22,
    "start_time": "2023-02-28T08:34:58.307Z"
   },
   {
    "duration": 14,
    "start_time": "2023-02-28T08:34:58.330Z"
   },
   {
    "duration": 35,
    "start_time": "2023-02-28T08:34:58.345Z"
   },
   {
    "duration": 9,
    "start_time": "2023-02-28T08:34:58.381Z"
   },
   {
    "duration": 375,
    "start_time": "2023-02-28T08:34:58.391Z"
   },
   {
    "duration": 13,
    "start_time": "2023-02-28T08:34:58.767Z"
   },
   {
    "duration": 6,
    "start_time": "2023-02-28T08:34:58.782Z"
   },
   {
    "duration": 10,
    "start_time": "2023-02-28T08:34:58.790Z"
   },
   {
    "duration": 25,
    "start_time": "2023-02-28T08:34:58.802Z"
   },
   {
    "duration": 20,
    "start_time": "2023-02-28T08:34:58.829Z"
   },
   {
    "duration": 11,
    "start_time": "2023-02-28T08:34:58.852Z"
   },
   {
    "duration": 385,
    "start_time": "2023-02-28T08:34:58.864Z"
   },
   {
    "duration": 5,
    "start_time": "2023-02-28T08:34:59.251Z"
   },
   {
    "duration": 9,
    "start_time": "2023-02-28T08:34:59.258Z"
   },
   {
    "duration": 21,
    "start_time": "2023-02-28T08:34:59.268Z"
   },
   {
    "duration": 38,
    "start_time": "2023-02-28T08:34:59.290Z"
   },
   {
    "duration": 599,
    "start_time": "2023-02-28T08:34:59.330Z"
   },
   {
    "duration": 131,
    "start_time": "2023-02-28T08:34:59.931Z"
   },
   {
    "duration": 9,
    "start_time": "2023-02-28T08:35:02.925Z"
   },
   {
    "duration": 11,
    "start_time": "2023-02-28T08:35:11.535Z"
   },
   {
    "duration": 7,
    "start_time": "2023-02-28T08:35:16.531Z"
   },
   {
    "duration": 519,
    "start_time": "2023-03-01T18:44:59.797Z"
   },
   {
    "duration": 23,
    "start_time": "2023-03-01T18:45:00.318Z"
   },
   {
    "duration": 37,
    "start_time": "2023-03-01T18:45:00.342Z"
   },
   {
    "duration": 16,
    "start_time": "2023-03-01T18:45:00.382Z"
   },
   {
    "duration": 48,
    "start_time": "2023-03-01T18:45:00.400Z"
   },
   {
    "duration": 4,
    "start_time": "2023-03-01T18:45:00.450Z"
   },
   {
    "duration": 23,
    "start_time": "2023-03-01T18:45:00.455Z"
   },
   {
    "duration": 11,
    "start_time": "2023-03-01T18:45:00.479Z"
   },
   {
    "duration": 24,
    "start_time": "2023-03-01T18:45:00.492Z"
   },
   {
    "duration": 28,
    "start_time": "2023-03-01T18:45:00.520Z"
   },
   {
    "duration": 42,
    "start_time": "2023-03-01T18:45:00.550Z"
   },
   {
    "duration": 12,
    "start_time": "2023-03-01T18:45:00.594Z"
   },
   {
    "duration": 19,
    "start_time": "2023-03-01T18:45:00.607Z"
   },
   {
    "duration": 28,
    "start_time": "2023-03-01T18:45:00.628Z"
   },
   {
    "duration": 61,
    "start_time": "2023-03-01T18:45:00.658Z"
   },
   {
    "duration": 18,
    "start_time": "2023-03-01T18:45:00.720Z"
   },
   {
    "duration": 15,
    "start_time": "2023-03-01T18:45:00.739Z"
   },
   {
    "duration": 34,
    "start_time": "2023-03-01T18:45:00.755Z"
   },
   {
    "duration": 89,
    "start_time": "2023-03-01T18:45:00.791Z"
   },
   {
    "duration": 53,
    "start_time": "2023-03-01T18:45:00.882Z"
   },
   {
    "duration": 88,
    "start_time": "2023-03-01T18:45:00.937Z"
   },
   {
    "duration": 74,
    "start_time": "2023-03-01T18:45:01.026Z"
   },
   {
    "duration": 154,
    "start_time": "2023-03-01T18:45:01.101Z"
   },
   {
    "duration": 93,
    "start_time": "2023-03-01T18:45:01.257Z"
   },
   {
    "duration": 172,
    "start_time": "2023-03-01T18:45:01.353Z"
   },
   {
    "duration": 76,
    "start_time": "2023-03-01T18:45:01.527Z"
   },
   {
    "duration": 73,
    "start_time": "2023-03-01T18:45:01.605Z"
   },
   {
    "duration": 54,
    "start_time": "2023-03-01T18:45:01.681Z"
   },
   {
    "duration": 74,
    "start_time": "2023-03-01T18:45:01.736Z"
   },
   {
    "duration": 481,
    "start_time": "2023-03-01T18:45:01.811Z"
   },
   {
    "duration": 20,
    "start_time": "2023-03-01T18:45:02.294Z"
   },
   {
    "duration": 24,
    "start_time": "2023-03-01T18:45:02.315Z"
   },
   {
    "duration": 21,
    "start_time": "2023-03-01T18:45:02.341Z"
   },
   {
    "duration": 10,
    "start_time": "2023-03-01T18:45:02.364Z"
   },
   {
    "duration": 136,
    "start_time": "2023-03-01T18:45:02.376Z"
   },
   {
    "duration": 16,
    "start_time": "2023-03-01T18:45:02.514Z"
   },
   {
    "duration": 9,
    "start_time": "2023-03-01T18:45:02.531Z"
   },
   {
    "duration": 8,
    "start_time": "2023-03-01T18:45:02.542Z"
   },
   {
    "duration": 12,
    "start_time": "2023-03-01T18:45:02.551Z"
   },
   {
    "duration": 16,
    "start_time": "2023-03-01T18:45:02.564Z"
   },
   {
    "duration": 9,
    "start_time": "2023-03-01T18:45:02.606Z"
   },
   {
    "duration": 127,
    "start_time": "2023-03-01T18:45:02.617Z"
   },
   {
    "duration": 6,
    "start_time": "2023-03-01T18:45:02.746Z"
   },
   {
    "duration": 11,
    "start_time": "2023-03-01T18:45:02.753Z"
   },
   {
    "duration": 20,
    "start_time": "2023-03-01T18:45:02.766Z"
   },
   {
    "duration": 29,
    "start_time": "2023-03-01T18:45:02.788Z"
   },
   {
    "duration": 19,
    "start_time": "2023-03-01T18:45:02.819Z"
   },
   {
    "duration": 23,
    "start_time": "2023-03-01T18:45:02.840Z"
   },
   {
    "duration": 18,
    "start_time": "2023-03-01T18:45:02.865Z"
   },
   {
    "duration": 26,
    "start_time": "2023-03-01T18:45:02.885Z"
   },
   {
    "duration": 163,
    "start_time": "2023-03-01T18:45:02.913Z"
   },
   {
    "duration": 4,
    "start_time": "2023-03-01T18:52:14.714Z"
   },
   {
    "duration": 4,
    "start_time": "2023-03-01T18:52:54.249Z"
   },
   {
    "duration": 140,
    "start_time": "2023-03-01T18:54:35.129Z"
   },
   {
    "duration": 54,
    "start_time": "2023-03-01T19:46:51.943Z"
   },
   {
    "duration": 587,
    "start_time": "2023-03-01T19:47:07.877Z"
   },
   {
    "duration": 25,
    "start_time": "2023-03-01T19:47:08.678Z"
   },
   {
    "duration": 17,
    "start_time": "2023-03-01T19:47:09.087Z"
   },
   {
    "duration": 11,
    "start_time": "2023-03-01T19:47:09.837Z"
   },
   {
    "duration": 34,
    "start_time": "2023-03-01T19:47:10.375Z"
   },
   {
    "duration": 4,
    "start_time": "2023-03-01T19:47:10.938Z"
   },
   {
    "duration": 9,
    "start_time": "2023-03-01T19:47:11.491Z"
   },
   {
    "duration": 6,
    "start_time": "2023-03-01T19:47:12.212Z"
   },
   {
    "duration": 8,
    "start_time": "2023-03-01T19:47:12.606Z"
   },
   {
    "duration": 5,
    "start_time": "2023-03-01T19:47:12.996Z"
   },
   {
    "duration": 68,
    "start_time": "2023-03-01T19:47:13.554Z"
   },
   {
    "duration": 15,
    "start_time": "2023-03-01T19:47:13.959Z"
   },
   {
    "duration": 7,
    "start_time": "2023-03-01T19:47:14.503Z"
   },
   {
    "duration": 19,
    "start_time": "2023-03-01T19:47:15.088Z"
   },
   {
    "duration": 32,
    "start_time": "2023-03-01T19:47:15.455Z"
   },
   {
    "duration": 28,
    "start_time": "2023-03-01T19:47:15.655Z"
   },
   {
    "duration": 5,
    "start_time": "2023-03-01T19:47:16.277Z"
   },
   {
    "duration": 16,
    "start_time": "2023-03-01T19:47:16.475Z"
   },
   {
    "duration": 7,
    "start_time": "2023-03-01T19:47:17.033Z"
   },
   {
    "duration": 5,
    "start_time": "2023-03-01T19:47:17.488Z"
   },
   {
    "duration": 14,
    "start_time": "2023-03-01T19:47:17.674Z"
   },
   {
    "duration": 15,
    "start_time": "2023-03-01T19:47:20.693Z"
   },
   {
    "duration": 23,
    "start_time": "2023-03-01T19:47:56.309Z"
   },
   {
    "duration": 41,
    "start_time": "2023-03-01T19:50:55.747Z"
   },
   {
    "duration": 25,
    "start_time": "2023-03-01T19:51:09.120Z"
   },
   {
    "duration": 630,
    "start_time": "2023-03-01T19:51:09.688Z"
   },
   {
    "duration": 18,
    "start_time": "2023-03-01T19:51:12.107Z"
   },
   {
    "duration": 6,
    "start_time": "2023-03-01T19:51:12.524Z"
   },
   {
    "duration": 27,
    "start_time": "2023-03-01T19:51:12.754Z"
   },
   {
    "duration": 11,
    "start_time": "2023-03-01T19:51:13.174Z"
   },
   {
    "duration": 142,
    "start_time": "2023-03-01T19:51:13.754Z"
   },
   {
    "duration": 18,
    "start_time": "2023-03-01T19:51:14.975Z"
   },
   {
    "duration": 5,
    "start_time": "2023-03-01T19:51:15.536Z"
   },
   {
    "duration": 7,
    "start_time": "2023-03-01T19:51:15.721Z"
   },
   {
    "duration": 14,
    "start_time": "2023-03-01T19:51:16.071Z"
   },
   {
    "duration": 20,
    "start_time": "2023-03-01T19:51:16.287Z"
   },
   {
    "duration": 15,
    "start_time": "2023-03-01T19:51:16.521Z"
   },
   {
    "duration": 149,
    "start_time": "2023-03-01T19:51:16.737Z"
   },
   {
    "duration": 6,
    "start_time": "2023-03-01T19:51:18.303Z"
   },
   {
    "duration": 19,
    "start_time": "2023-03-01T19:51:18.554Z"
   },
   {
    "duration": 27,
    "start_time": "2023-03-01T19:51:19.992Z"
   },
   {
    "duration": 12,
    "start_time": "2023-03-01T19:51:20.427Z"
   },
   {
    "duration": 9,
    "start_time": "2023-03-01T19:51:22.943Z"
   },
   {
    "duration": 21,
    "start_time": "2023-03-01T19:51:23.843Z"
   },
   {
    "duration": 16,
    "start_time": "2023-03-01T19:51:24.792Z"
   },
   {
    "duration": 7,
    "start_time": "2023-03-01T19:51:25.423Z"
   },
   {
    "duration": 143,
    "start_time": "2023-03-01T19:51:26.126Z"
   },
   {
    "duration": 23,
    "start_time": "2023-03-01T19:52:52.278Z"
   },
   {
    "duration": 22,
    "start_time": "2023-03-01T19:53:03.996Z"
   },
   {
    "duration": 196,
    "start_time": "2023-03-01T19:53:40.890Z"
   },
   {
    "duration": 9,
    "start_time": "2023-03-01T19:58:44.489Z"
   },
   {
    "duration": 1057,
    "start_time": "2023-03-01T21:41:10.578Z"
   },
   {
    "duration": 28,
    "start_time": "2023-03-01T21:41:11.638Z"
   },
   {
    "duration": 17,
    "start_time": "2023-03-01T21:41:11.667Z"
   },
   {
    "duration": 9,
    "start_time": "2023-03-01T21:41:11.687Z"
   },
   {
    "duration": 75,
    "start_time": "2023-03-01T21:41:11.698Z"
   },
   {
    "duration": 4,
    "start_time": "2023-03-01T21:41:11.775Z"
   },
   {
    "duration": 15,
    "start_time": "2023-03-01T21:41:11.780Z"
   },
   {
    "duration": 5,
    "start_time": "2023-03-01T21:41:11.797Z"
   },
   {
    "duration": 8,
    "start_time": "2023-03-01T21:41:11.803Z"
   },
   {
    "duration": 13,
    "start_time": "2023-03-01T21:41:11.842Z"
   },
   {
    "duration": 44,
    "start_time": "2023-03-01T21:41:11.856Z"
   },
   {
    "duration": 10,
    "start_time": "2023-03-01T21:41:11.902Z"
   },
   {
    "duration": 14,
    "start_time": "2023-03-01T21:41:11.914Z"
   },
   {
    "duration": 42,
    "start_time": "2023-03-01T21:41:11.930Z"
   },
   {
    "duration": 23,
    "start_time": "2023-03-01T21:41:11.975Z"
   },
   {
    "duration": 20,
    "start_time": "2023-03-01T21:41:11.999Z"
   },
   {
    "duration": 7,
    "start_time": "2023-03-01T21:41:12.020Z"
   },
   {
    "duration": 30,
    "start_time": "2023-03-01T21:41:12.029Z"
   },
   {
    "duration": 15,
    "start_time": "2023-03-01T21:41:12.061Z"
   },
   {
    "duration": 4,
    "start_time": "2023-03-01T21:41:12.078Z"
   },
   {
    "duration": 14,
    "start_time": "2023-03-01T21:41:12.084Z"
   },
   {
    "duration": 13,
    "start_time": "2023-03-01T21:41:12.100Z"
   },
   {
    "duration": 29,
    "start_time": "2023-03-01T21:41:12.116Z"
   },
   {
    "duration": 7,
    "start_time": "2023-03-01T21:41:12.152Z"
   },
   {
    "duration": 6,
    "start_time": "2023-03-01T21:41:12.161Z"
   },
   {
    "duration": 20,
    "start_time": "2023-03-01T21:41:12.169Z"
   },
   {
    "duration": 9,
    "start_time": "2023-03-01T21:41:12.191Z"
   },
   {
    "duration": 46,
    "start_time": "2023-03-01T21:41:12.204Z"
   },
   {
    "duration": 22,
    "start_time": "2023-03-01T21:41:12.252Z"
   },
   {
    "duration": 444,
    "start_time": "2023-03-01T21:41:12.276Z"
   },
   {
    "duration": 33,
    "start_time": "2023-03-01T21:41:12.722Z"
   },
   {
    "duration": 12,
    "start_time": "2023-03-01T21:41:12.756Z"
   },
   {
    "duration": 31,
    "start_time": "2023-03-01T21:41:12.770Z"
   },
   {
    "duration": 11,
    "start_time": "2023-03-01T21:41:12.803Z"
   },
   {
    "duration": 174,
    "start_time": "2023-03-01T21:41:12.816Z"
   },
   {
    "duration": 14,
    "start_time": "2023-03-01T21:41:12.992Z"
   },
   {
    "duration": 8,
    "start_time": "2023-03-01T21:41:13.008Z"
   },
   {
    "duration": 32,
    "start_time": "2023-03-01T21:41:13.017Z"
   },
   {
    "duration": 18,
    "start_time": "2023-03-01T21:41:13.052Z"
   },
   {
    "duration": 20,
    "start_time": "2023-03-01T21:41:13.071Z"
   },
   {
    "duration": 10,
    "start_time": "2023-03-01T21:41:13.092Z"
   },
   {
    "duration": 123,
    "start_time": "2023-03-01T21:41:13.103Z"
   },
   {
    "duration": 15,
    "start_time": "2023-03-01T21:41:13.228Z"
   },
   {
    "duration": 14,
    "start_time": "2023-03-01T21:41:13.245Z"
   },
   {
    "duration": 23,
    "start_time": "2023-03-01T21:41:13.261Z"
   },
   {
    "duration": 13,
    "start_time": "2023-03-01T21:41:13.286Z"
   },
   {
    "duration": 36,
    "start_time": "2023-03-01T21:41:13.301Z"
   },
   {
    "duration": 31,
    "start_time": "2023-03-01T21:41:13.339Z"
   },
   {
    "duration": 16,
    "start_time": "2023-03-01T21:41:13.372Z"
   },
   {
    "duration": 7,
    "start_time": "2023-03-01T21:41:13.390Z"
   },
   {
    "duration": 147,
    "start_time": "2023-03-01T21:41:13.399Z"
   },
   {
    "duration": 132,
    "start_time": "2023-03-01T21:41:13.547Z"
   },
   {
    "duration": 621,
    "start_time": "2023-03-02T08:48:56.262Z"
   },
   {
    "duration": 27,
    "start_time": "2023-03-02T08:48:56.886Z"
   },
   {
    "duration": 19,
    "start_time": "2023-03-02T08:48:57.015Z"
   },
   {
    "duration": 10,
    "start_time": "2023-03-02T08:48:59.096Z"
   },
   {
    "duration": 55,
    "start_time": "2023-03-02T08:49:00.549Z"
   },
   {
    "duration": 7,
    "start_time": "2023-03-02T08:49:03.033Z"
   },
   {
    "duration": 8,
    "start_time": "2023-03-02T08:49:04.178Z"
   },
   {
    "duration": 7,
    "start_time": "2023-03-02T08:49:05.817Z"
   },
   {
    "duration": 21,
    "start_time": "2023-03-02T08:49:06.955Z"
   },
   {
    "duration": 6,
    "start_time": "2023-03-02T08:49:08.071Z"
   },
   {
    "duration": 46,
    "start_time": "2023-03-02T08:49:11.418Z"
   },
   {
    "duration": 16,
    "start_time": "2023-03-02T08:49:12.474Z"
   },
   {
    "duration": 4,
    "start_time": "2023-03-02T08:49:14.392Z"
   },
   {
    "duration": 11,
    "start_time": "2023-03-02T08:49:16.608Z"
   },
   {
    "duration": 23,
    "start_time": "2023-03-02T08:49:31.778Z"
   },
   {
    "duration": 32,
    "start_time": "2023-03-02T08:49:32.444Z"
   },
   {
    "duration": 27,
    "start_time": "2023-03-02T08:49:51.108Z"
   },
   {
    "duration": 5,
    "start_time": "2023-03-02T08:49:53.354Z"
   },
   {
    "duration": 18,
    "start_time": "2023-03-02T08:49:54.057Z"
   },
   {
    "duration": 6,
    "start_time": "2023-03-02T08:49:55.278Z"
   },
   {
    "duration": 11,
    "start_time": "2023-03-02T08:49:56.659Z"
   },
   {
    "duration": 23,
    "start_time": "2023-03-02T08:49:57.157Z"
   },
   {
    "duration": 25,
    "start_time": "2023-03-02T08:50:00.016Z"
   },
   {
    "duration": 22,
    "start_time": "2023-03-02T08:50:03.275Z"
   },
   {
    "duration": 9,
    "start_time": "2023-03-02T08:50:04.873Z"
   },
   {
    "duration": 14,
    "start_time": "2023-03-02T08:50:05.354Z"
   },
   {
    "duration": 13,
    "start_time": "2023-03-02T08:50:06.010Z"
   },
   {
    "duration": 10,
    "start_time": "2023-03-02T08:50:10.496Z"
   },
   {
    "duration": 6,
    "start_time": "2023-03-02T08:50:11.776Z"
   },
   {
    "duration": 32,
    "start_time": "2023-03-02T08:50:21.276Z"
   },
   {
    "duration": 692,
    "start_time": "2023-03-02T08:50:29.062Z"
   },
   {
    "duration": 24,
    "start_time": "2023-03-02T08:51:46.757Z"
   },
   {
    "duration": 6,
    "start_time": "2023-03-02T08:51:47.775Z"
   },
   {
    "duration": 20,
    "start_time": "2023-03-02T08:51:48.688Z"
   },
   {
    "duration": 13,
    "start_time": "2023-03-02T08:51:50.486Z"
   },
   {
    "duration": 161,
    "start_time": "2023-03-02T08:51:53.907Z"
   },
   {
    "duration": 20,
    "start_time": "2023-03-02T08:52:00.074Z"
   },
   {
    "duration": 10,
    "start_time": "2023-03-02T08:52:02.271Z"
   },
   {
    "duration": 17,
    "start_time": "2023-03-02T08:52:02.959Z"
   },
   {
    "duration": 10,
    "start_time": "2023-03-02T08:52:03.588Z"
   },
   {
    "duration": 33,
    "start_time": "2023-03-02T08:52:04.349Z"
   },
   {
    "duration": 12,
    "start_time": "2023-03-02T08:52:04.787Z"
   },
   {
    "duration": 131,
    "start_time": "2023-03-02T08:52:05.278Z"
   },
   {
    "duration": 5,
    "start_time": "2023-03-02T08:52:08.187Z"
   },
   {
    "duration": 15,
    "start_time": "2023-03-02T08:52:08.970Z"
   },
   {
    "duration": 27,
    "start_time": "2023-03-02T08:52:09.758Z"
   },
   {
    "duration": 16,
    "start_time": "2023-03-02T08:52:10.507Z"
   },
   {
    "duration": 13,
    "start_time": "2023-03-02T08:52:12.697Z"
   },
   {
    "duration": 14,
    "start_time": "2023-03-02T08:52:13.696Z"
   },
   {
    "duration": 26,
    "start_time": "2023-03-02T08:52:14.628Z"
   },
   {
    "duration": 6,
    "start_time": "2023-03-02T08:52:15.508Z"
   },
   {
    "duration": 141,
    "start_time": "2023-03-02T08:52:16.179Z"
   },
   {
    "duration": 793,
    "start_time": "2023-04-27T21:18:31.850Z"
   }
  ],
  "colab": {
   "name": "dpp_template_part2.ipynb",
   "provenance": []
  },
  "kernelspec": {
   "display_name": "Python 3 (ipykernel)",
   "language": "python",
   "name": "python3"
  },
  "language_info": {
   "codemirror_mode": {
    "name": "ipython",
    "version": 3
   },
   "file_extension": ".py",
   "mimetype": "text/x-python",
   "name": "python",
   "nbconvert_exporter": "python",
   "pygments_lexer": "ipython3",
   "version": "3.11.4"
  },
  "toc": {
   "base_numbering": 1,
   "nav_menu": {},
   "number_sections": true,
   "sideBar": true,
   "skip_h1_title": true,
   "title_cell": "Table of Contents",
   "title_sidebar": "Contents",
   "toc_cell": false,
   "toc_position": {},
   "toc_section_display": true,
   "toc_window_display": true
  }
 },
 "nbformat": 4,
 "nbformat_minor": 5
}
