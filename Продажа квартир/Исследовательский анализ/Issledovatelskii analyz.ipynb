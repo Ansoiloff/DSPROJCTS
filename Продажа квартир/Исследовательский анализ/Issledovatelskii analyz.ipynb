{
 "cells": [
  {
   "cell_type": "markdown",
   "metadata": {},
   "source": [
    "# Исследование объявлений о продаже квартир\n",
    "\n",
    "В вашем распоряжении данные сервиса Яндекс.Недвижимость — архив объявлений о продаже квартир в Санкт-Петербурге и соседних населённых пунктов за несколько лет. Нужно научиться определять рыночную стоимость объектов недвижимости. Ваша задача — установить параметры. Это позволит построить автоматизированную систему: она отследит аномалии и мошенническую деятельность. \n",
    "\n",
    "По каждой квартире на продажу доступны два вида данных. Первые вписаны пользователем, вторые — получены автоматически на основе картографических данных. Например, расстояние до центра, аэропорта, ближайшего парка и водоёма. "
   ]
  },
  {
   "cell_type": "markdown",
   "metadata": {},
   "source": [
    "### Откройте файл с данными и изучите общую информацию. "
   ]
  },
  {
   "cell_type": "code",
   "execution_count": 1,
   "metadata": {},
   "outputs": [
    {
     "data": {
      "text/html": [
       "<div>\n",
       "<style scoped>\n",
       "    .dataframe tbody tr th:only-of-type {\n",
       "        vertical-align: middle;\n",
       "    }\n",
       "\n",
       "    .dataframe tbody tr th {\n",
       "        vertical-align: top;\n",
       "    }\n",
       "\n",
       "    .dataframe thead th {\n",
       "        text-align: right;\n",
       "    }\n",
       "</style>\n",
       "<table border=\"1\" class=\"dataframe\">\n",
       "  <thead>\n",
       "    <tr style=\"text-align: right;\">\n",
       "      <th></th>\n",
       "      <th>total_images</th>\n",
       "      <th>last_price</th>\n",
       "      <th>total_area</th>\n",
       "      <th>first_day_exposition</th>\n",
       "      <th>rooms</th>\n",
       "      <th>ceiling_height</th>\n",
       "      <th>floors_total</th>\n",
       "      <th>living_area</th>\n",
       "      <th>floor</th>\n",
       "      <th>is_apartment</th>\n",
       "      <th>...</th>\n",
       "      <th>kitchen_area</th>\n",
       "      <th>balcony</th>\n",
       "      <th>locality_name</th>\n",
       "      <th>airports_nearest</th>\n",
       "      <th>cityCenters_nearest</th>\n",
       "      <th>parks_around3000</th>\n",
       "      <th>parks_nearest</th>\n",
       "      <th>ponds_around3000</th>\n",
       "      <th>ponds_nearest</th>\n",
       "      <th>days_exposition</th>\n",
       "    </tr>\n",
       "  </thead>\n",
       "  <tbody>\n",
       "    <tr>\n",
       "      <th>0</th>\n",
       "      <td>20</td>\n",
       "      <td>13000000.0</td>\n",
       "      <td>108.00</td>\n",
       "      <td>2019-03-07T00:00:00</td>\n",
       "      <td>3</td>\n",
       "      <td>2.70</td>\n",
       "      <td>16.0</td>\n",
       "      <td>51.00</td>\n",
       "      <td>8</td>\n",
       "      <td>NaN</td>\n",
       "      <td>...</td>\n",
       "      <td>25.00</td>\n",
       "      <td>NaN</td>\n",
       "      <td>Санкт-Петербург</td>\n",
       "      <td>18863.0</td>\n",
       "      <td>16028.0</td>\n",
       "      <td>1.0</td>\n",
       "      <td>482.0</td>\n",
       "      <td>2.0</td>\n",
       "      <td>755.0</td>\n",
       "      <td>NaN</td>\n",
       "    </tr>\n",
       "    <tr>\n",
       "      <th>1</th>\n",
       "      <td>7</td>\n",
       "      <td>3350000.0</td>\n",
       "      <td>40.40</td>\n",
       "      <td>2018-12-04T00:00:00</td>\n",
       "      <td>1</td>\n",
       "      <td>NaN</td>\n",
       "      <td>11.0</td>\n",
       "      <td>18.60</td>\n",
       "      <td>1</td>\n",
       "      <td>NaN</td>\n",
       "      <td>...</td>\n",
       "      <td>11.00</td>\n",
       "      <td>2.0</td>\n",
       "      <td>посёлок Шушары</td>\n",
       "      <td>12817.0</td>\n",
       "      <td>18603.0</td>\n",
       "      <td>0.0</td>\n",
       "      <td>NaN</td>\n",
       "      <td>0.0</td>\n",
       "      <td>NaN</td>\n",
       "      <td>81.0</td>\n",
       "    </tr>\n",
       "    <tr>\n",
       "      <th>2</th>\n",
       "      <td>10</td>\n",
       "      <td>5196000.0</td>\n",
       "      <td>56.00</td>\n",
       "      <td>2015-08-20T00:00:00</td>\n",
       "      <td>2</td>\n",
       "      <td>NaN</td>\n",
       "      <td>5.0</td>\n",
       "      <td>34.30</td>\n",
       "      <td>4</td>\n",
       "      <td>NaN</td>\n",
       "      <td>...</td>\n",
       "      <td>8.30</td>\n",
       "      <td>0.0</td>\n",
       "      <td>Санкт-Петербург</td>\n",
       "      <td>21741.0</td>\n",
       "      <td>13933.0</td>\n",
       "      <td>1.0</td>\n",
       "      <td>90.0</td>\n",
       "      <td>2.0</td>\n",
       "      <td>574.0</td>\n",
       "      <td>558.0</td>\n",
       "    </tr>\n",
       "    <tr>\n",
       "      <th>3</th>\n",
       "      <td>0</td>\n",
       "      <td>64900000.0</td>\n",
       "      <td>159.00</td>\n",
       "      <td>2015-07-24T00:00:00</td>\n",
       "      <td>3</td>\n",
       "      <td>NaN</td>\n",
       "      <td>14.0</td>\n",
       "      <td>NaN</td>\n",
       "      <td>9</td>\n",
       "      <td>NaN</td>\n",
       "      <td>...</td>\n",
       "      <td>NaN</td>\n",
       "      <td>0.0</td>\n",
       "      <td>Санкт-Петербург</td>\n",
       "      <td>28098.0</td>\n",
       "      <td>6800.0</td>\n",
       "      <td>2.0</td>\n",
       "      <td>84.0</td>\n",
       "      <td>3.0</td>\n",
       "      <td>234.0</td>\n",
       "      <td>424.0</td>\n",
       "    </tr>\n",
       "    <tr>\n",
       "      <th>4</th>\n",
       "      <td>2</td>\n",
       "      <td>10000000.0</td>\n",
       "      <td>100.00</td>\n",
       "      <td>2018-06-19T00:00:00</td>\n",
       "      <td>2</td>\n",
       "      <td>3.03</td>\n",
       "      <td>14.0</td>\n",
       "      <td>32.00</td>\n",
       "      <td>13</td>\n",
       "      <td>NaN</td>\n",
       "      <td>...</td>\n",
       "      <td>41.00</td>\n",
       "      <td>NaN</td>\n",
       "      <td>Санкт-Петербург</td>\n",
       "      <td>31856.0</td>\n",
       "      <td>8098.0</td>\n",
       "      <td>2.0</td>\n",
       "      <td>112.0</td>\n",
       "      <td>1.0</td>\n",
       "      <td>48.0</td>\n",
       "      <td>121.0</td>\n",
       "    </tr>\n",
       "    <tr>\n",
       "      <th>5</th>\n",
       "      <td>10</td>\n",
       "      <td>2890000.0</td>\n",
       "      <td>30.40</td>\n",
       "      <td>2018-09-10T00:00:00</td>\n",
       "      <td>1</td>\n",
       "      <td>NaN</td>\n",
       "      <td>12.0</td>\n",
       "      <td>14.40</td>\n",
       "      <td>5</td>\n",
       "      <td>NaN</td>\n",
       "      <td>...</td>\n",
       "      <td>9.10</td>\n",
       "      <td>NaN</td>\n",
       "      <td>городской посёлок Янино-1</td>\n",
       "      <td>NaN</td>\n",
       "      <td>NaN</td>\n",
       "      <td>NaN</td>\n",
       "      <td>NaN</td>\n",
       "      <td>NaN</td>\n",
       "      <td>NaN</td>\n",
       "      <td>55.0</td>\n",
       "    </tr>\n",
       "    <tr>\n",
       "      <th>6</th>\n",
       "      <td>6</td>\n",
       "      <td>3700000.0</td>\n",
       "      <td>37.30</td>\n",
       "      <td>2017-11-02T00:00:00</td>\n",
       "      <td>1</td>\n",
       "      <td>NaN</td>\n",
       "      <td>26.0</td>\n",
       "      <td>10.60</td>\n",
       "      <td>6</td>\n",
       "      <td>NaN</td>\n",
       "      <td>...</td>\n",
       "      <td>14.40</td>\n",
       "      <td>1.0</td>\n",
       "      <td>посёлок Парголово</td>\n",
       "      <td>52996.0</td>\n",
       "      <td>19143.0</td>\n",
       "      <td>0.0</td>\n",
       "      <td>NaN</td>\n",
       "      <td>0.0</td>\n",
       "      <td>NaN</td>\n",
       "      <td>155.0</td>\n",
       "    </tr>\n",
       "    <tr>\n",
       "      <th>7</th>\n",
       "      <td>5</td>\n",
       "      <td>7915000.0</td>\n",
       "      <td>71.60</td>\n",
       "      <td>2019-04-18T00:00:00</td>\n",
       "      <td>2</td>\n",
       "      <td>NaN</td>\n",
       "      <td>24.0</td>\n",
       "      <td>NaN</td>\n",
       "      <td>22</td>\n",
       "      <td>NaN</td>\n",
       "      <td>...</td>\n",
       "      <td>18.90</td>\n",
       "      <td>2.0</td>\n",
       "      <td>Санкт-Петербург</td>\n",
       "      <td>23982.0</td>\n",
       "      <td>11634.0</td>\n",
       "      <td>0.0</td>\n",
       "      <td>NaN</td>\n",
       "      <td>0.0</td>\n",
       "      <td>NaN</td>\n",
       "      <td>NaN</td>\n",
       "    </tr>\n",
       "    <tr>\n",
       "      <th>8</th>\n",
       "      <td>20</td>\n",
       "      <td>2900000.0</td>\n",
       "      <td>33.16</td>\n",
       "      <td>2018-05-23T00:00:00</td>\n",
       "      <td>1</td>\n",
       "      <td>NaN</td>\n",
       "      <td>27.0</td>\n",
       "      <td>15.43</td>\n",
       "      <td>26</td>\n",
       "      <td>NaN</td>\n",
       "      <td>...</td>\n",
       "      <td>8.81</td>\n",
       "      <td>NaN</td>\n",
       "      <td>посёлок Мурино</td>\n",
       "      <td>NaN</td>\n",
       "      <td>NaN</td>\n",
       "      <td>NaN</td>\n",
       "      <td>NaN</td>\n",
       "      <td>NaN</td>\n",
       "      <td>NaN</td>\n",
       "      <td>189.0</td>\n",
       "    </tr>\n",
       "    <tr>\n",
       "      <th>9</th>\n",
       "      <td>18</td>\n",
       "      <td>5400000.0</td>\n",
       "      <td>61.00</td>\n",
       "      <td>2017-02-26T00:00:00</td>\n",
       "      <td>3</td>\n",
       "      <td>2.50</td>\n",
       "      <td>9.0</td>\n",
       "      <td>43.60</td>\n",
       "      <td>7</td>\n",
       "      <td>NaN</td>\n",
       "      <td>...</td>\n",
       "      <td>6.50</td>\n",
       "      <td>2.0</td>\n",
       "      <td>Санкт-Петербург</td>\n",
       "      <td>50898.0</td>\n",
       "      <td>15008.0</td>\n",
       "      <td>0.0</td>\n",
       "      <td>NaN</td>\n",
       "      <td>0.0</td>\n",
       "      <td>NaN</td>\n",
       "      <td>289.0</td>\n",
       "    </tr>\n",
       "  </tbody>\n",
       "</table>\n",
       "<p>10 rows × 22 columns</p>\n",
       "</div>"
      ],
      "text/plain": [
       "   total_images  last_price  total_area first_day_exposition  rooms  \\\n",
       "0            20  13000000.0      108.00  2019-03-07T00:00:00      3   \n",
       "1             7   3350000.0       40.40  2018-12-04T00:00:00      1   \n",
       "2            10   5196000.0       56.00  2015-08-20T00:00:00      2   \n",
       "3             0  64900000.0      159.00  2015-07-24T00:00:00      3   \n",
       "4             2  10000000.0      100.00  2018-06-19T00:00:00      2   \n",
       "5            10   2890000.0       30.40  2018-09-10T00:00:00      1   \n",
       "6             6   3700000.0       37.30  2017-11-02T00:00:00      1   \n",
       "7             5   7915000.0       71.60  2019-04-18T00:00:00      2   \n",
       "8            20   2900000.0       33.16  2018-05-23T00:00:00      1   \n",
       "9            18   5400000.0       61.00  2017-02-26T00:00:00      3   \n",
       "\n",
       "   ceiling_height  floors_total  living_area  floor is_apartment  ...  \\\n",
       "0            2.70          16.0        51.00      8          NaN  ...   \n",
       "1             NaN          11.0        18.60      1          NaN  ...   \n",
       "2             NaN           5.0        34.30      4          NaN  ...   \n",
       "3             NaN          14.0          NaN      9          NaN  ...   \n",
       "4            3.03          14.0        32.00     13          NaN  ...   \n",
       "5             NaN          12.0        14.40      5          NaN  ...   \n",
       "6             NaN          26.0        10.60      6          NaN  ...   \n",
       "7             NaN          24.0          NaN     22          NaN  ...   \n",
       "8             NaN          27.0        15.43     26          NaN  ...   \n",
       "9            2.50           9.0        43.60      7          NaN  ...   \n",
       "\n",
       "   kitchen_area  balcony              locality_name  airports_nearest  \\\n",
       "0         25.00      NaN            Санкт-Петербург           18863.0   \n",
       "1         11.00      2.0             посёлок Шушары           12817.0   \n",
       "2          8.30      0.0            Санкт-Петербург           21741.0   \n",
       "3           NaN      0.0            Санкт-Петербург           28098.0   \n",
       "4         41.00      NaN            Санкт-Петербург           31856.0   \n",
       "5          9.10      NaN  городской посёлок Янино-1               NaN   \n",
       "6         14.40      1.0          посёлок Парголово           52996.0   \n",
       "7         18.90      2.0            Санкт-Петербург           23982.0   \n",
       "8          8.81      NaN             посёлок Мурино               NaN   \n",
       "9          6.50      2.0            Санкт-Петербург           50898.0   \n",
       "\n",
       "  cityCenters_nearest  parks_around3000  parks_nearest  ponds_around3000  \\\n",
       "0             16028.0               1.0          482.0               2.0   \n",
       "1             18603.0               0.0            NaN               0.0   \n",
       "2             13933.0               1.0           90.0               2.0   \n",
       "3              6800.0               2.0           84.0               3.0   \n",
       "4              8098.0               2.0          112.0               1.0   \n",
       "5                 NaN               NaN            NaN               NaN   \n",
       "6             19143.0               0.0            NaN               0.0   \n",
       "7             11634.0               0.0            NaN               0.0   \n",
       "8                 NaN               NaN            NaN               NaN   \n",
       "9             15008.0               0.0            NaN               0.0   \n",
       "\n",
       "   ponds_nearest  days_exposition  \n",
       "0          755.0              NaN  \n",
       "1            NaN             81.0  \n",
       "2          574.0            558.0  \n",
       "3          234.0            424.0  \n",
       "4           48.0            121.0  \n",
       "5            NaN             55.0  \n",
       "6            NaN            155.0  \n",
       "7            NaN              NaN  \n",
       "8            NaN            189.0  \n",
       "9            NaN            289.0  \n",
       "\n",
       "[10 rows x 22 columns]"
      ]
     },
     "metadata": {},
     "output_type": "display_data"
    },
    {
     "name": "stdout",
     "output_type": "stream",
     "text": [
      "<class 'pandas.core.frame.DataFrame'>\n",
      "RangeIndex: 23699 entries, 0 to 23698\n",
      "Data columns (total 22 columns):\n",
      " #   Column                Non-Null Count  Dtype  \n",
      "---  ------                --------------  -----  \n",
      " 0   total_images          23699 non-null  int64  \n",
      " 1   last_price            23699 non-null  float64\n",
      " 2   total_area            23699 non-null  float64\n",
      " 3   first_day_exposition  23699 non-null  object \n",
      " 4   rooms                 23699 non-null  int64  \n",
      " 5   ceiling_height        14504 non-null  float64\n",
      " 6   floors_total          23613 non-null  float64\n",
      " 7   living_area           21796 non-null  float64\n",
      " 8   floor                 23699 non-null  int64  \n",
      " 9   is_apartment          2775 non-null   object \n",
      " 10  studio                23699 non-null  bool   \n",
      " 11  open_plan             23699 non-null  bool   \n",
      " 12  kitchen_area          21421 non-null  float64\n",
      " 13  balcony               12180 non-null  float64\n",
      " 14  locality_name         23650 non-null  object \n",
      " 15  airports_nearest      18157 non-null  float64\n",
      " 16  cityCenters_nearest   18180 non-null  float64\n",
      " 17  parks_around3000      18181 non-null  float64\n",
      " 18  parks_nearest         8079 non-null   float64\n",
      " 19  ponds_around3000      18181 non-null  float64\n",
      " 20  ponds_nearest         9110 non-null   float64\n",
      " 21  days_exposition       20518 non-null  float64\n",
      "dtypes: bool(2), float64(14), int64(3), object(3)\n",
      "memory usage: 3.7+ MB\n"
     ]
    }
   ],
   "source": [
    "import pandas as pd\n",
    "import numpy as np\n",
    "try:\n",
    "    df = pd.read_csv('real_estate_data.csv', sep = '\\t')\n",
    "except:\n",
    "    df = pd.read_csv('https://code.s3.yandex.net/datasets/real_estate_data.csv', sep = '\\t')\n",
    "display(df.head(10))\n",
    "df.info()\n",
    "#проверим форматы в которых существуют наши данные,скорее всего некоторые типы будут некооректны"
   ]
  },
  {
   "cell_type": "markdown",
   "metadata": {},
   "source": [
    "как и предполагалось + видим столбцы(которых много) с пропусками.\n",
    "после оценки считаю, что можно объединить группы\n",
    "1.нулевые значения +смена типа данных\n",
    "2.столбцы с нулевыми значениями\n",
    "\n",
    "1.\n",
    "тип данных в first_day_exposition необходимо поменять на тип datetime\n",
    "floors_total логически не может быть нецелочисленным и должен быть изменен на int + содержит нулевые значения\n",
    "is_apartment должен иметь тип bool + нулевые значения\n",
    "parks_around3000 и ponds_around3000 должны быть int(число озер и парков всегда целое) + нулевые значения\n",
    "days_exposition необходимо поменять на int + нулевые значения\n",
    "2.\n",
    "ceiling_height \\\n",
    "living_area \\\n",
    "kitchen_area\\\n",
    "balcony \\\n",
    "locality_name\n",
    "airports_nearest \n",
    "cityCenters_nearest  \n",
    "parks_nearest \n",
    "ponds_nearest \n"
   ]
  },
  {
   "cell_type": "code",
   "execution_count": 2,
   "metadata": {},
   "outputs": [
    {
     "data": {
      "text/plain": [
       "total_images                0\n",
       "last_price                  0\n",
       "total_area                  0\n",
       "first_day_exposition        0\n",
       "rooms                       0\n",
       "ceiling_height           9195\n",
       "floors_total               86\n",
       "living_area              1903\n",
       "floor                       0\n",
       "is_apartment            20924\n",
       "studio                      0\n",
       "open_plan                   0\n",
       "kitchen_area             2278\n",
       "balcony                 11519\n",
       "locality_name              49\n",
       "airports_nearest         5542\n",
       "cityCenters_nearest      5519\n",
       "parks_around3000         5518\n",
       "parks_nearest           15620\n",
       "ponds_around3000         5518\n",
       "ponds_nearest           14589\n",
       "days_exposition          3181\n",
       "dtype: int64"
      ]
     },
     "execution_count": 2,
     "metadata": {},
     "output_type": "execute_result"
    }
   ],
   "source": [
    "df.isna().sum() #посчитаем кол-во пропусков"
   ]
  },
  {
   "cell_type": "code",
   "execution_count": 3,
   "metadata": {},
   "outputs": [],
   "source": [
    "#df.hist(figsize=(15, 60))"
   ]
  },
  {
   "cell_type": "markdown",
   "metadata": {},
   "source": [
    "### Предобработка данных"
   ]
  },
  {
   "cell_type": "code",
   "execution_count": 4,
   "metadata": {},
   "outputs": [
    {
     "data": {
      "text/plain": [
       "0"
      ]
     },
     "execution_count": 4,
     "metadata": {},
     "output_type": "execute_result"
    }
   ],
   "source": [
    "df.duplicated().sum() \n",
    "# Дубликаты отсутствуют"
   ]
  },
  {
   "cell_type": "code",
   "execution_count": 5,
   "metadata": {},
   "outputs": [
    {
     "name": "stdout",
     "output_type": "stream",
     "text": [
      "<class 'pandas.core.frame.DataFrame'>\n",
      "RangeIndex: 23699 entries, 0 to 23698\n",
      "Data columns (total 22 columns):\n",
      " #   Column                Non-Null Count  Dtype  \n",
      "---  ------                --------------  -----  \n",
      " 0   total_images          23699 non-null  int64  \n",
      " 1   last_price            23699 non-null  float64\n",
      " 2   total_area            23699 non-null  float64\n",
      " 3   first_day_exposition  23699 non-null  object \n",
      " 4   rooms                 23699 non-null  int64  \n",
      " 5   ceiling_height        14504 non-null  float64\n",
      " 6   floors_total          23613 non-null  float64\n",
      " 7   living_area           21796 non-null  float64\n",
      " 8   floor                 23699 non-null  int64  \n",
      " 9   is_apartment          2775 non-null   object \n",
      " 10  studio                23699 non-null  bool   \n",
      " 11  open_plan             23699 non-null  bool   \n",
      " 12  kitchen_area          21421 non-null  float64\n",
      " 13  balcony               12180 non-null  float64\n",
      " 14  locality_name         23650 non-null  object \n",
      " 15  airports_nearest      18157 non-null  float64\n",
      " 16  cityCenters_nearest   18180 non-null  float64\n",
      " 17  parks_around3000      18181 non-null  float64\n",
      " 18  parks_nearest         8079 non-null   float64\n",
      " 19  ponds_around3000      18181 non-null  float64\n",
      " 20  ponds_nearest         9110 non-null   float64\n",
      " 21  days_exposition       20518 non-null  float64\n",
      "dtypes: bool(2), float64(14), int64(3), object(3)\n",
      "memory usage: 3.7+ MB\n"
     ]
    }
   ],
   "source": [
    "df.info()"
   ]
  },
  {
   "cell_type": "markdown",
   "metadata": {},
   "source": [
    "**До замены пропусков**"
   ]
  },
  {
   "cell_type": "code",
   "execution_count": 6,
   "metadata": {},
   "outputs": [
    {
     "data": {
      "text/html": [
       "<div>\n",
       "<style scoped>\n",
       "    .dataframe tbody tr th:only-of-type {\n",
       "        vertical-align: middle;\n",
       "    }\n",
       "\n",
       "    .dataframe tbody tr th {\n",
       "        vertical-align: top;\n",
       "    }\n",
       "\n",
       "    .dataframe thead th {\n",
       "        text-align: right;\n",
       "    }\n",
       "</style>\n",
       "<table border=\"1\" class=\"dataframe\">\n",
       "  <thead>\n",
       "    <tr style=\"text-align: right;\">\n",
       "      <th></th>\n",
       "      <th>first_day_exposition</th>\n",
       "      <th>parks_around3000</th>\n",
       "      <th>days_exposition</th>\n",
       "      <th>is_apartment</th>\n",
       "    </tr>\n",
       "  </thead>\n",
       "  <tbody>\n",
       "    <tr>\n",
       "      <th>0</th>\n",
       "      <td>2019-03-07T00:00:00</td>\n",
       "      <td>1.0</td>\n",
       "      <td>NaN</td>\n",
       "      <td>NaN</td>\n",
       "    </tr>\n",
       "    <tr>\n",
       "      <th>1</th>\n",
       "      <td>2018-12-04T00:00:00</td>\n",
       "      <td>0.0</td>\n",
       "      <td>81.0</td>\n",
       "      <td>NaN</td>\n",
       "    </tr>\n",
       "    <tr>\n",
       "      <th>2</th>\n",
       "      <td>2015-08-20T00:00:00</td>\n",
       "      <td>1.0</td>\n",
       "      <td>558.0</td>\n",
       "      <td>NaN</td>\n",
       "    </tr>\n",
       "    <tr>\n",
       "      <th>3</th>\n",
       "      <td>2015-07-24T00:00:00</td>\n",
       "      <td>2.0</td>\n",
       "      <td>424.0</td>\n",
       "      <td>NaN</td>\n",
       "    </tr>\n",
       "    <tr>\n",
       "      <th>4</th>\n",
       "      <td>2018-06-19T00:00:00</td>\n",
       "      <td>2.0</td>\n",
       "      <td>121.0</td>\n",
       "      <td>NaN</td>\n",
       "    </tr>\n",
       "    <tr>\n",
       "      <th>...</th>\n",
       "      <td>...</td>\n",
       "      <td>...</td>\n",
       "      <td>...</td>\n",
       "      <td>...</td>\n",
       "    </tr>\n",
       "    <tr>\n",
       "      <th>23694</th>\n",
       "      <td>2017-03-21T00:00:00</td>\n",
       "      <td>1.0</td>\n",
       "      <td>NaN</td>\n",
       "      <td>NaN</td>\n",
       "    </tr>\n",
       "    <tr>\n",
       "      <th>23695</th>\n",
       "      <td>2018-01-15T00:00:00</td>\n",
       "      <td>NaN</td>\n",
       "      <td>45.0</td>\n",
       "      <td>NaN</td>\n",
       "    </tr>\n",
       "    <tr>\n",
       "      <th>23696</th>\n",
       "      <td>2018-02-11T00:00:00</td>\n",
       "      <td>NaN</td>\n",
       "      <td>NaN</td>\n",
       "      <td>NaN</td>\n",
       "    </tr>\n",
       "    <tr>\n",
       "      <th>23697</th>\n",
       "      <td>2017-03-28T00:00:00</td>\n",
       "      <td>2.0</td>\n",
       "      <td>602.0</td>\n",
       "      <td>NaN</td>\n",
       "    </tr>\n",
       "    <tr>\n",
       "      <th>23698</th>\n",
       "      <td>2017-07-21T00:00:00</td>\n",
       "      <td>NaN</td>\n",
       "      <td>NaN</td>\n",
       "      <td>NaN</td>\n",
       "    </tr>\n",
       "  </tbody>\n",
       "</table>\n",
       "<p>23699 rows × 4 columns</p>\n",
       "</div>"
      ],
      "text/plain": [
       "      first_day_exposition  parks_around3000  days_exposition is_apartment\n",
       "0      2019-03-07T00:00:00               1.0              NaN          NaN\n",
       "1      2018-12-04T00:00:00               0.0             81.0          NaN\n",
       "2      2015-08-20T00:00:00               1.0            558.0          NaN\n",
       "3      2015-07-24T00:00:00               2.0            424.0          NaN\n",
       "4      2018-06-19T00:00:00               2.0            121.0          NaN\n",
       "...                    ...               ...              ...          ...\n",
       "23694  2017-03-21T00:00:00               1.0              NaN          NaN\n",
       "23695  2018-01-15T00:00:00               NaN             45.0          NaN\n",
       "23696  2018-02-11T00:00:00               NaN              NaN          NaN\n",
       "23697  2017-03-28T00:00:00               2.0            602.0          NaN\n",
       "23698  2017-07-21T00:00:00               NaN              NaN          NaN\n",
       "\n",
       "[23699 rows x 4 columns]"
      ]
     },
     "metadata": {},
     "output_type": "display_data"
    }
   ],
   "source": [
    "display(df[['first_day_exposition','parks_around3000','days_exposition','is_apartment']])"
   ]
  },
  {
   "cell_type": "code",
   "execution_count": 7,
   "metadata": {},
   "outputs": [],
   "source": [
    "#изменим типы данны, над пропусками надо будет подумать\n",
    "df['first_day_exposition'] = pd.to_datetime(df['first_day_exposition'],format= '%Y-%m-%d') \n",
    "df['parks_around3000'] = df['parks_around3000'].fillna(0).astype(int)\n",
    "#тут сразу заполним пропуски 0 т.к. перевод в int спропусками невозможет\n",
    "df['ponds_around3000'] = df['ponds_around3000'].fillna(0).astype(int)\n",
    "#df['days_exposition' ] = df['days_exposition' ].fillna(0).astype(int)\n",
    "#df['is_apartment'] = df['is_apartment'].astype(bool)\n",
    "#df['is_apartment'] = df['is_apartment'].fillna(value=False)"
   ]
  },
  {
   "cell_type": "code",
   "execution_count": 8,
   "metadata": {},
   "outputs": [
    {
     "data": {
      "text/html": [
       "<div>\n",
       "<style scoped>\n",
       "    .dataframe tbody tr th:only-of-type {\n",
       "        vertical-align: middle;\n",
       "    }\n",
       "\n",
       "    .dataframe tbody tr th {\n",
       "        vertical-align: top;\n",
       "    }\n",
       "\n",
       "    .dataframe thead th {\n",
       "        text-align: right;\n",
       "    }\n",
       "</style>\n",
       "<table border=\"1\" class=\"dataframe\">\n",
       "  <thead>\n",
       "    <tr style=\"text-align: right;\">\n",
       "      <th></th>\n",
       "      <th>first_day_exposition</th>\n",
       "      <th>parks_around3000</th>\n",
       "      <th>days_exposition</th>\n",
       "      <th>is_apartment</th>\n",
       "    </tr>\n",
       "  </thead>\n",
       "  <tbody>\n",
       "    <tr>\n",
       "      <th>0</th>\n",
       "      <td>2019-03-07</td>\n",
       "      <td>1</td>\n",
       "      <td>NaN</td>\n",
       "      <td>NaN</td>\n",
       "    </tr>\n",
       "    <tr>\n",
       "      <th>1</th>\n",
       "      <td>2018-12-04</td>\n",
       "      <td>0</td>\n",
       "      <td>81.0</td>\n",
       "      <td>NaN</td>\n",
       "    </tr>\n",
       "    <tr>\n",
       "      <th>2</th>\n",
       "      <td>2015-08-20</td>\n",
       "      <td>1</td>\n",
       "      <td>558.0</td>\n",
       "      <td>NaN</td>\n",
       "    </tr>\n",
       "    <tr>\n",
       "      <th>3</th>\n",
       "      <td>2015-07-24</td>\n",
       "      <td>2</td>\n",
       "      <td>424.0</td>\n",
       "      <td>NaN</td>\n",
       "    </tr>\n",
       "    <tr>\n",
       "      <th>4</th>\n",
       "      <td>2018-06-19</td>\n",
       "      <td>2</td>\n",
       "      <td>121.0</td>\n",
       "      <td>NaN</td>\n",
       "    </tr>\n",
       "    <tr>\n",
       "      <th>...</th>\n",
       "      <td>...</td>\n",
       "      <td>...</td>\n",
       "      <td>...</td>\n",
       "      <td>...</td>\n",
       "    </tr>\n",
       "    <tr>\n",
       "      <th>23694</th>\n",
       "      <td>2017-03-21</td>\n",
       "      <td>1</td>\n",
       "      <td>NaN</td>\n",
       "      <td>NaN</td>\n",
       "    </tr>\n",
       "    <tr>\n",
       "      <th>23695</th>\n",
       "      <td>2018-01-15</td>\n",
       "      <td>0</td>\n",
       "      <td>45.0</td>\n",
       "      <td>NaN</td>\n",
       "    </tr>\n",
       "    <tr>\n",
       "      <th>23696</th>\n",
       "      <td>2018-02-11</td>\n",
       "      <td>0</td>\n",
       "      <td>NaN</td>\n",
       "      <td>NaN</td>\n",
       "    </tr>\n",
       "    <tr>\n",
       "      <th>23697</th>\n",
       "      <td>2017-03-28</td>\n",
       "      <td>2</td>\n",
       "      <td>602.0</td>\n",
       "      <td>NaN</td>\n",
       "    </tr>\n",
       "    <tr>\n",
       "      <th>23698</th>\n",
       "      <td>2017-07-21</td>\n",
       "      <td>0</td>\n",
       "      <td>NaN</td>\n",
       "      <td>NaN</td>\n",
       "    </tr>\n",
       "  </tbody>\n",
       "</table>\n",
       "<p>23699 rows × 4 columns</p>\n",
       "</div>"
      ],
      "text/plain": [
       "      first_day_exposition  parks_around3000  days_exposition is_apartment\n",
       "0               2019-03-07                 1              NaN          NaN\n",
       "1               2018-12-04                 0             81.0          NaN\n",
       "2               2015-08-20                 1            558.0          NaN\n",
       "3               2015-07-24                 2            424.0          NaN\n",
       "4               2018-06-19                 2            121.0          NaN\n",
       "...                    ...               ...              ...          ...\n",
       "23694           2017-03-21                 1              NaN          NaN\n",
       "23695           2018-01-15                 0             45.0          NaN\n",
       "23696           2018-02-11                 0              NaN          NaN\n",
       "23697           2017-03-28                 2            602.0          NaN\n",
       "23698           2017-07-21                 0              NaN          NaN\n",
       "\n",
       "[23699 rows x 4 columns]"
      ]
     },
     "metadata": {},
     "output_type": "display_data"
    }
   ],
   "source": [
    "display(df[['first_day_exposition','parks_around3000','days_exposition','is_apartment']])\n",
    "df['is_apartment'] = df['is_apartment'].fillna(value=False).astype(bool)\n"
   ]
  },
  {
   "cell_type": "code",
   "execution_count": 9,
   "metadata": {},
   "outputs": [],
   "source": [
    "#df['is_apartment'] = df['is_apartment'].astype(bool)"
   ]
  },
  {
   "cell_type": "code",
   "execution_count": 10,
   "metadata": {},
   "outputs": [
    {
     "name": "stdout",
     "output_type": "stream",
     "text": [
      "<class 'pandas.core.frame.DataFrame'>\n",
      "RangeIndex: 23699 entries, 0 to 23698\n",
      "Data columns (total 22 columns):\n",
      " #   Column                Non-Null Count  Dtype         \n",
      "---  ------                --------------  -----         \n",
      " 0   total_images          23699 non-null  int64         \n",
      " 1   last_price            23699 non-null  float64       \n",
      " 2   total_area            23699 non-null  float64       \n",
      " 3   first_day_exposition  23699 non-null  datetime64[ns]\n",
      " 4   rooms                 23699 non-null  int64         \n",
      " 5   ceiling_height        14504 non-null  float64       \n",
      " 6   floors_total          23613 non-null  float64       \n",
      " 7   living_area           21796 non-null  float64       \n",
      " 8   floor                 23699 non-null  int64         \n",
      " 9   is_apartment          23699 non-null  bool          \n",
      " 10  studio                23699 non-null  bool          \n",
      " 11  open_plan             23699 non-null  bool          \n",
      " 12  kitchen_area          21421 non-null  float64       \n",
      " 13  balcony               12180 non-null  float64       \n",
      " 14  locality_name         23650 non-null  object        \n",
      " 15  airports_nearest      18157 non-null  float64       \n",
      " 16  cityCenters_nearest   18180 non-null  float64       \n",
      " 17  parks_around3000      23699 non-null  int64         \n",
      " 18  parks_nearest         8079 non-null   float64       \n",
      " 19  ponds_around3000      23699 non-null  int64         \n",
      " 20  ponds_nearest         9110 non-null   float64       \n",
      " 21  days_exposition       20518 non-null  float64       \n",
      "dtypes: bool(3), datetime64[ns](1), float64(12), int64(5), object(1)\n",
      "memory usage: 3.5+ MB\n"
     ]
    }
   ],
   "source": [
    "df.info()"
   ]
  },
  {
   "cell_type": "markdown",
   "metadata": {},
   "source": [
    "Комментарий про некорректность заполнения 0 в количестве дней объявления заставил подумать\n",
    "действительно, заполняя 0 мы может расценить, что квартира была продана моментально\n",
    "Решил посмотреть, как распределяются данные и построил график\n",
    "Данные распределены нормально, пик в 0 говорит скорее всего о наличии пропусков\n",
    "думал-думал, посмотрел и среднее и медиану и пришел к выводу, что 7% пропусков не так критичны и поэтому имеет смысл оставить как есть"
   ]
  },
  {
   "cell_type": "code",
   "execution_count": 11,
   "metadata": {},
   "outputs": [
    {
     "data": {
      "text/html": [
       "<div>\n",
       "<style scoped>\n",
       "    .dataframe tbody tr th:only-of-type {\n",
       "        vertical-align: middle;\n",
       "    }\n",
       "\n",
       "    .dataframe tbody tr th {\n",
       "        vertical-align: top;\n",
       "    }\n",
       "\n",
       "    .dataframe thead th {\n",
       "        text-align: right;\n",
       "    }\n",
       "</style>\n",
       "<table border=\"1\" class=\"dataframe\">\n",
       "  <thead>\n",
       "    <tr style=\"text-align: right;\">\n",
       "      <th></th>\n",
       "      <th>first_day_exposition</th>\n",
       "      <th>parks_around3000</th>\n",
       "      <th>days_exposition</th>\n",
       "      <th>is_apartment</th>\n",
       "    </tr>\n",
       "  </thead>\n",
       "  <tbody>\n",
       "    <tr>\n",
       "      <th>0</th>\n",
       "      <td>2019-03-07</td>\n",
       "      <td>1</td>\n",
       "      <td>NaN</td>\n",
       "      <td>False</td>\n",
       "    </tr>\n",
       "    <tr>\n",
       "      <th>1</th>\n",
       "      <td>2018-12-04</td>\n",
       "      <td>0</td>\n",
       "      <td>81.0</td>\n",
       "      <td>False</td>\n",
       "    </tr>\n",
       "    <tr>\n",
       "      <th>2</th>\n",
       "      <td>2015-08-20</td>\n",
       "      <td>1</td>\n",
       "      <td>558.0</td>\n",
       "      <td>False</td>\n",
       "    </tr>\n",
       "    <tr>\n",
       "      <th>3</th>\n",
       "      <td>2015-07-24</td>\n",
       "      <td>2</td>\n",
       "      <td>424.0</td>\n",
       "      <td>False</td>\n",
       "    </tr>\n",
       "    <tr>\n",
       "      <th>4</th>\n",
       "      <td>2018-06-19</td>\n",
       "      <td>2</td>\n",
       "      <td>121.0</td>\n",
       "      <td>False</td>\n",
       "    </tr>\n",
       "    <tr>\n",
       "      <th>...</th>\n",
       "      <td>...</td>\n",
       "      <td>...</td>\n",
       "      <td>...</td>\n",
       "      <td>...</td>\n",
       "    </tr>\n",
       "    <tr>\n",
       "      <th>23694</th>\n",
       "      <td>2017-03-21</td>\n",
       "      <td>1</td>\n",
       "      <td>NaN</td>\n",
       "      <td>False</td>\n",
       "    </tr>\n",
       "    <tr>\n",
       "      <th>23695</th>\n",
       "      <td>2018-01-15</td>\n",
       "      <td>0</td>\n",
       "      <td>45.0</td>\n",
       "      <td>False</td>\n",
       "    </tr>\n",
       "    <tr>\n",
       "      <th>23696</th>\n",
       "      <td>2018-02-11</td>\n",
       "      <td>0</td>\n",
       "      <td>NaN</td>\n",
       "      <td>False</td>\n",
       "    </tr>\n",
       "    <tr>\n",
       "      <th>23697</th>\n",
       "      <td>2017-03-28</td>\n",
       "      <td>2</td>\n",
       "      <td>602.0</td>\n",
       "      <td>False</td>\n",
       "    </tr>\n",
       "    <tr>\n",
       "      <th>23698</th>\n",
       "      <td>2017-07-21</td>\n",
       "      <td>0</td>\n",
       "      <td>NaN</td>\n",
       "      <td>False</td>\n",
       "    </tr>\n",
       "  </tbody>\n",
       "</table>\n",
       "<p>23699 rows × 4 columns</p>\n",
       "</div>"
      ],
      "text/plain": [
       "      first_day_exposition  parks_around3000  days_exposition  is_apartment\n",
       "0               2019-03-07                 1              NaN         False\n",
       "1               2018-12-04                 0             81.0         False\n",
       "2               2015-08-20                 1            558.0         False\n",
       "3               2015-07-24                 2            424.0         False\n",
       "4               2018-06-19                 2            121.0         False\n",
       "...                    ...               ...              ...           ...\n",
       "23694           2017-03-21                 1              NaN         False\n",
       "23695           2018-01-15                 0             45.0         False\n",
       "23696           2018-02-11                 0              NaN         False\n",
       "23697           2017-03-28                 2            602.0         False\n",
       "23698           2017-07-21                 0              NaN         False\n",
       "\n",
       "[23699 rows x 4 columns]"
      ]
     },
     "metadata": {},
     "output_type": "display_data"
    }
   ],
   "source": [
    "display(df[['first_day_exposition','parks_around3000','days_exposition','is_apartment']])"
   ]
  },
  {
   "cell_type": "code",
   "execution_count": 12,
   "metadata": {},
   "outputs": [],
   "source": [
    "df['floors_total'] = df['floors_total'].fillna(0).astype(int) "
   ]
  },
  {
   "cell_type": "code",
   "execution_count": 13,
   "metadata": {},
   "outputs": [
    {
     "name": "stdout",
     "output_type": "stream",
     "text": [
      "<class 'pandas.core.frame.DataFrame'>\n",
      "RangeIndex: 23699 entries, 0 to 23698\n",
      "Data columns (total 22 columns):\n",
      " #   Column                Non-Null Count  Dtype         \n",
      "---  ------                --------------  -----         \n",
      " 0   total_images          23699 non-null  int64         \n",
      " 1   last_price            23699 non-null  float64       \n",
      " 2   total_area            23699 non-null  float64       \n",
      " 3   first_day_exposition  23699 non-null  datetime64[ns]\n",
      " 4   rooms                 23699 non-null  int64         \n",
      " 5   ceiling_height        14504 non-null  float64       \n",
      " 6   floors_total          23699 non-null  int64         \n",
      " 7   living_area           21796 non-null  float64       \n",
      " 8   floor                 23699 non-null  int64         \n",
      " 9   is_apartment          23699 non-null  bool          \n",
      " 10  studio                23699 non-null  bool          \n",
      " 11  open_plan             23699 non-null  bool          \n",
      " 12  kitchen_area          21421 non-null  float64       \n",
      " 13  balcony               12180 non-null  float64       \n",
      " 14  locality_name         23650 non-null  object        \n",
      " 15  airports_nearest      18157 non-null  float64       \n",
      " 16  cityCenters_nearest   18180 non-null  float64       \n",
      " 17  parks_around3000      23699 non-null  int64         \n",
      " 18  parks_nearest         8079 non-null   float64       \n",
      " 19  ponds_around3000      23699 non-null  int64         \n",
      " 20  ponds_nearest         9110 non-null   float64       \n",
      " 21  days_exposition       20518 non-null  float64       \n",
      "dtypes: bool(3), datetime64[ns](1), float64(11), int64(6), object(1)\n",
      "memory usage: 3.5+ MB\n"
     ]
    }
   ],
   "source": [
    "df.info()\n",
    "#Форматы мы исмправили \n",
    "#будем работать с устранением пропусков\n",
    "#начнем с ceiling_height "
   ]
  },
  {
   "cell_type": "code",
   "execution_count": 14,
   "metadata": {},
   "outputs": [
    {
     "data": {
      "text/plain": [
       "False    14504\n",
       "True      9195\n",
       "Name: ceiling_height, dtype: int64"
      ]
     },
     "execution_count": 14,
     "metadata": {},
     "output_type": "execute_result"
    }
   ],
   "source": [
    "df['ceiling_height'].isna().value_counts()\n",
    "                         "
   ]
  },
  {
   "cell_type": "code",
   "execution_count": 15,
   "metadata": {},
   "outputs": [
    {
     "data": {
      "text/html": [
       "<div>\n",
       "<style scoped>\n",
       "    .dataframe tbody tr th:only-of-type {\n",
       "        vertical-align: middle;\n",
       "    }\n",
       "\n",
       "    .dataframe tbody tr th {\n",
       "        vertical-align: top;\n",
       "    }\n",
       "\n",
       "    .dataframe thead th {\n",
       "        text-align: right;\n",
       "    }\n",
       "</style>\n",
       "<table border=\"1\" class=\"dataframe\">\n",
       "  <thead>\n",
       "    <tr style=\"text-align: right;\">\n",
       "      <th></th>\n",
       "      <th>total_images</th>\n",
       "      <th>last_price</th>\n",
       "      <th>total_area</th>\n",
       "      <th>first_day_exposition</th>\n",
       "      <th>rooms</th>\n",
       "      <th>ceiling_height</th>\n",
       "      <th>floors_total</th>\n",
       "      <th>living_area</th>\n",
       "      <th>floor</th>\n",
       "      <th>is_apartment</th>\n",
       "      <th>...</th>\n",
       "      <th>kitchen_area</th>\n",
       "      <th>balcony</th>\n",
       "      <th>locality_name</th>\n",
       "      <th>airports_nearest</th>\n",
       "      <th>cityCenters_nearest</th>\n",
       "      <th>parks_around3000</th>\n",
       "      <th>parks_nearest</th>\n",
       "      <th>ponds_around3000</th>\n",
       "      <th>ponds_nearest</th>\n",
       "      <th>days_exposition</th>\n",
       "    </tr>\n",
       "  </thead>\n",
       "  <tbody>\n",
       "    <tr>\n",
       "      <th>22869</th>\n",
       "      <td>0</td>\n",
       "      <td>15000000.0</td>\n",
       "      <td>25.0</td>\n",
       "      <td>2018-07-25</td>\n",
       "      <td>1</td>\n",
       "      <td>100.0</td>\n",
       "      <td>5</td>\n",
       "      <td>14.0</td>\n",
       "      <td>5</td>\n",
       "      <td>True</td>\n",
       "      <td>...</td>\n",
       "      <td>11.0</td>\n",
       "      <td>5.0</td>\n",
       "      <td>Санкт-Петербург</td>\n",
       "      <td>34963.0</td>\n",
       "      <td>8283.0</td>\n",
       "      <td>1</td>\n",
       "      <td>223.0</td>\n",
       "      <td>3</td>\n",
       "      <td>30.0</td>\n",
       "      <td>19.0</td>\n",
       "    </tr>\n",
       "    <tr>\n",
       "      <th>22336</th>\n",
       "      <td>19</td>\n",
       "      <td>9999000.0</td>\n",
       "      <td>92.4</td>\n",
       "      <td>2019-04-05</td>\n",
       "      <td>2</td>\n",
       "      <td>32.0</td>\n",
       "      <td>6</td>\n",
       "      <td>55.5</td>\n",
       "      <td>5</td>\n",
       "      <td>False</td>\n",
       "      <td>...</td>\n",
       "      <td>16.5</td>\n",
       "      <td>4.0</td>\n",
       "      <td>Санкт-Петербург</td>\n",
       "      <td>18838.0</td>\n",
       "      <td>3506.0</td>\n",
       "      <td>0</td>\n",
       "      <td>NaN</td>\n",
       "      <td>3</td>\n",
       "      <td>511.0</td>\n",
       "      <td>NaN</td>\n",
       "    </tr>\n",
       "    <tr>\n",
       "      <th>3148</th>\n",
       "      <td>14</td>\n",
       "      <td>2900000.0</td>\n",
       "      <td>75.0</td>\n",
       "      <td>2018-11-12</td>\n",
       "      <td>3</td>\n",
       "      <td>32.0</td>\n",
       "      <td>3</td>\n",
       "      <td>53.0</td>\n",
       "      <td>2</td>\n",
       "      <td>False</td>\n",
       "      <td>...</td>\n",
       "      <td>8.0</td>\n",
       "      <td>NaN</td>\n",
       "      <td>Волхов</td>\n",
       "      <td>NaN</td>\n",
       "      <td>NaN</td>\n",
       "      <td>0</td>\n",
       "      <td>NaN</td>\n",
       "      <td>0</td>\n",
       "      <td>NaN</td>\n",
       "      <td>NaN</td>\n",
       "    </tr>\n",
       "    <tr>\n",
       "      <th>21377</th>\n",
       "      <td>19</td>\n",
       "      <td>4900000.0</td>\n",
       "      <td>42.0</td>\n",
       "      <td>2017-04-18</td>\n",
       "      <td>1</td>\n",
       "      <td>27.5</td>\n",
       "      <td>24</td>\n",
       "      <td>37.7</td>\n",
       "      <td>19</td>\n",
       "      <td>False</td>\n",
       "      <td>...</td>\n",
       "      <td>11.0</td>\n",
       "      <td>2.0</td>\n",
       "      <td>Санкт-Петербург</td>\n",
       "      <td>42742.0</td>\n",
       "      <td>9760.0</td>\n",
       "      <td>0</td>\n",
       "      <td>NaN</td>\n",
       "      <td>0</td>\n",
       "      <td>NaN</td>\n",
       "      <td>61.0</td>\n",
       "    </tr>\n",
       "    <tr>\n",
       "      <th>22938</th>\n",
       "      <td>14</td>\n",
       "      <td>4000000.0</td>\n",
       "      <td>98.0</td>\n",
       "      <td>2018-03-15</td>\n",
       "      <td>4</td>\n",
       "      <td>27.0</td>\n",
       "      <td>2</td>\n",
       "      <td>73.0</td>\n",
       "      <td>2</td>\n",
       "      <td>True</td>\n",
       "      <td>...</td>\n",
       "      <td>9.0</td>\n",
       "      <td>1.0</td>\n",
       "      <td>деревня Нижняя</td>\n",
       "      <td>NaN</td>\n",
       "      <td>NaN</td>\n",
       "      <td>0</td>\n",
       "      <td>NaN</td>\n",
       "      <td>0</td>\n",
       "      <td>NaN</td>\n",
       "      <td>27.0</td>\n",
       "    </tr>\n",
       "    <tr>\n",
       "      <th>10773</th>\n",
       "      <td>8</td>\n",
       "      <td>3800000.0</td>\n",
       "      <td>58.0</td>\n",
       "      <td>2017-10-13</td>\n",
       "      <td>2</td>\n",
       "      <td>27.0</td>\n",
       "      <td>10</td>\n",
       "      <td>30.1</td>\n",
       "      <td>3</td>\n",
       "      <td>False</td>\n",
       "      <td>...</td>\n",
       "      <td>8.1</td>\n",
       "      <td>2.0</td>\n",
       "      <td>посёлок Мурино</td>\n",
       "      <td>NaN</td>\n",
       "      <td>NaN</td>\n",
       "      <td>0</td>\n",
       "      <td>NaN</td>\n",
       "      <td>0</td>\n",
       "      <td>NaN</td>\n",
       "      <td>71.0</td>\n",
       "    </tr>\n",
       "    <tr>\n",
       "      <th>21824</th>\n",
       "      <td>20</td>\n",
       "      <td>2450000.0</td>\n",
       "      <td>44.0</td>\n",
       "      <td>2019-02-12</td>\n",
       "      <td>2</td>\n",
       "      <td>27.0</td>\n",
       "      <td>2</td>\n",
       "      <td>38.0</td>\n",
       "      <td>2</td>\n",
       "      <td>False</td>\n",
       "      <td>...</td>\n",
       "      <td>8.6</td>\n",
       "      <td>2.0</td>\n",
       "      <td>городской поселок Большая Ижора</td>\n",
       "      <td>NaN</td>\n",
       "      <td>NaN</td>\n",
       "      <td>0</td>\n",
       "      <td>NaN</td>\n",
       "      <td>0</td>\n",
       "      <td>NaN</td>\n",
       "      <td>NaN</td>\n",
       "    </tr>\n",
       "    <tr>\n",
       "      <th>4876</th>\n",
       "      <td>7</td>\n",
       "      <td>3000000.0</td>\n",
       "      <td>25.0</td>\n",
       "      <td>2017-09-27</td>\n",
       "      <td>0</td>\n",
       "      <td>27.0</td>\n",
       "      <td>25</td>\n",
       "      <td>17.0</td>\n",
       "      <td>17</td>\n",
       "      <td>False</td>\n",
       "      <td>...</td>\n",
       "      <td>NaN</td>\n",
       "      <td>2.0</td>\n",
       "      <td>посёлок Мурино</td>\n",
       "      <td>NaN</td>\n",
       "      <td>NaN</td>\n",
       "      <td>0</td>\n",
       "      <td>NaN</td>\n",
       "      <td>0</td>\n",
       "      <td>NaN</td>\n",
       "      <td>28.0</td>\n",
       "    </tr>\n",
       "    <tr>\n",
       "      <th>20478</th>\n",
       "      <td>11</td>\n",
       "      <td>8000000.0</td>\n",
       "      <td>45.0</td>\n",
       "      <td>2017-07-18</td>\n",
       "      <td>1</td>\n",
       "      <td>27.0</td>\n",
       "      <td>4</td>\n",
       "      <td>22.0</td>\n",
       "      <td>2</td>\n",
       "      <td>False</td>\n",
       "      <td>...</td>\n",
       "      <td>10.0</td>\n",
       "      <td>1.0</td>\n",
       "      <td>Санкт-Петербург</td>\n",
       "      <td>18975.0</td>\n",
       "      <td>3246.0</td>\n",
       "      <td>0</td>\n",
       "      <td>NaN</td>\n",
       "      <td>3</td>\n",
       "      <td>449.0</td>\n",
       "      <td>429.0</td>\n",
       "    </tr>\n",
       "    <tr>\n",
       "      <th>5246</th>\n",
       "      <td>0</td>\n",
       "      <td>2500000.0</td>\n",
       "      <td>54.0</td>\n",
       "      <td>2017-10-13</td>\n",
       "      <td>2</td>\n",
       "      <td>27.0</td>\n",
       "      <td>5</td>\n",
       "      <td>30.0</td>\n",
       "      <td>3</td>\n",
       "      <td>False</td>\n",
       "      <td>...</td>\n",
       "      <td>9.0</td>\n",
       "      <td>2.0</td>\n",
       "      <td>деревня Мины</td>\n",
       "      <td>NaN</td>\n",
       "      <td>NaN</td>\n",
       "      <td>0</td>\n",
       "      <td>NaN</td>\n",
       "      <td>0</td>\n",
       "      <td>NaN</td>\n",
       "      <td>540.0</td>\n",
       "    </tr>\n",
       "    <tr>\n",
       "      <th>5807</th>\n",
       "      <td>17</td>\n",
       "      <td>8150000.0</td>\n",
       "      <td>80.0</td>\n",
       "      <td>2019-01-09</td>\n",
       "      <td>2</td>\n",
       "      <td>27.0</td>\n",
       "      <td>36</td>\n",
       "      <td>41.0</td>\n",
       "      <td>13</td>\n",
       "      <td>False</td>\n",
       "      <td>...</td>\n",
       "      <td>12.0</td>\n",
       "      <td>5.0</td>\n",
       "      <td>Санкт-Петербург</td>\n",
       "      <td>18732.0</td>\n",
       "      <td>20444.0</td>\n",
       "      <td>0</td>\n",
       "      <td>NaN</td>\n",
       "      <td>3</td>\n",
       "      <td>80.0</td>\n",
       "      <td>38.0</td>\n",
       "    </tr>\n",
       "    <tr>\n",
       "      <th>17857</th>\n",
       "      <td>1</td>\n",
       "      <td>3900000.0</td>\n",
       "      <td>56.0</td>\n",
       "      <td>2017-12-22</td>\n",
       "      <td>3</td>\n",
       "      <td>27.0</td>\n",
       "      <td>5</td>\n",
       "      <td>33.0</td>\n",
       "      <td>4</td>\n",
       "      <td>False</td>\n",
       "      <td>...</td>\n",
       "      <td>NaN</td>\n",
       "      <td>NaN</td>\n",
       "      <td>Санкт-Петербург</td>\n",
       "      <td>41030.0</td>\n",
       "      <td>15543.0</td>\n",
       "      <td>0</td>\n",
       "      <td>NaN</td>\n",
       "      <td>0</td>\n",
       "      <td>NaN</td>\n",
       "      <td>73.0</td>\n",
       "    </tr>\n",
       "    <tr>\n",
       "      <th>5669</th>\n",
       "      <td>4</td>\n",
       "      <td>4400000.0</td>\n",
       "      <td>50.0</td>\n",
       "      <td>2017-08-08</td>\n",
       "      <td>2</td>\n",
       "      <td>26.0</td>\n",
       "      <td>9</td>\n",
       "      <td>21.3</td>\n",
       "      <td>3</td>\n",
       "      <td>False</td>\n",
       "      <td>...</td>\n",
       "      <td>7.0</td>\n",
       "      <td>2.0</td>\n",
       "      <td>Санкт-Петербург</td>\n",
       "      <td>28981.0</td>\n",
       "      <td>10912.0</td>\n",
       "      <td>1</td>\n",
       "      <td>305.0</td>\n",
       "      <td>0</td>\n",
       "      <td>NaN</td>\n",
       "      <td>267.0</td>\n",
       "    </tr>\n",
       "    <tr>\n",
       "      <th>18545</th>\n",
       "      <td>6</td>\n",
       "      <td>3750000.0</td>\n",
       "      <td>43.0</td>\n",
       "      <td>2019-03-18</td>\n",
       "      <td>2</td>\n",
       "      <td>25.0</td>\n",
       "      <td>5</td>\n",
       "      <td>29.0</td>\n",
       "      <td>3</td>\n",
       "      <td>False</td>\n",
       "      <td>...</td>\n",
       "      <td>NaN</td>\n",
       "      <td>NaN</td>\n",
       "      <td>Санкт-Петербург</td>\n",
       "      <td>27054.0</td>\n",
       "      <td>8033.0</td>\n",
       "      <td>1</td>\n",
       "      <td>540.0</td>\n",
       "      <td>0</td>\n",
       "      <td>NaN</td>\n",
       "      <td>12.0</td>\n",
       "    </tr>\n",
       "    <tr>\n",
       "      <th>14382</th>\n",
       "      <td>9</td>\n",
       "      <td>1700000.0</td>\n",
       "      <td>35.0</td>\n",
       "      <td>2015-12-04</td>\n",
       "      <td>1</td>\n",
       "      <td>25.0</td>\n",
       "      <td>5</td>\n",
       "      <td>20.0</td>\n",
       "      <td>2</td>\n",
       "      <td>False</td>\n",
       "      <td>...</td>\n",
       "      <td>8.0</td>\n",
       "      <td>1.0</td>\n",
       "      <td>поселок Новый Свет</td>\n",
       "      <td>NaN</td>\n",
       "      <td>NaN</td>\n",
       "      <td>0</td>\n",
       "      <td>NaN</td>\n",
       "      <td>0</td>\n",
       "      <td>NaN</td>\n",
       "      <td>206.0</td>\n",
       "    </tr>\n",
       "    <tr>\n",
       "      <th>11285</th>\n",
       "      <td>0</td>\n",
       "      <td>1950000.0</td>\n",
       "      <td>37.0</td>\n",
       "      <td>2019-03-20</td>\n",
       "      <td>1</td>\n",
       "      <td>25.0</td>\n",
       "      <td>5</td>\n",
       "      <td>17.0</td>\n",
       "      <td>4</td>\n",
       "      <td>False</td>\n",
       "      <td>...</td>\n",
       "      <td>9.0</td>\n",
       "      <td>2.0</td>\n",
       "      <td>Луга</td>\n",
       "      <td>NaN</td>\n",
       "      <td>NaN</td>\n",
       "      <td>0</td>\n",
       "      <td>NaN</td>\n",
       "      <td>0</td>\n",
       "      <td>NaN</td>\n",
       "      <td>18.0</td>\n",
       "    </tr>\n",
       "    <tr>\n",
       "      <th>355</th>\n",
       "      <td>17</td>\n",
       "      <td>3600000.0</td>\n",
       "      <td>55.2</td>\n",
       "      <td>2018-07-12</td>\n",
       "      <td>2</td>\n",
       "      <td>25.0</td>\n",
       "      <td>5</td>\n",
       "      <td>32.0</td>\n",
       "      <td>2</td>\n",
       "      <td>False</td>\n",
       "      <td>...</td>\n",
       "      <td>NaN</td>\n",
       "      <td>2.0</td>\n",
       "      <td>Гатчина</td>\n",
       "      <td>NaN</td>\n",
       "      <td>NaN</td>\n",
       "      <td>0</td>\n",
       "      <td>NaN</td>\n",
       "      <td>0</td>\n",
       "      <td>NaN</td>\n",
       "      <td>259.0</td>\n",
       "    </tr>\n",
       "    <tr>\n",
       "      <th>9379</th>\n",
       "      <td>5</td>\n",
       "      <td>3950000.0</td>\n",
       "      <td>42.0</td>\n",
       "      <td>2017-03-26</td>\n",
       "      <td>3</td>\n",
       "      <td>25.0</td>\n",
       "      <td>5</td>\n",
       "      <td>30.0</td>\n",
       "      <td>2</td>\n",
       "      <td>False</td>\n",
       "      <td>...</td>\n",
       "      <td>5.2</td>\n",
       "      <td>NaN</td>\n",
       "      <td>Санкт-Петербург</td>\n",
       "      <td>11647.0</td>\n",
       "      <td>13581.0</td>\n",
       "      <td>0</td>\n",
       "      <td>NaN</td>\n",
       "      <td>0</td>\n",
       "      <td>NaN</td>\n",
       "      <td>NaN</td>\n",
       "    </tr>\n",
       "    <tr>\n",
       "      <th>4643</th>\n",
       "      <td>0</td>\n",
       "      <td>4300000.0</td>\n",
       "      <td>45.0</td>\n",
       "      <td>2018-02-01</td>\n",
       "      <td>2</td>\n",
       "      <td>25.0</td>\n",
       "      <td>9</td>\n",
       "      <td>30.0</td>\n",
       "      <td>2</td>\n",
       "      <td>False</td>\n",
       "      <td>...</td>\n",
       "      <td>7.0</td>\n",
       "      <td>1.0</td>\n",
       "      <td>Санкт-Петербург</td>\n",
       "      <td>12016.0</td>\n",
       "      <td>13256.0</td>\n",
       "      <td>1</td>\n",
       "      <td>658.0</td>\n",
       "      <td>1</td>\n",
       "      <td>331.0</td>\n",
       "      <td>181.0</td>\n",
       "    </tr>\n",
       "    <tr>\n",
       "      <th>6246</th>\n",
       "      <td>6</td>\n",
       "      <td>3300000.0</td>\n",
       "      <td>44.4</td>\n",
       "      <td>2019-03-25</td>\n",
       "      <td>2</td>\n",
       "      <td>25.0</td>\n",
       "      <td>5</td>\n",
       "      <td>31.3</td>\n",
       "      <td>5</td>\n",
       "      <td>False</td>\n",
       "      <td>...</td>\n",
       "      <td>5.7</td>\n",
       "      <td>NaN</td>\n",
       "      <td>Кронштадт</td>\n",
       "      <td>68923.0</td>\n",
       "      <td>50649.0</td>\n",
       "      <td>1</td>\n",
       "      <td>417.0</td>\n",
       "      <td>2</td>\n",
       "      <td>73.0</td>\n",
       "      <td>NaN</td>\n",
       "    </tr>\n",
       "    <tr>\n",
       "      <th>5076</th>\n",
       "      <td>0</td>\n",
       "      <td>3850000.0</td>\n",
       "      <td>30.5</td>\n",
       "      <td>2018-10-03</td>\n",
       "      <td>1</td>\n",
       "      <td>24.0</td>\n",
       "      <td>5</td>\n",
       "      <td>19.5</td>\n",
       "      <td>1</td>\n",
       "      <td>True</td>\n",
       "      <td>...</td>\n",
       "      <td>5.5</td>\n",
       "      <td>NaN</td>\n",
       "      <td>Санкт-Петербург</td>\n",
       "      <td>29686.0</td>\n",
       "      <td>8389.0</td>\n",
       "      <td>3</td>\n",
       "      <td>397.0</td>\n",
       "      <td>1</td>\n",
       "      <td>578.0</td>\n",
       "      <td>7.0</td>\n",
       "    </tr>\n",
       "    <tr>\n",
       "      <th>20507</th>\n",
       "      <td>12</td>\n",
       "      <td>5950000.0</td>\n",
       "      <td>60.0</td>\n",
       "      <td>2018-02-19</td>\n",
       "      <td>2</td>\n",
       "      <td>22.6</td>\n",
       "      <td>14</td>\n",
       "      <td>35.0</td>\n",
       "      <td>11</td>\n",
       "      <td>False</td>\n",
       "      <td>...</td>\n",
       "      <td>13.0</td>\n",
       "      <td>1.0</td>\n",
       "      <td>Санкт-Петербург</td>\n",
       "      <td>27028.0</td>\n",
       "      <td>12570.0</td>\n",
       "      <td>0</td>\n",
       "      <td>NaN</td>\n",
       "      <td>0</td>\n",
       "      <td>NaN</td>\n",
       "      <td>40.0</td>\n",
       "    </tr>\n",
       "    <tr>\n",
       "      <th>17496</th>\n",
       "      <td>15</td>\n",
       "      <td>6700000.0</td>\n",
       "      <td>92.9</td>\n",
       "      <td>2019-02-19</td>\n",
       "      <td>3</td>\n",
       "      <td>20.0</td>\n",
       "      <td>17</td>\n",
       "      <td>53.2</td>\n",
       "      <td>14</td>\n",
       "      <td>False</td>\n",
       "      <td>...</td>\n",
       "      <td>12.0</td>\n",
       "      <td>5.0</td>\n",
       "      <td>Санкт-Петербург</td>\n",
       "      <td>16295.0</td>\n",
       "      <td>15092.0</td>\n",
       "      <td>1</td>\n",
       "      <td>967.0</td>\n",
       "      <td>0</td>\n",
       "      <td>NaN</td>\n",
       "      <td>NaN</td>\n",
       "    </tr>\n",
       "    <tr>\n",
       "      <th>15061</th>\n",
       "      <td>19</td>\n",
       "      <td>5600000.0</td>\n",
       "      <td>56.4</td>\n",
       "      <td>2018-05-11</td>\n",
       "      <td>2</td>\n",
       "      <td>14.0</td>\n",
       "      <td>14</td>\n",
       "      <td>32.4</td>\n",
       "      <td>5</td>\n",
       "      <td>False</td>\n",
       "      <td>...</td>\n",
       "      <td>9.1</td>\n",
       "      <td>2.0</td>\n",
       "      <td>Санкт-Петербург</td>\n",
       "      <td>14814.0</td>\n",
       "      <td>13610.0</td>\n",
       "      <td>0</td>\n",
       "      <td>NaN</td>\n",
       "      <td>0</td>\n",
       "      <td>NaN</td>\n",
       "      <td>315.0</td>\n",
       "    </tr>\n",
       "    <tr>\n",
       "      <th>22309</th>\n",
       "      <td>20</td>\n",
       "      <td>5300000.0</td>\n",
       "      <td>45.0</td>\n",
       "      <td>2017-09-30</td>\n",
       "      <td>1</td>\n",
       "      <td>10.3</td>\n",
       "      <td>16</td>\n",
       "      <td>15.5</td>\n",
       "      <td>15</td>\n",
       "      <td>False</td>\n",
       "      <td>...</td>\n",
       "      <td>NaN</td>\n",
       "      <td>NaN</td>\n",
       "      <td>Санкт-Петербург</td>\n",
       "      <td>36353.0</td>\n",
       "      <td>11936.0</td>\n",
       "      <td>2</td>\n",
       "      <td>440.0</td>\n",
       "      <td>2</td>\n",
       "      <td>450.0</td>\n",
       "      <td>136.0</td>\n",
       "    </tr>\n",
       "    <tr>\n",
       "      <th>5863</th>\n",
       "      <td>20</td>\n",
       "      <td>5650000.0</td>\n",
       "      <td>45.0</td>\n",
       "      <td>2018-08-15</td>\n",
       "      <td>1</td>\n",
       "      <td>8.3</td>\n",
       "      <td>16</td>\n",
       "      <td>19.3</td>\n",
       "      <td>14</td>\n",
       "      <td>False</td>\n",
       "      <td>...</td>\n",
       "      <td>8.3</td>\n",
       "      <td>1.0</td>\n",
       "      <td>Санкт-Петербург</td>\n",
       "      <td>13069.0</td>\n",
       "      <td>10763.0</td>\n",
       "      <td>0</td>\n",
       "      <td>NaN</td>\n",
       "      <td>1</td>\n",
       "      <td>613.0</td>\n",
       "      <td>14.0</td>\n",
       "    </tr>\n",
       "    <tr>\n",
       "      <th>15743</th>\n",
       "      <td>14</td>\n",
       "      <td>5600000.0</td>\n",
       "      <td>67.0</td>\n",
       "      <td>2016-11-11</td>\n",
       "      <td>3</td>\n",
       "      <td>8.0</td>\n",
       "      <td>16</td>\n",
       "      <td>41.0</td>\n",
       "      <td>1</td>\n",
       "      <td>False</td>\n",
       "      <td>...</td>\n",
       "      <td>8.0</td>\n",
       "      <td>NaN</td>\n",
       "      <td>Санкт-Петербург</td>\n",
       "      <td>32691.0</td>\n",
       "      <td>11035.0</td>\n",
       "      <td>1</td>\n",
       "      <td>723.0</td>\n",
       "      <td>0</td>\n",
       "      <td>NaN</td>\n",
       "      <td>474.0</td>\n",
       "    </tr>\n",
       "    <tr>\n",
       "      <th>17442</th>\n",
       "      <td>0</td>\n",
       "      <td>5350000.0</td>\n",
       "      <td>54.0</td>\n",
       "      <td>2015-06-16</td>\n",
       "      <td>2</td>\n",
       "      <td>8.0</td>\n",
       "      <td>5</td>\n",
       "      <td>29.0</td>\n",
       "      <td>2</td>\n",
       "      <td>False</td>\n",
       "      <td>...</td>\n",
       "      <td>NaN</td>\n",
       "      <td>1.0</td>\n",
       "      <td>Красное Село</td>\n",
       "      <td>24638.0</td>\n",
       "      <td>28062.0</td>\n",
       "      <td>0</td>\n",
       "      <td>NaN</td>\n",
       "      <td>0</td>\n",
       "      <td>NaN</td>\n",
       "      <td>469.0</td>\n",
       "    </tr>\n",
       "    <tr>\n",
       "      <th>3474</th>\n",
       "      <td>3</td>\n",
       "      <td>1400000.0</td>\n",
       "      <td>30.0</td>\n",
       "      <td>2018-03-16</td>\n",
       "      <td>1</td>\n",
       "      <td>8.0</td>\n",
       "      <td>5</td>\n",
       "      <td>15.3</td>\n",
       "      <td>2</td>\n",
       "      <td>False</td>\n",
       "      <td>...</td>\n",
       "      <td>7.3</td>\n",
       "      <td>NaN</td>\n",
       "      <td>деревня Нурма</td>\n",
       "      <td>NaN</td>\n",
       "      <td>NaN</td>\n",
       "      <td>0</td>\n",
       "      <td>NaN</td>\n",
       "      <td>0</td>\n",
       "      <td>NaN</td>\n",
       "      <td>125.0</td>\n",
       "    </tr>\n",
       "    <tr>\n",
       "      <th>20264</th>\n",
       "      <td>17</td>\n",
       "      <td>119000000.0</td>\n",
       "      <td>187.6</td>\n",
       "      <td>2017-07-10</td>\n",
       "      <td>4</td>\n",
       "      <td>6.0</td>\n",
       "      <td>7</td>\n",
       "      <td>147.0</td>\n",
       "      <td>7</td>\n",
       "      <td>False</td>\n",
       "      <td>...</td>\n",
       "      <td>15.6</td>\n",
       "      <td>NaN</td>\n",
       "      <td>Санкт-Петербург</td>\n",
       "      <td>26902.0</td>\n",
       "      <td>5605.0</td>\n",
       "      <td>3</td>\n",
       "      <td>484.0</td>\n",
       "      <td>1</td>\n",
       "      <td>305.0</td>\n",
       "      <td>259.0</td>\n",
       "    </tr>\n",
       "    <tr>\n",
       "      <th>21227</th>\n",
       "      <td>0</td>\n",
       "      <td>8200000.0</td>\n",
       "      <td>71.0</td>\n",
       "      <td>2017-07-21</td>\n",
       "      <td>0</td>\n",
       "      <td>5.8</td>\n",
       "      <td>5</td>\n",
       "      <td>68.0</td>\n",
       "      <td>5</td>\n",
       "      <td>False</td>\n",
       "      <td>...</td>\n",
       "      <td>NaN</td>\n",
       "      <td>0.0</td>\n",
       "      <td>Санкт-Петербург</td>\n",
       "      <td>20170.0</td>\n",
       "      <td>1261.0</td>\n",
       "      <td>2</td>\n",
       "      <td>295.0</td>\n",
       "      <td>3</td>\n",
       "      <td>366.0</td>\n",
       "      <td>30.0</td>\n",
       "    </tr>\n",
       "    <tr>\n",
       "      <th>1388</th>\n",
       "      <td>20</td>\n",
       "      <td>59800000.0</td>\n",
       "      <td>399.0</td>\n",
       "      <td>2015-01-21</td>\n",
       "      <td>5</td>\n",
       "      <td>5.6</td>\n",
       "      <td>6</td>\n",
       "      <td>NaN</td>\n",
       "      <td>6</td>\n",
       "      <td>False</td>\n",
       "      <td>...</td>\n",
       "      <td>NaN</td>\n",
       "      <td>0.0</td>\n",
       "      <td>Санкт-Петербург</td>\n",
       "      <td>26204.0</td>\n",
       "      <td>6934.0</td>\n",
       "      <td>2</td>\n",
       "      <td>149.0</td>\n",
       "      <td>2</td>\n",
       "      <td>577.0</td>\n",
       "      <td>719.0</td>\n",
       "    </tr>\n",
       "    <tr>\n",
       "      <th>7578</th>\n",
       "      <td>17</td>\n",
       "      <td>38000000.0</td>\n",
       "      <td>143.0</td>\n",
       "      <td>2017-11-02</td>\n",
       "      <td>3</td>\n",
       "      <td>5.5</td>\n",
       "      <td>5</td>\n",
       "      <td>83.0</td>\n",
       "      <td>5</td>\n",
       "      <td>False</td>\n",
       "      <td>...</td>\n",
       "      <td>29.0</td>\n",
       "      <td>1.0</td>\n",
       "      <td>Санкт-Петербург</td>\n",
       "      <td>26333.0</td>\n",
       "      <td>6448.0</td>\n",
       "      <td>3</td>\n",
       "      <td>479.0</td>\n",
       "      <td>0</td>\n",
       "      <td>NaN</td>\n",
       "      <td>NaN</td>\n",
       "    </tr>\n",
       "    <tr>\n",
       "      <th>1026</th>\n",
       "      <td>20</td>\n",
       "      <td>155000000.0</td>\n",
       "      <td>310.0</td>\n",
       "      <td>2018-10-12</td>\n",
       "      <td>5</td>\n",
       "      <td>5.3</td>\n",
       "      <td>3</td>\n",
       "      <td>190.0</td>\n",
       "      <td>3</td>\n",
       "      <td>False</td>\n",
       "      <td>...</td>\n",
       "      <td>63.0</td>\n",
       "      <td>2.0</td>\n",
       "      <td>Санкт-Петербург</td>\n",
       "      <td>24899.0</td>\n",
       "      <td>4785.0</td>\n",
       "      <td>0</td>\n",
       "      <td>NaN</td>\n",
       "      <td>1</td>\n",
       "      <td>603.0</td>\n",
       "      <td>NaN</td>\n",
       "    </tr>\n",
       "    <tr>\n",
       "      <th>12628</th>\n",
       "      <td>14</td>\n",
       "      <td>3900000.0</td>\n",
       "      <td>50.0</td>\n",
       "      <td>2018-03-29</td>\n",
       "      <td>1</td>\n",
       "      <td>5.3</td>\n",
       "      <td>5</td>\n",
       "      <td>NaN</td>\n",
       "      <td>5</td>\n",
       "      <td>False</td>\n",
       "      <td>...</td>\n",
       "      <td>NaN</td>\n",
       "      <td>NaN</td>\n",
       "      <td>Санкт-Петербург</td>\n",
       "      <td>19644.0</td>\n",
       "      <td>3918.0</td>\n",
       "      <td>1</td>\n",
       "      <td>505.0</td>\n",
       "      <td>1</td>\n",
       "      <td>92.0</td>\n",
       "      <td>8.0</td>\n",
       "    </tr>\n",
       "    <tr>\n",
       "      <th>464</th>\n",
       "      <td>15</td>\n",
       "      <td>66571000.0</td>\n",
       "      <td>280.3</td>\n",
       "      <td>2015-06-11</td>\n",
       "      <td>6</td>\n",
       "      <td>5.2</td>\n",
       "      <td>8</td>\n",
       "      <td>159.5</td>\n",
       "      <td>7</td>\n",
       "      <td>False</td>\n",
       "      <td>...</td>\n",
       "      <td>21.1</td>\n",
       "      <td>0.0</td>\n",
       "      <td>Санкт-Петербург</td>\n",
       "      <td>26316.0</td>\n",
       "      <td>6655.0</td>\n",
       "      <td>3</td>\n",
       "      <td>187.0</td>\n",
       "      <td>1</td>\n",
       "      <td>616.0</td>\n",
       "      <td>578.0</td>\n",
       "    </tr>\n",
       "  </tbody>\n",
       "</table>\n",
       "<p>36 rows × 22 columns</p>\n",
       "</div>"
      ],
      "text/plain": [
       "       total_images   last_price  total_area first_day_exposition  rooms  \\\n",
       "22869             0   15000000.0        25.0           2018-07-25      1   \n",
       "22336            19    9999000.0        92.4           2019-04-05      2   \n",
       "3148             14    2900000.0        75.0           2018-11-12      3   \n",
       "21377            19    4900000.0        42.0           2017-04-18      1   \n",
       "22938            14    4000000.0        98.0           2018-03-15      4   \n",
       "10773             8    3800000.0        58.0           2017-10-13      2   \n",
       "21824            20    2450000.0        44.0           2019-02-12      2   \n",
       "4876              7    3000000.0        25.0           2017-09-27      0   \n",
       "20478            11    8000000.0        45.0           2017-07-18      1   \n",
       "5246              0    2500000.0        54.0           2017-10-13      2   \n",
       "5807             17    8150000.0        80.0           2019-01-09      2   \n",
       "17857             1    3900000.0        56.0           2017-12-22      3   \n",
       "5669              4    4400000.0        50.0           2017-08-08      2   \n",
       "18545             6    3750000.0        43.0           2019-03-18      2   \n",
       "14382             9    1700000.0        35.0           2015-12-04      1   \n",
       "11285             0    1950000.0        37.0           2019-03-20      1   \n",
       "355              17    3600000.0        55.2           2018-07-12      2   \n",
       "9379              5    3950000.0        42.0           2017-03-26      3   \n",
       "4643              0    4300000.0        45.0           2018-02-01      2   \n",
       "6246              6    3300000.0        44.4           2019-03-25      2   \n",
       "5076              0    3850000.0        30.5           2018-10-03      1   \n",
       "20507            12    5950000.0        60.0           2018-02-19      2   \n",
       "17496            15    6700000.0        92.9           2019-02-19      3   \n",
       "15061            19    5600000.0        56.4           2018-05-11      2   \n",
       "22309            20    5300000.0        45.0           2017-09-30      1   \n",
       "5863             20    5650000.0        45.0           2018-08-15      1   \n",
       "15743            14    5600000.0        67.0           2016-11-11      3   \n",
       "17442             0    5350000.0        54.0           2015-06-16      2   \n",
       "3474              3    1400000.0        30.0           2018-03-16      1   \n",
       "20264            17  119000000.0       187.6           2017-07-10      4   \n",
       "21227             0    8200000.0        71.0           2017-07-21      0   \n",
       "1388             20   59800000.0       399.0           2015-01-21      5   \n",
       "7578             17   38000000.0       143.0           2017-11-02      3   \n",
       "1026             20  155000000.0       310.0           2018-10-12      5   \n",
       "12628            14    3900000.0        50.0           2018-03-29      1   \n",
       "464              15   66571000.0       280.3           2015-06-11      6   \n",
       "\n",
       "       ceiling_height  floors_total  living_area  floor  is_apartment  ...  \\\n",
       "22869           100.0             5         14.0      5          True  ...   \n",
       "22336            32.0             6         55.5      5         False  ...   \n",
       "3148             32.0             3         53.0      2         False  ...   \n",
       "21377            27.5            24         37.7     19         False  ...   \n",
       "22938            27.0             2         73.0      2          True  ...   \n",
       "10773            27.0            10         30.1      3         False  ...   \n",
       "21824            27.0             2         38.0      2         False  ...   \n",
       "4876             27.0            25         17.0     17         False  ...   \n",
       "20478            27.0             4         22.0      2         False  ...   \n",
       "5246             27.0             5         30.0      3         False  ...   \n",
       "5807             27.0            36         41.0     13         False  ...   \n",
       "17857            27.0             5         33.0      4         False  ...   \n",
       "5669             26.0             9         21.3      3         False  ...   \n",
       "18545            25.0             5         29.0      3         False  ...   \n",
       "14382            25.0             5         20.0      2         False  ...   \n",
       "11285            25.0             5         17.0      4         False  ...   \n",
       "355              25.0             5         32.0      2         False  ...   \n",
       "9379             25.0             5         30.0      2         False  ...   \n",
       "4643             25.0             9         30.0      2         False  ...   \n",
       "6246             25.0             5         31.3      5         False  ...   \n",
       "5076             24.0             5         19.5      1          True  ...   \n",
       "20507            22.6            14         35.0     11         False  ...   \n",
       "17496            20.0            17         53.2     14         False  ...   \n",
       "15061            14.0            14         32.4      5         False  ...   \n",
       "22309            10.3            16         15.5     15         False  ...   \n",
       "5863              8.3            16         19.3     14         False  ...   \n",
       "15743             8.0            16         41.0      1         False  ...   \n",
       "17442             8.0             5         29.0      2         False  ...   \n",
       "3474              8.0             5         15.3      2         False  ...   \n",
       "20264             6.0             7        147.0      7         False  ...   \n",
       "21227             5.8             5         68.0      5         False  ...   \n",
       "1388              5.6             6          NaN      6         False  ...   \n",
       "7578              5.5             5         83.0      5         False  ...   \n",
       "1026              5.3             3        190.0      3         False  ...   \n",
       "12628             5.3             5          NaN      5         False  ...   \n",
       "464               5.2             8        159.5      7         False  ...   \n",
       "\n",
       "       kitchen_area  balcony                    locality_name  \\\n",
       "22869          11.0      5.0                  Санкт-Петербург   \n",
       "22336          16.5      4.0                  Санкт-Петербург   \n",
       "3148            8.0      NaN                           Волхов   \n",
       "21377          11.0      2.0                  Санкт-Петербург   \n",
       "22938           9.0      1.0                   деревня Нижняя   \n",
       "10773           8.1      2.0                   посёлок Мурино   \n",
       "21824           8.6      2.0  городской поселок Большая Ижора   \n",
       "4876            NaN      2.0                   посёлок Мурино   \n",
       "20478          10.0      1.0                  Санкт-Петербург   \n",
       "5246            9.0      2.0                     деревня Мины   \n",
       "5807           12.0      5.0                  Санкт-Петербург   \n",
       "17857           NaN      NaN                  Санкт-Петербург   \n",
       "5669            7.0      2.0                  Санкт-Петербург   \n",
       "18545           NaN      NaN                  Санкт-Петербург   \n",
       "14382           8.0      1.0               поселок Новый Свет   \n",
       "11285           9.0      2.0                             Луга   \n",
       "355             NaN      2.0                          Гатчина   \n",
       "9379            5.2      NaN                  Санкт-Петербург   \n",
       "4643            7.0      1.0                  Санкт-Петербург   \n",
       "6246            5.7      NaN                        Кронштадт   \n",
       "5076            5.5      NaN                  Санкт-Петербург   \n",
       "20507          13.0      1.0                  Санкт-Петербург   \n",
       "17496          12.0      5.0                  Санкт-Петербург   \n",
       "15061           9.1      2.0                  Санкт-Петербург   \n",
       "22309           NaN      NaN                  Санкт-Петербург   \n",
       "5863            8.3      1.0                  Санкт-Петербург   \n",
       "15743           8.0      NaN                  Санкт-Петербург   \n",
       "17442           NaN      1.0                     Красное Село   \n",
       "3474            7.3      NaN                    деревня Нурма   \n",
       "20264          15.6      NaN                  Санкт-Петербург   \n",
       "21227           NaN      0.0                  Санкт-Петербург   \n",
       "1388            NaN      0.0                  Санкт-Петербург   \n",
       "7578           29.0      1.0                  Санкт-Петербург   \n",
       "1026           63.0      2.0                  Санкт-Петербург   \n",
       "12628           NaN      NaN                  Санкт-Петербург   \n",
       "464            21.1      0.0                  Санкт-Петербург   \n",
       "\n",
       "       airports_nearest cityCenters_nearest  parks_around3000  parks_nearest  \\\n",
       "22869           34963.0              8283.0                 1          223.0   \n",
       "22336           18838.0              3506.0                 0            NaN   \n",
       "3148                NaN                 NaN                 0            NaN   \n",
       "21377           42742.0              9760.0                 0            NaN   \n",
       "22938               NaN                 NaN                 0            NaN   \n",
       "10773               NaN                 NaN                 0            NaN   \n",
       "21824               NaN                 NaN                 0            NaN   \n",
       "4876                NaN                 NaN                 0            NaN   \n",
       "20478           18975.0              3246.0                 0            NaN   \n",
       "5246                NaN                 NaN                 0            NaN   \n",
       "5807            18732.0             20444.0                 0            NaN   \n",
       "17857           41030.0             15543.0                 0            NaN   \n",
       "5669            28981.0             10912.0                 1          305.0   \n",
       "18545           27054.0              8033.0                 1          540.0   \n",
       "14382               NaN                 NaN                 0            NaN   \n",
       "11285               NaN                 NaN                 0            NaN   \n",
       "355                 NaN                 NaN                 0            NaN   \n",
       "9379            11647.0             13581.0                 0            NaN   \n",
       "4643            12016.0             13256.0                 1          658.0   \n",
       "6246            68923.0             50649.0                 1          417.0   \n",
       "5076            29686.0              8389.0                 3          397.0   \n",
       "20507           27028.0             12570.0                 0            NaN   \n",
       "17496           16295.0             15092.0                 1          967.0   \n",
       "15061           14814.0             13610.0                 0            NaN   \n",
       "22309           36353.0             11936.0                 2          440.0   \n",
       "5863            13069.0             10763.0                 0            NaN   \n",
       "15743           32691.0             11035.0                 1          723.0   \n",
       "17442           24638.0             28062.0                 0            NaN   \n",
       "3474                NaN                 NaN                 0            NaN   \n",
       "20264           26902.0              5605.0                 3          484.0   \n",
       "21227           20170.0              1261.0                 2          295.0   \n",
       "1388            26204.0              6934.0                 2          149.0   \n",
       "7578            26333.0              6448.0                 3          479.0   \n",
       "1026            24899.0              4785.0                 0            NaN   \n",
       "12628           19644.0              3918.0                 1          505.0   \n",
       "464             26316.0              6655.0                 3          187.0   \n",
       "\n",
       "       ponds_around3000  ponds_nearest  days_exposition  \n",
       "22869                 3           30.0             19.0  \n",
       "22336                 3          511.0              NaN  \n",
       "3148                  0            NaN              NaN  \n",
       "21377                 0            NaN             61.0  \n",
       "22938                 0            NaN             27.0  \n",
       "10773                 0            NaN             71.0  \n",
       "21824                 0            NaN              NaN  \n",
       "4876                  0            NaN             28.0  \n",
       "20478                 3          449.0            429.0  \n",
       "5246                  0            NaN            540.0  \n",
       "5807                  3           80.0             38.0  \n",
       "17857                 0            NaN             73.0  \n",
       "5669                  0            NaN            267.0  \n",
       "18545                 0            NaN             12.0  \n",
       "14382                 0            NaN            206.0  \n",
       "11285                 0            NaN             18.0  \n",
       "355                   0            NaN            259.0  \n",
       "9379                  0            NaN              NaN  \n",
       "4643                  1          331.0            181.0  \n",
       "6246                  2           73.0              NaN  \n",
       "5076                  1          578.0              7.0  \n",
       "20507                 0            NaN             40.0  \n",
       "17496                 0            NaN              NaN  \n",
       "15061                 0            NaN            315.0  \n",
       "22309                 2          450.0            136.0  \n",
       "5863                  1          613.0             14.0  \n",
       "15743                 0            NaN            474.0  \n",
       "17442                 0            NaN            469.0  \n",
       "3474                  0            NaN            125.0  \n",
       "20264                 1          305.0            259.0  \n",
       "21227                 3          366.0             30.0  \n",
       "1388                  2          577.0            719.0  \n",
       "7578                  0            NaN              NaN  \n",
       "1026                  1          603.0              NaN  \n",
       "12628                 1           92.0              8.0  \n",
       "464                   1          616.0            578.0  \n",
       "\n",
       "[36 rows x 22 columns]"
      ]
     },
     "execution_count": 15,
     "metadata": {},
     "output_type": "execute_result"
    }
   ],
   "source": [
    "df[df['ceiling_height'] > 5].sort_values('ceiling_height',ascending = False)"
   ]
  },
  {
   "cell_type": "markdown",
   "metadata": {},
   "source": [
    "здесь значение 5 тк это максимальная высота потолков, которую я смог представить в квартире\n",
    "после данного среза видим аномальные значения, например 100 м потолки\n",
    "записей с аномалбными данными 23 строки\n",
    "учитывая данные аномалии проверим как они влияют на среднее  и медиану\n",
    "видим, что разница между медианой и средним не велика, а значит можем сделать вывод, что данные выбросы не повлияют на результат\n",
    "но считаю необходимым провести замену а медианое"
   ]
  },
  {
   "cell_type": "code",
   "execution_count": 16,
   "metadata": {},
   "outputs": [
    {
     "data": {
      "text/plain": [
       "0        2.70\n",
       "1        2.65\n",
       "2        2.60\n",
       "3        2.60\n",
       "4        3.03\n",
       "         ... \n",
       "23694    3.70\n",
       "23695    2.50\n",
       "23696    2.65\n",
       "23697    3.00\n",
       "23698    2.50\n",
       "Name: ceiling_height, Length: 23699, dtype: float64"
      ]
     },
     "execution_count": 16,
     "metadata": {},
     "output_type": "execute_result"
    }
   ],
   "source": [
    "df['ceiling_height'] = df.groupby(['locality_name', 'floors_total'])['ceiling_height'].apply(lambda x: x.fillna(x.median()))\n",
    "df['ceiling_height'].fillna(df['ceiling_height'].median(), inplace=True )\n",
    "df['ceiling_height']"
   ]
  },
  {
   "cell_type": "code",
   "execution_count": 17,
   "metadata": {},
   "outputs": [
    {
     "data": {
      "text/plain": [
       "count    21796.000000\n",
       "mean        34.457852\n",
       "std         22.030445\n",
       "min          2.000000\n",
       "25%         18.600000\n",
       "50%         30.000000\n",
       "75%         42.300000\n",
       "max        409.700000\n",
       "Name: living_area, dtype: float64"
      ]
     },
     "execution_count": 17,
     "metadata": {},
     "output_type": "execute_result"
    }
   ],
   "source": [
    "df['living_area'].describe()\n",
    "#df['living_area'].isna().sum()\n",
    "#тут я считаю аналогичная ситуация и пока заполнения не требует"
   ]
  },
  {
   "cell_type": "code",
   "execution_count": 18,
   "metadata": {},
   "outputs": [
    {
     "name": "stdout",
     "output_type": "stream",
     "text": [
      "<class 'pandas.core.frame.DataFrame'>\n",
      "RangeIndex: 23699 entries, 0 to 23698\n",
      "Data columns (total 22 columns):\n",
      " #   Column                Non-Null Count  Dtype         \n",
      "---  ------                --------------  -----         \n",
      " 0   total_images          23699 non-null  int64         \n",
      " 1   last_price            23699 non-null  float64       \n",
      " 2   total_area            23699 non-null  float64       \n",
      " 3   first_day_exposition  23699 non-null  datetime64[ns]\n",
      " 4   rooms                 23699 non-null  int64         \n",
      " 5   ceiling_height        23699 non-null  float64       \n",
      " 6   floors_total          23699 non-null  int64         \n",
      " 7   living_area           21796 non-null  float64       \n",
      " 8   floor                 23699 non-null  int64         \n",
      " 9   is_apartment          23699 non-null  bool          \n",
      " 10  studio                23699 non-null  bool          \n",
      " 11  open_plan             23699 non-null  bool          \n",
      " 12  kitchen_area          21421 non-null  float64       \n",
      " 13  balcony               23699 non-null  int64         \n",
      " 14  locality_name         23650 non-null  object        \n",
      " 15  airports_nearest      18157 non-null  float64       \n",
      " 16  cityCenters_nearest   18180 non-null  float64       \n",
      " 17  parks_around3000      23699 non-null  int64         \n",
      " 18  parks_nearest         8079 non-null   float64       \n",
      " 19  ponds_around3000      23699 non-null  int64         \n",
      " 20  ponds_nearest         9110 non-null   float64       \n",
      " 21  days_exposition       20518 non-null  float64       \n",
      "dtypes: bool(3), datetime64[ns](1), float64(10), int64(7), object(1)\n",
      "memory usage: 3.5+ MB\n"
     ]
    }
   ],
   "source": [
    "#заполним пропуски с информацией о балконах\n",
    "#считаю что если отсутствует информация о балконе, то значит она отсутствует\n",
    "# а значит можно заполнить 0 и дополнительно изменить тип на целочисленный\n",
    "df['balcony'] = df['balcony'].fillna(0).astype(int)\n",
    "df.info()"
   ]
  },
  {
   "cell_type": "markdown",
   "metadata": {},
   "source": [
    "Пока оставим данные в таком виде и перейдем к следующему шагу\n",
    "\n"
   ]
  },
  {
   "cell_type": "markdown",
   "metadata": {
    "tags": []
   },
   "source": [
    "### Посчитайте и добавьте в таблицу новые столбцы"
   ]
  },
  {
   "cell_type": "markdown",
   "metadata": {},
   "source": [
    "Добавьте в таблицу новые столбцы со следующими параметрами:\n",
    "цена одного квадратного метра;\n",
    "день недели публикации объявления (0 — понедельник, 1 — вторник и так далее);\n",
    "месяц публикации объявления;\n",
    "год публикации объявления;\n",
    "тип этажа квартиры (значения — «‎первый», «последний», «другой»);\n",
    "расстояние до центра города в километрах (переведите из м в км и округлите до целых значений)."
   ]
  },
  {
   "cell_type": "code",
   "execution_count": 19,
   "metadata": {},
   "outputs": [
    {
     "data": {
      "text/plain": [
       "0        120370\n",
       "1         82920\n",
       "2         92785\n",
       "3        408176\n",
       "4        100000\n",
       "          ...  \n",
       "23694     72490\n",
       "23695     52542\n",
       "23696     44091\n",
       "23697    149511\n",
       "23698     41795\n",
       "Name: price_per_sqr, Length: 23699, dtype: int64"
      ]
     },
     "execution_count": 19,
     "metadata": {},
     "output_type": "execute_result"
    }
   ],
   "source": [
    "#что-бы найти стоимость квадратного метра разделить последнюю цену на площадб\n",
    "# за это отвечают столбцы last_price, total_area\n",
    "df['price_per_sqr'] = df['last_price']/df['total_area']\n",
    "df['price_per_sqr'].astype(int)\n",
    "# display(df['price_per_sqr'])"
   ]
  },
  {
   "cell_type": "code",
   "execution_count": 20,
   "metadata": {},
   "outputs": [],
   "source": [
    "# Добавляем столбцы дня недели, месяца и года\n",
    "df['weekday_public_announcement'] = df['first_day_exposition'].dt.weekday\n",
    "df['month_public_announcement'] = df['first_day_exposition'].dt.month\n",
    "df['year_publicannouncement'] = df['first_day_exposition'].dt.year\n"
   ]
  },
  {
   "cell_type": "code",
   "execution_count": 21,
   "metadata": {},
   "outputs": [
    {
     "data": {
      "text/plain": [
       "0        другой\n",
       "1        первый\n",
       "2        другой\n",
       "3        другой\n",
       "4        другой\n",
       "          ...  \n",
       "23694    другой\n",
       "23695    другой\n",
       "23696    первый\n",
       "23697    другой\n",
       "23698    первый\n",
       "Name: floor_category, Length: 23699, dtype: object"
      ]
     },
     "metadata": {},
     "output_type": "display_data"
    }
   ],
   "source": [
    "#для типов этажей применим категоризацию, которую напишем с помощью функции\n",
    "def category_floor (row):\n",
    "    floors_total = row['floors_total']\n",
    "    floor = row['floor']\n",
    "    if floor == 1:\n",
    "        return 'первый'\n",
    "    if floor == row['floors_total']:\n",
    "        return 'последний'\n",
    "    elif floor > 1 < floors_total:\n",
    "        return 'другой'\n",
    "df['floor_category'] = df.apply(category_floor, axis = 1)\n",
    "display(df['floor_category'])"
   ]
  },
  {
   "cell_type": "code",
   "execution_count": 23,
   "metadata": {},
   "outputs": [],
   "source": [
    "df['cityCenters_nearest'] = df['cityCenters_nearest']/1000\n"
   ]
  },
  {
   "cell_type": "code",
   "execution_count": 26,
   "metadata": {},
   "outputs": [
    {
     "data": {
      "text/plain": [
       "0        16.028\n",
       "1        18.603\n",
       "2        13.933\n",
       "3         6.800\n",
       "4         8.098\n",
       "          ...  \n",
       "23694     4.232\n",
       "23695       NaN\n",
       "23696       NaN\n",
       "23697    10.364\n",
       "23698       NaN\n",
       "Name: cityCenters_nearest, Length: 23699, dtype: float64"
      ]
     },
     "metadata": {},
     "output_type": "display_data"
    }
   ],
   "source": [
    "display(df['cityCenters_nearest'])"
   ]
  },
  {
   "cell_type": "code",
   "execution_count": 30,
   "metadata": {},
   "outputs": [],
   "source": [
    "df['cityCenters_nearest'] = df['cityCenters_nearest'].round()\n"
   ]
  },
  {
   "cell_type": "code",
   "execution_count": 34,
   "metadata": {},
   "outputs": [
    {
     "data": {
      "text/plain": [
       "0        16.0\n",
       "1        19.0\n",
       "2        14.0\n",
       "3         7.0\n",
       "4         8.0\n",
       "         ... \n",
       "23694     4.0\n",
       "23695     NaN\n",
       "23696     NaN\n",
       "23697    10.0\n",
       "23698     NaN\n",
       "Name: cityCenters_nearest, Length: 23699, dtype: float64"
      ]
     },
     "execution_count": 34,
     "metadata": {},
     "output_type": "execute_result"
    }
   ],
   "source": [
    "df['cityCenters_nearest'] "
   ]
  },
  {
   "cell_type": "markdown",
   "metadata": {
    "tags": []
   },
   "source": [
    "### Проведите исследовательский анализ данных"
   ]
  },
  {
   "cell_type": "markdown",
   "metadata": {},
   "source": [
    "Проведите исследовательский анализ данных:\n",
    "Изучите следующие параметры объектов:\n",
    "общая площадь;\n",
    "жилая площадь;\n",
    "площадь кухни;\n",
    "цена объекта;\n",
    "количество комнат;\n",
    "высота потолков;\n",
    "этаж квартиры;\n",
    "тип этажа квартиры («первый», «последний», «другой»);\n",
    "общее количество этажей в доме;\n",
    "расстояние до центра города в метрах;\n",
    "расстояние до ближайшего аэропорта;\n",
    "расстояние до ближайшего парка;\n",
    "день и месяц публикации объявления.\n",
    "Постройте отдельные гистограммы для каждого из этих параметров. Опишите все ваши наблюдения по параметрам в ячейке с типом markdown.\n",
    "Изучите, как быстро продавались квартиры (столбец days_exposition). Этот параметр показывает, сколько дней было размещено каждое объявление. \n",
    " \n",
    "Постройте гистограмму.\n",
    "Посчитайте среднее и медиану.\n",
    "В ячейке типа markdown опишите, сколько времени обычно занимает продажа. Какие продажи можно считать быстрыми, а какие — необычно долгими?\n",
    "Какие факторы больше всего влияют на общую (полную) стоимость объекта?\n",
    "Изучите, зависит ли цена от:\n",
    "общей площади;\n",
    "жилой площади;\n",
    "площади кухни;\n",
    "количества комнат;\n",
    "этажа, на котором расположена квартира (первый, последний, другой);\n",
    "даты размещения (день недели, месяц, год).\n",
    "Постройте графики, которые покажут зависимость цены от указанных выше параметров. Для подготовки данных перед визуализацией вы можете использовать сводные таблицы.\n",
    "Посчитайте среднюю цену одного квадратного метра в 10 населённых пунктах с наибольшим числом объявлений. Выделите населённые пункты с самой высокой и низкой стоимостью квадратного метра. Эти данные можно найти по имени в столбце locality_name.\n",
    "Ранее вы посчитали расстояние до центра в километрах. Теперь выделите квартиры в Санкт-Петербурге с помощью столбца locality_name и вычислите среднюю цену каждого километра. Опишите, как стоимость объектов зависит от расстояния до центра города."
   ]
  },
  {
   "cell_type": "code",
   "execution_count": 21,
   "metadata": {},
   "outputs": [
    {
     "name": "stdout",
     "output_type": "stream",
     "text": [
      "Самые большие квартиры:\n",
      "19540    900.0\n",
      "12859    631.2\n",
      "3117     631.0\n",
      "15651    618.0\n",
      "5358     590.0\n",
      "4237     517.0\n",
      "8018     507.0\n",
      "5893     500.0\n",
      "15016    500.0\n",
      "12401    495.0\n",
      "Name: total_area, dtype: float64\n"
     ]
    },
    {
     "data": {
      "image/png": "[encoded data removed]",
      "text/plain": [
       "<Figure size 720x360 with 1 Axes>"
      ]
     },
     "metadata": {
      "needs_background": "light"
     },
     "output_type": "display_data"
    }
   ],
   "source": [
    "#Начнем с общей площади (total_area)\n",
    "df.plot(y = 'total_area', kind = 'hist', bins = 80, grid=True, figsize = (10,5), range = (0,350))\n",
    "print('Самые большие квартиры:')\n",
    "print( df['total_area'].sort_values(ascending=False).head(10))"
   ]
  },
  {
   "cell_type": "markdown",
   "metadata": {},
   "source": [
    "***Вывод:*** данные распределены нормально,присутствуют небольшие выбросы не влияющие на общю статистику\n",
    "Видим, что большинство квартир в основном площадью до 100 квадратных метров.\n",
    "также, есть часть квартир с площадью более 200 метров\n",
    "и есть совсем аномальные квартиры с площадью по 400-900 квадратных метров\n",
    "такое возможно, но выглядит неправдоподобно\n",
    "могу предположить, что пики показывают деление по комнатам (1,2,3)"
   ]
  },
  {
   "cell_type": "code",
   "execution_count": 22,
   "metadata": {},
   "outputs": [
    {
     "name": "stdout",
     "output_type": "stream",
     "text": [
      "Самые большие квартиры по жилой площщади:\n",
      "19540    409.7\n",
      "5358     409.0\n",
      "12401    347.5\n",
      "4237     332.0\n",
      "12859    322.3\n",
      "660      312.5\n",
      "8018     301.5\n",
      "14088    300.0\n",
      "20273    279.6\n",
      "22494    274.0\n",
      "Name: living_area, dtype: float64\n"
     ]
    },
    {
     "data": {
      "image/png": "[encoded data removed]",
      "text/plain": [
       "<Figure size 720x360 with 1 Axes>"
      ]
     },
     "metadata": {
      "needs_background": "light"
     },
     "output_type": "display_data"
    }
   ],
   "source": [
    "#жилая площадь\n",
    "df.plot(y='living_area', kind = 'hist', bins = 50, grid=True, figsize = (10,5), range = (0,350))\n",
    "print('Самые большие квартиры по жилой площщади:')\n",
    "print( df['living_area'].sort_values(ascending=False).head(10))"
   ]
  },
  {
   "cell_type": "markdown",
   "metadata": {},
   "source": [
    "По жилой площади основная масса квартир до 60 квадратных метров\n",
    "также, есть квартиры от 80-100 метров, но их намного меньше\n",
    "видим и аномалии свыше 200 квадратов"
   ]
  },
  {
   "cell_type": "code",
   "execution_count": 23,
   "metadata": {},
   "outputs": [
    {
     "name": "stdout",
     "output_type": "stream",
     "text": [
      "Самые большие квартиры по площади кухни:\n",
      "19540    112.0\n",
      "20215    107.0\n",
      "2489     100.7\n",
      "5358     100.0\n",
      "16239     93.2\n",
      "16797     93.0\n",
      "10867     87.2\n",
      "4394      77.0\n",
      "492       77.0\n",
      "14644     75.0\n",
      "Name: kitchen_area, dtype: float64\n"
     ]
    },
    {
     "data": {
      "image/png": "[encoded data removed]",
      "text/plain": [
       "<Figure size 720x360 with 1 Axes>"
      ]
     },
     "metadata": {
      "needs_background": "light"
     },
     "output_type": "display_data"
    }
   ],
   "source": [
    "#площадь кухни\n",
    "df.plot(y='kitchen_area', kind = 'hist', bins = 150, grid=True, figsize = (10,5), range = (0,100))\n",
    "print('Самые большие квартиры по площади кухни:')\n",
    "print( df['kitchen_area'].sort_values(ascending=False).head(10))"
   ]
  },
  {
   "cell_type": "markdown",
   "metadata": {},
   "source": [
    "**Вывод**\n",
    "Большинство кухонь от 5-15м\n",
    "редко встречаются кухни от 15-30 м\n",
    "есть и неадекватные значения, например кухни более 60 квадратов"
   ]
  },
  {
   "cell_type": "code",
   "execution_count": 24,
   "metadata": {},
   "outputs": [
    {
     "name": "stdout",
     "output_type": "stream",
     "text": [
      "Наибольшие по цене варианты:\n",
      "12971    763000000.0\n",
      "19540    420000000.0\n",
      "14706    401300000.0\n",
      "1436     330000000.0\n",
      "15651    300000000.0\n",
      "22831    289238400.0\n",
      "16461    245000000.0\n",
      "13749    240000000.0\n",
      "5893     230000000.0\n",
      "8900     190870000.0\n",
      "Name: last_price, dtype: float64\n"
     ]
    },
    {
     "data": {
      "image/png": "[encoded data removed]",
      "text/plain": [
       "<Figure size 720x216 with 1 Axes>"
      ]
     },
     "metadata": {
      "needs_background": "light"
     },
     "output_type": "display_data"
    }
   ],
   "source": [
    "df.plot(y = 'last_price', kind = 'hist', bins = 50, grid=True, range = (0,25000000), figsize = (10,3))\n",
    "df['last_price'].describe().round()\n",
    "print('Наибольшие по цене варианты:')\n",
    "print(df['last_price'].sort_values(ascending=False).head(10))\n",
    "#тут тоже распределяются нормально данные"
   ]
  },
  {
   "cell_type": "markdown",
   "metadata": {},
   "source": [
    "**Вывод**\n",
    "Большинстово вартир стоят в среднем до 5-5,5 млн р\n",
    "Также есть аномальные значения стоимости, например 763 млн р"
   ]
  },
  {
   "cell_type": "code",
   "execution_count": 25,
   "metadata": {},
   "outputs": [
    {
     "name": "stdout",
     "output_type": "stream",
     "text": [
      "Наибольшие по кол-ву комнат варианты:\n",
      "14498    19\n",
      "18848    16\n",
      "5358     15\n",
      "20829    14\n",
      "866      14\n",
      "19540    12\n",
      "9688     11\n",
      "648      11\n",
      "18119    10\n",
      "4149     10\n",
      "Name: rooms, dtype: int64\n"
     ]
    },
    {
     "data": {
      "text/html": [
       "<div>\n",
       "<style scoped>\n",
       "    .dataframe tbody tr th:only-of-type {\n",
       "        vertical-align: middle;\n",
       "    }\n",
       "\n",
       "    .dataframe tbody tr th {\n",
       "        vertical-align: top;\n",
       "    }\n",
       "\n",
       "    .dataframe thead th {\n",
       "        text-align: right;\n",
       "    }\n",
       "</style>\n",
       "<table border=\"1\" class=\"dataframe\">\n",
       "  <thead>\n",
       "    <tr style=\"text-align: right;\">\n",
       "      <th></th>\n",
       "      <th>total_images</th>\n",
       "      <th>last_price</th>\n",
       "      <th>total_area</th>\n",
       "      <th>first_day_exposition</th>\n",
       "      <th>rooms</th>\n",
       "      <th>ceiling_height</th>\n",
       "      <th>floors_total</th>\n",
       "      <th>living_area</th>\n",
       "      <th>floor</th>\n",
       "      <th>is_apartment</th>\n",
       "      <th>...</th>\n",
       "      <th>parks_around3000</th>\n",
       "      <th>parks_nearest</th>\n",
       "      <th>ponds_around3000</th>\n",
       "      <th>ponds_nearest</th>\n",
       "      <th>days_exposition</th>\n",
       "      <th>price_per_sqr</th>\n",
       "      <th>weekday_public_announcement</th>\n",
       "      <th>month_public_announcement</th>\n",
       "      <th>year_publicannouncement</th>\n",
       "      <th>floor_category</th>\n",
       "    </tr>\n",
       "  </thead>\n",
       "  <tbody>\n",
       "    <tr>\n",
       "      <th>839</th>\n",
       "      <td>14</td>\n",
       "      <td>1900000.0</td>\n",
       "      <td>35.0</td>\n",
       "      <td>2017-04-14</td>\n",
       "      <td>0</td>\n",
       "      <td>2.700</td>\n",
       "      <td>5</td>\n",
       "      <td>15.0</td>\n",
       "      <td>3</td>\n",
       "      <td>False</td>\n",
       "      <td>...</td>\n",
       "      <td>0</td>\n",
       "      <td>NaN</td>\n",
       "      <td>0</td>\n",
       "      <td>NaN</td>\n",
       "      <td>7</td>\n",
       "      <td>54285.714286</td>\n",
       "      <td>4</td>\n",
       "      <td>4</td>\n",
       "      <td>2017</td>\n",
       "      <td>другой</td>\n",
       "    </tr>\n",
       "    <tr>\n",
       "      <th>4930</th>\n",
       "      <td>6</td>\n",
       "      <td>2176000.0</td>\n",
       "      <td>23.0</td>\n",
       "      <td>2017-12-08</td>\n",
       "      <td>0</td>\n",
       "      <td>2.900</td>\n",
       "      <td>4</td>\n",
       "      <td>19.0</td>\n",
       "      <td>1</td>\n",
       "      <td>False</td>\n",
       "      <td>...</td>\n",
       "      <td>1</td>\n",
       "      <td>484.0</td>\n",
       "      <td>3</td>\n",
       "      <td>214.0</td>\n",
       "      <td>7</td>\n",
       "      <td>94608.695652</td>\n",
       "      <td>4</td>\n",
       "      <td>12</td>\n",
       "      <td>2017</td>\n",
       "      <td>первый</td>\n",
       "    </tr>\n",
       "    <tr>\n",
       "      <th>5855</th>\n",
       "      <td>3</td>\n",
       "      <td>945750.0</td>\n",
       "      <td>19.5</td>\n",
       "      <td>2017-09-18</td>\n",
       "      <td>0</td>\n",
       "      <td>2.760</td>\n",
       "      <td>3</td>\n",
       "      <td>12.7</td>\n",
       "      <td>2</td>\n",
       "      <td>False</td>\n",
       "      <td>...</td>\n",
       "      <td>0</td>\n",
       "      <td>NaN</td>\n",
       "      <td>0</td>\n",
       "      <td>NaN</td>\n",
       "      <td>3</td>\n",
       "      <td>48500.000000</td>\n",
       "      <td>0</td>\n",
       "      <td>9</td>\n",
       "      <td>2017</td>\n",
       "      <td>другой</td>\n",
       "    </tr>\n",
       "    <tr>\n",
       "      <th>7256</th>\n",
       "      <td>16</td>\n",
       "      <td>3500000.0</td>\n",
       "      <td>29.2</td>\n",
       "      <td>2017-04-16</td>\n",
       "      <td>0</td>\n",
       "      <td>2.640</td>\n",
       "      <td>16</td>\n",
       "      <td>16.7</td>\n",
       "      <td>3</td>\n",
       "      <td>False</td>\n",
       "      <td>...</td>\n",
       "      <td>0</td>\n",
       "      <td>NaN</td>\n",
       "      <td>0</td>\n",
       "      <td>NaN</td>\n",
       "      <td>28</td>\n",
       "      <td>119863.013699</td>\n",
       "      <td>6</td>\n",
       "      <td>4</td>\n",
       "      <td>2017</td>\n",
       "      <td>другой</td>\n",
       "    </tr>\n",
       "    <tr>\n",
       "      <th>10534</th>\n",
       "      <td>10</td>\n",
       "      <td>2100000.0</td>\n",
       "      <td>26.7</td>\n",
       "      <td>2018-08-03</td>\n",
       "      <td>0</td>\n",
       "      <td>2.700</td>\n",
       "      <td>17</td>\n",
       "      <td>14.2</td>\n",
       "      <td>7</td>\n",
       "      <td>False</td>\n",
       "      <td>...</td>\n",
       "      <td>0</td>\n",
       "      <td>NaN</td>\n",
       "      <td>0</td>\n",
       "      <td>NaN</td>\n",
       "      <td>18</td>\n",
       "      <td>78651.685393</td>\n",
       "      <td>4</td>\n",
       "      <td>8</td>\n",
       "      <td>2018</td>\n",
       "      <td>другой</td>\n",
       "    </tr>\n",
       "    <tr>\n",
       "      <th>20584</th>\n",
       "      <td>12</td>\n",
       "      <td>2170000.0</td>\n",
       "      <td>22.2</td>\n",
       "      <td>2018-11-04</td>\n",
       "      <td>0</td>\n",
       "      <td>2.735</td>\n",
       "      <td>18</td>\n",
       "      <td>16.6</td>\n",
       "      <td>7</td>\n",
       "      <td>False</td>\n",
       "      <td>...</td>\n",
       "      <td>0</td>\n",
       "      <td>NaN</td>\n",
       "      <td>0</td>\n",
       "      <td>NaN</td>\n",
       "      <td>36</td>\n",
       "      <td>97747.747748</td>\n",
       "      <td>6</td>\n",
       "      <td>11</td>\n",
       "      <td>2018</td>\n",
       "      <td>другой</td>\n",
       "    </tr>\n",
       "  </tbody>\n",
       "</table>\n",
       "<p>6 rows × 27 columns</p>\n",
       "</div>"
      ],
      "text/plain": [
       "       total_images  last_price  total_area first_day_exposition  rooms  \\\n",
       "839              14   1900000.0        35.0           2017-04-14      0   \n",
       "4930              6   2176000.0        23.0           2017-12-08      0   \n",
       "5855              3    945750.0        19.5           2017-09-18      0   \n",
       "7256             16   3500000.0        29.2           2017-04-16      0   \n",
       "10534            10   2100000.0        26.7           2018-08-03      0   \n",
       "20584            12   2170000.0        22.2           2018-11-04      0   \n",
       "\n",
       "       ceiling_height  floors_total  living_area  floor  is_apartment  ...  \\\n",
       "839             2.700             5         15.0      3         False  ...   \n",
       "4930            2.900             4         19.0      1         False  ...   \n",
       "5855            2.760             3         12.7      2         False  ...   \n",
       "7256            2.640            16         16.7      3         False  ...   \n",
       "10534           2.700            17         14.2      7         False  ...   \n",
       "20584           2.735            18         16.6      7         False  ...   \n",
       "\n",
       "       parks_around3000  parks_nearest  ponds_around3000  ponds_nearest  \\\n",
       "839                   0            NaN                 0            NaN   \n",
       "4930                  1          484.0                 3          214.0   \n",
       "5855                  0            NaN                 0            NaN   \n",
       "7256                  0            NaN                 0            NaN   \n",
       "10534                 0            NaN                 0            NaN   \n",
       "20584                 0            NaN                 0            NaN   \n",
       "\n",
       "      days_exposition  price_per_sqr  weekday_public_announcement  \\\n",
       "839                 7   54285.714286                            4   \n",
       "4930                7   94608.695652                            4   \n",
       "5855                3   48500.000000                            0   \n",
       "7256               28  119863.013699                            6   \n",
       "10534              18   78651.685393                            4   \n",
       "20584              36   97747.747748                            6   \n",
       "\n",
       "       month_public_announcement  year_publicannouncement  floor_category  \n",
       "839                            4                     2017          другой  \n",
       "4930                          12                     2017          первый  \n",
       "5855                           9                     2017          другой  \n",
       "7256                           4                     2017          другой  \n",
       "10534                          8                     2018          другой  \n",
       "20584                         11                     2018          другой  \n",
       "\n",
       "[6 rows x 27 columns]"
      ]
     },
     "execution_count": 25,
     "metadata": {},
     "output_type": "execute_result"
    },
    {
     "data": {
      "image/png": "[encoded data removed]",
      "text/plain": [
       "<Figure size 720x360 with 1 Axes>"
      ]
     },
     "metadata": {
      "needs_background": "light"
     },
     "output_type": "display_data"
    }
   ],
   "source": [
    "df.plot(y = 'rooms', kind = 'hist', bins = 50, grid=True, figsize = (10,5))\n",
    "print('Наибольшие по кол-ву комнат варианты:')\n",
    "print(df['rooms'].sort_values(ascending=False).head(10))\n",
    "\n",
    "df.query('rooms == 0 and is_apartment == False ') # убедился, что  квартиры являются апартаментами т.е. без комнат"
   ]
  },
  {
   "cell_type": "code",
   "execution_count": 26,
   "metadata": {},
   "outputs": [
    {
     "name": "stdout",
     "output_type": "stream",
     "text": [
      "Cамые высокие потолки:\n",
      "22869    100.0\n",
      "22336     32.0\n",
      "3148      32.0\n",
      "21377     27.5\n",
      "22938     27.0\n",
      "4876      27.0\n",
      "10773     27.0\n",
      "5807      27.0\n",
      "5246      27.0\n",
      "20478     27.0\n",
      "Name: ceiling_height, dtype: float64\n"
     ]
    },
    {
     "data": {
      "image/png": "[encoded data removed]",
      "text/plain": [
       "<Figure size 360x216 with 1 Axes>"
      ]
     },
     "metadata": {
      "needs_background": "light"
     },
     "output_type": "display_data"
    }
   ],
   "source": [
    "#высота потолков\n",
    "df.plot(y = 'ceiling_height', kind = 'hist', bins = 10, range = (2,5), grid=True, figsize = (5,3))\n",
    "print('Cамые высокие потолки:')\n",
    "print(df['ceiling_height'].sort_values(ascending=False).head(10))\n"
   ]
  },
  {
   "cell_type": "markdown",
   "metadata": {},
   "source": [
    "**Вывод**:\n",
    "Большинство потолков высотой 2,7 м\n",
    "также график показывает, что диапазон высоты потолков 2,2-3, что соответствует нормальной высоте потолков в среднестатистической квартире\n",
    "В данных мы видим значения от 20-100 кв м\n",
    "в скорее всего это значения/10 = 2,7 м\n",
    "ну, а 100 м аномалия"
   ]
  },
  {
   "cell_type": "code",
   "execution_count": 27,
   "metadata": {},
   "outputs": [],
   "source": [
    "#df.query('ceiling_height == 2.5 and ceiling_height < 3')\n",
    "#df[df['ceiling_height']>=15].sort_values('ceiling_height')\n",
    "#df.query('ceiling_height > 15')\n",
    "\n"
   ]
  },
  {
   "cell_type": "code",
   "execution_count": 28,
   "metadata": {},
   "outputs": [
    {
     "name": "stdout",
     "output_type": "stream",
     "text": [
      "Распределение по этажам:\n",
      "18218    33\n",
      "11575    32\n",
      "18629    31\n",
      "1917     30\n",
      "11079    29\n",
      "397      28\n",
      "8496     27\n",
      "16644    27\n",
      "12888    27\n",
      "6157     27\n",
      "Name: floor, dtype: int64\n"
     ]
    },
    {
     "data": {
      "image/png": "[encoded data removed]",
      "text/plain": [
       "<Figure size 576x360 with 1 Axes>"
      ]
     },
     "metadata": {
      "needs_background": "light"
     },
     "output_type": "display_data"
    }
   ],
   "source": [
    "# по этажности\n",
    "df.plot(y = 'floor', kind = 'hist', bins = 30, range = (0,35), grid=True, figsize = (8,5))\n",
    "print('Распределение по этажам:')\n",
    "print(df['floor'].sort_values(ascending=False).head(10))\n",
    "#данные распределяются корректно"
   ]
  },
  {
   "cell_type": "markdown",
   "metadata": {},
   "source": [
    "**Вывод:**\n",
    "Большинство квартир находятся с 0-7 этаж\n",
    "также,судя по графику почти все квартиры продают в домах типовой застройки\n",
    "Аномальных значений не зафиксировал"
   ]
  },
  {
   "cell_type": "code",
   "execution_count": 29,
   "metadata": {},
   "outputs": [
    {
     "name": "stdout",
     "output_type": "stream",
     "text": [
      "Распределение по расстоянию до центра города:\n",
      "9640     65.968\n",
      "5340     65.952\n",
      "577      65.764\n",
      "20746    65.105\n",
      "5218     64.857\n",
      "18884    62.706\n",
      "2974     62.454\n",
      "16569    61.495\n",
      "23123    60.223\n",
      "4441     59.626\n",
      "Name: cityCenters_nearest, dtype: float64\n"
     ]
    },
    {
     "data": {
      "image/png": "[encoded data removed]",
      "text/plain": [
       "<Figure size 360x216 with 1 Axes>"
      ]
     },
     "metadata": {
      "needs_background": "light"
     },
     "output_type": "display_data"
    }
   ],
   "source": [
    "# до центра города\n",
    "df.plot(y = 'cityCenters_nearest', kind = 'hist', bins = 80, range = (0,80), grid=True, figsize = (5,3))\n",
    "print('Распределение по расстоянию до центра города:')\n",
    "print(df['cityCenters_nearest'].sort_values(ascending=False).head(10))"
   ]
  },
  {
   "cell_type": "markdown",
   "metadata": {},
   "source": [
    "**Вывод:**\n",
    "Квартиры продают, как в самом центре города (их мало)\n",
    "так и в пригороде \n",
    "основной диапазон удаленности от 8-20 км, что характерно для крупного города"
   ]
  },
  {
   "cell_type": "code",
   "execution_count": 30,
   "metadata": {},
   "outputs": [
    {
     "name": "stdout",
     "output_type": "stream",
     "text": [
      "Распределение по расстоянию до аэропорта:\n",
      "9640     84869.0\n",
      "5340     84853.0\n",
      "577      84665.0\n",
      "20746    84006.0\n",
      "5218     83758.0\n",
      "18884    81607.0\n",
      "2974     81355.0\n",
      "4441     78527.0\n",
      "939      75646.0\n",
      "376      73827.0\n",
      "Name: airports_nearest, dtype: float64\n"
     ]
    },
    {
     "data": {
      "image/png": "[encoded data removed]",
      "text/plain": [
       "<Figure size 576x288 with 1 Axes>"
      ]
     },
     "metadata": {
      "needs_background": "light"
     },
     "output_type": "display_data"
    }
   ],
   "source": [
    "#по удаленности от аэропорта\n",
    "df.plot(y = 'airports_nearest', kind = 'hist', bins = 100, range = (0,85000), grid=True, figsize = (8,4))\n",
    "print('Распределение по расстоянию до аэропорта:')\n",
    "print(df['airports_nearest'].sort_values(ascending=False).head(10))\n",
    "#df['airports_nearest'].sort_values(ascending= False)\n",
    "#df.query('airports_nearest <8000')"
   ]
  },
  {
   "cell_type": "markdown",
   "metadata": {},
   "source": [
    "**Вывод:**\n",
    "Максимальная удаленность от аэропорта 84км\n",
    "основной диапазон удаленности от аэропорта 10-30км \n",
    "диапазон 30-45 км характерене для пригорода"
   ]
  },
  {
   "cell_type": "code",
   "execution_count": 31,
   "metadata": {},
   "outputs": [
    {
     "name": "stdout",
     "output_type": "stream",
     "text": [
      "Распределение по расстоянию до парка:\n",
      "10959    3190.0\n",
      "19430    3190.0\n",
      "1590     3064.0\n",
      "19208    3013.0\n",
      "23080    2984.0\n",
      "2659     2905.0\n",
      "1860     2888.0\n",
      "7855     2880.0\n",
      "3865     2847.0\n",
      "22003    2768.0\n",
      "Name: parks_nearest, dtype: float64\n"
     ]
    },
    {
     "data": {
      "image/png": "[encoded data removed]",
      "text/plain": [
       "<Figure size 360x216 with 1 Axes>"
      ]
     },
     "metadata": {
      "needs_background": "light"
     },
     "output_type": "display_data"
    }
   ],
   "source": [
    "# по удаленности от парка\n",
    "df.plot(y = 'parks_nearest', kind = 'hist', bins = 20, range = (0,100), grid=True, figsize = (5,3))\n",
    "print('Распределение по расстоянию до парка:')\n",
    "print(df['parks_nearest'].sort_values(ascending=False).head(10))\n"
   ]
  },
  {
   "cell_type": "markdown",
   "metadata": {},
   "source": [
    "**Вывод:** Максимаьная удаленность от парка чуть более 3 км\n"
   ]
  },
  {
   "cell_type": "code",
   "execution_count": 32,
   "metadata": {},
   "outputs": [
    {
     "name": "stdout",
     "output_type": "stream",
     "text": [
      "Распределение по дню публикации объявления:\n",
      "17638    12\n",
      "19699    12\n",
      "19695    12\n",
      "11787    12\n",
      "11780    12\n",
      "2674     12\n",
      "2675     12\n",
      "11770    12\n",
      "11769    12\n",
      "2688     12\n",
      "Name: month_exposition, dtype: int64\n"
     ]
    },
    {
     "data": {
      "image/png": "[encoded data removed]",
      "text/plain": [
       "<Figure size 360x216 with 1 Axes>"
      ]
     },
     "metadata": {
      "needs_background": "light"
     },
     "output_type": "display_data"
    }
   ],
   "source": [
    "# по месяцу публикации объявления\n",
    "df['month_exposition'] = df['first_day_exposition'].dt.month\n",
    "\n",
    "df.plot(y = 'month_exposition', kind = 'hist', bins = 30, range = (0,12), grid=True, figsize = (5,3))\n",
    "print('Распределение по дню публикации объявления:')\n",
    "print(df['month_exposition'].sort_values(ascending=False).head(10))"
   ]
  },
  {
   "cell_type": "markdown",
   "metadata": {},
   "source": []
  },
  {
   "cell_type": "code",
   "execution_count": 33,
   "metadata": {},
   "outputs": [
    {
     "name": "stdout",
     "output_type": "stream",
     "text": [
      "Распределение по дню публикации объявления:\n",
      "12995    31\n",
      "453      31\n",
      "13206    31\n",
      "3626     31\n",
      "3663     31\n",
      "18856    31\n",
      "22704    31\n",
      "13002    31\n",
      "12961    31\n",
      "18034    31\n",
      "Name: day_exposition, dtype: int64\n"
     ]
    },
    {
     "data": {
      "image/png": "[encoded data removed]",
      "text/plain": [
       "<Figure size 360x216 with 1 Axes>"
      ]
     },
     "metadata": {
      "needs_background": "light"
     },
     "output_type": "display_data"
    }
   ],
   "source": [
    "# по дню публикации объявления\n",
    "#df.drop(columns= 'day_month_exposition', inplace = True)\n",
    "df['day_exposition'] = df['first_day_exposition'].dt.day\n",
    "\n",
    "df.plot(y = 'day_exposition', kind = 'hist', bins = 30, range = (0,32), grid=True, figsize = (5,3))\n",
    "print('Распределение по дню публикации объявления:')\n",
    "print(df['day_exposition'].sort_values(ascending=False).head(10))"
   ]
  },
  {
   "cell_type": "markdown",
   "metadata": {},
   "source": []
  },
  {
   "cell_type": "code",
   "execution_count": 34,
   "metadata": {},
   "outputs": [
    {
     "data": {
      "text/plain": [
       "count    23699.000000\n",
       "mean        15.481582\n",
       "std          8.642389\n",
       "min          1.000000\n",
       "25%          8.000000\n",
       "50%         15.000000\n",
       "75%         23.000000\n",
       "max         31.000000\n",
       "Name: day_exposition, dtype: float64"
      ]
     },
     "execution_count": 34,
     "metadata": {},
     "output_type": "execute_result"
    },
    {
     "data": {
      "image/png": "[encoded data removed]",
      "text/plain": [
       "<Figure size 720x216 with 1 Axes>"
      ]
     },
     "metadata": {
      "needs_background": "light"
     },
     "output_type": "display_data"
    }
   ],
   "source": [
    "#df['day_exposition'].plot(kind= 'bar', bins = 30, figsize = (0,10))\n",
    "df.hist(column = 'day_exposition', bins = 50, range = (0,50), grid=True, figsize = (10,3))\n",
    "df['day_exposition'].describe()"
   ]
  },
  {
   "cell_type": "code",
   "execution_count": 35,
   "metadata": {},
   "outputs": [
    {
     "data": {
      "text/plain": [
       "array([[<AxesSubplot:title={'center':'month_exposition'}>]], dtype=object)"
      ]
     },
     "execution_count": 35,
     "metadata": {},
     "output_type": "execute_result"
    },
    {
     "data": {
      "image/png": "[encoded data removed]",
      "text/plain": [
       "<Figure size 720x216 with 1 Axes>"
      ]
     },
     "metadata": {
      "needs_background": "light"
     },
     "output_type": "display_data"
    }
   ],
   "source": [
    "df.hist(column = 'month_exposition', bins = 50, range = (0,12), grid=True, figsize = (10,3))"
   ]
  },
  {
   "cell_type": "markdown",
   "metadata": {},
   "source": [
    "**Вывод:** Максимальное кол-во объявлений 1 квартал и первый месяц второго\n",
    "попробую обосновать по месяцам:\n",
    "январь-финансово тяжелый месяц, бюджеты восстанавливаются после новогодних праздников\n",
    "февраль,март,апрель - реакция на возможное появленияе финансов у населения + готовность объектов\n",
    "дальше мы видим спад к летнему периоду, периоду отпусков. Кол-во объявлений падает +- к уровню декабря-января\n",
    "ps.Если бы учитывались объявления об аренде квартир, то можно было предположить, что рост осенью вызван кол-вом студентов и работников, приезжающих на зарботки\n",
    "но тут я думаю достраиваемое жилье сдается в эксплуатацию или распродаются остатки"
   ]
  },
  {
   "cell_type": "markdown",
   "metadata": {},
   "source": [
    "Изучите, как быстро продавались квартиры ***(столбец days_exposition)***. Этот параметр показывает, сколько дней было размещено каждое объявление. \n",
    " \n",
    "**Постройте гистограмму. \\\n",
    "Посчитайте среднее и медиану.\\\n",
    "В ячейке типа markdown опишите, сколько времени обычно занимает продажа. \\\n",
    "Какие продажи можно считать быстрыми, а какие — необычно долгими?**"
   ]
  },
  {
   "cell_type": "code",
   "execution_count": 36,
   "metadata": {},
   "outputs": [
    {
     "data": {
      "text/plain": [
       "(1.0, 1000.0)"
      ]
     },
     "execution_count": 36,
     "metadata": {},
     "output_type": "execute_result"
    },
    {
     "data": {
      "image/png": "[encoded data removed]",
      "text/plain": [
       "<Figure size 432x288 with 1 Axes>"
      ]
     },
     "metadata": {
      "needs_background": "light"
     },
     "output_type": "display_data"
    }
   ],
   "source": [
    "import matplotlib.pyplot as plt\n",
    "plt.boxplot(df[df['days_exposition']!= 0]['days_exposition'])\n",
    "plt.ylim(1,1000)\n",
    "\n",
    "\n",
    "#среднее значение, медиана \n",
    "#df[df['days_exposition']!=0]['days_exposition'].describe()\n",
    "#df[df['days_exposition']!=0]['days_exposition'].value_counts()\n",
    "\n"
   ]
  },
  {
   "cell_type": "code",
   "execution_count": 37,
   "metadata": {},
   "outputs": [
    {
     "data": {
      "text/plain": [
       "<AxesSubplot:ylabel='Frequency'>"
      ]
     },
     "execution_count": 37,
     "metadata": {},
     "output_type": "execute_result"
    },
    {
     "data": {
      "image/png": "[encoded data removed]",
      "text/plain": [
       "<Figure size 432x288 with 1 Axes>"
      ]
     },
     "metadata": {
      "needs_background": "light"
     },
     "output_type": "display_data"
    },
    {
     "data": {
      "image/png": "[encoded data removed]",
      "text/plain": [
       "<Figure size 432x288 with 1 Axes>"
      ]
     },
     "metadata": {
      "needs_background": "light"
     },
     "output_type": "display_data"
    }
   ],
   "source": [
    "\n",
    "df.plot(y = 'days_exposition', kind = 'hist', bins = 30, grid = True, range = (1,1600))\n",
    "df.plot(y = 'days_exposition', kind = 'hist', bins = 100, grid = True, range = (1,200))"
   ]
  },
  {
   "cell_type": "code",
   "execution_count": 38,
   "metadata": {},
   "outputs": [
    {
     "name": "stderr",
     "output_type": "stream",
     "text": [
      "/tmp/ipykernel_48/1954955892.py:1: FutureWarning: DataFrame.mean and DataFrame.median with numeric_only=None will include datetime64 and datetime64tz columns in a future version.\n",
      "  df[df['days_exposition']!=0].mean().round()\n"
     ]
    },
    {
     "data": {
      "text/plain": [
       "total_images                        10.0\n",
       "last_price                     6266173.0\n",
       "total_area                          59.0\n",
       "rooms                                2.0\n",
       "ceiling_height                       3.0\n",
       "floors_total                        11.0\n",
       "living_area                         34.0\n",
       "floor                                6.0\n",
       "is_apartment                         1.0\n",
       "studio                               0.0\n",
       "open_plan                            0.0\n",
       "kitchen_area                        10.0\n",
       "balcony                              1.0\n",
       "airports_nearest                 28840.0\n",
       "cityCenters_nearest                 14.0\n",
       "parks_around3000                     0.0\n",
       "parks_nearest                      491.0\n",
       "ponds_around3000                     1.0\n",
       "ponds_nearest                      520.0\n",
       "days_exposition                    181.0\n",
       "price_per_sqr                    98027.0\n",
       "weekday_public_announcement          3.0\n",
       "month_public_announcement            7.0\n",
       "year_publicannouncement           2017.0\n",
       "month_exposition                     7.0\n",
       "day_exposition                      15.0\n",
       "dtype: float64"
      ]
     },
     "execution_count": 38,
     "metadata": {},
     "output_type": "execute_result"
    }
   ],
   "source": [
    "df[df['days_exposition']!=0].mean().round()\n"
   ]
  },
  {
   "cell_type": "code",
   "execution_count": 39,
   "metadata": {},
   "outputs": [
    {
     "name": "stderr",
     "output_type": "stream",
     "text": [
      "/tmp/ipykernel_48/3075711684.py:1: FutureWarning: DataFrame.mean and DataFrame.median with numeric_only=None will include datetime64 and datetime64tz columns in a future version.\n",
      "  df[df['days_exposition']!=0].median().round()\n"
     ]
    },
    {
     "data": {
      "text/plain": [
       "total_images                         9.0\n",
       "last_price                     4500000.0\n",
       "total_area                          51.0\n",
       "rooms                                2.0\n",
       "ceiling_height                       3.0\n",
       "floors_total                         9.0\n",
       "living_area                         30.0\n",
       "floor                                4.0\n",
       "is_apartment                         1.0\n",
       "studio                               0.0\n",
       "open_plan                            0.0\n",
       "kitchen_area                         9.0\n",
       "balcony                              0.0\n",
       "airports_nearest                 26768.0\n",
       "cityCenters_nearest                 13.0\n",
       "parks_around3000                     0.0\n",
       "parks_nearest                      451.0\n",
       "ponds_around3000                     0.0\n",
       "ponds_nearest                      504.0\n",
       "days_exposition                     95.0\n",
       "price_per_sqr                    94068.0\n",
       "weekday_public_announcement          3.0\n",
       "month_public_announcement            7.0\n",
       "year_publicannouncement           2017.0\n",
       "month_exposition                     7.0\n",
       "day_exposition                      15.0\n",
       "dtype: float64"
      ]
     },
     "execution_count": 39,
     "metadata": {},
     "output_type": "execute_result"
    }
   ],
   "source": [
    "df[df['days_exposition']!=0].median().round()"
   ]
  },
  {
   "cell_type": "code",
   "execution_count": 40,
   "metadata": {},
   "outputs": [
    {
     "data": {
      "text/plain": [
       "count    20518.0\n",
       "mean       181.0\n",
       "std        220.0\n",
       "min          1.0\n",
       "25%         45.0\n",
       "50%         95.0\n",
       "75%        232.0\n",
       "max       1580.0\n",
       "Name: days_exposition, dtype: float64"
      ]
     },
     "execution_count": 40,
     "metadata": {},
     "output_type": "execute_result"
    }
   ],
   "source": [
    "df['days_exposition'].describe().round()\n",
    "df[df['days_exposition'] == 0]\n",
    "#вот тут я чуть не попался сам на свою удочку забыв, что пропуски заполнил нулями\n",
    "#поэому возьмем срез от 1 т.е. != 0 \n",
    "df.query('days_exposition != 0')['days_exposition'].describe().round()"
   ]
  },
  {
   "cell_type": "markdown",
   "metadata": {},
   "source": [
    "**ВЫВОД** \\\n",
    "**Медианное время продажи - 95 дней** \\\n",
    "**Среднее время продажи - 181 день** \\\n",
    "Самая быстрая продажа всего за несколько дней после размещения объявления, а также есть варианты, продажа которых заняла несколько лет.\n",
    "\n",
    "По графикам и описанию диапахон до  **45 дней** можно отнесть к каиегори ***быстрая продажа***.  **230 дней**  - ***долгая продажа*** \\\n",
    "также есть выбросы в районе 30,45,60,90 дней\n",
    "если често сходу ответить на вопрос почему выбросы на таких диапазонах я не смог и воспользовался услугами интернета. По запросу ***что происходит с объявлениями яндекс недвижимость через 45,60,90 дней*** на официальной странице Яндекс лежит таблица со сроками публикации в городах РФ.https://yandex.ru/support/realty/paid.html \\\n",
    "Как раз тут и стали фигурировать эти значения и можно предположить, что аномалии вызваны снятием объявлений"
   ]
  },
  {
   "cell_type": "markdown",
   "metadata": {},
   "source": [
    "**Какие факторы больше всего влияют на общую (полную) стоимость объекта?**\n",
    "Изучите, зависит ли цена от:\n",
    "общей площади;\n",
    "жилой площади;\n",
    "площади кухни;\n",
    "количества комнат;\n",
    "этажа, на котором расположена квартира (первый, последний, другой);\n",
    "даты размещения (день недели, месяц, год).\n",
    "Постройте графики, которые покажут зависимость цены от указанных выше параметров. Для подготовки данных перед визуализацией вы можете использовать сводные таблицы."
   ]
  },
  {
   "cell_type": "code",
   "execution_count": 41,
   "metadata": {},
   "outputs": [
    {
     "name": "stdout",
     "output_type": "stream",
     "text": [
      "            last_price  total_area\n",
      "last_price    1.000000    0.738972\n",
      "total_area    0.738972    1.000000 \n",
      "\n"
     ]
    },
    {
     "data": {
      "image/png": "[encoded data removed]",
      "text/plain": [
       "<Figure size 360x360 with 1 Axes>"
      ]
     },
     "metadata": {
      "needs_background": "light"
     },
     "output_type": "display_data"
    }
   ],
   "source": [
    "#Зависимость цены от площади квартиры\n",
    "df.pivot_table(index='total_area', values='last_price') \\\n",
    "    .plot(grid=True, style='x', figsize=(5, 5))\n",
    "print(df.pivot_table(index='floor', values=['total_area', 'last_price']).corr(),'\\n')"
   ]
  },
  {
   "cell_type": "code",
   "execution_count": 42,
   "metadata": {},
   "outputs": [
    {
     "name": "stdout",
     "output_type": "stream",
     "text": [
      "             last_price  living_area\n",
      "last_price     1.000000     0.655849\n",
      "living_area    0.655849     1.000000 \n",
      "\n"
     ]
    },
    {
     "data": {
      "image/png": "[encoded data removed]",
      "text/plain": [
       "<Figure size 576x360 with 1 Axes>"
      ]
     },
     "metadata": {
      "needs_background": "light"
     },
     "output_type": "display_data"
    }
   ],
   "source": [
    "#Зависимость цены от жилой площади\n",
    "\n",
    "df.pivot_table(index='living_area', values='last_price') \\\n",
    "    .plot(grid=True, style='o', figsize=(8, 5))\n",
    "print(df.pivot_table(index='floor', values=['living_area', 'last_price']).corr(),'\\n')"
   ]
  },
  {
   "cell_type": "code",
   "execution_count": 43,
   "metadata": {},
   "outputs": [
    {
     "name": "stdout",
     "output_type": "stream",
     "text": [
      "              kitchen_area  last_price\n",
      "kitchen_area      1.000000    0.361686\n",
      "last_price        0.361686    1.000000 \n",
      "\n"
     ]
    },
    {
     "data": {
      "image/png": "[encoded data removed]",
      "text/plain": [
       "<Figure size 360x360 with 1 Axes>"
      ]
     },
     "metadata": {
      "needs_background": "light"
     },
     "output_type": "display_data"
    }
   ],
   "source": [
    "#Зависимость цены от площади кухни\n",
    "\n",
    "df.pivot_table(index='kitchen_area', values='last_price') \\\n",
    "    .plot(grid=True, style='x', figsize=(5, 5))\n",
    "print(df.pivot_table(index='floor', values=['kitchen_area', 'last_price']).corr(),'\\n')"
   ]
  },
  {
   "cell_type": "code",
   "execution_count": 44,
   "metadata": {},
   "outputs": [
    {
     "name": "stdout",
     "output_type": "stream",
     "text": [
      "            last_price     rooms\n",
      "last_price    1.000000  0.435171\n",
      "rooms         0.435171  1.000000 \n",
      "\n"
     ]
    },
    {
     "data": {
      "image/png": "[encoded data removed]",
      "text/plain": [
       "<Figure size 576x360 with 1 Axes>"
      ]
     },
     "metadata": {
      "needs_background": "light"
     },
     "output_type": "display_data"
    }
   ],
   "source": [
    "#Зависимость цены от количества комнат\n",
    "df.query('rooms > 0').pivot_table(index='rooms', values='last_price') \\\n",
    "    .plot(grid=True, style='o-', figsize=(8, 5))\n",
    "print(df.query('rooms > 0').pivot_table(index='floor', values=['rooms', 'last_price']).corr(),'\\n')\n"
   ]
  },
  {
   "cell_type": "code",
   "execution_count": 45,
   "metadata": {},
   "outputs": [
    {
     "data": {
      "text/plain": [
       "<AxesSubplot:xlabel='month_exposition'>"
      ]
     },
     "execution_count": 45,
     "metadata": {},
     "output_type": "execute_result"
    },
    {
     "data": {
      "image/png": "[encoded data removed]",
      "text/plain": [
       "<Figure size 576x360 with 1 Axes>"
      ]
     },
     "metadata": {
      "needs_background": "light"
     },
     "output_type": "display_data"
    }
   ],
   "source": [
    "#Зависимость цены от даты размещения(месяц)\n",
    "df.pivot_table(index = 'month_exposition', values = 'last_price') \\\n",
    "  .plot(grid=True, style='o-', figsize=(8, 5))\n"
   ]
  },
  {
   "cell_type": "markdown",
   "metadata": {},
   "source": [
    "**Вывод:** Явный пик в декабре может быть обусловлен годовыми накоплениями покупателей + квартальные/годовые премии, позволяющие сделать покупку.\n",
    "Пик в 4 месяце может быть обусловлен восстановлением дельты денежных средств, потраченных на новогодние праздники. Вообще прослеживается связь с массовостью сдачи объектов\n"
   ]
  },
  {
   "cell_type": "code",
   "execution_count": 46,
   "metadata": {},
   "outputs": [
    {
     "data": {
      "text/plain": [
       "<AxesSubplot:xlabel='day_exposition'>"
      ]
     },
     "execution_count": 46,
     "metadata": {},
     "output_type": "execute_result"
    },
    {
     "data": {
      "image/png": "[encoded data removed]",
      "text/plain": [
       "<Figure size 576x576 with 1 Axes>"
      ]
     },
     "metadata": {
      "needs_background": "light"
     },
     "output_type": "display_data"
    }
   ],
   "source": [
    "#Зависимость цены от даты размещения(день неделя)\n",
    "df.pivot_table(index='day_exposition', values='last_price') \\\n",
    "    .plot(grid=True, style='o-', figsize=(8, 8))"
   ]
  },
  {
   "cell_type": "markdown",
   "metadata": {},
   "source": [
    "**Вывод:** Пиковые значения по дням находятся в диапазоне зарплатных и авансовых дат. Предполагаю, что пики вызваны этим"
   ]
  },
  {
   "cell_type": "code",
   "execution_count": 47,
   "metadata": {},
   "outputs": [
    {
     "data": {
      "text/plain": [
       "<AxesSubplot:xlabel='year_publicannouncement'>"
      ]
     },
     "execution_count": 47,
     "metadata": {},
     "output_type": "execute_result"
    },
    {
     "data": {
      "image/png": "[encoded data removed]",
      "text/plain": [
       "<Figure size 360x360 with 1 Axes>"
      ]
     },
     "metadata": {
      "needs_background": "light"
     },
     "output_type": "display_data"
    }
   ],
   "source": [
    "df.pivot_table(index='year_publicannouncement', values='last_price') \\\n",
    "    .plot(grid=True, style='o-', figsize=(5, 5))"
   ]
  },
  {
   "cell_type": "markdown",
   "metadata": {},
   "source": [
    "Самая высокая цена была в **2014 г.**\n",
    "Объяснимо геополитической обстановкой и резким \"взлетом\" курса валют и падением рубля\n",
    "Постепенно рынок реанимировался и ценовой диапазон начал стабилизацию. Т.к. скорее всего по ценам 2014 и снижению доходов населения"
   ]
  },
  {
   "cell_type": "markdown",
   "metadata": {},
   "source": [
    "Посчитайте среднюю цену одного квадратного метра в 10 населённых пунктах с наибольшим числом объявлений. Выделите населённые пункты с самой высокой и низкой стоимостью квадратного метра. Эти данные можно найти по имени в столбце **locality_name**."
   ]
  },
  {
   "cell_type": "code",
   "execution_count": 48,
   "metadata": {},
   "outputs": [
    {
     "data": {
      "text/html": [
       "<div>\n",
       "<style scoped>\n",
       "    .dataframe tbody tr th:only-of-type {\n",
       "        vertical-align: middle;\n",
       "    }\n",
       "\n",
       "    .dataframe tbody tr th {\n",
       "        vertical-align: top;\n",
       "    }\n",
       "\n",
       "    .dataframe thead th {\n",
       "        text-align: right;\n",
       "    }\n",
       "</style>\n",
       "<table border=\"1\" class=\"dataframe\">\n",
       "  <thead>\n",
       "    <tr style=\"text-align: right;\">\n",
       "      <th></th>\n",
       "      <th>total_images</th>\n",
       "      <th>last_price</th>\n",
       "      <th>total_area</th>\n",
       "      <th>rooms</th>\n",
       "      <th>ceiling_height</th>\n",
       "      <th>floors_total</th>\n",
       "      <th>living_area</th>\n",
       "      <th>floor</th>\n",
       "      <th>is_apartment</th>\n",
       "      <th>studio</th>\n",
       "      <th>...</th>\n",
       "      <th>parks_nearest</th>\n",
       "      <th>ponds_around3000</th>\n",
       "      <th>ponds_nearest</th>\n",
       "      <th>days_exposition</th>\n",
       "      <th>price_per_sqr</th>\n",
       "      <th>weekday_public_announcement</th>\n",
       "      <th>month_public_announcement</th>\n",
       "      <th>year_publicannouncement</th>\n",
       "      <th>month_exposition</th>\n",
       "      <th>day_exposition</th>\n",
       "    </tr>\n",
       "    <tr>\n",
       "      <th>locality_name</th>\n",
       "      <th></th>\n",
       "      <th></th>\n",
       "      <th></th>\n",
       "      <th></th>\n",
       "      <th></th>\n",
       "      <th></th>\n",
       "      <th></th>\n",
       "      <th></th>\n",
       "      <th></th>\n",
       "      <th></th>\n",
       "      <th></th>\n",
       "      <th></th>\n",
       "      <th></th>\n",
       "      <th></th>\n",
       "      <th></th>\n",
       "      <th></th>\n",
       "      <th></th>\n",
       "      <th></th>\n",
       "      <th></th>\n",
       "      <th></th>\n",
       "      <th></th>\n",
       "    </tr>\n",
       "  </thead>\n",
       "  <tbody>\n",
       "    <tr>\n",
       "      <th>Санкт-Петербург</th>\n",
       "      <td>10.180205</td>\n",
       "      <td>8.062507e+06</td>\n",
       "      <td>64.751488</td>\n",
       "      <td>2.171618</td>\n",
       "      <td>2.770180</td>\n",
       "      <td>11.345143</td>\n",
       "      <td>36.959148</td>\n",
       "      <td>6.242033</td>\n",
       "      <td>0.885885</td>\n",
       "      <td>0.005470</td>\n",
       "      <td>...</td>\n",
       "      <td>498.597886</td>\n",
       "      <td>0.767445</td>\n",
       "      <td>520.213955</td>\n",
       "      <td>158.572610</td>\n",
       "      <td>114849.008794</td>\n",
       "      <td>2.556262</td>\n",
       "      <td>6.421983</td>\n",
       "      <td>2017.351886</td>\n",
       "      <td>6.421983</td>\n",
       "      <td>15.452516</td>\n",
       "    </tr>\n",
       "    <tr>\n",
       "      <th>Пушкин</th>\n",
       "      <td>9.330623</td>\n",
       "      <td>6.469036e+06</td>\n",
       "      <td>61.552791</td>\n",
       "      <td>2.018970</td>\n",
       "      <td>2.671911</td>\n",
       "      <td>4.986450</td>\n",
       "      <td>34.813797</td>\n",
       "      <td>2.943089</td>\n",
       "      <td>0.869919</td>\n",
       "      <td>0.000000</td>\n",
       "      <td>...</td>\n",
       "      <td>404.297170</td>\n",
       "      <td>0.872629</td>\n",
       "      <td>482.988701</td>\n",
       "      <td>174.365854</td>\n",
       "      <td>103125.819291</td>\n",
       "      <td>2.452575</td>\n",
       "      <td>6.192412</td>\n",
       "      <td>2017.227642</td>\n",
       "      <td>6.192412</td>\n",
       "      <td>15.455285</td>\n",
       "    </tr>\n",
       "    <tr>\n",
       "      <th>деревня Кудрово</th>\n",
       "      <td>8.685619</td>\n",
       "      <td>4.234158e+06</td>\n",
       "      <td>46.571739</td>\n",
       "      <td>1.438127</td>\n",
       "      <td>2.727124</td>\n",
       "      <td>18.501672</td>\n",
       "      <td>23.607595</td>\n",
       "      <td>9.919732</td>\n",
       "      <td>0.839465</td>\n",
       "      <td>0.020067</td>\n",
       "      <td>...</td>\n",
       "      <td>NaN</td>\n",
       "      <td>0.000000</td>\n",
       "      <td>NaN</td>\n",
       "      <td>180.872910</td>\n",
       "      <td>92473.547576</td>\n",
       "      <td>2.809365</td>\n",
       "      <td>6.414716</td>\n",
       "      <td>2016.916388</td>\n",
       "      <td>6.414716</td>\n",
       "      <td>14.832776</td>\n",
       "    </tr>\n",
       "    <tr>\n",
       "      <th>посёлок Парголово</th>\n",
       "      <td>8.694190</td>\n",
       "      <td>4.488075e+06</td>\n",
       "      <td>51.521407</td>\n",
       "      <td>1.605505</td>\n",
       "      <td>2.627951</td>\n",
       "      <td>22.070336</td>\n",
       "      <td>24.965748</td>\n",
       "      <td>12.015291</td>\n",
       "      <td>0.874618</td>\n",
       "      <td>0.006116</td>\n",
       "      <td>...</td>\n",
       "      <td>501.100000</td>\n",
       "      <td>0.290520</td>\n",
       "      <td>598.071429</td>\n",
       "      <td>143.614679</td>\n",
       "      <td>90175.913458</td>\n",
       "      <td>2.648318</td>\n",
       "      <td>6.562691</td>\n",
       "      <td>2017.360856</td>\n",
       "      <td>6.562691</td>\n",
       "      <td>15.379205</td>\n",
       "    </tr>\n",
       "    <tr>\n",
       "      <th>посёлок Мурино</th>\n",
       "      <td>8.666667</td>\n",
       "      <td>3.672049e+06</td>\n",
       "      <td>44.133448</td>\n",
       "      <td>1.392720</td>\n",
       "      <td>2.791169</td>\n",
       "      <td>19.547893</td>\n",
       "      <td>22.795466</td>\n",
       "      <td>10.842912</td>\n",
       "      <td>0.896552</td>\n",
       "      <td>0.038314</td>\n",
       "      <td>...</td>\n",
       "      <td>NaN</td>\n",
       "      <td>0.000000</td>\n",
       "      <td>NaN</td>\n",
       "      <td>146.159004</td>\n",
       "      <td>85752.189195</td>\n",
       "      <td>2.496169</td>\n",
       "      <td>6.942529</td>\n",
       "      <td>2017.490421</td>\n",
       "      <td>6.942529</td>\n",
       "      <td>15.379310</td>\n",
       "    </tr>\n",
       "    <tr>\n",
       "      <th>посёлок Шушары</th>\n",
       "      <td>8.800000</td>\n",
       "      <td>4.108082e+06</td>\n",
       "      <td>53.821273</td>\n",
       "      <td>1.804545</td>\n",
       "      <td>2.643273</td>\n",
       "      <td>12.684091</td>\n",
       "      <td>28.974109</td>\n",
       "      <td>6.952273</td>\n",
       "      <td>0.868182</td>\n",
       "      <td>0.009091</td>\n",
       "      <td>...</td>\n",
       "      <td>NaN</td>\n",
       "      <td>0.345455</td>\n",
       "      <td>573.217105</td>\n",
       "      <td>144.750000</td>\n",
       "      <td>78677.364217</td>\n",
       "      <td>2.725000</td>\n",
       "      <td>6.411364</td>\n",
       "      <td>2017.320455</td>\n",
       "      <td>6.411364</td>\n",
       "      <td>15.886364</td>\n",
       "    </tr>\n",
       "    <tr>\n",
       "      <th>Колпино</th>\n",
       "      <td>8.855030</td>\n",
       "      <td>3.964021e+06</td>\n",
       "      <td>53.231479</td>\n",
       "      <td>2.130178</td>\n",
       "      <td>2.603580</td>\n",
       "      <td>8.940828</td>\n",
       "      <td>31.791220</td>\n",
       "      <td>4.896450</td>\n",
       "      <td>0.872781</td>\n",
       "      <td>0.000000</td>\n",
       "      <td>...</td>\n",
       "      <td>495.481203</td>\n",
       "      <td>0.994083</td>\n",
       "      <td>532.268421</td>\n",
       "      <td>130.855030</td>\n",
       "      <td>75424.579098</td>\n",
       "      <td>2.508876</td>\n",
       "      <td>6.461538</td>\n",
       "      <td>2017.417160</td>\n",
       "      <td>6.461538</td>\n",
       "      <td>15.440828</td>\n",
       "    </tr>\n",
       "    <tr>\n",
       "      <th>Гатчина</th>\n",
       "      <td>9.009772</td>\n",
       "      <td>3.488337e+06</td>\n",
       "      <td>50.942932</td>\n",
       "      <td>1.921824</td>\n",
       "      <td>2.677443</td>\n",
       "      <td>5.700326</td>\n",
       "      <td>29.861849</td>\n",
       "      <td>3.342020</td>\n",
       "      <td>0.856678</td>\n",
       "      <td>0.000000</td>\n",
       "      <td>...</td>\n",
       "      <td>NaN</td>\n",
       "      <td>0.000000</td>\n",
       "      <td>NaN</td>\n",
       "      <td>165.530945</td>\n",
       "      <td>68746.146763</td>\n",
       "      <td>2.456026</td>\n",
       "      <td>6.065147</td>\n",
       "      <td>2017.283388</td>\n",
       "      <td>6.065147</td>\n",
       "      <td>15.713355</td>\n",
       "    </tr>\n",
       "    <tr>\n",
       "      <th>Всеволожск</th>\n",
       "      <td>10.253769</td>\n",
       "      <td>3.789068e+06</td>\n",
       "      <td>56.022186</td>\n",
       "      <td>1.914573</td>\n",
       "      <td>2.666482</td>\n",
       "      <td>8.391960</td>\n",
       "      <td>30.846469</td>\n",
       "      <td>4.610553</td>\n",
       "      <td>0.891960</td>\n",
       "      <td>0.015075</td>\n",
       "      <td>...</td>\n",
       "      <td>NaN</td>\n",
       "      <td>0.000000</td>\n",
       "      <td>NaN</td>\n",
       "      <td>167.869347</td>\n",
       "      <td>68654.473986</td>\n",
       "      <td>2.502513</td>\n",
       "      <td>6.515075</td>\n",
       "      <td>2017.361809</td>\n",
       "      <td>6.515075</td>\n",
       "      <td>15.055276</td>\n",
       "    </tr>\n",
       "    <tr>\n",
       "      <th>Выборг</th>\n",
       "      <td>9.679325</td>\n",
       "      <td>3.250983e+06</td>\n",
       "      <td>56.150042</td>\n",
       "      <td>2.122363</td>\n",
       "      <td>2.677722</td>\n",
       "      <td>5.873418</td>\n",
       "      <td>34.400311</td>\n",
       "      <td>3.493671</td>\n",
       "      <td>0.877637</td>\n",
       "      <td>0.000000</td>\n",
       "      <td>...</td>\n",
       "      <td>NaN</td>\n",
       "      <td>0.000000</td>\n",
       "      <td>NaN</td>\n",
       "      <td>155.670886</td>\n",
       "      <td>58141.909153</td>\n",
       "      <td>2.801688</td>\n",
       "      <td>5.966245</td>\n",
       "      <td>2017.367089</td>\n",
       "      <td>5.966245</td>\n",
       "      <td>15.248945</td>\n",
       "    </tr>\n",
       "  </tbody>\n",
       "</table>\n",
       "<p>10 rows × 26 columns</p>\n",
       "</div>"
      ],
      "text/plain": [
       "                   total_images    last_price  total_area     rooms  \\\n",
       "locality_name                                                         \n",
       "Санкт-Петербург       10.180205  8.062507e+06   64.751488  2.171618   \n",
       "Пушкин                 9.330623  6.469036e+06   61.552791  2.018970   \n",
       "деревня Кудрово        8.685619  4.234158e+06   46.571739  1.438127   \n",
       "посёлок Парголово      8.694190  4.488075e+06   51.521407  1.605505   \n",
       "посёлок Мурино         8.666667  3.672049e+06   44.133448  1.392720   \n",
       "посёлок Шушары         8.800000  4.108082e+06   53.821273  1.804545   \n",
       "Колпино                8.855030  3.964021e+06   53.231479  2.130178   \n",
       "Гатчина                9.009772  3.488337e+06   50.942932  1.921824   \n",
       "Всеволожск            10.253769  3.789068e+06   56.022186  1.914573   \n",
       "Выборг                 9.679325  3.250983e+06   56.150042  2.122363   \n",
       "\n",
       "                   ceiling_height  floors_total  living_area      floor  \\\n",
       "locality_name                                                             \n",
       "Санкт-Петербург          2.770180     11.345143    36.959148   6.242033   \n",
       "Пушкин                   2.671911      4.986450    34.813797   2.943089   \n",
       "деревня Кудрово          2.727124     18.501672    23.607595   9.919732   \n",
       "посёлок Парголово        2.627951     22.070336    24.965748  12.015291   \n",
       "посёлок Мурино           2.791169     19.547893    22.795466  10.842912   \n",
       "посёлок Шушары           2.643273     12.684091    28.974109   6.952273   \n",
       "Колпино                  2.603580      8.940828    31.791220   4.896450   \n",
       "Гатчина                  2.677443      5.700326    29.861849   3.342020   \n",
       "Всеволожск               2.666482      8.391960    30.846469   4.610553   \n",
       "Выборг                   2.677722      5.873418    34.400311   3.493671   \n",
       "\n",
       "                   is_apartment    studio  ...  parks_nearest  \\\n",
       "locality_name                              ...                  \n",
       "Санкт-Петербург        0.885885  0.005470  ...     498.597886   \n",
       "Пушкин                 0.869919  0.000000  ...     404.297170   \n",
       "деревня Кудрово        0.839465  0.020067  ...            NaN   \n",
       "посёлок Парголово      0.874618  0.006116  ...     501.100000   \n",
       "посёлок Мурино         0.896552  0.038314  ...            NaN   \n",
       "посёлок Шушары         0.868182  0.009091  ...            NaN   \n",
       "Колпино                0.872781  0.000000  ...     495.481203   \n",
       "Гатчина                0.856678  0.000000  ...            NaN   \n",
       "Всеволожск             0.891960  0.015075  ...            NaN   \n",
       "Выборг                 0.877637  0.000000  ...            NaN   \n",
       "\n",
       "                   ponds_around3000  ponds_nearest  days_exposition  \\\n",
       "locality_name                                                         \n",
       "Санкт-Петербург            0.767445     520.213955       158.572610   \n",
       "Пушкин                     0.872629     482.988701       174.365854   \n",
       "деревня Кудрово            0.000000            NaN       180.872910   \n",
       "посёлок Парголово          0.290520     598.071429       143.614679   \n",
       "посёлок Мурино             0.000000            NaN       146.159004   \n",
       "посёлок Шушары             0.345455     573.217105       144.750000   \n",
       "Колпино                    0.994083     532.268421       130.855030   \n",
       "Гатчина                    0.000000            NaN       165.530945   \n",
       "Всеволожск                 0.000000            NaN       167.869347   \n",
       "Выборг                     0.000000            NaN       155.670886   \n",
       "\n",
       "                   price_per_sqr  weekday_public_announcement  \\\n",
       "locality_name                                                   \n",
       "Санкт-Петербург    114849.008794                     2.556262   \n",
       "Пушкин             103125.819291                     2.452575   \n",
       "деревня Кудрово     92473.547576                     2.809365   \n",
       "посёлок Парголово   90175.913458                     2.648318   \n",
       "посёлок Мурино      85752.189195                     2.496169   \n",
       "посёлок Шушары      78677.364217                     2.725000   \n",
       "Колпино             75424.579098                     2.508876   \n",
       "Гатчина             68746.146763                     2.456026   \n",
       "Всеволожск          68654.473986                     2.502513   \n",
       "Выборг              58141.909153                     2.801688   \n",
       "\n",
       "                   month_public_announcement  year_publicannouncement  \\\n",
       "locality_name                                                           \n",
       "Санкт-Петербург                     6.421983              2017.351886   \n",
       "Пушкин                              6.192412              2017.227642   \n",
       "деревня Кудрово                     6.414716              2016.916388   \n",
       "посёлок Парголово                   6.562691              2017.360856   \n",
       "посёлок Мурино                      6.942529              2017.490421   \n",
       "посёлок Шушары                      6.411364              2017.320455   \n",
       "Колпино                             6.461538              2017.417160   \n",
       "Гатчина                             6.065147              2017.283388   \n",
       "Всеволожск                          6.515075              2017.361809   \n",
       "Выборг                              5.966245              2017.367089   \n",
       "\n",
       "                   month_exposition  day_exposition  \n",
       "locality_name                                        \n",
       "Санкт-Петербург            6.421983       15.452516  \n",
       "Пушкин                     6.192412       15.455285  \n",
       "деревня Кудрово            6.414716       14.832776  \n",
       "посёлок Парголово          6.562691       15.379205  \n",
       "посёлок Мурино             6.942529       15.379310  \n",
       "посёлок Шушары             6.411364       15.886364  \n",
       "Колпино                    6.461538       15.440828  \n",
       "Гатчина                    6.065147       15.713355  \n",
       "Всеволожск                 6.515075       15.055276  \n",
       "Выборг                     5.966245       15.248945  \n",
       "\n",
       "[10 rows x 26 columns]"
      ]
     },
     "execution_count": 48,
     "metadata": {},
     "output_type": "execute_result"
    }
   ],
   "source": [
    "# за 10 городов возьмем первые 10 из таблицы\n",
    "ten_cities = df['locality_name'].value_counts().head(10)\n",
    "ten_cities_price_per_sqr = df[df['locality_name'].isin(ten_cities.index)]\n",
    "ten_cities_price_per_sqr.groupby('locality_name').mean('price_per_sqr').sort_values('price_per_sqr', ascending = False)\n"
   ]
  },
  {
   "cell_type": "markdown",
   "metadata": {},
   "source": [
    "**Вывод:**\n",
    "Самая большая стоимость квадратного метра в СПБ\n",
    "НА 2  месте город Пушкин, что ожидаемо, т.к. находится близко к Санкт-Петербургу\n",
    "и скорее всего имеет застройку.\n",
    "на последнем месте Выборг по понятным соображениям, открытая местность у воды, неособо развитая инфраструктура, удаленность от СПБ"
   ]
  },
  {
   "cell_type": "markdown",
   "metadata": {},
   "source": [
    "Выделите квартиры в Санкт-Петербурге с помощью столбца **locality_name** и вычислите среднюю цену **каждого километра**. Опишите, как стоимость объектов зависит от расстояния до центра города.\n",
    "Опишите, как стоимость объектов зависит от расстояния до центра города."
   ]
  },
  {
   "cell_type": "code",
   "execution_count": 49,
   "metadata": {},
   "outputs": [
    {
     "data": {
      "text/html": [
       "<div>\n",
       "<style scoped>\n",
       "    .dataframe tbody tr th:only-of-type {\n",
       "        vertical-align: middle;\n",
       "    }\n",
       "\n",
       "    .dataframe tbody tr th {\n",
       "        vertical-align: top;\n",
       "    }\n",
       "\n",
       "    .dataframe thead th {\n",
       "        text-align: right;\n",
       "    }\n",
       "</style>\n",
       "<table border=\"1\" class=\"dataframe\">\n",
       "  <thead>\n",
       "    <tr style=\"text-align: right;\">\n",
       "      <th></th>\n",
       "      <th>total_images</th>\n",
       "      <th>last_price</th>\n",
       "      <th>total_area</th>\n",
       "      <th>rooms</th>\n",
       "      <th>ceiling_height</th>\n",
       "      <th>floors_total</th>\n",
       "      <th>living_area</th>\n",
       "      <th>floor</th>\n",
       "      <th>is_apartment</th>\n",
       "      <th>studio</th>\n",
       "      <th>...</th>\n",
       "      <th>parks_nearest</th>\n",
       "      <th>ponds_around3000</th>\n",
       "      <th>ponds_nearest</th>\n",
       "      <th>days_exposition</th>\n",
       "      <th>price_per_sqr</th>\n",
       "      <th>weekday_public_announcement</th>\n",
       "      <th>month_public_announcement</th>\n",
       "      <th>year_publicannouncement</th>\n",
       "      <th>month_exposition</th>\n",
       "      <th>day_exposition</th>\n",
       "    </tr>\n",
       "    <tr>\n",
       "      <th>cityCenters_nearest</th>\n",
       "      <th></th>\n",
       "      <th></th>\n",
       "      <th></th>\n",
       "      <th></th>\n",
       "      <th></th>\n",
       "      <th></th>\n",
       "      <th></th>\n",
       "      <th></th>\n",
       "      <th></th>\n",
       "      <th></th>\n",
       "      <th></th>\n",
       "      <th></th>\n",
       "      <th></th>\n",
       "      <th></th>\n",
       "      <th></th>\n",
       "      <th></th>\n",
       "      <th></th>\n",
       "      <th></th>\n",
       "      <th></th>\n",
       "      <th></th>\n",
       "      <th></th>\n",
       "    </tr>\n",
       "  </thead>\n",
       "  <tbody>\n",
       "    <tr>\n",
       "      <th>0.181</th>\n",
       "      <td>2.0</td>\n",
       "      <td>31099000.0</td>\n",
       "      <td>159.0</td>\n",
       "      <td>5.0</td>\n",
       "      <td>3.28</td>\n",
       "      <td>5.0</td>\n",
       "      <td>106.00</td>\n",
       "      <td>5.0</td>\n",
       "      <td>1.0</td>\n",
       "      <td>0.0</td>\n",
       "      <td>...</td>\n",
       "      <td>254.0</td>\n",
       "      <td>3.0</td>\n",
       "      <td>426.0</td>\n",
       "      <td>0.0</td>\n",
       "      <td>195591.194969</td>\n",
       "      <td>0.0</td>\n",
       "      <td>6.0</td>\n",
       "      <td>2018.0</td>\n",
       "      <td>6.0</td>\n",
       "      <td>25.0</td>\n",
       "    </tr>\n",
       "    <tr>\n",
       "      <th>0.208</th>\n",
       "      <td>1.0</td>\n",
       "      <td>5800000.0</td>\n",
       "      <td>33.6</td>\n",
       "      <td>1.0</td>\n",
       "      <td>3.70</td>\n",
       "      <td>7.0</td>\n",
       "      <td>22.80</td>\n",
       "      <td>4.0</td>\n",
       "      <td>0.0</td>\n",
       "      <td>0.0</td>\n",
       "      <td>...</td>\n",
       "      <td>304.0</td>\n",
       "      <td>3.0</td>\n",
       "      <td>503.0</td>\n",
       "      <td>167.0</td>\n",
       "      <td>172619.047619</td>\n",
       "      <td>3.0</td>\n",
       "      <td>3.0</td>\n",
       "      <td>2016.0</td>\n",
       "      <td>3.0</td>\n",
       "      <td>10.0</td>\n",
       "    </tr>\n",
       "    <tr>\n",
       "      <th>0.215</th>\n",
       "      <td>7.0</td>\n",
       "      <td>10990000.0</td>\n",
       "      <td>100.0</td>\n",
       "      <td>3.0</td>\n",
       "      <td>3.90</td>\n",
       "      <td>5.0</td>\n",
       "      <td>37.80</td>\n",
       "      <td>3.0</td>\n",
       "      <td>1.0</td>\n",
       "      <td>0.0</td>\n",
       "      <td>...</td>\n",
       "      <td>229.0</td>\n",
       "      <td>2.0</td>\n",
       "      <td>511.0</td>\n",
       "      <td>265.0</td>\n",
       "      <td>109900.000000</td>\n",
       "      <td>2.0</td>\n",
       "      <td>12.0</td>\n",
       "      <td>2015.0</td>\n",
       "      <td>12.0</td>\n",
       "      <td>16.0</td>\n",
       "    </tr>\n",
       "    <tr>\n",
       "      <th>0.287</th>\n",
       "      <td>18.0</td>\n",
       "      <td>9590000.0</td>\n",
       "      <td>108.0</td>\n",
       "      <td>2.0</td>\n",
       "      <td>3.30</td>\n",
       "      <td>5.0</td>\n",
       "      <td>59.00</td>\n",
       "      <td>2.0</td>\n",
       "      <td>0.0</td>\n",
       "      <td>0.0</td>\n",
       "      <td>...</td>\n",
       "      <td>359.0</td>\n",
       "      <td>3.0</td>\n",
       "      <td>290.0</td>\n",
       "      <td>69.0</td>\n",
       "      <td>88796.296296</td>\n",
       "      <td>1.0</td>\n",
       "      <td>5.0</td>\n",
       "      <td>2017.0</td>\n",
       "      <td>5.0</td>\n",
       "      <td>23.0</td>\n",
       "    </tr>\n",
       "    <tr>\n",
       "      <th>0.291</th>\n",
       "      <td>18.0</td>\n",
       "      <td>11500000.0</td>\n",
       "      <td>113.5</td>\n",
       "      <td>3.0</td>\n",
       "      <td>4.20</td>\n",
       "      <td>7.0</td>\n",
       "      <td>44.20</td>\n",
       "      <td>6.0</td>\n",
       "      <td>1.0</td>\n",
       "      <td>0.0</td>\n",
       "      <td>...</td>\n",
       "      <td>472.0</td>\n",
       "      <td>2.0</td>\n",
       "      <td>94.0</td>\n",
       "      <td>0.0</td>\n",
       "      <td>101321.585903</td>\n",
       "      <td>0.0</td>\n",
       "      <td>9.0</td>\n",
       "      <td>2018.0</td>\n",
       "      <td>9.0</td>\n",
       "      <td>17.0</td>\n",
       "    </tr>\n",
       "    <tr>\n",
       "      <th>...</th>\n",
       "      <td>...</td>\n",
       "      <td>...</td>\n",
       "      <td>...</td>\n",
       "      <td>...</td>\n",
       "      <td>...</td>\n",
       "      <td>...</td>\n",
       "      <td>...</td>\n",
       "      <td>...</td>\n",
       "      <td>...</td>\n",
       "      <td>...</td>\n",
       "      <td>...</td>\n",
       "      <td>...</td>\n",
       "      <td>...</td>\n",
       "      <td>...</td>\n",
       "      <td>...</td>\n",
       "      <td>...</td>\n",
       "      <td>...</td>\n",
       "      <td>...</td>\n",
       "      <td>...</td>\n",
       "      <td>...</td>\n",
       "      <td>...</td>\n",
       "    </tr>\n",
       "    <tr>\n",
       "      <th>28.644</th>\n",
       "      <td>13.0</td>\n",
       "      <td>4775000.0</td>\n",
       "      <td>56.5</td>\n",
       "      <td>2.5</td>\n",
       "      <td>2.60</td>\n",
       "      <td>5.0</td>\n",
       "      <td>32.85</td>\n",
       "      <td>1.0</td>\n",
       "      <td>0.5</td>\n",
       "      <td>0.0</td>\n",
       "      <td>...</td>\n",
       "      <td>NaN</td>\n",
       "      <td>0.0</td>\n",
       "      <td>NaN</td>\n",
       "      <td>301.0</td>\n",
       "      <td>85191.334598</td>\n",
       "      <td>1.0</td>\n",
       "      <td>5.5</td>\n",
       "      <td>2016.5</td>\n",
       "      <td>5.5</td>\n",
       "      <td>11.5</td>\n",
       "    </tr>\n",
       "    <tr>\n",
       "      <th>28.806</th>\n",
       "      <td>20.0</td>\n",
       "      <td>4370000.0</td>\n",
       "      <td>54.7</td>\n",
       "      <td>3.0</td>\n",
       "      <td>2.50</td>\n",
       "      <td>5.0</td>\n",
       "      <td>32.80</td>\n",
       "      <td>5.0</td>\n",
       "      <td>1.0</td>\n",
       "      <td>0.0</td>\n",
       "      <td>...</td>\n",
       "      <td>NaN</td>\n",
       "      <td>0.0</td>\n",
       "      <td>NaN</td>\n",
       "      <td>939.0</td>\n",
       "      <td>79890.310786</td>\n",
       "      <td>2.0</td>\n",
       "      <td>3.0</td>\n",
       "      <td>2016.0</td>\n",
       "      <td>3.0</td>\n",
       "      <td>23.0</td>\n",
       "    </tr>\n",
       "    <tr>\n",
       "      <th>29.263</th>\n",
       "      <td>20.0</td>\n",
       "      <td>4850000.0</td>\n",
       "      <td>85.8</td>\n",
       "      <td>3.0</td>\n",
       "      <td>3.60</td>\n",
       "      <td>3.0</td>\n",
       "      <td>49.40</td>\n",
       "      <td>2.0</td>\n",
       "      <td>1.0</td>\n",
       "      <td>0.0</td>\n",
       "      <td>...</td>\n",
       "      <td>NaN</td>\n",
       "      <td>0.0</td>\n",
       "      <td>NaN</td>\n",
       "      <td>0.0</td>\n",
       "      <td>56526.806527</td>\n",
       "      <td>0.0</td>\n",
       "      <td>4.0</td>\n",
       "      <td>2019.0</td>\n",
       "      <td>4.0</td>\n",
       "      <td>22.0</td>\n",
       "    </tr>\n",
       "    <tr>\n",
       "      <th>29.343</th>\n",
       "      <td>16.0</td>\n",
       "      <td>4200000.0</td>\n",
       "      <td>56.8</td>\n",
       "      <td>2.0</td>\n",
       "      <td>3.50</td>\n",
       "      <td>3.0</td>\n",
       "      <td>27.90</td>\n",
       "      <td>1.0</td>\n",
       "      <td>1.0</td>\n",
       "      <td>0.0</td>\n",
       "      <td>...</td>\n",
       "      <td>NaN</td>\n",
       "      <td>0.0</td>\n",
       "      <td>NaN</td>\n",
       "      <td>187.0</td>\n",
       "      <td>73943.661972</td>\n",
       "      <td>2.0</td>\n",
       "      <td>7.0</td>\n",
       "      <td>2018.0</td>\n",
       "      <td>7.0</td>\n",
       "      <td>4.0</td>\n",
       "    </tr>\n",
       "    <tr>\n",
       "      <th>29.493</th>\n",
       "      <td>8.0</td>\n",
       "      <td>2450000.0</td>\n",
       "      <td>43.0</td>\n",
       "      <td>1.0</td>\n",
       "      <td>2.75</td>\n",
       "      <td>5.0</td>\n",
       "      <td>16.00</td>\n",
       "      <td>1.0</td>\n",
       "      <td>1.0</td>\n",
       "      <td>0.0</td>\n",
       "      <td>...</td>\n",
       "      <td>NaN</td>\n",
       "      <td>0.0</td>\n",
       "      <td>NaN</td>\n",
       "      <td>8.0</td>\n",
       "      <td>56976.744186</td>\n",
       "      <td>1.0</td>\n",
       "      <td>8.0</td>\n",
       "      <td>2018.0</td>\n",
       "      <td>8.0</td>\n",
       "      <td>14.0</td>\n",
       "    </tr>\n",
       "  </tbody>\n",
       "</table>\n",
       "<p>6299 rows × 25 columns</p>\n",
       "</div>"
      ],
      "text/plain": [
       "                     total_images  last_price  total_area  rooms  \\\n",
       "cityCenters_nearest                                                \n",
       "0.181                         2.0  31099000.0       159.0    5.0   \n",
       "0.208                         1.0   5800000.0        33.6    1.0   \n",
       "0.215                         7.0  10990000.0       100.0    3.0   \n",
       "0.287                        18.0   9590000.0       108.0    2.0   \n",
       "0.291                        18.0  11500000.0       113.5    3.0   \n",
       "...                           ...         ...         ...    ...   \n",
       "28.644                       13.0   4775000.0        56.5    2.5   \n",
       "28.806                       20.0   4370000.0        54.7    3.0   \n",
       "29.263                       20.0   4850000.0        85.8    3.0   \n",
       "29.343                       16.0   4200000.0        56.8    2.0   \n",
       "29.493                        8.0   2450000.0        43.0    1.0   \n",
       "\n",
       "                     ceiling_height  floors_total  living_area  floor  \\\n",
       "cityCenters_nearest                                                     \n",
       "0.181                          3.28           5.0       106.00    5.0   \n",
       "0.208                          3.70           7.0        22.80    4.0   \n",
       "0.215                          3.90           5.0        37.80    3.0   \n",
       "0.287                          3.30           5.0        59.00    2.0   \n",
       "0.291                          4.20           7.0        44.20    6.0   \n",
       "...                             ...           ...          ...    ...   \n",
       "28.644                         2.60           5.0        32.85    1.0   \n",
       "28.806                         2.50           5.0        32.80    5.0   \n",
       "29.263                         3.60           3.0        49.40    2.0   \n",
       "29.343                         3.50           3.0        27.90    1.0   \n",
       "29.493                         2.75           5.0        16.00    1.0   \n",
       "\n",
       "                     is_apartment  studio  ...  parks_nearest  \\\n",
       "cityCenters_nearest                        ...                  \n",
       "0.181                         1.0     0.0  ...          254.0   \n",
       "0.208                         0.0     0.0  ...          304.0   \n",
       "0.215                         1.0     0.0  ...          229.0   \n",
       "0.287                         0.0     0.0  ...          359.0   \n",
       "0.291                         1.0     0.0  ...          472.0   \n",
       "...                           ...     ...  ...            ...   \n",
       "28.644                        0.5     0.0  ...            NaN   \n",
       "28.806                        1.0     0.0  ...            NaN   \n",
       "29.263                        1.0     0.0  ...            NaN   \n",
       "29.343                        1.0     0.0  ...            NaN   \n",
       "29.493                        1.0     0.0  ...            NaN   \n",
       "\n",
       "                     ponds_around3000  ponds_nearest  days_exposition  \\\n",
       "cityCenters_nearest                                                     \n",
       "0.181                             3.0          426.0              0.0   \n",
       "0.208                             3.0          503.0            167.0   \n",
       "0.215                             2.0          511.0            265.0   \n",
       "0.287                             3.0          290.0             69.0   \n",
       "0.291                             2.0           94.0              0.0   \n",
       "...                               ...            ...              ...   \n",
       "28.644                            0.0            NaN            301.0   \n",
       "28.806                            0.0            NaN            939.0   \n",
       "29.263                            0.0            NaN              0.0   \n",
       "29.343                            0.0            NaN            187.0   \n",
       "29.493                            0.0            NaN              8.0   \n",
       "\n",
       "                     price_per_sqr  weekday_public_announcement  \\\n",
       "cityCenters_nearest                                               \n",
       "0.181                195591.194969                          0.0   \n",
       "0.208                172619.047619                          3.0   \n",
       "0.215                109900.000000                          2.0   \n",
       "0.287                 88796.296296                          1.0   \n",
       "0.291                101321.585903                          0.0   \n",
       "...                            ...                          ...   \n",
       "28.644                85191.334598                          1.0   \n",
       "28.806                79890.310786                          2.0   \n",
       "29.263                56526.806527                          0.0   \n",
       "29.343                73943.661972                          2.0   \n",
       "29.493                56976.744186                          1.0   \n",
       "\n",
       "                     month_public_announcement  year_publicannouncement  \\\n",
       "cityCenters_nearest                                                       \n",
       "0.181                                      6.0                   2018.0   \n",
       "0.208                                      3.0                   2016.0   \n",
       "0.215                                     12.0                   2015.0   \n",
       "0.287                                      5.0                   2017.0   \n",
       "0.291                                      9.0                   2018.0   \n",
       "...                                        ...                      ...   \n",
       "28.644                                     5.5                   2016.5   \n",
       "28.806                                     3.0                   2016.0   \n",
       "29.263                                     4.0                   2019.0   \n",
       "29.343                                     7.0                   2018.0   \n",
       "29.493                                     8.0                   2018.0   \n",
       "\n",
       "                     month_exposition  day_exposition  \n",
       "cityCenters_nearest                                    \n",
       "0.181                             6.0            25.0  \n",
       "0.208                             3.0            10.0  \n",
       "0.215                            12.0            16.0  \n",
       "0.287                             5.0            23.0  \n",
       "0.291                             9.0            17.0  \n",
       "...                               ...             ...  \n",
       "28.644                            5.5            11.5  \n",
       "28.806                            3.0            23.0  \n",
       "29.263                            4.0            22.0  \n",
       "29.343                            7.0             4.0  \n",
       "29.493                            8.0            14.0  \n",
       "\n",
       "[6299 rows x 25 columns]"
      ]
     },
     "execution_count": 49,
     "metadata": {},
     "output_type": "execute_result"
    }
   ],
   "source": [
    "to_centr_spb = df[df['locality_name'] == 'Санкт-Петербург'].sort_values('price_per_sqr')\n",
    "to_centr_spb.groupby('cityCenters_nearest').median('price_per_sqr')\n"
   ]
  },
  {
   "cell_type": "code",
   "execution_count": 44,
   "metadata": {},
   "outputs": [
    {
     "data": {
      "text/plain": [
       "<AxesSubplot:xlabel='cityCenters_nearest'>"
      ]
     },
     "execution_count": 44,
     "metadata": {},
     "output_type": "execute_result"
    },
    {
     "data": {
      "image/png": "[encoded data removed]",
      "text/plain": [
       "<Figure size 1000x1000 with 1 Axes>"
      ]
     },
     "metadata": {},
     "output_type": "display_data"
    }
   ],
   "source": [
    "df.pivot_table(index='cityCenters_nearest', values='last_price', aggfunc='median') \\\n",
    "    .plot(grid=True, style='o-', figsize=(10, 10))"
   ]
  },
  {
   "cell_type": "markdown",
   "metadata": {},
   "source": [
    "**Вывод:**\n",
    "Как и ожидалось, максимальная стоимость квартиры ближе к центру \\\n",
    "Максимальная удаленность от Центра стоимость в 2 раза меньше"
   ]
  },
  {
   "cell_type": "code",
   "execution_count": null,
   "metadata": {},
   "outputs": [
    {
     "data": {
      "text/plain": [
       "0        16.0\n",
       "1        19.0\n",
       "2        14.0\n",
       "3         7.0\n",
       "4         8.0\n",
       "         ... \n",
       "23694     4.0\n",
       "23695     NaN\n",
       "23696     NaN\n",
       "23697    10.0\n",
       "23698     NaN\n",
       "Name: cityCenters_nearest, Length: 23699, dtype: float64"
      ]
     },
     "execution_count": 36,
     "metadata": {},
     "output_type": "execute_result"
    }
   ],
   "source": [
    "df['cityCenters_nearest']"
   ]
  },
  {
   "cell_type": "markdown",
   "metadata": {},
   "source": [
    "### Общий вывод"
   ]
  },
  {
   "cell_type": "markdown",
   "metadata": {},
   "source": [
    "**Стоимость квадратного метра в 10 населенных пунктах:** \\\n",
    "в ***Санкт-Петребурге - 114849*** \\\n",
    "в ***Выборге - 58142***"
   ]
  },
  {
   "cell_type": "markdown",
   "metadata": {},
   "source": [
    "**Срок продажи квартиры** \\\n",
    "Самые частые продажи происходят за *95 дней.* \\\n",
    "Быстрой продажей считается 45 дней \\\n",
    "Долгой продаже *230 дней*"
   ]
  },
  {
   "cell_type": "markdown",
   "metadata": {},
   "source": [
    "**Факторы влияющие на стоимость**\n",
    "площадь\\день месяца \\месяц \\\n",
    "самый дорогой месяц декабрь,т.к. возрастающий спрос и наличие денег могут повлиять на этот фактор.\n",
    "Также замечено влияние по кварталам, которое может быть обусловлено восстановлением платежеспособности (апрель), также влияет фактор  жтлья в наличии, при готовности объектов возрастает и цена.\n",
    "Еще обратил внимание, что первый этаж дешевле остальных"
   ]
  },
  {
   "cell_type": "markdown",
   "metadata": {},
   "source": [
    "**По Санкт-Петербургу:**\n",
    "На стоимость квартиры влияет удаленность от центра, однако заметил перепады в стоиомости при одинаковой удаленности от центра. По комнатам нет какой-либо свзи, т.к. есть очень дорогие квартиры с 1 комнатой"
   ]
  }
 ],
 "metadata": {
  "ExecuteTimeLog": [
   {
    "duration": 57,
    "start_time": "2023-03-18T21:05:29.951Z"
   },
   {
    "duration": 449,
    "start_time": "2023-03-18T21:05:35.521Z"
   },
   {
    "duration": 321,
    "start_time": "2023-03-18T21:05:53.336Z"
   },
   {
    "duration": 99,
    "start_time": "2023-03-18T21:06:12.713Z"
   },
   {
    "duration": 1144,
    "start_time": "2023-03-18T21:06:40.580Z"
   },
   {
    "duration": 310,
    "start_time": "2023-03-18T21:06:54.633Z"
   },
   {
    "duration": 98,
    "start_time": "2023-03-18T21:07:45.943Z"
   },
   {
    "duration": 103,
    "start_time": "2023-03-18T21:07:58.860Z"
   },
   {
    "duration": 1016,
    "start_time": "2023-03-18T21:08:07.114Z"
   },
   {
    "duration": 97,
    "start_time": "2023-03-18T21:08:12.738Z"
   },
   {
    "duration": 44,
    "start_time": "2023-03-18T21:08:55.018Z"
   },
   {
    "duration": 35,
    "start_time": "2023-03-18T21:09:08.990Z"
   },
   {
    "duration": 109,
    "start_time": "2023-03-18T21:09:20.978Z"
   },
   {
    "duration": 88,
    "start_time": "2023-03-18T21:10:53.015Z"
   },
   {
    "duration": 101,
    "start_time": "2023-03-18T21:15:42.055Z"
   },
   {
    "duration": 152,
    "start_time": "2023-03-18T21:24:52.258Z"
   },
   {
    "duration": 31,
    "start_time": "2023-03-18T21:26:49.883Z"
   },
   {
    "duration": 10,
    "start_time": "2023-03-18T21:26:59.908Z"
   },
   {
    "duration": 2447,
    "start_time": "2023-03-18T22:03:57.749Z"
   },
   {
    "duration": 735,
    "start_time": "2023-03-27T17:43:30.819Z"
   },
   {
    "duration": 20,
    "start_time": "2023-03-27T17:43:31.556Z"
   },
   {
    "duration": 19,
    "start_time": "2023-03-27T17:43:31.583Z"
   },
   {
    "duration": 22,
    "start_time": "2023-03-27T17:43:31.604Z"
   },
   {
    "duration": 17,
    "start_time": "2023-03-27T17:43:31.628Z"
   },
   {
    "duration": 1600,
    "start_time": "2023-03-27T17:43:31.647Z"
   },
   {
    "duration": 0,
    "start_time": "2023-03-27T17:43:33.250Z"
   },
   {
    "duration": 0,
    "start_time": "2023-03-27T17:43:33.252Z"
   },
   {
    "duration": 0,
    "start_time": "2023-03-27T17:43:33.254Z"
   },
   {
    "duration": 0,
    "start_time": "2023-03-27T17:43:33.255Z"
   },
   {
    "duration": 0,
    "start_time": "2023-03-27T17:43:33.257Z"
   },
   {
    "duration": 0,
    "start_time": "2023-03-27T17:43:33.258Z"
   },
   {
    "duration": 0,
    "start_time": "2023-03-27T17:43:33.259Z"
   },
   {
    "duration": 0,
    "start_time": "2023-03-27T17:43:33.261Z"
   },
   {
    "duration": 0,
    "start_time": "2023-03-27T17:43:33.262Z"
   },
   {
    "duration": 0,
    "start_time": "2023-03-27T17:43:33.263Z"
   },
   {
    "duration": 0,
    "start_time": "2023-03-27T17:43:33.264Z"
   },
   {
    "duration": 0,
    "start_time": "2023-03-27T17:43:33.266Z"
   },
   {
    "duration": 0,
    "start_time": "2023-03-27T17:43:33.266Z"
   },
   {
    "duration": 0,
    "start_time": "2023-03-27T17:43:33.268Z"
   },
   {
    "duration": 0,
    "start_time": "2023-03-27T17:43:33.268Z"
   },
   {
    "duration": 0,
    "start_time": "2023-03-27T17:43:33.269Z"
   },
   {
    "duration": 0,
    "start_time": "2023-03-27T17:43:33.272Z"
   },
   {
    "duration": 0,
    "start_time": "2023-03-27T17:43:33.272Z"
   },
   {
    "duration": 0,
    "start_time": "2023-03-27T17:43:33.273Z"
   },
   {
    "duration": 0,
    "start_time": "2023-03-27T17:43:33.279Z"
   },
   {
    "duration": 0,
    "start_time": "2023-03-27T17:43:33.280Z"
   },
   {
    "duration": 0,
    "start_time": "2023-03-27T17:43:33.283Z"
   },
   {
    "duration": 0,
    "start_time": "2023-03-27T17:43:33.284Z"
   },
   {
    "duration": 0,
    "start_time": "2023-03-27T17:43:33.284Z"
   },
   {
    "duration": 0,
    "start_time": "2023-03-27T17:43:33.287Z"
   },
   {
    "duration": 0,
    "start_time": "2023-03-27T17:43:33.294Z"
   },
   {
    "duration": 0,
    "start_time": "2023-03-27T17:43:33.295Z"
   },
   {
    "duration": 0,
    "start_time": "2023-03-27T17:43:33.296Z"
   },
   {
    "duration": 0,
    "start_time": "2023-03-27T17:43:33.297Z"
   },
   {
    "duration": 0,
    "start_time": "2023-03-27T17:43:33.298Z"
   },
   {
    "duration": 0,
    "start_time": "2023-03-27T17:43:33.298Z"
   },
   {
    "duration": 0,
    "start_time": "2023-03-27T17:43:33.299Z"
   },
   {
    "duration": 0,
    "start_time": "2023-03-27T17:43:33.300Z"
   },
   {
    "duration": 0,
    "start_time": "2023-03-27T17:43:33.301Z"
   },
   {
    "duration": 0,
    "start_time": "2023-03-27T17:43:33.304Z"
   },
   {
    "duration": 0,
    "start_time": "2023-03-27T17:43:33.305Z"
   },
   {
    "duration": 0,
    "start_time": "2023-03-27T17:43:33.305Z"
   },
   {
    "duration": 0,
    "start_time": "2023-03-27T17:43:33.306Z"
   },
   {
    "duration": 0,
    "start_time": "2023-03-27T17:43:33.307Z"
   },
   {
    "duration": 0,
    "start_time": "2023-03-27T17:43:33.308Z"
   },
   {
    "duration": 313,
    "start_time": "2023-03-27T18:01:40.039Z"
   },
   {
    "duration": 23,
    "start_time": "2023-03-27T18:02:07.379Z"
   },
   {
    "duration": 10,
    "start_time": "2023-03-27T18:02:49.248Z"
   },
   {
    "duration": 3,
    "start_time": "2023-03-27T18:02:50.833Z"
   },
   {
    "duration": 24,
    "start_time": "2023-03-27T18:02:53.214Z"
   },
   {
    "duration": 15,
    "start_time": "2023-03-27T18:02:53.815Z"
   },
   {
    "duration": 85,
    "start_time": "2023-03-27T18:02:54.279Z"
   },
   {
    "duration": 15,
    "start_time": "2023-03-27T18:02:55.516Z"
   },
   {
    "duration": 6,
    "start_time": "2023-03-27T18:02:56.277Z"
   },
   {
    "duration": 59,
    "start_time": "2023-03-27T18:02:57.104Z"
   },
   {
    "duration": 555,
    "start_time": "2023-03-27T18:02:58.321Z"
   },
   {
    "duration": 9,
    "start_time": "2023-03-27T18:03:13.145Z"
   },
   {
    "duration": 18,
    "start_time": "2023-03-27T18:03:14.035Z"
   },
   {
    "duration": 8,
    "start_time": "2023-03-27T18:03:15.682Z"
   },
   {
    "duration": 14,
    "start_time": "2023-03-27T18:03:16.234Z"
   },
   {
    "duration": 388,
    "start_time": "2023-03-27T18:03:16.796Z"
   },
   {
    "duration": 6,
    "start_time": "2023-03-27T18:03:17.880Z"
   },
   {
    "duration": 8,
    "start_time": "2023-03-27T18:03:18.689Z"
   },
   {
    "duration": 762,
    "start_time": "2023-03-27T18:03:21.684Z"
   },
   {
    "duration": 274,
    "start_time": "2023-03-27T18:03:24.013Z"
   },
   {
    "duration": 416,
    "start_time": "2023-03-27T18:03:35.099Z"
   },
   {
    "duration": 239,
    "start_time": "2023-03-27T18:03:36.197Z"
   },
   {
    "duration": 317,
    "start_time": "2023-03-27T18:03:37.982Z"
   },
   {
    "duration": 176,
    "start_time": "2023-03-27T18:03:40.833Z"
   },
   {
    "duration": 2,
    "start_time": "2023-03-27T18:03:47.425Z"
   },
   {
    "duration": 291,
    "start_time": "2023-03-27T18:03:49.381Z"
   },
   {
    "duration": 293,
    "start_time": "2023-03-27T18:03:52.179Z"
   },
   {
    "duration": 305,
    "start_time": "2023-03-27T18:03:53.483Z"
   },
   {
    "duration": 176,
    "start_time": "2023-03-27T18:03:57.433Z"
   },
   {
    "duration": 200,
    "start_time": "2023-03-27T18:03:58.300Z"
   },
   {
    "duration": 206,
    "start_time": "2023-03-27T18:03:59.042Z"
   },
   {
    "duration": 193,
    "start_time": "2023-03-27T18:03:59.740Z"
   },
   {
    "duration": 208,
    "start_time": "2023-03-27T18:04:00.335Z"
   },
   {
    "duration": 114,
    "start_time": "2023-03-27T18:04:01.753Z"
   },
   {
    "duration": 653,
    "start_time": "2023-03-27T18:04:02.891Z"
   },
   {
    "duration": 26,
    "start_time": "2023-03-27T18:04:03.606Z"
   },
   {
    "duration": 34,
    "start_time": "2023-03-27T18:04:05.283Z"
   },
   {
    "duration": 21,
    "start_time": "2023-03-27T18:04:05.986Z"
   },
   {
    "duration": 161,
    "start_time": "2023-03-27T18:04:07.909Z"
   },
   {
    "duration": 178,
    "start_time": "2023-03-27T18:04:08.577Z"
   },
   {
    "duration": 155,
    "start_time": "2023-03-27T18:04:10.416Z"
   },
   {
    "duration": 168,
    "start_time": "2023-03-27T18:04:11.071Z"
   },
   {
    "duration": 179,
    "start_time": "2023-03-27T18:04:11.824Z"
   },
   {
    "duration": 209,
    "start_time": "2023-03-27T18:04:13.024Z"
   },
   {
    "duration": 40,
    "start_time": "2023-03-27T18:04:13.849Z"
   },
   {
    "duration": 68,
    "start_time": "2023-03-27T18:04:15.129Z"
   },
   {
    "duration": 7,
    "start_time": "2023-03-27T18:04:16.831Z"
   },
   {
    "duration": 288,
    "start_time": "2023-03-27T18:04:47.585Z"
   },
   {
    "duration": 10,
    "start_time": "2023-03-27T18:04:49.280Z"
   },
   {
    "duration": 3,
    "start_time": "2023-03-27T18:05:31.017Z"
   },
   {
    "duration": 23,
    "start_time": "2023-03-27T18:05:33.329Z"
   },
   {
    "duration": 24,
    "start_time": "2023-03-27T18:05:34.086Z"
   },
   {
    "duration": 34,
    "start_time": "2023-03-27T18:05:35.087Z"
   },
   {
    "duration": 16,
    "start_time": "2023-03-27T18:21:38.756Z"
   },
   {
    "duration": 14,
    "start_time": "2023-03-27T18:21:49.201Z"
   },
   {
    "duration": 19,
    "start_time": "2023-03-27T18:21:52.517Z"
   },
   {
    "duration": 21,
    "start_time": "2023-03-27T18:24:20.501Z"
   },
   {
    "duration": 29,
    "start_time": "2023-03-27T18:26:45.643Z"
   },
   {
    "duration": 175,
    "start_time": "2023-03-27T18:27:20.600Z"
   },
   {
    "duration": 17,
    "start_time": "2023-03-27T18:27:36.362Z"
   },
   {
    "duration": 16,
    "start_time": "2023-03-27T18:27:44.442Z"
   },
   {
    "duration": 848,
    "start_time": "2023-03-27T18:27:51.656Z"
   },
   {
    "duration": 12,
    "start_time": "2023-03-27T18:27:52.506Z"
   },
   {
    "duration": 16,
    "start_time": "2023-03-27T18:27:52.520Z"
   },
   {
    "duration": 41,
    "start_time": "2023-03-27T18:27:52.538Z"
   },
   {
    "duration": 17,
    "start_time": "2023-03-27T18:27:52.582Z"
   },
   {
    "duration": 41,
    "start_time": "2023-03-27T18:27:52.601Z"
   },
   {
    "duration": 91,
    "start_time": "2023-03-27T18:27:52.644Z"
   },
   {
    "duration": 0,
    "start_time": "2023-03-27T18:27:52.740Z"
   },
   {
    "duration": 0,
    "start_time": "2023-03-27T18:27:52.743Z"
   },
   {
    "duration": 0,
    "start_time": "2023-03-27T18:27:52.745Z"
   },
   {
    "duration": 0,
    "start_time": "2023-03-27T18:27:52.747Z"
   },
   {
    "duration": 0,
    "start_time": "2023-03-27T18:27:52.749Z"
   },
   {
    "duration": 0,
    "start_time": "2023-03-27T18:27:52.751Z"
   },
   {
    "duration": 0,
    "start_time": "2023-03-27T18:27:52.752Z"
   },
   {
    "duration": 0,
    "start_time": "2023-03-27T18:27:52.756Z"
   },
   {
    "duration": 0,
    "start_time": "2023-03-27T18:27:52.759Z"
   },
   {
    "duration": 0,
    "start_time": "2023-03-27T18:27:52.760Z"
   },
   {
    "duration": 0,
    "start_time": "2023-03-27T18:27:52.761Z"
   },
   {
    "duration": 0,
    "start_time": "2023-03-27T18:27:52.762Z"
   },
   {
    "duration": 0,
    "start_time": "2023-03-27T18:27:52.764Z"
   },
   {
    "duration": 0,
    "start_time": "2023-03-27T18:27:52.765Z"
   },
   {
    "duration": 0,
    "start_time": "2023-03-27T18:27:52.766Z"
   },
   {
    "duration": 0,
    "start_time": "2023-03-27T18:27:52.767Z"
   },
   {
    "duration": 0,
    "start_time": "2023-03-27T18:27:52.768Z"
   },
   {
    "duration": 0,
    "start_time": "2023-03-27T18:27:52.770Z"
   },
   {
    "duration": 0,
    "start_time": "2023-03-27T18:27:52.771Z"
   },
   {
    "duration": 0,
    "start_time": "2023-03-27T18:27:52.772Z"
   },
   {
    "duration": 0,
    "start_time": "2023-03-27T18:27:52.773Z"
   },
   {
    "duration": 0,
    "start_time": "2023-03-27T18:27:52.774Z"
   },
   {
    "duration": 0,
    "start_time": "2023-03-27T18:27:52.775Z"
   },
   {
    "duration": 0,
    "start_time": "2023-03-27T18:27:52.776Z"
   },
   {
    "duration": 0,
    "start_time": "2023-03-27T18:27:52.777Z"
   },
   {
    "duration": 1,
    "start_time": "2023-03-27T18:27:52.777Z"
   },
   {
    "duration": 0,
    "start_time": "2023-03-27T18:27:52.778Z"
   },
   {
    "duration": 0,
    "start_time": "2023-03-27T18:27:52.779Z"
   },
   {
    "duration": 0,
    "start_time": "2023-03-27T18:27:52.779Z"
   },
   {
    "duration": 0,
    "start_time": "2023-03-27T18:27:52.833Z"
   },
   {
    "duration": 0,
    "start_time": "2023-03-27T18:27:52.837Z"
   },
   {
    "duration": 0,
    "start_time": "2023-03-27T18:27:52.838Z"
   },
   {
    "duration": 0,
    "start_time": "2023-03-27T18:27:52.839Z"
   },
   {
    "duration": 0,
    "start_time": "2023-03-27T18:27:52.840Z"
   },
   {
    "duration": 0,
    "start_time": "2023-03-27T18:27:52.842Z"
   },
   {
    "duration": 0,
    "start_time": "2023-03-27T18:27:52.843Z"
   },
   {
    "duration": 0,
    "start_time": "2023-03-27T18:27:52.844Z"
   },
   {
    "duration": 0,
    "start_time": "2023-03-27T18:27:52.845Z"
   },
   {
    "duration": 0,
    "start_time": "2023-03-27T18:27:52.846Z"
   },
   {
    "duration": 0,
    "start_time": "2023-03-27T18:27:52.847Z"
   },
   {
    "duration": 279,
    "start_time": "2023-03-27T18:28:00.521Z"
   },
   {
    "duration": 10,
    "start_time": "2023-03-27T18:28:02.724Z"
   },
   {
    "duration": 3,
    "start_time": "2023-03-27T18:28:03.438Z"
   },
   {
    "duration": 25,
    "start_time": "2023-03-27T18:28:05.559Z"
   },
   {
    "duration": 15,
    "start_time": "2023-03-27T18:28:06.416Z"
   },
   {
    "duration": 20,
    "start_time": "2023-03-27T18:28:06.908Z"
   },
   {
    "duration": 15,
    "start_time": "2023-03-27T18:28:07.799Z"
   },
   {
    "duration": 5,
    "start_time": "2023-03-27T18:28:35.518Z"
   },
   {
    "duration": 4,
    "start_time": "2023-03-27T18:28:39.039Z"
   },
   {
    "duration": 15,
    "start_time": "2023-03-27T18:28:40.526Z"
   },
   {
    "duration": 8,
    "start_time": "2023-03-27T18:28:49.098Z"
   },
   {
    "duration": 64,
    "start_time": "2023-03-27T18:28:49.690Z"
   },
   {
    "duration": 630,
    "start_time": "2023-03-27T18:28:50.997Z"
   },
   {
    "duration": 13,
    "start_time": "2023-03-27T18:28:59.405Z"
   },
   {
    "duration": 17,
    "start_time": "2023-03-27T18:29:00.318Z"
   },
   {
    "duration": 7,
    "start_time": "2023-03-27T18:29:02.195Z"
   },
   {
    "duration": 13,
    "start_time": "2023-03-27T18:29:02.812Z"
   },
   {
    "duration": 353,
    "start_time": "2023-03-27T18:29:03.411Z"
   },
   {
    "duration": 5,
    "start_time": "2023-03-27T18:29:04.346Z"
   },
   {
    "duration": 7,
    "start_time": "2023-03-27T18:29:04.928Z"
   },
   {
    "duration": 567,
    "start_time": "2023-03-27T18:29:07.809Z"
   },
   {
    "duration": 274,
    "start_time": "2023-03-27T18:29:09.543Z"
   },
   {
    "duration": 415,
    "start_time": "2023-03-27T18:29:10.294Z"
   },
   {
    "duration": 239,
    "start_time": "2023-03-27T18:29:11.238Z"
   },
   {
    "duration": 301,
    "start_time": "2023-03-27T18:29:12.094Z"
   },
   {
    "duration": 206,
    "start_time": "2023-03-27T18:29:13.029Z"
   },
   {
    "duration": 2,
    "start_time": "2023-03-27T18:29:13.740Z"
   },
   {
    "duration": 303,
    "start_time": "2023-03-27T18:29:14.513Z"
   },
   {
    "duration": 304,
    "start_time": "2023-03-27T18:29:16.021Z"
   },
   {
    "duration": 330,
    "start_time": "2023-03-27T18:29:16.955Z"
   },
   {
    "duration": 208,
    "start_time": "2023-03-27T18:29:17.818Z"
   },
   {
    "duration": 207,
    "start_time": "2023-03-27T18:29:18.611Z"
   },
   {
    "duration": 224,
    "start_time": "2023-03-27T18:29:19.332Z"
   },
   {
    "duration": 220,
    "start_time": "2023-03-27T18:29:20.109Z"
   },
   {
    "duration": 204,
    "start_time": "2023-03-27T18:29:20.810Z"
   },
   {
    "duration": 139,
    "start_time": "2023-03-27T18:29:24.013Z"
   },
   {
    "duration": 198,
    "start_time": "2023-03-27T18:29:32.791Z"
   },
   {
    "duration": 102,
    "start_time": "2023-03-27T18:29:38.736Z"
   },
   {
    "duration": 97,
    "start_time": "2023-03-27T18:29:44.710Z"
   },
   {
    "duration": 93,
    "start_time": "2023-03-27T18:29:48.328Z"
   },
   {
    "duration": 547,
    "start_time": "2023-03-27T18:29:54.708Z"
   },
   {
    "duration": 22,
    "start_time": "2023-03-27T18:29:55.728Z"
   },
   {
    "duration": 29,
    "start_time": "2023-03-27T18:29:56.640Z"
   },
   {
    "duration": 21,
    "start_time": "2023-03-27T18:29:57.595Z"
   },
   {
    "duration": 166,
    "start_time": "2023-03-27T18:29:59.894Z"
   },
   {
    "duration": 176,
    "start_time": "2023-03-27T18:30:00.615Z"
   },
   {
    "duration": 160,
    "start_time": "2023-03-27T18:30:01.336Z"
   },
   {
    "duration": 185,
    "start_time": "2023-03-27T18:30:02.041Z"
   },
   {
    "duration": 262,
    "start_time": "2023-03-27T18:30:02.812Z"
   },
   {
    "duration": 195,
    "start_time": "2023-03-27T18:30:04.411Z"
   },
   {
    "duration": 41,
    "start_time": "2023-03-27T18:30:07.134Z"
   },
   {
    "duration": 70,
    "start_time": "2023-03-27T18:30:22.199Z"
   },
   {
    "duration": 7,
    "start_time": "2023-03-27T18:30:25.049Z"
   },
   {
    "duration": 1150,
    "start_time": "2023-03-27T19:07:51.566Z"
   },
   {
    "duration": 19,
    "start_time": "2023-03-27T19:07:52.722Z"
   },
   {
    "duration": 5,
    "start_time": "2023-03-27T19:07:52.746Z"
   },
   {
    "duration": 29,
    "start_time": "2023-03-27T19:07:52.752Z"
   },
   {
    "duration": 18,
    "start_time": "2023-03-27T19:07:52.785Z"
   },
   {
    "duration": 22,
    "start_time": "2023-03-27T19:07:52.805Z"
   },
   {
    "duration": 5,
    "start_time": "2023-03-27T19:07:52.829Z"
   },
   {
    "duration": 18,
    "start_time": "2023-03-27T19:07:52.836Z"
   },
   {
    "duration": 20,
    "start_time": "2023-03-27T19:07:52.856Z"
   },
   {
    "duration": 64,
    "start_time": "2023-03-27T19:07:52.878Z"
   },
   {
    "duration": 557,
    "start_time": "2023-03-27T19:07:52.944Z"
   },
   {
    "duration": 15,
    "start_time": "2023-03-27T19:07:53.507Z"
   },
   {
    "duration": 13,
    "start_time": "2023-03-27T19:07:53.530Z"
   },
   {
    "duration": 7,
    "start_time": "2023-03-27T19:07:53.547Z"
   },
   {
    "duration": 24,
    "start_time": "2023-03-27T19:07:53.555Z"
   },
   {
    "duration": 455,
    "start_time": "2023-03-27T19:07:53.580Z"
   },
   {
    "duration": 11,
    "start_time": "2023-03-27T19:07:54.037Z"
   },
   {
    "duration": 9,
    "start_time": "2023-03-27T19:07:54.050Z"
   },
   {
    "duration": 760,
    "start_time": "2023-03-27T19:07:54.061Z"
   },
   {
    "duration": 296,
    "start_time": "2023-03-27T19:07:54.823Z"
   },
   {
    "duration": 438,
    "start_time": "2023-03-27T19:07:55.124Z"
   },
   {
    "duration": 261,
    "start_time": "2023-03-27T19:07:55.564Z"
   },
   {
    "duration": 295,
    "start_time": "2023-03-27T19:07:55.834Z"
   },
   {
    "duration": 199,
    "start_time": "2023-03-27T19:07:56.131Z"
   },
   {
    "duration": 2,
    "start_time": "2023-03-27T19:07:56.331Z"
   },
   {
    "duration": 323,
    "start_time": "2023-03-27T19:07:56.335Z"
   },
   {
    "duration": 338,
    "start_time": "2023-03-27T19:07:56.660Z"
   },
   {
    "duration": 333,
    "start_time": "2023-03-27T19:07:56.999Z"
   },
   {
    "duration": 196,
    "start_time": "2023-03-27T19:07:57.334Z"
   },
   {
    "duration": 201,
    "start_time": "2023-03-27T19:07:57.536Z"
   },
   {
    "duration": 219,
    "start_time": "2023-03-27T19:07:57.739Z"
   },
   {
    "duration": 205,
    "start_time": "2023-03-27T19:07:57.960Z"
   },
   {
    "duration": 200,
    "start_time": "2023-03-27T19:07:58.166Z"
   },
   {
    "duration": 100,
    "start_time": "2023-03-27T19:07:58.369Z"
   },
   {
    "duration": 838,
    "start_time": "2023-03-27T19:07:58.471Z"
   },
   {
    "duration": 23,
    "start_time": "2023-03-27T19:07:59.312Z"
   },
   {
    "duration": 20,
    "start_time": "2023-03-27T19:07:59.337Z"
   },
   {
    "duration": 41,
    "start_time": "2023-03-27T19:07:59.382Z"
   },
   {
    "duration": 178,
    "start_time": "2023-03-27T19:07:59.425Z"
   },
   {
    "duration": 191,
    "start_time": "2023-03-27T19:07:59.605Z"
   },
   {
    "duration": 160,
    "start_time": "2023-03-27T19:07:59.803Z"
   },
   {
    "duration": 195,
    "start_time": "2023-03-27T19:07:59.965Z"
   },
   {
    "duration": 193,
    "start_time": "2023-03-27T19:08:00.162Z"
   },
   {
    "duration": 199,
    "start_time": "2023-03-27T19:08:00.357Z"
   },
   {
    "duration": 57,
    "start_time": "2023-03-27T19:08:00.558Z"
   },
   {
    "duration": 71,
    "start_time": "2023-03-27T19:08:00.616Z"
   },
   {
    "duration": 6,
    "start_time": "2023-03-27T19:08:00.689Z"
   },
   {
    "duration": 8,
    "start_time": "2023-03-27T19:17:52.399Z"
   },
   {
    "duration": 50,
    "start_time": "2023-03-29T19:06:08.646Z"
   },
   {
    "duration": 707,
    "start_time": "2023-03-29T19:06:30.987Z"
   },
   {
    "duration": 16,
    "start_time": "2023-03-29T19:06:34.206Z"
   },
   {
    "duration": 2,
    "start_time": "2023-03-29T19:06:35.025Z"
   },
   {
    "duration": 40,
    "start_time": "2023-03-29T19:06:36.803Z"
   },
   {
    "duration": 16,
    "start_time": "2023-03-29T19:06:37.733Z"
   },
   {
    "duration": 19,
    "start_time": "2023-03-29T19:06:38.517Z"
   },
   {
    "duration": 729,
    "start_time": "2023-03-29T19:15:43.250Z"
   },
   {
    "duration": 7,
    "start_time": "2023-03-29T19:16:43.914Z"
   },
   {
    "duration": 6,
    "start_time": "2023-03-29T19:17:00.396Z"
   },
   {
    "duration": 42,
    "start_time": "2023-03-29T19:17:13.264Z"
   },
   {
    "duration": 48,
    "start_time": "2023-03-29T19:17:36.184Z"
   },
   {
    "duration": 5,
    "start_time": "2023-03-29T19:17:47.371Z"
   },
   {
    "duration": 66,
    "start_time": "2023-03-29T19:18:17.399Z"
   },
   {
    "duration": 6,
    "start_time": "2023-03-29T19:18:24.761Z"
   },
   {
    "duration": 215,
    "start_time": "2023-03-29T19:20:09.786Z"
   },
   {
    "duration": 821,
    "start_time": "2023-04-01T08:17:35.734Z"
   },
   {
    "duration": 12,
    "start_time": "2023-04-01T08:17:36.558Z"
   },
   {
    "duration": 43,
    "start_time": "2023-04-01T08:17:36.572Z"
   },
   {
    "duration": 64,
    "start_time": "2023-04-01T08:17:36.619Z"
   },
   {
    "duration": 119,
    "start_time": "2023-04-01T08:17:36.686Z"
   },
   {
    "duration": 49,
    "start_time": "2023-04-01T08:17:36.810Z"
   },
   {
    "duration": 22,
    "start_time": "2023-04-01T08:17:36.862Z"
   },
   {
    "duration": 20,
    "start_time": "2023-04-01T08:17:36.886Z"
   },
   {
    "duration": 776,
    "start_time": "2023-04-01T08:17:36.909Z"
   },
   {
    "duration": 9,
    "start_time": "2023-04-01T08:17:37.689Z"
   },
   {
    "duration": 45,
    "start_time": "2023-04-01T08:17:37.700Z"
   },
   {
    "duration": 15,
    "start_time": "2023-04-01T08:17:37.748Z"
   },
   {
    "duration": 103,
    "start_time": "2023-04-01T08:17:37.766Z"
   },
   {
    "duration": 728,
    "start_time": "2023-04-01T08:17:37.871Z"
   },
   {
    "duration": 14,
    "start_time": "2023-04-01T08:17:38.602Z"
   },
   {
    "duration": 20,
    "start_time": "2023-04-01T08:17:38.640Z"
   },
   {
    "duration": 9,
    "start_time": "2023-04-01T08:17:38.662Z"
   },
   {
    "duration": 21,
    "start_time": "2023-04-01T08:17:38.673Z"
   },
   {
    "duration": 416,
    "start_time": "2023-04-01T08:17:38.696Z"
   },
   {
    "duration": 8,
    "start_time": "2023-04-01T08:17:39.114Z"
   },
   {
    "duration": 377,
    "start_time": "2023-04-01T08:17:39.123Z"
   },
   {
    "duration": 286,
    "start_time": "2023-04-01T08:17:39.503Z"
   },
   {
    "duration": 443,
    "start_time": "2023-04-01T08:17:39.791Z"
   },
   {
    "duration": 273,
    "start_time": "2023-04-01T08:17:40.240Z"
   },
   {
    "duration": 421,
    "start_time": "2023-04-01T08:17:40.515Z"
   },
   {
    "duration": 181,
    "start_time": "2023-04-01T08:17:40.938Z"
   },
   {
    "duration": 2,
    "start_time": "2023-04-01T08:17:41.121Z"
   },
   {
    "duration": 265,
    "start_time": "2023-04-01T08:17:41.127Z"
   },
   {
    "duration": 328,
    "start_time": "2023-04-01T08:17:41.394Z"
   },
   {
    "duration": 346,
    "start_time": "2023-04-01T08:17:41.724Z"
   },
   {
    "duration": 203,
    "start_time": "2023-04-01T08:17:42.073Z"
   },
   {
    "duration": 233,
    "start_time": "2023-04-01T08:17:42.278Z"
   },
   {
    "duration": 249,
    "start_time": "2023-04-01T08:17:42.512Z"
   },
   {
    "duration": 351,
    "start_time": "2023-04-01T08:17:42.763Z"
   },
   {
    "duration": 265,
    "start_time": "2023-04-01T08:17:43.115Z"
   },
   {
    "duration": 137,
    "start_time": "2023-04-01T08:17:43.382Z"
   },
   {
    "duration": 608,
    "start_time": "2023-04-01T08:17:43.522Z"
   },
   {
    "duration": 26,
    "start_time": "2023-04-01T08:17:44.132Z"
   },
   {
    "duration": 29,
    "start_time": "2023-04-01T08:17:44.160Z"
   },
   {
    "duration": 20,
    "start_time": "2023-04-01T08:17:44.190Z"
   },
   {
    "duration": 201,
    "start_time": "2023-04-01T08:17:44.212Z"
   },
   {
    "duration": 297,
    "start_time": "2023-04-01T08:17:44.415Z"
   },
   {
    "duration": 209,
    "start_time": "2023-04-01T08:17:44.715Z"
   },
   {
    "duration": 202,
    "start_time": "2023-04-01T08:17:44.927Z"
   },
   {
    "duration": 269,
    "start_time": "2023-04-01T08:17:45.131Z"
   },
   {
    "duration": 332,
    "start_time": "2023-04-01T08:17:45.401Z"
   },
   {
    "duration": 232,
    "start_time": "2023-04-01T08:17:45.742Z"
   },
   {
    "duration": 45,
    "start_time": "2023-04-01T08:17:45.977Z"
   },
   {
    "duration": 88,
    "start_time": "2023-04-01T08:17:46.023Z"
   },
   {
    "duration": 250,
    "start_time": "2023-04-01T08:17:46.113Z"
   },
   {
    "duration": 7,
    "start_time": "2023-04-01T08:17:46.365Z"
   },
   {
    "duration": 7,
    "start_time": "2023-04-01T08:18:08.384Z"
   },
   {
    "duration": 9,
    "start_time": "2023-04-01T08:21:08.595Z"
   },
   {
    "duration": 6,
    "start_time": "2023-04-01T08:21:32.999Z"
   },
   {
    "duration": 9,
    "start_time": "2023-04-01T08:27:54.096Z"
   }
  ],
  "kernelspec": {
   "display_name": "Python 3 (ipykernel)",
   "language": "python",
   "name": "python3"
  },
  "language_info": {
   "codemirror_mode": {
    "name": "ipython",
    "version": 3
   },
   "file_extension": ".py",
   "mimetype": "text/x-python",
   "name": "python",
   "nbconvert_exporter": "python",
   "pygments_lexer": "ipython3",
   "version": "3.11.4"
  },
  "toc": {
   "base_numbering": 1,
   "nav_menu": {},
   "number_sections": true,
   "sideBar": true,
   "skip_h1_title": true,
   "title_cell": "Table of Contents",
   "title_sidebar": "Contents",
   "toc_cell": false,
   "toc_position": {},
   "toc_section_display": true,
   "toc_window_display": false
  }
 },
 "nbformat": 4,
 "nbformat_minor": 4
}
