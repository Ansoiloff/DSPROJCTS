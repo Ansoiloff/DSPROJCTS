{
  "cells": [
    {
      "cell_type": "markdown",
      "id": "a42e5c66-1d40-44a1-bd9e-f255a4466bf4",
      "metadata": {
        "id": "a42e5c66-1d40-44a1-bd9e-f255a4466bf4"
      },
      "source": [
        "## Описание проекта\n",
        "Из «Бета-Банка» стали уходить клиенты. Каждый месяц. Немного, но заметно. Банковские маркетологи посчитали: сохранять текущих клиентов дешевле, чем привлекать новых.\n",
        "Нужно спрогнозировать, уйдёт клиент из банка в ближайшее время или нет. Вам предоставлены исторические данные о поведении клиентов и расторжении договоров с банком.\n",
        "Постройте модель с предельно большим значением F1-меры. Чтобы сдать проект успешно, нужно довести метрику до 0.59. Проверьте F1-меру на тестовой выборке самостоятельно.\n",
        "Дополнительно измеряйте AUC-ROC, сравнивайте её значение с F1-мерой."
      ]
    },
    {
      "cell_type": "markdown",
      "id": "ce3aff60-ced3-4f82-af28-a6aa257bd22c",
      "metadata": {
        "id": "ce3aff60-ced3-4f82-af28-a6aa257bd22c"
      },
      "source": [
        "## Инструкция по выполнению проекта\n",
        "Загрузите и подготовьте данные. Поясните порядок действий. \\\n",
        "Исследуйте баланс классов, обучите модель без учёта дисбаланса. Кратко опишите выводы. \\\n",
        "Улучшите качество модели, учитывая дисбаланс классов. \\\n",
        "Обучите разные модели и найдите лучшую. Кратко опишите выводы. \\\n",
        "Проведите финальное тестирование."
      ]
    },
    {
      "cell_type": "code",
      "execution_count": null,
      "id": "600d8197-d03f-4a20-8a3c-b1412053f616",
      "metadata": {
        "id": "600d8197-d03f-4a20-8a3c-b1412053f616"
      },
      "outputs": [],
      "source": [
        "import pandas as pd\n",
        "import numpy as np\n",
        "import random\n",
        "import seaborn as sns\n",
        "import matplotlib.pyplot as plt\n",
        "\n",
        "from sklearn.preprocessing import StandardScaler\n",
        "from sklearn.model_selection import train_test_split\n",
        "\n",
        "from sklearn.tree import DecisionTreeClassifier\n",
        "from sklearn.ensemble import RandomForestClassifier\n",
        "from sklearn.linear_model import LogisticRegression\n",
        "\n",
        "from sklearn.metrics import f1_score\n",
        "from sklearn.utils import shuffle\n",
        "\n",
        "from sklearn.metrics import roc_curve\n",
        "from sklearn.metrics import roc_auc_score\n",
        "from sklearn.metrics import accuracy_score\n"
      ]
    },
    {
      "cell_type": "code",
      "execution_count": null,
      "id": "bf8859e5-6bc1-4c8e-8237-7c6efbfb3a41",
      "metadata": {
        "id": "bf8859e5-6bc1-4c8e-8237-7c6efbfb3a41"
      },
      "outputs": [],
      "source": [
        "try:\n",
        "    df = pd.read_csv('Churn.csv')\n",
        "except:\n",
        "    df = pd.read_csv('https://code.s3.yandex.net/datasets/Сhurn.csv')\n"
      ]
    },
    {
      "cell_type": "code",
      "execution_count": null,
      "id": "ebe61248-6078-4238-af0a-1b9ef59ffed1",
      "metadata": {
        "id": "ebe61248-6078-4238-af0a-1b9ef59ffed1",
        "outputId": "b86f54ee-a055-4c67-c1c2-b27cd268c90f"
      },
      "outputs": [
        {
          "data": {
            "text/html": [
              "<div>\n",
              "<style scoped>\n",
              "    .dataframe tbody tr th:only-of-type {\n",
              "        vertical-align: middle;\n",
              "    }\n",
              "\n",
              "    .dataframe tbody tr th {\n",
              "        vertical-align: top;\n",
              "    }\n",
              "\n",
              "    .dataframe thead th {\n",
              "        text-align: right;\n",
              "    }\n",
              "</style>\n",
              "<table border=\"1\" class=\"dataframe\">\n",
              "  <thead>\n",
              "    <tr style=\"text-align: right;\">\n",
              "      <th></th>\n",
              "      <th>RowNumber</th>\n",
              "      <th>CustomerId</th>\n",
              "      <th>Surname</th>\n",
              "      <th>CreditScore</th>\n",
              "      <th>Geography</th>\n",
              "      <th>Gender</th>\n",
              "      <th>Age</th>\n",
              "      <th>Tenure</th>\n",
              "      <th>Balance</th>\n",
              "      <th>NumOfProducts</th>\n",
              "      <th>HasCrCard</th>\n",
              "      <th>IsActiveMember</th>\n",
              "      <th>EstimatedSalary</th>\n",
              "      <th>Exited</th>\n",
              "    </tr>\n",
              "  </thead>\n",
              "  <tbody>\n",
              "    <tr>\n",
              "      <th>0</th>\n",
              "      <td>1</td>\n",
              "      <td>15634602</td>\n",
              "      <td>Hargrave</td>\n",
              "      <td>619</td>\n",
              "      <td>France</td>\n",
              "      <td>Female</td>\n",
              "      <td>42</td>\n",
              "      <td>2.0</td>\n",
              "      <td>0.00</td>\n",
              "      <td>1</td>\n",
              "      <td>1</td>\n",
              "      <td>1</td>\n",
              "      <td>101348.88</td>\n",
              "      <td>1</td>\n",
              "    </tr>\n",
              "    <tr>\n",
              "      <th>1</th>\n",
              "      <td>2</td>\n",
              "      <td>15647311</td>\n",
              "      <td>Hill</td>\n",
              "      <td>608</td>\n",
              "      <td>Spain</td>\n",
              "      <td>Female</td>\n",
              "      <td>41</td>\n",
              "      <td>1.0</td>\n",
              "      <td>83807.86</td>\n",
              "      <td>1</td>\n",
              "      <td>0</td>\n",
              "      <td>1</td>\n",
              "      <td>112542.58</td>\n",
              "      <td>0</td>\n",
              "    </tr>\n",
              "    <tr>\n",
              "      <th>2</th>\n",
              "      <td>3</td>\n",
              "      <td>15619304</td>\n",
              "      <td>Onio</td>\n",
              "      <td>502</td>\n",
              "      <td>France</td>\n",
              "      <td>Female</td>\n",
              "      <td>42</td>\n",
              "      <td>8.0</td>\n",
              "      <td>159660.80</td>\n",
              "      <td>3</td>\n",
              "      <td>1</td>\n",
              "      <td>0</td>\n",
              "      <td>113931.57</td>\n",
              "      <td>1</td>\n",
              "    </tr>\n",
              "    <tr>\n",
              "      <th>3</th>\n",
              "      <td>4</td>\n",
              "      <td>15701354</td>\n",
              "      <td>Boni</td>\n",
              "      <td>699</td>\n",
              "      <td>France</td>\n",
              "      <td>Female</td>\n",
              "      <td>39</td>\n",
              "      <td>1.0</td>\n",
              "      <td>0.00</td>\n",
              "      <td>2</td>\n",
              "      <td>0</td>\n",
              "      <td>0</td>\n",
              "      <td>93826.63</td>\n",
              "      <td>0</td>\n",
              "    </tr>\n",
              "    <tr>\n",
              "      <th>4</th>\n",
              "      <td>5</td>\n",
              "      <td>15737888</td>\n",
              "      <td>Mitchell</td>\n",
              "      <td>850</td>\n",
              "      <td>Spain</td>\n",
              "      <td>Female</td>\n",
              "      <td>43</td>\n",
              "      <td>2.0</td>\n",
              "      <td>125510.82</td>\n",
              "      <td>1</td>\n",
              "      <td>1</td>\n",
              "      <td>1</td>\n",
              "      <td>79084.10</td>\n",
              "      <td>0</td>\n",
              "    </tr>\n",
              "    <tr>\n",
              "      <th>5</th>\n",
              "      <td>6</td>\n",
              "      <td>15574012</td>\n",
              "      <td>Chu</td>\n",
              "      <td>645</td>\n",
              "      <td>Spain</td>\n",
              "      <td>Male</td>\n",
              "      <td>44</td>\n",
              "      <td>8.0</td>\n",
              "      <td>113755.78</td>\n",
              "      <td>2</td>\n",
              "      <td>1</td>\n",
              "      <td>0</td>\n",
              "      <td>149756.71</td>\n",
              "      <td>1</td>\n",
              "    </tr>\n",
              "    <tr>\n",
              "      <th>6</th>\n",
              "      <td>7</td>\n",
              "      <td>15592531</td>\n",
              "      <td>Bartlett</td>\n",
              "      <td>822</td>\n",
              "      <td>France</td>\n",
              "      <td>Male</td>\n",
              "      <td>50</td>\n",
              "      <td>7.0</td>\n",
              "      <td>0.00</td>\n",
              "      <td>2</td>\n",
              "      <td>1</td>\n",
              "      <td>1</td>\n",
              "      <td>10062.80</td>\n",
              "      <td>0</td>\n",
              "    </tr>\n",
              "    <tr>\n",
              "      <th>7</th>\n",
              "      <td>8</td>\n",
              "      <td>15656148</td>\n",
              "      <td>Obinna</td>\n",
              "      <td>376</td>\n",
              "      <td>Germany</td>\n",
              "      <td>Female</td>\n",
              "      <td>29</td>\n",
              "      <td>4.0</td>\n",
              "      <td>115046.74</td>\n",
              "      <td>4</td>\n",
              "      <td>1</td>\n",
              "      <td>0</td>\n",
              "      <td>119346.88</td>\n",
              "      <td>1</td>\n",
              "    </tr>\n",
              "    <tr>\n",
              "      <th>8</th>\n",
              "      <td>9</td>\n",
              "      <td>15792365</td>\n",
              "      <td>He</td>\n",
              "      <td>501</td>\n",
              "      <td>France</td>\n",
              "      <td>Male</td>\n",
              "      <td>44</td>\n",
              "      <td>4.0</td>\n",
              "      <td>142051.07</td>\n",
              "      <td>2</td>\n",
              "      <td>0</td>\n",
              "      <td>1</td>\n",
              "      <td>74940.50</td>\n",
              "      <td>0</td>\n",
              "    </tr>\n",
              "    <tr>\n",
              "      <th>9</th>\n",
              "      <td>10</td>\n",
              "      <td>15592389</td>\n",
              "      <td>H?</td>\n",
              "      <td>684</td>\n",
              "      <td>France</td>\n",
              "      <td>Male</td>\n",
              "      <td>27</td>\n",
              "      <td>2.0</td>\n",
              "      <td>134603.88</td>\n",
              "      <td>1</td>\n",
              "      <td>1</td>\n",
              "      <td>1</td>\n",
              "      <td>71725.73</td>\n",
              "      <td>0</td>\n",
              "    </tr>\n",
              "  </tbody>\n",
              "</table>\n",
              "</div>"
            ],
            "text/plain": [
              "   RowNumber  CustomerId   Surname  CreditScore Geography  Gender  Age  \\\n",
              "0          1    15634602  Hargrave          619    France  Female   42   \n",
              "1          2    15647311      Hill          608     Spain  Female   41   \n",
              "2          3    15619304      Onio          502    France  Female   42   \n",
              "3          4    15701354      Boni          699    France  Female   39   \n",
              "4          5    15737888  Mitchell          850     Spain  Female   43   \n",
              "5          6    15574012       Chu          645     Spain    Male   44   \n",
              "6          7    15592531  Bartlett          822    France    Male   50   \n",
              "7          8    15656148    Obinna          376   Germany  Female   29   \n",
              "8          9    15792365        He          501    France    Male   44   \n",
              "9         10    15592389        H?          684    France    Male   27   \n",
              "\n",
              "   Tenure    Balance  NumOfProducts  HasCrCard  IsActiveMember  \\\n",
              "0     2.0       0.00              1          1               1   \n",
              "1     1.0   83807.86              1          0               1   \n",
              "2     8.0  159660.80              3          1               0   \n",
              "3     1.0       0.00              2          0               0   \n",
              "4     2.0  125510.82              1          1               1   \n",
              "5     8.0  113755.78              2          1               0   \n",
              "6     7.0       0.00              2          1               1   \n",
              "7     4.0  115046.74              4          1               0   \n",
              "8     4.0  142051.07              2          0               1   \n",
              "9     2.0  134603.88              1          1               1   \n",
              "\n",
              "   EstimatedSalary  Exited  \n",
              "0        101348.88       1  \n",
              "1        112542.58       0  \n",
              "2        113931.57       1  \n",
              "3         93826.63       0  \n",
              "4         79084.10       0  \n",
              "5        149756.71       1  \n",
              "6         10062.80       0  \n",
              "7        119346.88       1  \n",
              "8         74940.50       0  \n",
              "9         71725.73       0  "
            ]
          },
          "execution_count": 3,
          "metadata": {},
          "output_type": "execute_result"
        }
      ],
      "source": [
        "df.head(10)\n"
      ]
    },
    {
      "cell_type": "code",
      "execution_count": null,
      "id": "d6ab8587-9f81-45a5-b83c-87886d5c4c25",
      "metadata": {
        "id": "d6ab8587-9f81-45a5-b83c-87886d5c4c25",
        "outputId": "6e60b8ca-9aee-4281-a46f-727e3fb5b335"
      },
      "outputs": [
        {
          "data": {
            "text/html": [
              "<div>\n",
              "<style scoped>\n",
              "    .dataframe tbody tr th:only-of-type {\n",
              "        vertical-align: middle;\n",
              "    }\n",
              "\n",
              "    .dataframe tbody tr th {\n",
              "        vertical-align: top;\n",
              "    }\n",
              "\n",
              "    .dataframe thead th {\n",
              "        text-align: right;\n",
              "    }\n",
              "</style>\n",
              "<table border=\"1\" class=\"dataframe\">\n",
              "  <thead>\n",
              "    <tr style=\"text-align: right;\">\n",
              "      <th></th>\n",
              "      <th>RowNumber</th>\n",
              "      <th>CustomerId</th>\n",
              "      <th>Surname</th>\n",
              "      <th>CreditScore</th>\n",
              "      <th>Geography</th>\n",
              "      <th>Gender</th>\n",
              "      <th>Age</th>\n",
              "      <th>Tenure</th>\n",
              "      <th>Balance</th>\n",
              "      <th>NumOfProducts</th>\n",
              "      <th>HasCrCard</th>\n",
              "      <th>IsActiveMember</th>\n",
              "      <th>EstimatedSalary</th>\n",
              "      <th>Exited</th>\n",
              "    </tr>\n",
              "  </thead>\n",
              "  <tbody>\n",
              "    <tr>\n",
              "      <th>9990</th>\n",
              "      <td>9991</td>\n",
              "      <td>15798964</td>\n",
              "      <td>Nkemakonam</td>\n",
              "      <td>714</td>\n",
              "      <td>Germany</td>\n",
              "      <td>Male</td>\n",
              "      <td>33</td>\n",
              "      <td>3.0</td>\n",
              "      <td>35016.60</td>\n",
              "      <td>1</td>\n",
              "      <td>1</td>\n",
              "      <td>0</td>\n",
              "      <td>53667.08</td>\n",
              "      <td>0</td>\n",
              "    </tr>\n",
              "    <tr>\n",
              "      <th>9991</th>\n",
              "      <td>9992</td>\n",
              "      <td>15769959</td>\n",
              "      <td>Ajuluchukwu</td>\n",
              "      <td>597</td>\n",
              "      <td>France</td>\n",
              "      <td>Female</td>\n",
              "      <td>53</td>\n",
              "      <td>4.0</td>\n",
              "      <td>88381.21</td>\n",
              "      <td>1</td>\n",
              "      <td>1</td>\n",
              "      <td>0</td>\n",
              "      <td>69384.71</td>\n",
              "      <td>1</td>\n",
              "    </tr>\n",
              "    <tr>\n",
              "      <th>9992</th>\n",
              "      <td>9993</td>\n",
              "      <td>15657105</td>\n",
              "      <td>Chukwualuka</td>\n",
              "      <td>726</td>\n",
              "      <td>Spain</td>\n",
              "      <td>Male</td>\n",
              "      <td>36</td>\n",
              "      <td>2.0</td>\n",
              "      <td>0.00</td>\n",
              "      <td>1</td>\n",
              "      <td>1</td>\n",
              "      <td>0</td>\n",
              "      <td>195192.40</td>\n",
              "      <td>0</td>\n",
              "    </tr>\n",
              "    <tr>\n",
              "      <th>9993</th>\n",
              "      <td>9994</td>\n",
              "      <td>15569266</td>\n",
              "      <td>Rahman</td>\n",
              "      <td>644</td>\n",
              "      <td>France</td>\n",
              "      <td>Male</td>\n",
              "      <td>28</td>\n",
              "      <td>7.0</td>\n",
              "      <td>155060.41</td>\n",
              "      <td>1</td>\n",
              "      <td>1</td>\n",
              "      <td>0</td>\n",
              "      <td>29179.52</td>\n",
              "      <td>0</td>\n",
              "    </tr>\n",
              "    <tr>\n",
              "      <th>9994</th>\n",
              "      <td>9995</td>\n",
              "      <td>15719294</td>\n",
              "      <td>Wood</td>\n",
              "      <td>800</td>\n",
              "      <td>France</td>\n",
              "      <td>Female</td>\n",
              "      <td>29</td>\n",
              "      <td>2.0</td>\n",
              "      <td>0.00</td>\n",
              "      <td>2</td>\n",
              "      <td>0</td>\n",
              "      <td>0</td>\n",
              "      <td>167773.55</td>\n",
              "      <td>0</td>\n",
              "    </tr>\n",
              "    <tr>\n",
              "      <th>9995</th>\n",
              "      <td>9996</td>\n",
              "      <td>15606229</td>\n",
              "      <td>Obijiaku</td>\n",
              "      <td>771</td>\n",
              "      <td>France</td>\n",
              "      <td>Male</td>\n",
              "      <td>39</td>\n",
              "      <td>5.0</td>\n",
              "      <td>0.00</td>\n",
              "      <td>2</td>\n",
              "      <td>1</td>\n",
              "      <td>0</td>\n",
              "      <td>96270.64</td>\n",
              "      <td>0</td>\n",
              "    </tr>\n",
              "    <tr>\n",
              "      <th>9996</th>\n",
              "      <td>9997</td>\n",
              "      <td>15569892</td>\n",
              "      <td>Johnstone</td>\n",
              "      <td>516</td>\n",
              "      <td>France</td>\n",
              "      <td>Male</td>\n",
              "      <td>35</td>\n",
              "      <td>10.0</td>\n",
              "      <td>57369.61</td>\n",
              "      <td>1</td>\n",
              "      <td>1</td>\n",
              "      <td>1</td>\n",
              "      <td>101699.77</td>\n",
              "      <td>0</td>\n",
              "    </tr>\n",
              "    <tr>\n",
              "      <th>9997</th>\n",
              "      <td>9998</td>\n",
              "      <td>15584532</td>\n",
              "      <td>Liu</td>\n",
              "      <td>709</td>\n",
              "      <td>France</td>\n",
              "      <td>Female</td>\n",
              "      <td>36</td>\n",
              "      <td>7.0</td>\n",
              "      <td>0.00</td>\n",
              "      <td>1</td>\n",
              "      <td>0</td>\n",
              "      <td>1</td>\n",
              "      <td>42085.58</td>\n",
              "      <td>1</td>\n",
              "    </tr>\n",
              "    <tr>\n",
              "      <th>9998</th>\n",
              "      <td>9999</td>\n",
              "      <td>15682355</td>\n",
              "      <td>Sabbatini</td>\n",
              "      <td>772</td>\n",
              "      <td>Germany</td>\n",
              "      <td>Male</td>\n",
              "      <td>42</td>\n",
              "      <td>3.0</td>\n",
              "      <td>75075.31</td>\n",
              "      <td>2</td>\n",
              "      <td>1</td>\n",
              "      <td>0</td>\n",
              "      <td>92888.52</td>\n",
              "      <td>1</td>\n",
              "    </tr>\n",
              "    <tr>\n",
              "      <th>9999</th>\n",
              "      <td>10000</td>\n",
              "      <td>15628319</td>\n",
              "      <td>Walker</td>\n",
              "      <td>792</td>\n",
              "      <td>France</td>\n",
              "      <td>Female</td>\n",
              "      <td>28</td>\n",
              "      <td>NaN</td>\n",
              "      <td>130142.79</td>\n",
              "      <td>1</td>\n",
              "      <td>1</td>\n",
              "      <td>0</td>\n",
              "      <td>38190.78</td>\n",
              "      <td>0</td>\n",
              "    </tr>\n",
              "  </tbody>\n",
              "</table>\n",
              "</div>"
            ],
            "text/plain": [
              "      RowNumber  CustomerId      Surname  CreditScore Geography  Gender  Age  \\\n",
              "9990       9991    15798964   Nkemakonam          714   Germany    Male   33   \n",
              "9991       9992    15769959  Ajuluchukwu          597    France  Female   53   \n",
              "9992       9993    15657105  Chukwualuka          726     Spain    Male   36   \n",
              "9993       9994    15569266       Rahman          644    France    Male   28   \n",
              "9994       9995    15719294         Wood          800    France  Female   29   \n",
              "9995       9996    15606229     Obijiaku          771    France    Male   39   \n",
              "9996       9997    15569892    Johnstone          516    France    Male   35   \n",
              "9997       9998    15584532          Liu          709    France  Female   36   \n",
              "9998       9999    15682355    Sabbatini          772   Germany    Male   42   \n",
              "9999      10000    15628319       Walker          792    France  Female   28   \n",
              "\n",
              "      Tenure    Balance  NumOfProducts  HasCrCard  IsActiveMember  \\\n",
              "9990     3.0   35016.60              1          1               0   \n",
              "9991     4.0   88381.21              1          1               0   \n",
              "9992     2.0       0.00              1          1               0   \n",
              "9993     7.0  155060.41              1          1               0   \n",
              "9994     2.0       0.00              2          0               0   \n",
              "9995     5.0       0.00              2          1               0   \n",
              "9996    10.0   57369.61              1          1               1   \n",
              "9997     7.0       0.00              1          0               1   \n",
              "9998     3.0   75075.31              2          1               0   \n",
              "9999     NaN  130142.79              1          1               0   \n",
              "\n",
              "      EstimatedSalary  Exited  \n",
              "9990         53667.08       0  \n",
              "9991         69384.71       1  \n",
              "9992        195192.40       0  \n",
              "9993         29179.52       0  \n",
              "9994        167773.55       0  \n",
              "9995         96270.64       0  \n",
              "9996        101699.77       0  \n",
              "9997         42085.58       1  \n",
              "9998         92888.52       1  \n",
              "9999         38190.78       0  "
            ]
          },
          "execution_count": 4,
          "metadata": {},
          "output_type": "execute_result"
        }
      ],
      "source": [
        "df.tail(10)"
      ]
    },
    {
      "cell_type": "code",
      "execution_count": null,
      "id": "6da96050-d62e-4149-a2a2-a3931bf9df64",
      "metadata": {
        "id": "6da96050-d62e-4149-a2a2-a3931bf9df64",
        "outputId": "1835c8b7-99b4-454b-a0e8-f791eed6c19e"
      },
      "outputs": [
        {
          "name": "stdout",
          "output_type": "stream",
          "text": [
            "<class 'pandas.core.frame.DataFrame'>\n",
            "RangeIndex: 10000 entries, 0 to 9999\n",
            "Data columns (total 14 columns):\n",
            " #   Column           Non-Null Count  Dtype  \n",
            "---  ------           --------------  -----  \n",
            " 0   RowNumber        10000 non-null  int64  \n",
            " 1   CustomerId       10000 non-null  int64  \n",
            " 2   Surname          10000 non-null  object \n",
            " 3   CreditScore      10000 non-null  int64  \n",
            " 4   Geography        10000 non-null  object \n",
            " 5   Gender           10000 non-null  object \n",
            " 6   Age              10000 non-null  int64  \n",
            " 7   Tenure           9091 non-null   float64\n",
            " 8   Balance          10000 non-null  float64\n",
            " 9   NumOfProducts    10000 non-null  int64  \n",
            " 10  HasCrCard        10000 non-null  int64  \n",
            " 11  IsActiveMember   10000 non-null  int64  \n",
            " 12  EstimatedSalary  10000 non-null  float64\n",
            " 13  Exited           10000 non-null  int64  \n",
            "dtypes: float64(3), int64(8), object(3)\n",
            "memory usage: 1.1+ MB\n"
          ]
        }
      ],
      "source": [
        "#Запросим информацию о таблице\n",
        "df.info()"
      ]
    },
    {
      "cell_type": "markdown",
      "id": "a0cf6696-f385-46b9-a438-4d931debb944",
      "metadata": {
        "id": "a0cf6696-f385-46b9-a438-4d931debb944"
      },
      "source": [
        "## Промежуточный вывод и дальнейшие шаги\n",
        "Таблица состоит из 10000 строк и 14 столбцов\n",
        "пропуски есть только в столбце  Tenure\n",
        "RowNumber - дублирует номера строк и для обучения только будут вносить путаницу \\\n",
        "Surname -  не носит никакого смысла (отсутсвует столбец Name((хоть какая- то логика была бы)) \\\n",
        "считаю необходимым привеси впорядок наименование столбцов (привести к нижнему регистру) \\\n",
        "и потом рассмотреть соответствие типов данных в столбцах \\\n",
        "Начнем по порядку \\\n",
        "Удалим лишнее и рассмотрим Tenure"
      ]
    },
    {
      "cell_type": "code",
      "execution_count": null,
      "id": "d5337c4a-06c2-49ab-811d-28c9794a7c9d",
      "metadata": {
        "id": "d5337c4a-06c2-49ab-811d-28c9794a7c9d"
      },
      "outputs": [],
      "source": [
        "df.drop(['RowNumber','Surname', 'CustomerId'],axis = 1, inplace = True)"
      ]
    },
    {
      "cell_type": "code",
      "execution_count": null,
      "id": "2a503b37-a305-4aa1-846d-8baf4534f6eb",
      "metadata": {
        "id": "2a503b37-a305-4aa1-846d-8baf4534f6eb",
        "outputId": "6d6f1f76-feb0-4de2-de4d-029a72390d6b"
      },
      "outputs": [
        {
          "data": {
            "text/html": [
              "<div>\n",
              "<style scoped>\n",
              "    .dataframe tbody tr th:only-of-type {\n",
              "        vertical-align: middle;\n",
              "    }\n",
              "\n",
              "    .dataframe tbody tr th {\n",
              "        vertical-align: top;\n",
              "    }\n",
              "\n",
              "    .dataframe thead th {\n",
              "        text-align: right;\n",
              "    }\n",
              "</style>\n",
              "<table border=\"1\" class=\"dataframe\">\n",
              "  <thead>\n",
              "    <tr style=\"text-align: right;\">\n",
              "      <th></th>\n",
              "      <th>CreditScore</th>\n",
              "      <th>Geography</th>\n",
              "      <th>Gender</th>\n",
              "      <th>Age</th>\n",
              "      <th>Tenure</th>\n",
              "      <th>Balance</th>\n",
              "      <th>NumOfProducts</th>\n",
              "      <th>HasCrCard</th>\n",
              "      <th>IsActiveMember</th>\n",
              "      <th>EstimatedSalary</th>\n",
              "      <th>Exited</th>\n",
              "    </tr>\n",
              "  </thead>\n",
              "  <tbody>\n",
              "    <tr>\n",
              "      <th>0</th>\n",
              "      <td>619</td>\n",
              "      <td>France</td>\n",
              "      <td>Female</td>\n",
              "      <td>42</td>\n",
              "      <td>2.0</td>\n",
              "      <td>0.00</td>\n",
              "      <td>1</td>\n",
              "      <td>1</td>\n",
              "      <td>1</td>\n",
              "      <td>101348.88</td>\n",
              "      <td>1</td>\n",
              "    </tr>\n",
              "    <tr>\n",
              "      <th>1</th>\n",
              "      <td>608</td>\n",
              "      <td>Spain</td>\n",
              "      <td>Female</td>\n",
              "      <td>41</td>\n",
              "      <td>1.0</td>\n",
              "      <td>83807.86</td>\n",
              "      <td>1</td>\n",
              "      <td>0</td>\n",
              "      <td>1</td>\n",
              "      <td>112542.58</td>\n",
              "      <td>0</td>\n",
              "    </tr>\n",
              "    <tr>\n",
              "      <th>2</th>\n",
              "      <td>502</td>\n",
              "      <td>France</td>\n",
              "      <td>Female</td>\n",
              "      <td>42</td>\n",
              "      <td>8.0</td>\n",
              "      <td>159660.80</td>\n",
              "      <td>3</td>\n",
              "      <td>1</td>\n",
              "      <td>0</td>\n",
              "      <td>113931.57</td>\n",
              "      <td>1</td>\n",
              "    </tr>\n",
              "    <tr>\n",
              "      <th>3</th>\n",
              "      <td>699</td>\n",
              "      <td>France</td>\n",
              "      <td>Female</td>\n",
              "      <td>39</td>\n",
              "      <td>1.0</td>\n",
              "      <td>0.00</td>\n",
              "      <td>2</td>\n",
              "      <td>0</td>\n",
              "      <td>0</td>\n",
              "      <td>93826.63</td>\n",
              "      <td>0</td>\n",
              "    </tr>\n",
              "    <tr>\n",
              "      <th>4</th>\n",
              "      <td>850</td>\n",
              "      <td>Spain</td>\n",
              "      <td>Female</td>\n",
              "      <td>43</td>\n",
              "      <td>2.0</td>\n",
              "      <td>125510.82</td>\n",
              "      <td>1</td>\n",
              "      <td>1</td>\n",
              "      <td>1</td>\n",
              "      <td>79084.10</td>\n",
              "      <td>0</td>\n",
              "    </tr>\n",
              "    <tr>\n",
              "      <th>...</th>\n",
              "      <td>...</td>\n",
              "      <td>...</td>\n",
              "      <td>...</td>\n",
              "      <td>...</td>\n",
              "      <td>...</td>\n",
              "      <td>...</td>\n",
              "      <td>...</td>\n",
              "      <td>...</td>\n",
              "      <td>...</td>\n",
              "      <td>...</td>\n",
              "      <td>...</td>\n",
              "    </tr>\n",
              "    <tr>\n",
              "      <th>9995</th>\n",
              "      <td>771</td>\n",
              "      <td>France</td>\n",
              "      <td>Male</td>\n",
              "      <td>39</td>\n",
              "      <td>5.0</td>\n",
              "      <td>0.00</td>\n",
              "      <td>2</td>\n",
              "      <td>1</td>\n",
              "      <td>0</td>\n",
              "      <td>96270.64</td>\n",
              "      <td>0</td>\n",
              "    </tr>\n",
              "    <tr>\n",
              "      <th>9996</th>\n",
              "      <td>516</td>\n",
              "      <td>France</td>\n",
              "      <td>Male</td>\n",
              "      <td>35</td>\n",
              "      <td>10.0</td>\n",
              "      <td>57369.61</td>\n",
              "      <td>1</td>\n",
              "      <td>1</td>\n",
              "      <td>1</td>\n",
              "      <td>101699.77</td>\n",
              "      <td>0</td>\n",
              "    </tr>\n",
              "    <tr>\n",
              "      <th>9997</th>\n",
              "      <td>709</td>\n",
              "      <td>France</td>\n",
              "      <td>Female</td>\n",
              "      <td>36</td>\n",
              "      <td>7.0</td>\n",
              "      <td>0.00</td>\n",
              "      <td>1</td>\n",
              "      <td>0</td>\n",
              "      <td>1</td>\n",
              "      <td>42085.58</td>\n",
              "      <td>1</td>\n",
              "    </tr>\n",
              "    <tr>\n",
              "      <th>9998</th>\n",
              "      <td>772</td>\n",
              "      <td>Germany</td>\n",
              "      <td>Male</td>\n",
              "      <td>42</td>\n",
              "      <td>3.0</td>\n",
              "      <td>75075.31</td>\n",
              "      <td>2</td>\n",
              "      <td>1</td>\n",
              "      <td>0</td>\n",
              "      <td>92888.52</td>\n",
              "      <td>1</td>\n",
              "    </tr>\n",
              "    <tr>\n",
              "      <th>9999</th>\n",
              "      <td>792</td>\n",
              "      <td>France</td>\n",
              "      <td>Female</td>\n",
              "      <td>28</td>\n",
              "      <td>NaN</td>\n",
              "      <td>130142.79</td>\n",
              "      <td>1</td>\n",
              "      <td>1</td>\n",
              "      <td>0</td>\n",
              "      <td>38190.78</td>\n",
              "      <td>0</td>\n",
              "    </tr>\n",
              "  </tbody>\n",
              "</table>\n",
              "<p>10000 rows × 11 columns</p>\n",
              "</div>"
            ],
            "text/plain": [
              "      CreditScore Geography  Gender  Age  Tenure    Balance  NumOfProducts  \\\n",
              "0             619    France  Female   42     2.0       0.00              1   \n",
              "1             608     Spain  Female   41     1.0   83807.86              1   \n",
              "2             502    France  Female   42     8.0  159660.80              3   \n",
              "3             699    France  Female   39     1.0       0.00              2   \n",
              "4             850     Spain  Female   43     2.0  125510.82              1   \n",
              "...           ...       ...     ...  ...     ...        ...            ...   \n",
              "9995          771    France    Male   39     5.0       0.00              2   \n",
              "9996          516    France    Male   35    10.0   57369.61              1   \n",
              "9997          709    France  Female   36     7.0       0.00              1   \n",
              "9998          772   Germany    Male   42     3.0   75075.31              2   \n",
              "9999          792    France  Female   28     NaN  130142.79              1   \n",
              "\n",
              "      HasCrCard  IsActiveMember  EstimatedSalary  Exited  \n",
              "0             1               1        101348.88       1  \n",
              "1             0               1        112542.58       0  \n",
              "2             1               0        113931.57       1  \n",
              "3             0               0         93826.63       0  \n",
              "4             1               1         79084.10       0  \n",
              "...         ...             ...              ...     ...  \n",
              "9995          1               0         96270.64       0  \n",
              "9996          1               1        101699.77       0  \n",
              "9997          0               1         42085.58       1  \n",
              "9998          1               0         92888.52       1  \n",
              "9999          1               0         38190.78       0  \n",
              "\n",
              "[10000 rows x 11 columns]"
            ]
          },
          "execution_count": 7,
          "metadata": {},
          "output_type": "execute_result"
        }
      ],
      "source": [
        "df"
      ]
    },
    {
      "cell_type": "markdown",
      "id": "de5cc18b-9ea6-4f51-a9e2-d680ab971225",
      "metadata": {
        "id": "de5cc18b-9ea6-4f51-a9e2-d680ab971225"
      },
      "source": [
        "Двояко выглядит и столбец CustomerId \\\n",
        "По моему мнению можно было-бы предсказывать \"уйдет/не уйдет\" с привязкой к ID конкретного пользователя \\\n",
        "Но задача стоит немного другая, да и воссатновить првязк мы всегда можем \\\n",
        "не нагрузим лишней информацией при обучении \\\n",
        "Удалим и его"
      ]
    },
    {
      "cell_type": "code",
      "execution_count": null,
      "id": "c9bfab75-8cdb-4afb-9c44-9aedced1a627",
      "metadata": {
        "tags": [],
        "id": "c9bfab75-8cdb-4afb-9c44-9aedced1a627",
        "outputId": "d6ee9f24-ee70-439b-ddeb-259a1c1d9d99"
      },
      "outputs": [
        {
          "data": {
            "text/html": [
              "<div>\n",
              "<style scoped>\n",
              "    .dataframe tbody tr th:only-of-type {\n",
              "        vertical-align: middle;\n",
              "    }\n",
              "\n",
              "    .dataframe tbody tr th {\n",
              "        vertical-align: top;\n",
              "    }\n",
              "\n",
              "    .dataframe thead th {\n",
              "        text-align: right;\n",
              "    }\n",
              "</style>\n",
              "<table border=\"1\" class=\"dataframe\">\n",
              "  <thead>\n",
              "    <tr style=\"text-align: right;\">\n",
              "      <th></th>\n",
              "      <th>creditscore</th>\n",
              "      <th>geography</th>\n",
              "      <th>gender</th>\n",
              "      <th>age</th>\n",
              "      <th>tenure</th>\n",
              "      <th>balance</th>\n",
              "      <th>numofproducts</th>\n",
              "      <th>hascrcard</th>\n",
              "      <th>isactivemember</th>\n",
              "      <th>estimatedsalary</th>\n",
              "      <th>exited</th>\n",
              "    </tr>\n",
              "  </thead>\n",
              "  <tbody>\n",
              "    <tr>\n",
              "      <th>0</th>\n",
              "      <td>619</td>\n",
              "      <td>France</td>\n",
              "      <td>Female</td>\n",
              "      <td>42</td>\n",
              "      <td>2.0</td>\n",
              "      <td>0.00</td>\n",
              "      <td>1</td>\n",
              "      <td>1</td>\n",
              "      <td>1</td>\n",
              "      <td>101348.88</td>\n",
              "      <td>1</td>\n",
              "    </tr>\n",
              "    <tr>\n",
              "      <th>1</th>\n",
              "      <td>608</td>\n",
              "      <td>Spain</td>\n",
              "      <td>Female</td>\n",
              "      <td>41</td>\n",
              "      <td>1.0</td>\n",
              "      <td>83807.86</td>\n",
              "      <td>1</td>\n",
              "      <td>0</td>\n",
              "      <td>1</td>\n",
              "      <td>112542.58</td>\n",
              "      <td>0</td>\n",
              "    </tr>\n",
              "    <tr>\n",
              "      <th>2</th>\n",
              "      <td>502</td>\n",
              "      <td>France</td>\n",
              "      <td>Female</td>\n",
              "      <td>42</td>\n",
              "      <td>8.0</td>\n",
              "      <td>159660.80</td>\n",
              "      <td>3</td>\n",
              "      <td>1</td>\n",
              "      <td>0</td>\n",
              "      <td>113931.57</td>\n",
              "      <td>1</td>\n",
              "    </tr>\n",
              "    <tr>\n",
              "      <th>3</th>\n",
              "      <td>699</td>\n",
              "      <td>France</td>\n",
              "      <td>Female</td>\n",
              "      <td>39</td>\n",
              "      <td>1.0</td>\n",
              "      <td>0.00</td>\n",
              "      <td>2</td>\n",
              "      <td>0</td>\n",
              "      <td>0</td>\n",
              "      <td>93826.63</td>\n",
              "      <td>0</td>\n",
              "    </tr>\n",
              "    <tr>\n",
              "      <th>4</th>\n",
              "      <td>850</td>\n",
              "      <td>Spain</td>\n",
              "      <td>Female</td>\n",
              "      <td>43</td>\n",
              "      <td>2.0</td>\n",
              "      <td>125510.82</td>\n",
              "      <td>1</td>\n",
              "      <td>1</td>\n",
              "      <td>1</td>\n",
              "      <td>79084.10</td>\n",
              "      <td>0</td>\n",
              "    </tr>\n",
              "    <tr>\n",
              "      <th>...</th>\n",
              "      <td>...</td>\n",
              "      <td>...</td>\n",
              "      <td>...</td>\n",
              "      <td>...</td>\n",
              "      <td>...</td>\n",
              "      <td>...</td>\n",
              "      <td>...</td>\n",
              "      <td>...</td>\n",
              "      <td>...</td>\n",
              "      <td>...</td>\n",
              "      <td>...</td>\n",
              "    </tr>\n",
              "    <tr>\n",
              "      <th>9995</th>\n",
              "      <td>771</td>\n",
              "      <td>France</td>\n",
              "      <td>Male</td>\n",
              "      <td>39</td>\n",
              "      <td>5.0</td>\n",
              "      <td>0.00</td>\n",
              "      <td>2</td>\n",
              "      <td>1</td>\n",
              "      <td>0</td>\n",
              "      <td>96270.64</td>\n",
              "      <td>0</td>\n",
              "    </tr>\n",
              "    <tr>\n",
              "      <th>9996</th>\n",
              "      <td>516</td>\n",
              "      <td>France</td>\n",
              "      <td>Male</td>\n",
              "      <td>35</td>\n",
              "      <td>10.0</td>\n",
              "      <td>57369.61</td>\n",
              "      <td>1</td>\n",
              "      <td>1</td>\n",
              "      <td>1</td>\n",
              "      <td>101699.77</td>\n",
              "      <td>0</td>\n",
              "    </tr>\n",
              "    <tr>\n",
              "      <th>9997</th>\n",
              "      <td>709</td>\n",
              "      <td>France</td>\n",
              "      <td>Female</td>\n",
              "      <td>36</td>\n",
              "      <td>7.0</td>\n",
              "      <td>0.00</td>\n",
              "      <td>1</td>\n",
              "      <td>0</td>\n",
              "      <td>1</td>\n",
              "      <td>42085.58</td>\n",
              "      <td>1</td>\n",
              "    </tr>\n",
              "    <tr>\n",
              "      <th>9998</th>\n",
              "      <td>772</td>\n",
              "      <td>Germany</td>\n",
              "      <td>Male</td>\n",
              "      <td>42</td>\n",
              "      <td>3.0</td>\n",
              "      <td>75075.31</td>\n",
              "      <td>2</td>\n",
              "      <td>1</td>\n",
              "      <td>0</td>\n",
              "      <td>92888.52</td>\n",
              "      <td>1</td>\n",
              "    </tr>\n",
              "    <tr>\n",
              "      <th>9999</th>\n",
              "      <td>792</td>\n",
              "      <td>France</td>\n",
              "      <td>Female</td>\n",
              "      <td>28</td>\n",
              "      <td>NaN</td>\n",
              "      <td>130142.79</td>\n",
              "      <td>1</td>\n",
              "      <td>1</td>\n",
              "      <td>0</td>\n",
              "      <td>38190.78</td>\n",
              "      <td>0</td>\n",
              "    </tr>\n",
              "  </tbody>\n",
              "</table>\n",
              "<p>10000 rows × 11 columns</p>\n",
              "</div>"
            ],
            "text/plain": [
              "      creditscore geography  gender  age  tenure    balance  numofproducts  \\\n",
              "0             619    France  Female   42     2.0       0.00              1   \n",
              "1             608     Spain  Female   41     1.0   83807.86              1   \n",
              "2             502    France  Female   42     8.0  159660.80              3   \n",
              "3             699    France  Female   39     1.0       0.00              2   \n",
              "4             850     Spain  Female   43     2.0  125510.82              1   \n",
              "...           ...       ...     ...  ...     ...        ...            ...   \n",
              "9995          771    France    Male   39     5.0       0.00              2   \n",
              "9996          516    France    Male   35    10.0   57369.61              1   \n",
              "9997          709    France  Female   36     7.0       0.00              1   \n",
              "9998          772   Germany    Male   42     3.0   75075.31              2   \n",
              "9999          792    France  Female   28     NaN  130142.79              1   \n",
              "\n",
              "      hascrcard  isactivemember  estimatedsalary  exited  \n",
              "0             1               1        101348.88       1  \n",
              "1             0               1        112542.58       0  \n",
              "2             1               0        113931.57       1  \n",
              "3             0               0         93826.63       0  \n",
              "4             1               1         79084.10       0  \n",
              "...         ...             ...              ...     ...  \n",
              "9995          1               0         96270.64       0  \n",
              "9996          1               1        101699.77       0  \n",
              "9997          0               1         42085.58       1  \n",
              "9998          1               0         92888.52       1  \n",
              "9999          1               0         38190.78       0  \n",
              "\n",
              "[10000 rows x 11 columns]"
            ]
          },
          "execution_count": 8,
          "metadata": {},
          "output_type": "execute_result"
        }
      ],
      "source": [
        "df.columns = df.columns.str.lower()\n",
        "df"
      ]
    },
    {
      "cell_type": "markdown",
      "id": "3154a093-d04f-4be4-ae76-e21900ff7aa1",
      "metadata": {
        "id": "3154a093-d04f-4be4-ae76-e21900ff7aa1"
      },
      "source": [
        "После приведения к нижнему регистру название некоторых столбцов стали нечитаемы \\\n",
        "разделим нижним подчеркиванием"
      ]
    },
    {
      "cell_type": "code",
      "execution_count": null,
      "id": "6265f0cb-cc17-42e1-9a5a-618a2abc3910",
      "metadata": {
        "id": "6265f0cb-cc17-42e1-9a5a-618a2abc3910",
        "outputId": "4b1b08a7-dfcd-4acc-8d60-67e41a0ec497"
      },
      "outputs": [
        {
          "data": {
            "text/html": [
              "<div>\n",
              "<style scoped>\n",
              "    .dataframe tbody tr th:only-of-type {\n",
              "        vertical-align: middle;\n",
              "    }\n",
              "\n",
              "    .dataframe tbody tr th {\n",
              "        vertical-align: top;\n",
              "    }\n",
              "\n",
              "    .dataframe thead th {\n",
              "        text-align: right;\n",
              "    }\n",
              "</style>\n",
              "<table border=\"1\" class=\"dataframe\">\n",
              "  <thead>\n",
              "    <tr style=\"text-align: right;\">\n",
              "      <th></th>\n",
              "      <th>credit_score</th>\n",
              "      <th>geography</th>\n",
              "      <th>gender</th>\n",
              "      <th>age</th>\n",
              "      <th>tenure</th>\n",
              "      <th>balance</th>\n",
              "      <th>num_of_products</th>\n",
              "      <th>has_cr_card</th>\n",
              "      <th>is_active_member</th>\n",
              "      <th>estimated_salary</th>\n",
              "      <th>exited</th>\n",
              "    </tr>\n",
              "  </thead>\n",
              "  <tbody>\n",
              "    <tr>\n",
              "      <th>0</th>\n",
              "      <td>619</td>\n",
              "      <td>France</td>\n",
              "      <td>Female</td>\n",
              "      <td>42</td>\n",
              "      <td>2.0</td>\n",
              "      <td>0.00</td>\n",
              "      <td>1</td>\n",
              "      <td>1</td>\n",
              "      <td>1</td>\n",
              "      <td>101348.88</td>\n",
              "      <td>1</td>\n",
              "    </tr>\n",
              "    <tr>\n",
              "      <th>1</th>\n",
              "      <td>608</td>\n",
              "      <td>Spain</td>\n",
              "      <td>Female</td>\n",
              "      <td>41</td>\n",
              "      <td>1.0</td>\n",
              "      <td>83807.86</td>\n",
              "      <td>1</td>\n",
              "      <td>0</td>\n",
              "      <td>1</td>\n",
              "      <td>112542.58</td>\n",
              "      <td>0</td>\n",
              "    </tr>\n",
              "    <tr>\n",
              "      <th>2</th>\n",
              "      <td>502</td>\n",
              "      <td>France</td>\n",
              "      <td>Female</td>\n",
              "      <td>42</td>\n",
              "      <td>8.0</td>\n",
              "      <td>159660.80</td>\n",
              "      <td>3</td>\n",
              "      <td>1</td>\n",
              "      <td>0</td>\n",
              "      <td>113931.57</td>\n",
              "      <td>1</td>\n",
              "    </tr>\n",
              "    <tr>\n",
              "      <th>3</th>\n",
              "      <td>699</td>\n",
              "      <td>France</td>\n",
              "      <td>Female</td>\n",
              "      <td>39</td>\n",
              "      <td>1.0</td>\n",
              "      <td>0.00</td>\n",
              "      <td>2</td>\n",
              "      <td>0</td>\n",
              "      <td>0</td>\n",
              "      <td>93826.63</td>\n",
              "      <td>0</td>\n",
              "    </tr>\n",
              "    <tr>\n",
              "      <th>4</th>\n",
              "      <td>850</td>\n",
              "      <td>Spain</td>\n",
              "      <td>Female</td>\n",
              "      <td>43</td>\n",
              "      <td>2.0</td>\n",
              "      <td>125510.82</td>\n",
              "      <td>1</td>\n",
              "      <td>1</td>\n",
              "      <td>1</td>\n",
              "      <td>79084.10</td>\n",
              "      <td>0</td>\n",
              "    </tr>\n",
              "    <tr>\n",
              "      <th>...</th>\n",
              "      <td>...</td>\n",
              "      <td>...</td>\n",
              "      <td>...</td>\n",
              "      <td>...</td>\n",
              "      <td>...</td>\n",
              "      <td>...</td>\n",
              "      <td>...</td>\n",
              "      <td>...</td>\n",
              "      <td>...</td>\n",
              "      <td>...</td>\n",
              "      <td>...</td>\n",
              "    </tr>\n",
              "    <tr>\n",
              "      <th>9995</th>\n",
              "      <td>771</td>\n",
              "      <td>France</td>\n",
              "      <td>Male</td>\n",
              "      <td>39</td>\n",
              "      <td>5.0</td>\n",
              "      <td>0.00</td>\n",
              "      <td>2</td>\n",
              "      <td>1</td>\n",
              "      <td>0</td>\n",
              "      <td>96270.64</td>\n",
              "      <td>0</td>\n",
              "    </tr>\n",
              "    <tr>\n",
              "      <th>9996</th>\n",
              "      <td>516</td>\n",
              "      <td>France</td>\n",
              "      <td>Male</td>\n",
              "      <td>35</td>\n",
              "      <td>10.0</td>\n",
              "      <td>57369.61</td>\n",
              "      <td>1</td>\n",
              "      <td>1</td>\n",
              "      <td>1</td>\n",
              "      <td>101699.77</td>\n",
              "      <td>0</td>\n",
              "    </tr>\n",
              "    <tr>\n",
              "      <th>9997</th>\n",
              "      <td>709</td>\n",
              "      <td>France</td>\n",
              "      <td>Female</td>\n",
              "      <td>36</td>\n",
              "      <td>7.0</td>\n",
              "      <td>0.00</td>\n",
              "      <td>1</td>\n",
              "      <td>0</td>\n",
              "      <td>1</td>\n",
              "      <td>42085.58</td>\n",
              "      <td>1</td>\n",
              "    </tr>\n",
              "    <tr>\n",
              "      <th>9998</th>\n",
              "      <td>772</td>\n",
              "      <td>Germany</td>\n",
              "      <td>Male</td>\n",
              "      <td>42</td>\n",
              "      <td>3.0</td>\n",
              "      <td>75075.31</td>\n",
              "      <td>2</td>\n",
              "      <td>1</td>\n",
              "      <td>0</td>\n",
              "      <td>92888.52</td>\n",
              "      <td>1</td>\n",
              "    </tr>\n",
              "    <tr>\n",
              "      <th>9999</th>\n",
              "      <td>792</td>\n",
              "      <td>France</td>\n",
              "      <td>Female</td>\n",
              "      <td>28</td>\n",
              "      <td>NaN</td>\n",
              "      <td>130142.79</td>\n",
              "      <td>1</td>\n",
              "      <td>1</td>\n",
              "      <td>0</td>\n",
              "      <td>38190.78</td>\n",
              "      <td>0</td>\n",
              "    </tr>\n",
              "  </tbody>\n",
              "</table>\n",
              "<p>10000 rows × 11 columns</p>\n",
              "</div>"
            ],
            "text/plain": [
              "      credit_score geography  gender  age  tenure    balance  num_of_products  \\\n",
              "0              619    France  Female   42     2.0       0.00                1   \n",
              "1              608     Spain  Female   41     1.0   83807.86                1   \n",
              "2              502    France  Female   42     8.0  159660.80                3   \n",
              "3              699    France  Female   39     1.0       0.00                2   \n",
              "4              850     Spain  Female   43     2.0  125510.82                1   \n",
              "...            ...       ...     ...  ...     ...        ...              ...   \n",
              "9995           771    France    Male   39     5.0       0.00                2   \n",
              "9996           516    France    Male   35    10.0   57369.61                1   \n",
              "9997           709    France  Female   36     7.0       0.00                1   \n",
              "9998           772   Germany    Male   42     3.0   75075.31                2   \n",
              "9999           792    France  Female   28     NaN  130142.79                1   \n",
              "\n",
              "      has_cr_card  is_active_member  estimated_salary  exited  \n",
              "0               1                 1         101348.88       1  \n",
              "1               0                 1         112542.58       0  \n",
              "2               1                 0         113931.57       1  \n",
              "3               0                 0          93826.63       0  \n",
              "4               1                 1          79084.10       0  \n",
              "...           ...               ...               ...     ...  \n",
              "9995            1                 0          96270.64       0  \n",
              "9996            1                 1         101699.77       0  \n",
              "9997            0                 1          42085.58       1  \n",
              "9998            1                 0          92888.52       1  \n",
              "9999            1                 0          38190.78       0  \n",
              "\n",
              "[10000 rows x 11 columns]"
            ]
          },
          "execution_count": 9,
          "metadata": {},
          "output_type": "execute_result"
        }
      ],
      "source": [
        "df = df.rename({'creditscore': 'credit_score',\n",
        "          'numofproducts': 'num_of_products',\n",
        "          'hascrcard' : 'has_cr_card',\n",
        "          'isactivemember': 'is_active_member',\n",
        "          'estimatedsalary': 'estimated_salary'}, axis =1)\n",
        "df"
      ]
    },
    {
      "cell_type": "code",
      "execution_count": null,
      "id": "2dac2080-c4cb-4ea8-aaae-518d819c9004",
      "metadata": {
        "id": "2dac2080-c4cb-4ea8-aaae-518d819c9004",
        "outputId": "85994d73-9161-40d1-eb29-a67e79e6c12f"
      },
      "outputs": [
        {
          "data": {
            "text/html": [
              "<div>\n",
              "<style scoped>\n",
              "    .dataframe tbody tr th:only-of-type {\n",
              "        vertical-align: middle;\n",
              "    }\n",
              "\n",
              "    .dataframe tbody tr th {\n",
              "        vertical-align: top;\n",
              "    }\n",
              "\n",
              "    .dataframe thead th {\n",
              "        text-align: right;\n",
              "    }\n",
              "</style>\n",
              "<table border=\"1\" class=\"dataframe\">\n",
              "  <thead>\n",
              "    <tr style=\"text-align: right;\">\n",
              "      <th></th>\n",
              "      <th>credit_score</th>\n",
              "      <th>geography</th>\n",
              "      <th>gender</th>\n",
              "      <th>age</th>\n",
              "      <th>tenure</th>\n",
              "      <th>balance</th>\n",
              "      <th>num_of_products</th>\n",
              "      <th>has_cr_card</th>\n",
              "      <th>is_active_member</th>\n",
              "      <th>estimated_salary</th>\n",
              "      <th>exited</th>\n",
              "    </tr>\n",
              "  </thead>\n",
              "  <tbody>\n",
              "    <tr>\n",
              "      <th>30</th>\n",
              "      <td>591</td>\n",
              "      <td>Spain</td>\n",
              "      <td>Female</td>\n",
              "      <td>39</td>\n",
              "      <td>NaN</td>\n",
              "      <td>0.00</td>\n",
              "      <td>3</td>\n",
              "      <td>1</td>\n",
              "      <td>0</td>\n",
              "      <td>140469.38</td>\n",
              "      <td>1</td>\n",
              "    </tr>\n",
              "    <tr>\n",
              "      <th>48</th>\n",
              "      <td>550</td>\n",
              "      <td>Germany</td>\n",
              "      <td>Male</td>\n",
              "      <td>38</td>\n",
              "      <td>NaN</td>\n",
              "      <td>103391.38</td>\n",
              "      <td>1</td>\n",
              "      <td>0</td>\n",
              "      <td>1</td>\n",
              "      <td>90878.13</td>\n",
              "      <td>0</td>\n",
              "    </tr>\n",
              "    <tr>\n",
              "      <th>51</th>\n",
              "      <td>585</td>\n",
              "      <td>Germany</td>\n",
              "      <td>Male</td>\n",
              "      <td>36</td>\n",
              "      <td>NaN</td>\n",
              "      <td>146050.97</td>\n",
              "      <td>2</td>\n",
              "      <td>0</td>\n",
              "      <td>0</td>\n",
              "      <td>86424.57</td>\n",
              "      <td>0</td>\n",
              "    </tr>\n",
              "    <tr>\n",
              "      <th>53</th>\n",
              "      <td>655</td>\n",
              "      <td>Germany</td>\n",
              "      <td>Male</td>\n",
              "      <td>41</td>\n",
              "      <td>NaN</td>\n",
              "      <td>125561.97</td>\n",
              "      <td>1</td>\n",
              "      <td>0</td>\n",
              "      <td>0</td>\n",
              "      <td>164040.94</td>\n",
              "      <td>1</td>\n",
              "    </tr>\n",
              "    <tr>\n",
              "      <th>60</th>\n",
              "      <td>742</td>\n",
              "      <td>Germany</td>\n",
              "      <td>Male</td>\n",
              "      <td>35</td>\n",
              "      <td>NaN</td>\n",
              "      <td>136857.00</td>\n",
              "      <td>1</td>\n",
              "      <td>0</td>\n",
              "      <td>0</td>\n",
              "      <td>84509.57</td>\n",
              "      <td>0</td>\n",
              "    </tr>\n",
              "    <tr>\n",
              "      <th>...</th>\n",
              "      <td>...</td>\n",
              "      <td>...</td>\n",
              "      <td>...</td>\n",
              "      <td>...</td>\n",
              "      <td>...</td>\n",
              "      <td>...</td>\n",
              "      <td>...</td>\n",
              "      <td>...</td>\n",
              "      <td>...</td>\n",
              "      <td>...</td>\n",
              "      <td>...</td>\n",
              "    </tr>\n",
              "    <tr>\n",
              "      <th>9944</th>\n",
              "      <td>744</td>\n",
              "      <td>Germany</td>\n",
              "      <td>Male</td>\n",
              "      <td>41</td>\n",
              "      <td>NaN</td>\n",
              "      <td>190409.34</td>\n",
              "      <td>2</td>\n",
              "      <td>1</td>\n",
              "      <td>1</td>\n",
              "      <td>138361.48</td>\n",
              "      <td>0</td>\n",
              "    </tr>\n",
              "    <tr>\n",
              "      <th>9956</th>\n",
              "      <td>520</td>\n",
              "      <td>France</td>\n",
              "      <td>Female</td>\n",
              "      <td>46</td>\n",
              "      <td>NaN</td>\n",
              "      <td>85216.61</td>\n",
              "      <td>1</td>\n",
              "      <td>1</td>\n",
              "      <td>0</td>\n",
              "      <td>117369.52</td>\n",
              "      <td>1</td>\n",
              "    </tr>\n",
              "    <tr>\n",
              "      <th>9964</th>\n",
              "      <td>479</td>\n",
              "      <td>France</td>\n",
              "      <td>Male</td>\n",
              "      <td>34</td>\n",
              "      <td>NaN</td>\n",
              "      <td>117593.48</td>\n",
              "      <td>2</td>\n",
              "      <td>0</td>\n",
              "      <td>0</td>\n",
              "      <td>113308.29</td>\n",
              "      <td>0</td>\n",
              "    </tr>\n",
              "    <tr>\n",
              "      <th>9985</th>\n",
              "      <td>659</td>\n",
              "      <td>France</td>\n",
              "      <td>Male</td>\n",
              "      <td>36</td>\n",
              "      <td>NaN</td>\n",
              "      <td>123841.49</td>\n",
              "      <td>2</td>\n",
              "      <td>1</td>\n",
              "      <td>0</td>\n",
              "      <td>96833.00</td>\n",
              "      <td>0</td>\n",
              "    </tr>\n",
              "    <tr>\n",
              "      <th>9999</th>\n",
              "      <td>792</td>\n",
              "      <td>France</td>\n",
              "      <td>Female</td>\n",
              "      <td>28</td>\n",
              "      <td>NaN</td>\n",
              "      <td>130142.79</td>\n",
              "      <td>1</td>\n",
              "      <td>1</td>\n",
              "      <td>0</td>\n",
              "      <td>38190.78</td>\n",
              "      <td>0</td>\n",
              "    </tr>\n",
              "  </tbody>\n",
              "</table>\n",
              "<p>909 rows × 11 columns</p>\n",
              "</div>"
            ],
            "text/plain": [
              "      credit_score geography  gender  age  tenure    balance  num_of_products  \\\n",
              "30             591     Spain  Female   39     NaN       0.00                3   \n",
              "48             550   Germany    Male   38     NaN  103391.38                1   \n",
              "51             585   Germany    Male   36     NaN  146050.97                2   \n",
              "53             655   Germany    Male   41     NaN  125561.97                1   \n",
              "60             742   Germany    Male   35     NaN  136857.00                1   \n",
              "...            ...       ...     ...  ...     ...        ...              ...   \n",
              "9944           744   Germany    Male   41     NaN  190409.34                2   \n",
              "9956           520    France  Female   46     NaN   85216.61                1   \n",
              "9964           479    France    Male   34     NaN  117593.48                2   \n",
              "9985           659    France    Male   36     NaN  123841.49                2   \n",
              "9999           792    France  Female   28     NaN  130142.79                1   \n",
              "\n",
              "      has_cr_card  is_active_member  estimated_salary  exited  \n",
              "30              1                 0         140469.38       1  \n",
              "48              0                 1          90878.13       0  \n",
              "51              0                 0          86424.57       0  \n",
              "53              0                 0         164040.94       1  \n",
              "60              0                 0          84509.57       0  \n",
              "...           ...               ...               ...     ...  \n",
              "9944            1                 1         138361.48       0  \n",
              "9956            1                 0         117369.52       1  \n",
              "9964            0                 0         113308.29       0  \n",
              "9985            1                 0          96833.00       0  \n",
              "9999            1                 0          38190.78       0  \n",
              "\n",
              "[909 rows x 11 columns]"
            ]
          },
          "execution_count": 10,
          "metadata": {},
          "output_type": "execute_result"
        }
      ],
      "source": [
        "df[df['tenure'].isnull()]"
      ]
    },
    {
      "cell_type": "markdown",
      "id": "60cba60d-cbec-486f-8d15-ba18582db43e",
      "metadata": {
        "id": "60cba60d-cbec-486f-8d15-ba18582db43e"
      },
      "source": [
        " и так мы получили 909 строк с пропусками NaN, что составляет 9% \\\n",
        " достаточно много данных, которые удалять нельзя, надо их заполнить \\\n",
        " по моему мнению логично их заполнить случайными числами \\\n",
        " на самом деле я изначально думал заполнять средним, но отказался от идеи по причине похожести  значений в 9% данных"
      ]
    },
    {
      "cell_type": "code",
      "execution_count": null,
      "id": "c2935c34-19b4-4e20-890d-6f0a5b19a9a0",
      "metadata": {
        "id": "c2935c34-19b4-4e20-890d-6f0a5b19a9a0"
      },
      "outputs": [],
      "source": [
        "df['tenure'] = df['tenure'].fillna(-1)\n",
        "\n",
        "df.loc[(df['tenure'] == -1), 'tenure'] = df['tenure'].apply(lambda v: int(random.random() * 10))"
      ]
    },
    {
      "cell_type": "markdown",
      "id": "c454fb12-4634-4afd-b6e5-3827a66c41e7",
      "metadata": {
        "id": "c454fb12-4634-4afd-b6e5-3827a66c41e7"
      },
      "source": [
        "убедились, что пропуски заполнены"
      ]
    },
    {
      "cell_type": "code",
      "execution_count": null,
      "id": "771f8c3c-d35c-4b2b-819c-35aad89854a0",
      "metadata": {
        "id": "771f8c3c-d35c-4b2b-819c-35aad89854a0",
        "outputId": "a0c20b76-ba3c-45e4-ad16-9ba2dbaa6db6"
      },
      "outputs": [
        {
          "data": {
            "text/plain": [
              "0"
            ]
          },
          "execution_count": 12,
          "metadata": {},
          "output_type": "execute_result"
        }
      ],
      "source": [
        "df['tenure'].isna().sum()"
      ]
    },
    {
      "cell_type": "code",
      "execution_count": null,
      "id": "827397b9-7d37-4d4d-8a44-6352fb94f518",
      "metadata": {
        "id": "827397b9-7d37-4d4d-8a44-6352fb94f518",
        "outputId": "cfe0945c-1db5-487b-c520-67f5fc79070f"
      },
      "outputs": [
        {
          "data": {
            "text/html": [
              "<div>\n",
              "<style scoped>\n",
              "    .dataframe tbody tr th:only-of-type {\n",
              "        vertical-align: middle;\n",
              "    }\n",
              "\n",
              "    .dataframe tbody tr th {\n",
              "        vertical-align: top;\n",
              "    }\n",
              "\n",
              "    .dataframe thead th {\n",
              "        text-align: right;\n",
              "    }\n",
              "</style>\n",
              "<table border=\"1\" class=\"dataframe\">\n",
              "  <thead>\n",
              "    <tr style=\"text-align: right;\">\n",
              "      <th></th>\n",
              "      <th>credit_score</th>\n",
              "      <th>geography</th>\n",
              "      <th>gender</th>\n",
              "      <th>age</th>\n",
              "      <th>tenure</th>\n",
              "      <th>balance</th>\n",
              "      <th>num_of_products</th>\n",
              "      <th>has_cr_card</th>\n",
              "      <th>is_active_member</th>\n",
              "      <th>estimated_salary</th>\n",
              "      <th>exited</th>\n",
              "    </tr>\n",
              "  </thead>\n",
              "  <tbody>\n",
              "    <tr>\n",
              "      <th>0</th>\n",
              "      <td>619</td>\n",
              "      <td>France</td>\n",
              "      <td>Female</td>\n",
              "      <td>42</td>\n",
              "      <td>2.0</td>\n",
              "      <td>0.00</td>\n",
              "      <td>1</td>\n",
              "      <td>1</td>\n",
              "      <td>1</td>\n",
              "      <td>101348.88</td>\n",
              "      <td>1</td>\n",
              "    </tr>\n",
              "    <tr>\n",
              "      <th>1</th>\n",
              "      <td>608</td>\n",
              "      <td>Spain</td>\n",
              "      <td>Female</td>\n",
              "      <td>41</td>\n",
              "      <td>1.0</td>\n",
              "      <td>83807.86</td>\n",
              "      <td>1</td>\n",
              "      <td>0</td>\n",
              "      <td>1</td>\n",
              "      <td>112542.58</td>\n",
              "      <td>0</td>\n",
              "    </tr>\n",
              "    <tr>\n",
              "      <th>2</th>\n",
              "      <td>502</td>\n",
              "      <td>France</td>\n",
              "      <td>Female</td>\n",
              "      <td>42</td>\n",
              "      <td>8.0</td>\n",
              "      <td>159660.80</td>\n",
              "      <td>3</td>\n",
              "      <td>1</td>\n",
              "      <td>0</td>\n",
              "      <td>113931.57</td>\n",
              "      <td>1</td>\n",
              "    </tr>\n",
              "    <tr>\n",
              "      <th>3</th>\n",
              "      <td>699</td>\n",
              "      <td>France</td>\n",
              "      <td>Female</td>\n",
              "      <td>39</td>\n",
              "      <td>1.0</td>\n",
              "      <td>0.00</td>\n",
              "      <td>2</td>\n",
              "      <td>0</td>\n",
              "      <td>0</td>\n",
              "      <td>93826.63</td>\n",
              "      <td>0</td>\n",
              "    </tr>\n",
              "    <tr>\n",
              "      <th>4</th>\n",
              "      <td>850</td>\n",
              "      <td>Spain</td>\n",
              "      <td>Female</td>\n",
              "      <td>43</td>\n",
              "      <td>2.0</td>\n",
              "      <td>125510.82</td>\n",
              "      <td>1</td>\n",
              "      <td>1</td>\n",
              "      <td>1</td>\n",
              "      <td>79084.10</td>\n",
              "      <td>0</td>\n",
              "    </tr>\n",
              "  </tbody>\n",
              "</table>\n",
              "</div>"
            ],
            "text/plain": [
              "   credit_score geography  gender  age  tenure    balance  num_of_products  \\\n",
              "0           619    France  Female   42     2.0       0.00                1   \n",
              "1           608     Spain  Female   41     1.0   83807.86                1   \n",
              "2           502    France  Female   42     8.0  159660.80                3   \n",
              "3           699    France  Female   39     1.0       0.00                2   \n",
              "4           850     Spain  Female   43     2.0  125510.82                1   \n",
              "\n",
              "   has_cr_card  is_active_member  estimated_salary  exited  \n",
              "0            1                 1         101348.88       1  \n",
              "1            0                 1         112542.58       0  \n",
              "2            1                 0         113931.57       1  \n",
              "3            0                 0          93826.63       0  \n",
              "4            1                 1          79084.10       0  "
            ]
          },
          "execution_count": 13,
          "metadata": {},
          "output_type": "execute_result"
        }
      ],
      "source": [
        "df.head()"
      ]
    },
    {
      "cell_type": "markdown",
      "id": "2b1fbc6a-553c-4024-b7dc-de920a3843eb",
      "metadata": {
        "id": "2b1fbc6a-553c-4024-b7dc-de920a3843eb"
      },
      "source": [
        "проверим дубликаты\n"
      ]
    },
    {
      "cell_type": "code",
      "execution_count": null,
      "id": "072dd67c-7223-4d4d-ac2c-3b75176e78cf",
      "metadata": {
        "id": "072dd67c-7223-4d4d-ac2c-3b75176e78cf",
        "outputId": "32004a95-2813-46c1-92a4-8678b2d58efc"
      },
      "outputs": [
        {
          "data": {
            "text/plain": [
              "0"
            ]
          },
          "execution_count": 14,
          "metadata": {},
          "output_type": "execute_result"
        }
      ],
      "source": [
        "df.duplicated().sum()"
      ]
    },
    {
      "cell_type": "markdown",
      "id": "05160430-1174-4868-baa9-18198715c86c",
      "metadata": {
        "id": "05160430-1174-4868-baa9-18198715c86c"
      },
      "source": [
        "Считаю, что всегда из DATAFRAME нужно анализировать значения данных живущих в некоторых выборочных столбцах \\\n",
        "Например, интересно сколько стран, возраст пользователей банковскими услугами \\\n",
        "Также мы проверим, что у нас нет ничего лишнего, кроме (0,1) в столбцах has_cr_card, is_active_member, exited"
      ]
    },
    {
      "cell_type": "code",
      "execution_count": null,
      "id": "d98969d7-e9c3-478f-9603-2443ace5ffd1",
      "metadata": {
        "id": "d98969d7-e9c3-478f-9603-2443ace5ffd1",
        "outputId": "8d50ffb0-ad98-4450-b83a-fcb78f33a98b"
      },
      "outputs": [
        {
          "data": {
            "text/plain": [
              "France     5014\n",
              "Germany    2509\n",
              "Spain      2477\n",
              "Name: geography, dtype: int64"
            ]
          },
          "execution_count": 16,
          "metadata": {},
          "output_type": "execute_result"
        }
      ],
      "source": [
        "df['geography'].value_counts()"
      ]
    },
    {
      "cell_type": "code",
      "execution_count": null,
      "id": "b5592186-4616-4c57-8183-dc31931195dd",
      "metadata": {
        "id": "b5592186-4616-4c57-8183-dc31931195dd",
        "outputId": "073ddaeb-d425-4481-e14b-d34c0c4779dd"
      },
      "outputs": [
        {
          "data": {
            "text/plain": [
              "Male      5457\n",
              "Female    4543\n",
              "Name: gender, dtype: int64"
            ]
          },
          "execution_count": 17,
          "metadata": {},
          "output_type": "execute_result"
        }
      ],
      "source": [
        "df['gender'].value_counts()"
      ]
    },
    {
      "cell_type": "code",
      "execution_count": null,
      "id": "f7268880-f765-4e8a-ae5c-713dc54639e2",
      "metadata": {
        "id": "f7268880-f765-4e8a-ae5c-713dc54639e2",
        "outputId": "9f0d897f-56d4-4a8a-b479-bae4f80d4d3b"
      },
      "outputs": [
        {
          "data": {
            "text/plain": [
              "1    7055\n",
              "0    2945\n",
              "Name: has_cr_card, dtype: int64"
            ]
          },
          "execution_count": 18,
          "metadata": {},
          "output_type": "execute_result"
        }
      ],
      "source": [
        "df['has_cr_card'].value_counts()"
      ]
    },
    {
      "cell_type": "code",
      "execution_count": null,
      "id": "e9574208-9e3d-46d7-994b-d5710cb4c22f",
      "metadata": {
        "id": "e9574208-9e3d-46d7-994b-d5710cb4c22f",
        "outputId": "a0eeb06f-9d8a-407d-a9e2-a3b28b6795d6"
      },
      "outputs": [
        {
          "data": {
            "text/plain": [
              "1    5151\n",
              "0    4849\n",
              "Name: is_active_member, dtype: int64"
            ]
          },
          "execution_count": 19,
          "metadata": {},
          "output_type": "execute_result"
        }
      ],
      "source": [
        "df['is_active_member'].value_counts()"
      ]
    },
    {
      "cell_type": "code",
      "execution_count": null,
      "id": "21439059-1cc2-45e5-994f-75f9d2afc30f",
      "metadata": {
        "id": "21439059-1cc2-45e5-994f-75f9d2afc30f",
        "outputId": "c57446a5-3a3a-4649-8ce9-6198361ec109"
      },
      "outputs": [
        {
          "data": {
            "text/plain": [
              "0    7963\n",
              "1    2037\n",
              "Name: exited, dtype: int64"
            ]
          },
          "execution_count": 20,
          "metadata": {},
          "output_type": "execute_result"
        }
      ],
      "source": [
        "df['exited'].value_counts()"
      ]
    },
    {
      "cell_type": "code",
      "execution_count": null,
      "id": "e194b1ae-72e9-4871-8cec-b0c3bff93522",
      "metadata": {
        "id": "e194b1ae-72e9-4871-8cec-b0c3bff93522",
        "outputId": "943ce485-be58-4db5-9f60-9647628002a2"
      },
      "outputs": [
        {
          "data": {
            "text/plain": [
              "count    10000.000000\n",
              "mean        38.921800\n",
              "std         10.487806\n",
              "min         18.000000\n",
              "25%         32.000000\n",
              "50%         37.000000\n",
              "75%         44.000000\n",
              "max         92.000000\n",
              "Name: age, dtype: float64"
            ]
          },
          "execution_count": 21,
          "metadata": {},
          "output_type": "execute_result"
        }
      ],
      "source": [
        "df['age'].describe()"
      ]
    },
    {
      "cell_type": "code",
      "execution_count": null,
      "id": "a0e4d8de-593c-4305-bc30-1ba411f074ea",
      "metadata": {
        "id": "a0e4d8de-593c-4305-bc30-1ba411f074ea"
      },
      "outputs": [],
      "source": [
        "#Столбец age я считаю необходимым сдлать целочисленным\n",
        "df['age'] = df['age'].astype(int)\n"
      ]
    },
    {
      "cell_type": "code",
      "execution_count": null,
      "id": "75e2212f-8b19-42b6-936a-50cf2b7b728b",
      "metadata": {
        "id": "75e2212f-8b19-42b6-936a-50cf2b7b728b",
        "outputId": "db1174de-7240-44a2-9e4b-3757fc92ab59"
      },
      "outputs": [
        {
          "name": "stdout",
          "output_type": "stream",
          "text": [
            "<class 'pandas.core.frame.DataFrame'>\n",
            "RangeIndex: 10000 entries, 0 to 9999\n",
            "Data columns (total 11 columns):\n",
            " #   Column            Non-Null Count  Dtype  \n",
            "---  ------            --------------  -----  \n",
            " 0   credit_score      10000 non-null  int64  \n",
            " 1   geography         10000 non-null  object \n",
            " 2   gender            10000 non-null  object \n",
            " 3   age               10000 non-null  int32  \n",
            " 4   tenure            10000 non-null  float64\n",
            " 5   balance           10000 non-null  float64\n",
            " 6   num_of_products   10000 non-null  int64  \n",
            " 7   has_cr_card       10000 non-null  int64  \n",
            " 8   is_active_member  10000 non-null  int64  \n",
            " 9   estimated_salary  10000 non-null  float64\n",
            " 10  exited            10000 non-null  int64  \n",
            "dtypes: float64(3), int32(1), int64(5), object(2)\n",
            "memory usage: 820.4+ KB\n"
          ]
        }
      ],
      "source": [
        "df.info()"
      ]
    },
    {
      "cell_type": "markdown",
      "id": "a56f3124-fc6d-4d95-a286-c956d6cbc22f",
      "metadata": {
        "id": "a56f3124-fc6d-4d95-a286-c956d6cbc22f"
      },
      "source": [
        "Ранее я говорил,что поменяем данные,но не вижу в этом необходимости(возможно пока)\n"
      ]
    },
    {
      "cell_type": "markdown",
      "id": "74a23d6c-0cbd-49e5-9035-51c8dfdcf6d0",
      "metadata": {
        "id": "74a23d6c-0cbd-49e5-9035-51c8dfdcf6d0"
      },
      "source": [
        "Столбец Gender нужно перевести из классификации в регрессию"
      ]
    },
    {
      "cell_type": "code",
      "execution_count": null,
      "id": "d2deec19-0b9a-422c-b119-bb2f23f80cdd",
      "metadata": {
        "id": "d2deec19-0b9a-422c-b119-bb2f23f80cdd"
      },
      "outputs": [],
      "source": [
        "df.loc[(df['gender'] == 'Female'), 'gender'] = 0\n",
        "df.loc[(df['gender'] == 'Male'), 'gender'] = 1"
      ]
    },
    {
      "cell_type": "code",
      "execution_count": null,
      "id": "d63186fc-c1f4-42a5-b7f9-325eb4ce5798",
      "metadata": {
        "id": "d63186fc-c1f4-42a5-b7f9-325eb4ce5798",
        "outputId": "cfc3002b-4f88-485a-8b30-153de95051ea"
      },
      "outputs": [
        {
          "data": {
            "text/html": [
              "<div>\n",
              "<style scoped>\n",
              "    .dataframe tbody tr th:only-of-type {\n",
              "        vertical-align: middle;\n",
              "    }\n",
              "\n",
              "    .dataframe tbody tr th {\n",
              "        vertical-align: top;\n",
              "    }\n",
              "\n",
              "    .dataframe thead th {\n",
              "        text-align: right;\n",
              "    }\n",
              "</style>\n",
              "<table border=\"1\" class=\"dataframe\">\n",
              "  <thead>\n",
              "    <tr style=\"text-align: right;\">\n",
              "      <th></th>\n",
              "      <th>credit_score</th>\n",
              "      <th>geography</th>\n",
              "      <th>gender</th>\n",
              "      <th>age</th>\n",
              "      <th>tenure</th>\n",
              "      <th>balance</th>\n",
              "      <th>num_of_products</th>\n",
              "      <th>has_cr_card</th>\n",
              "      <th>is_active_member</th>\n",
              "      <th>estimated_salary</th>\n",
              "      <th>exited</th>\n",
              "    </tr>\n",
              "  </thead>\n",
              "  <tbody>\n",
              "    <tr>\n",
              "      <th>0</th>\n",
              "      <td>619</td>\n",
              "      <td>France</td>\n",
              "      <td>0</td>\n",
              "      <td>42</td>\n",
              "      <td>2.0</td>\n",
              "      <td>0.00</td>\n",
              "      <td>1</td>\n",
              "      <td>1</td>\n",
              "      <td>1</td>\n",
              "      <td>101348.88</td>\n",
              "      <td>1</td>\n",
              "    </tr>\n",
              "    <tr>\n",
              "      <th>1</th>\n",
              "      <td>608</td>\n",
              "      <td>Spain</td>\n",
              "      <td>0</td>\n",
              "      <td>41</td>\n",
              "      <td>1.0</td>\n",
              "      <td>83807.86</td>\n",
              "      <td>1</td>\n",
              "      <td>0</td>\n",
              "      <td>1</td>\n",
              "      <td>112542.58</td>\n",
              "      <td>0</td>\n",
              "    </tr>\n",
              "    <tr>\n",
              "      <th>2</th>\n",
              "      <td>502</td>\n",
              "      <td>France</td>\n",
              "      <td>0</td>\n",
              "      <td>42</td>\n",
              "      <td>8.0</td>\n",
              "      <td>159660.80</td>\n",
              "      <td>3</td>\n",
              "      <td>1</td>\n",
              "      <td>0</td>\n",
              "      <td>113931.57</td>\n",
              "      <td>1</td>\n",
              "    </tr>\n",
              "    <tr>\n",
              "      <th>3</th>\n",
              "      <td>699</td>\n",
              "      <td>France</td>\n",
              "      <td>0</td>\n",
              "      <td>39</td>\n",
              "      <td>1.0</td>\n",
              "      <td>0.00</td>\n",
              "      <td>2</td>\n",
              "      <td>0</td>\n",
              "      <td>0</td>\n",
              "      <td>93826.63</td>\n",
              "      <td>0</td>\n",
              "    </tr>\n",
              "    <tr>\n",
              "      <th>4</th>\n",
              "      <td>850</td>\n",
              "      <td>Spain</td>\n",
              "      <td>0</td>\n",
              "      <td>43</td>\n",
              "      <td>2.0</td>\n",
              "      <td>125510.82</td>\n",
              "      <td>1</td>\n",
              "      <td>1</td>\n",
              "      <td>1</td>\n",
              "      <td>79084.10</td>\n",
              "      <td>0</td>\n",
              "    </tr>\n",
              "    <tr>\n",
              "      <th>...</th>\n",
              "      <td>...</td>\n",
              "      <td>...</td>\n",
              "      <td>...</td>\n",
              "      <td>...</td>\n",
              "      <td>...</td>\n",
              "      <td>...</td>\n",
              "      <td>...</td>\n",
              "      <td>...</td>\n",
              "      <td>...</td>\n",
              "      <td>...</td>\n",
              "      <td>...</td>\n",
              "    </tr>\n",
              "    <tr>\n",
              "      <th>9995</th>\n",
              "      <td>771</td>\n",
              "      <td>France</td>\n",
              "      <td>1</td>\n",
              "      <td>39</td>\n",
              "      <td>5.0</td>\n",
              "      <td>0.00</td>\n",
              "      <td>2</td>\n",
              "      <td>1</td>\n",
              "      <td>0</td>\n",
              "      <td>96270.64</td>\n",
              "      <td>0</td>\n",
              "    </tr>\n",
              "    <tr>\n",
              "      <th>9996</th>\n",
              "      <td>516</td>\n",
              "      <td>France</td>\n",
              "      <td>1</td>\n",
              "      <td>35</td>\n",
              "      <td>10.0</td>\n",
              "      <td>57369.61</td>\n",
              "      <td>1</td>\n",
              "      <td>1</td>\n",
              "      <td>1</td>\n",
              "      <td>101699.77</td>\n",
              "      <td>0</td>\n",
              "    </tr>\n",
              "    <tr>\n",
              "      <th>9997</th>\n",
              "      <td>709</td>\n",
              "      <td>France</td>\n",
              "      <td>0</td>\n",
              "      <td>36</td>\n",
              "      <td>7.0</td>\n",
              "      <td>0.00</td>\n",
              "      <td>1</td>\n",
              "      <td>0</td>\n",
              "      <td>1</td>\n",
              "      <td>42085.58</td>\n",
              "      <td>1</td>\n",
              "    </tr>\n",
              "    <tr>\n",
              "      <th>9998</th>\n",
              "      <td>772</td>\n",
              "      <td>Germany</td>\n",
              "      <td>1</td>\n",
              "      <td>42</td>\n",
              "      <td>3.0</td>\n",
              "      <td>75075.31</td>\n",
              "      <td>2</td>\n",
              "      <td>1</td>\n",
              "      <td>0</td>\n",
              "      <td>92888.52</td>\n",
              "      <td>1</td>\n",
              "    </tr>\n",
              "    <tr>\n",
              "      <th>9999</th>\n",
              "      <td>792</td>\n",
              "      <td>France</td>\n",
              "      <td>0</td>\n",
              "      <td>28</td>\n",
              "      <td>8.0</td>\n",
              "      <td>130142.79</td>\n",
              "      <td>1</td>\n",
              "      <td>1</td>\n",
              "      <td>0</td>\n",
              "      <td>38190.78</td>\n",
              "      <td>0</td>\n",
              "    </tr>\n",
              "  </tbody>\n",
              "</table>\n",
              "<p>10000 rows × 11 columns</p>\n",
              "</div>"
            ],
            "text/plain": [
              "      credit_score geography gender  age  tenure    balance  num_of_products  \\\n",
              "0              619    France      0   42     2.0       0.00                1   \n",
              "1              608     Spain      0   41     1.0   83807.86                1   \n",
              "2              502    France      0   42     8.0  159660.80                3   \n",
              "3              699    France      0   39     1.0       0.00                2   \n",
              "4              850     Spain      0   43     2.0  125510.82                1   \n",
              "...            ...       ...    ...  ...     ...        ...              ...   \n",
              "9995           771    France      1   39     5.0       0.00                2   \n",
              "9996           516    France      1   35    10.0   57369.61                1   \n",
              "9997           709    France      0   36     7.0       0.00                1   \n",
              "9998           772   Germany      1   42     3.0   75075.31                2   \n",
              "9999           792    France      0   28     8.0  130142.79                1   \n",
              "\n",
              "      has_cr_card  is_active_member  estimated_salary  exited  \n",
              "0               1                 1         101348.88       1  \n",
              "1               0                 1         112542.58       0  \n",
              "2               1                 0         113931.57       1  \n",
              "3               0                 0          93826.63       0  \n",
              "4               1                 1          79084.10       0  \n",
              "...           ...               ...               ...     ...  \n",
              "9995            1                 0          96270.64       0  \n",
              "9996            1                 1         101699.77       0  \n",
              "9997            0                 1          42085.58       1  \n",
              "9998            1                 0          92888.52       1  \n",
              "9999            1                 0          38190.78       0  \n",
              "\n",
              "[10000 rows x 11 columns]"
            ]
          },
          "execution_count": 25,
          "metadata": {},
          "output_type": "execute_result"
        }
      ],
      "source": [
        "df"
      ]
    },
    {
      "cell_type": "markdown",
      "id": "58a382d9-bb76-4b3b-b9dd-b0b16d1842b5",
      "metadata": {
        "id": "58a382d9-bb76-4b3b-b9dd-b0b16d1842b5"
      },
      "source": [
        "### Подготовка к обучению\n"
      ]
    },
    {
      "cell_type": "code",
      "execution_count": null,
      "id": "68eb6375-e666-4a85-9cc5-b7b1ecf59277",
      "metadata": {
        "id": "68eb6375-e666-4a85-9cc5-b7b1ecf59277",
        "outputId": "72bcd755-9150-47a5-c2c0-3b885caad890"
      },
      "outputs": [
        {
          "data": {
            "text/html": [
              "<div>\n",
              "<style scoped>\n",
              "    .dataframe tbody tr th:only-of-type {\n",
              "        vertical-align: middle;\n",
              "    }\n",
              "\n",
              "    .dataframe tbody tr th {\n",
              "        vertical-align: top;\n",
              "    }\n",
              "\n",
              "    .dataframe thead th {\n",
              "        text-align: right;\n",
              "    }\n",
              "</style>\n",
              "<table border=\"1\" class=\"dataframe\">\n",
              "  <thead>\n",
              "    <tr style=\"text-align: right;\">\n",
              "      <th></th>\n",
              "      <th>credit_score</th>\n",
              "      <th>age</th>\n",
              "      <th>tenure</th>\n",
              "      <th>balance</th>\n",
              "      <th>num_of_products</th>\n",
              "      <th>has_cr_card</th>\n",
              "      <th>is_active_member</th>\n",
              "      <th>estimated_salary</th>\n",
              "      <th>exited</th>\n",
              "    </tr>\n",
              "  </thead>\n",
              "  <tbody>\n",
              "    <tr>\n",
              "      <th>credit_score</th>\n",
              "      <td>1.000000</td>\n",
              "      <td>-0.003965</td>\n",
              "      <td>-0.006703</td>\n",
              "      <td>0.006268</td>\n",
              "      <td>0.012238</td>\n",
              "      <td>-0.005458</td>\n",
              "      <td>0.025651</td>\n",
              "      <td>-0.001384</td>\n",
              "      <td>-0.027094</td>\n",
              "    </tr>\n",
              "    <tr>\n",
              "      <th>age</th>\n",
              "      <td>-0.003965</td>\n",
              "      <td>1.000000</td>\n",
              "      <td>-0.010439</td>\n",
              "      <td>0.028308</td>\n",
              "      <td>-0.030680</td>\n",
              "      <td>-0.011721</td>\n",
              "      <td>0.085472</td>\n",
              "      <td>-0.007201</td>\n",
              "      <td>0.285323</td>\n",
              "    </tr>\n",
              "    <tr>\n",
              "      <th>tenure</th>\n",
              "      <td>-0.006703</td>\n",
              "      <td>-0.010439</td>\n",
              "      <td>1.000000</td>\n",
              "      <td>-0.003087</td>\n",
              "      <td>0.009750</td>\n",
              "      <td>0.027923</td>\n",
              "      <td>-0.029186</td>\n",
              "      <td>0.011150</td>\n",
              "      <td>-0.019835</td>\n",
              "    </tr>\n",
              "    <tr>\n",
              "      <th>balance</th>\n",
              "      <td>0.006268</td>\n",
              "      <td>0.028308</td>\n",
              "      <td>-0.003087</td>\n",
              "      <td>1.000000</td>\n",
              "      <td>-0.304180</td>\n",
              "      <td>-0.014858</td>\n",
              "      <td>-0.010084</td>\n",
              "      <td>0.012797</td>\n",
              "      <td>0.118533</td>\n",
              "    </tr>\n",
              "    <tr>\n",
              "      <th>num_of_products</th>\n",
              "      <td>0.012238</td>\n",
              "      <td>-0.030680</td>\n",
              "      <td>0.009750</td>\n",
              "      <td>-0.304180</td>\n",
              "      <td>1.000000</td>\n",
              "      <td>0.003183</td>\n",
              "      <td>0.009612</td>\n",
              "      <td>0.014204</td>\n",
              "      <td>-0.047820</td>\n",
              "    </tr>\n",
              "    <tr>\n",
              "      <th>has_cr_card</th>\n",
              "      <td>-0.005458</td>\n",
              "      <td>-0.011721</td>\n",
              "      <td>0.027923</td>\n",
              "      <td>-0.014858</td>\n",
              "      <td>0.003183</td>\n",
              "      <td>1.000000</td>\n",
              "      <td>-0.011866</td>\n",
              "      <td>-0.009933</td>\n",
              "      <td>-0.007138</td>\n",
              "    </tr>\n",
              "    <tr>\n",
              "      <th>is_active_member</th>\n",
              "      <td>0.025651</td>\n",
              "      <td>0.085472</td>\n",
              "      <td>-0.029186</td>\n",
              "      <td>-0.010084</td>\n",
              "      <td>0.009612</td>\n",
              "      <td>-0.011866</td>\n",
              "      <td>1.000000</td>\n",
              "      <td>-0.011421</td>\n",
              "      <td>-0.156128</td>\n",
              "    </tr>\n",
              "    <tr>\n",
              "      <th>estimated_salary</th>\n",
              "      <td>-0.001384</td>\n",
              "      <td>-0.007201</td>\n",
              "      <td>0.011150</td>\n",
              "      <td>0.012797</td>\n",
              "      <td>0.014204</td>\n",
              "      <td>-0.009933</td>\n",
              "      <td>-0.011421</td>\n",
              "      <td>1.000000</td>\n",
              "      <td>0.012097</td>\n",
              "    </tr>\n",
              "    <tr>\n",
              "      <th>exited</th>\n",
              "      <td>-0.027094</td>\n",
              "      <td>0.285323</td>\n",
              "      <td>-0.019835</td>\n",
              "      <td>0.118533</td>\n",
              "      <td>-0.047820</td>\n",
              "      <td>-0.007138</td>\n",
              "      <td>-0.156128</td>\n",
              "      <td>0.012097</td>\n",
              "      <td>1.000000</td>\n",
              "    </tr>\n",
              "  </tbody>\n",
              "</table>\n",
              "</div>"
            ],
            "text/plain": [
              "                  credit_score       age    tenure   balance  num_of_products  \\\n",
              "credit_score          1.000000 -0.003965 -0.006703  0.006268         0.012238   \n",
              "age                  -0.003965  1.000000 -0.010439  0.028308        -0.030680   \n",
              "tenure               -0.006703 -0.010439  1.000000 -0.003087         0.009750   \n",
              "balance               0.006268  0.028308 -0.003087  1.000000        -0.304180   \n",
              "num_of_products       0.012238 -0.030680  0.009750 -0.304180         1.000000   \n",
              "has_cr_card          -0.005458 -0.011721  0.027923 -0.014858         0.003183   \n",
              "is_active_member      0.025651  0.085472 -0.029186 -0.010084         0.009612   \n",
              "estimated_salary     -0.001384 -0.007201  0.011150  0.012797         0.014204   \n",
              "exited               -0.027094  0.285323 -0.019835  0.118533        -0.047820   \n",
              "\n",
              "                  has_cr_card  is_active_member  estimated_salary    exited  \n",
              "credit_score        -0.005458          0.025651         -0.001384 -0.027094  \n",
              "age                 -0.011721          0.085472         -0.007201  0.285323  \n",
              "tenure               0.027923         -0.029186          0.011150 -0.019835  \n",
              "balance             -0.014858         -0.010084          0.012797  0.118533  \n",
              "num_of_products      0.003183          0.009612          0.014204 -0.047820  \n",
              "has_cr_card          1.000000         -0.011866         -0.009933 -0.007138  \n",
              "is_active_member    -0.011866          1.000000         -0.011421 -0.156128  \n",
              "estimated_salary    -0.009933         -0.011421          1.000000  0.012097  \n",
              "exited              -0.007138         -0.156128          0.012097  1.000000  "
            ]
          },
          "execution_count": 26,
          "metadata": {},
          "output_type": "execute_result"
        }
      ],
      "source": [
        "df.corr()"
      ]
    },
    {
      "cell_type": "code",
      "execution_count": null,
      "id": "61c01fbd-abf1-4d53-bf2b-78e281ea33bc",
      "metadata": {
        "id": "61c01fbd-abf1-4d53-bf2b-78e281ea33bc",
        "outputId": "54b2a5aa-93de-4f3a-845d-76e41c5c1f82"
      },
      "outputs": [
        {
          "data": {
            "text/plain": [
              "<AxesSubplot:>"
            ]
          },
          "execution_count": 27,
          "metadata": {},
          "output_type": "execute_result"
        },
        {
          "data": {
            "image/png": "[encoded data removed]",
            "text/plain": [
              "<Figure size 640x480 with 2 Axes>"
            ]
          },
          "metadata": {},
          "output_type": "display_data"
        }
      ],
      "source": [
        "#Проверим корреляцию признаков\n",
        "\n",
        "sns.heatmap(df.corr())"
      ]
    },
    {
      "cell_type": "markdown",
      "id": "fe760dec-5855-41c0-a530-9e8ca6120fd2",
      "metadata": {
        "id": "fe760dec-5855-41c0-a530-9e8ca6120fd2"
      },
      "source": [
        "Корреляция между признаками очень слабая, кроме age & exited (прямая корреляция) \\\n",
        "и num_of_product & balance (обратная корреляция)"
      ]
    },
    {
      "cell_type": "markdown",
      "id": "6a7ce60e-9cb5-4f7a-a53a-41f5bb28a74c",
      "metadata": {
        "id": "6a7ce60e-9cb5-4f7a-a53a-41f5bb28a74c"
      },
      "source": [
        "### OHE"
      ]
    },
    {
      "cell_type": "code",
      "execution_count": null,
      "id": "92eec9c1-2ae1-4c56-b6b1-dbe6e8b98922",
      "metadata": {
        "id": "92eec9c1-2ae1-4c56-b6b1-dbe6e8b98922",
        "outputId": "af9c9ac1-08a9-4d5d-d347-cd83b4cb2c9f"
      },
      "outputs": [
        {
          "name": "stderr",
          "output_type": "stream",
          "text": [
            "C:\\ProgramData\\Anaconda3\\lib\\site-packages\\pandas\\core\\algorithms.py:798: FutureWarning: In a future version, the Index constructor will not infer numeric dtypes when passed object-dtype sequences (matching Series behavior)\n",
            "  uniques = Index(uniques)\n"
          ]
        },
        {
          "data": {
            "text/html": [
              "<div>\n",
              "<style scoped>\n",
              "    .dataframe tbody tr th:only-of-type {\n",
              "        vertical-align: middle;\n",
              "    }\n",
              "\n",
              "    .dataframe tbody tr th {\n",
              "        vertical-align: top;\n",
              "    }\n",
              "\n",
              "    .dataframe thead th {\n",
              "        text-align: right;\n",
              "    }\n",
              "</style>\n",
              "<table border=\"1\" class=\"dataframe\">\n",
              "  <thead>\n",
              "    <tr style=\"text-align: right;\">\n",
              "      <th></th>\n",
              "      <th>credit_score</th>\n",
              "      <th>age</th>\n",
              "      <th>tenure</th>\n",
              "      <th>balance</th>\n",
              "      <th>num_of_products</th>\n",
              "      <th>has_cr_card</th>\n",
              "      <th>is_active_member</th>\n",
              "      <th>estimated_salary</th>\n",
              "      <th>exited</th>\n",
              "      <th>geography_Germany</th>\n",
              "      <th>geography_Spain</th>\n",
              "      <th>gender_1</th>\n",
              "    </tr>\n",
              "  </thead>\n",
              "  <tbody>\n",
              "    <tr>\n",
              "      <th>0</th>\n",
              "      <td>619</td>\n",
              "      <td>42</td>\n",
              "      <td>2.0</td>\n",
              "      <td>0.00</td>\n",
              "      <td>1</td>\n",
              "      <td>1</td>\n",
              "      <td>1</td>\n",
              "      <td>101348.88</td>\n",
              "      <td>1</td>\n",
              "      <td>0</td>\n",
              "      <td>0</td>\n",
              "      <td>0</td>\n",
              "    </tr>\n",
              "    <tr>\n",
              "      <th>1</th>\n",
              "      <td>608</td>\n",
              "      <td>41</td>\n",
              "      <td>1.0</td>\n",
              "      <td>83807.86</td>\n",
              "      <td>1</td>\n",
              "      <td>0</td>\n",
              "      <td>1</td>\n",
              "      <td>112542.58</td>\n",
              "      <td>0</td>\n",
              "      <td>0</td>\n",
              "      <td>1</td>\n",
              "      <td>0</td>\n",
              "    </tr>\n",
              "    <tr>\n",
              "      <th>2</th>\n",
              "      <td>502</td>\n",
              "      <td>42</td>\n",
              "      <td>8.0</td>\n",
              "      <td>159660.80</td>\n",
              "      <td>3</td>\n",
              "      <td>1</td>\n",
              "      <td>0</td>\n",
              "      <td>113931.57</td>\n",
              "      <td>1</td>\n",
              "      <td>0</td>\n",
              "      <td>0</td>\n",
              "      <td>0</td>\n",
              "    </tr>\n",
              "    <tr>\n",
              "      <th>3</th>\n",
              "      <td>699</td>\n",
              "      <td>39</td>\n",
              "      <td>1.0</td>\n",
              "      <td>0.00</td>\n",
              "      <td>2</td>\n",
              "      <td>0</td>\n",
              "      <td>0</td>\n",
              "      <td>93826.63</td>\n",
              "      <td>0</td>\n",
              "      <td>0</td>\n",
              "      <td>0</td>\n",
              "      <td>0</td>\n",
              "    </tr>\n",
              "    <tr>\n",
              "      <th>4</th>\n",
              "      <td>850</td>\n",
              "      <td>43</td>\n",
              "      <td>2.0</td>\n",
              "      <td>125510.82</td>\n",
              "      <td>1</td>\n",
              "      <td>1</td>\n",
              "      <td>1</td>\n",
              "      <td>79084.10</td>\n",
              "      <td>0</td>\n",
              "      <td>0</td>\n",
              "      <td>1</td>\n",
              "      <td>0</td>\n",
              "    </tr>\n",
              "    <tr>\n",
              "      <th>5</th>\n",
              "      <td>645</td>\n",
              "      <td>44</td>\n",
              "      <td>8.0</td>\n",
              "      <td>113755.78</td>\n",
              "      <td>2</td>\n",
              "      <td>1</td>\n",
              "      <td>0</td>\n",
              "      <td>149756.71</td>\n",
              "      <td>1</td>\n",
              "      <td>0</td>\n",
              "      <td>1</td>\n",
              "      <td>1</td>\n",
              "    </tr>\n",
              "    <tr>\n",
              "      <th>6</th>\n",
              "      <td>822</td>\n",
              "      <td>50</td>\n",
              "      <td>7.0</td>\n",
              "      <td>0.00</td>\n",
              "      <td>2</td>\n",
              "      <td>1</td>\n",
              "      <td>1</td>\n",
              "      <td>10062.80</td>\n",
              "      <td>0</td>\n",
              "      <td>0</td>\n",
              "      <td>0</td>\n",
              "      <td>1</td>\n",
              "    </tr>\n",
              "    <tr>\n",
              "      <th>7</th>\n",
              "      <td>376</td>\n",
              "      <td>29</td>\n",
              "      <td>4.0</td>\n",
              "      <td>115046.74</td>\n",
              "      <td>4</td>\n",
              "      <td>1</td>\n",
              "      <td>0</td>\n",
              "      <td>119346.88</td>\n",
              "      <td>1</td>\n",
              "      <td>1</td>\n",
              "      <td>0</td>\n",
              "      <td>0</td>\n",
              "    </tr>\n",
              "    <tr>\n",
              "      <th>8</th>\n",
              "      <td>501</td>\n",
              "      <td>44</td>\n",
              "      <td>4.0</td>\n",
              "      <td>142051.07</td>\n",
              "      <td>2</td>\n",
              "      <td>0</td>\n",
              "      <td>1</td>\n",
              "      <td>74940.50</td>\n",
              "      <td>0</td>\n",
              "      <td>0</td>\n",
              "      <td>0</td>\n",
              "      <td>1</td>\n",
              "    </tr>\n",
              "    <tr>\n",
              "      <th>9</th>\n",
              "      <td>684</td>\n",
              "      <td>27</td>\n",
              "      <td>2.0</td>\n",
              "      <td>134603.88</td>\n",
              "      <td>1</td>\n",
              "      <td>1</td>\n",
              "      <td>1</td>\n",
              "      <td>71725.73</td>\n",
              "      <td>0</td>\n",
              "      <td>0</td>\n",
              "      <td>0</td>\n",
              "      <td>1</td>\n",
              "    </tr>\n",
              "    <tr>\n",
              "      <th>10</th>\n",
              "      <td>528</td>\n",
              "      <td>31</td>\n",
              "      <td>6.0</td>\n",
              "      <td>102016.72</td>\n",
              "      <td>2</td>\n",
              "      <td>0</td>\n",
              "      <td>0</td>\n",
              "      <td>80181.12</td>\n",
              "      <td>0</td>\n",
              "      <td>0</td>\n",
              "      <td>0</td>\n",
              "      <td>1</td>\n",
              "    </tr>\n",
              "    <tr>\n",
              "      <th>11</th>\n",
              "      <td>497</td>\n",
              "      <td>24</td>\n",
              "      <td>3.0</td>\n",
              "      <td>0.00</td>\n",
              "      <td>2</td>\n",
              "      <td>1</td>\n",
              "      <td>0</td>\n",
              "      <td>76390.01</td>\n",
              "      <td>0</td>\n",
              "      <td>0</td>\n",
              "      <td>1</td>\n",
              "      <td>1</td>\n",
              "    </tr>\n",
              "    <tr>\n",
              "      <th>12</th>\n",
              "      <td>476</td>\n",
              "      <td>34</td>\n",
              "      <td>10.0</td>\n",
              "      <td>0.00</td>\n",
              "      <td>2</td>\n",
              "      <td>1</td>\n",
              "      <td>0</td>\n",
              "      <td>26260.98</td>\n",
              "      <td>0</td>\n",
              "      <td>0</td>\n",
              "      <td>0</td>\n",
              "      <td>0</td>\n",
              "    </tr>\n",
              "    <tr>\n",
              "      <th>13</th>\n",
              "      <td>549</td>\n",
              "      <td>25</td>\n",
              "      <td>5.0</td>\n",
              "      <td>0.00</td>\n",
              "      <td>2</td>\n",
              "      <td>0</td>\n",
              "      <td>0</td>\n",
              "      <td>190857.79</td>\n",
              "      <td>0</td>\n",
              "      <td>0</td>\n",
              "      <td>0</td>\n",
              "      <td>0</td>\n",
              "    </tr>\n",
              "    <tr>\n",
              "      <th>14</th>\n",
              "      <td>635</td>\n",
              "      <td>35</td>\n",
              "      <td>7.0</td>\n",
              "      <td>0.00</td>\n",
              "      <td>2</td>\n",
              "      <td>1</td>\n",
              "      <td>1</td>\n",
              "      <td>65951.65</td>\n",
              "      <td>0</td>\n",
              "      <td>0</td>\n",
              "      <td>1</td>\n",
              "      <td>0</td>\n",
              "    </tr>\n",
              "  </tbody>\n",
              "</table>\n",
              "</div>"
            ],
            "text/plain": [
              "    credit_score  age  tenure    balance  num_of_products  has_cr_card  \\\n",
              "0            619   42     2.0       0.00                1            1   \n",
              "1            608   41     1.0   83807.86                1            0   \n",
              "2            502   42     8.0  159660.80                3            1   \n",
              "3            699   39     1.0       0.00                2            0   \n",
              "4            850   43     2.0  125510.82                1            1   \n",
              "5            645   44     8.0  113755.78                2            1   \n",
              "6            822   50     7.0       0.00                2            1   \n",
              "7            376   29     4.0  115046.74                4            1   \n",
              "8            501   44     4.0  142051.07                2            0   \n",
              "9            684   27     2.0  134603.88                1            1   \n",
              "10           528   31     6.0  102016.72                2            0   \n",
              "11           497   24     3.0       0.00                2            1   \n",
              "12           476   34    10.0       0.00                2            1   \n",
              "13           549   25     5.0       0.00                2            0   \n",
              "14           635   35     7.0       0.00                2            1   \n",
              "\n",
              "    is_active_member  estimated_salary  exited  geography_Germany  \\\n",
              "0                  1         101348.88       1                  0   \n",
              "1                  1         112542.58       0                  0   \n",
              "2                  0         113931.57       1                  0   \n",
              "3                  0          93826.63       0                  0   \n",
              "4                  1          79084.10       0                  0   \n",
              "5                  0         149756.71       1                  0   \n",
              "6                  1          10062.80       0                  0   \n",
              "7                  0         119346.88       1                  1   \n",
              "8                  1          74940.50       0                  0   \n",
              "9                  1          71725.73       0                  0   \n",
              "10                 0          80181.12       0                  0   \n",
              "11                 0          76390.01       0                  0   \n",
              "12                 0          26260.98       0                  0   \n",
              "13                 0         190857.79       0                  0   \n",
              "14                 1          65951.65       0                  0   \n",
              "\n",
              "    geography_Spain  gender_1  \n",
              "0                 0         0  \n",
              "1                 1         0  \n",
              "2                 0         0  \n",
              "3                 0         0  \n",
              "4                 1         0  \n",
              "5                 1         1  \n",
              "6                 0         1  \n",
              "7                 0         0  \n",
              "8                 0         1  \n",
              "9                 0         1  \n",
              "10                0         1  \n",
              "11                1         1  \n",
              "12                0         0  \n",
              "13                0         0  \n",
              "14                1         0  "
            ]
          },
          "execution_count": 28,
          "metadata": {},
          "output_type": "execute_result"
        }
      ],
      "source": [
        "df = pd.get_dummies(df, drop_first=True)\n",
        "df.head(15)"
      ]
    },
    {
      "cell_type": "markdown",
      "id": "e5fce22f",
      "metadata": {
        "id": "e5fce22f"
      },
      "source": [
        "<div class=\"alert alert-warning\">\n",
        "<h2> Комментарий ревьюера <a class=\"tocSkip\"> </h2>\n",
        "    \n",
        "<b>Некоторые замечания и рекомендации💡:</b>\n",
        "\n",
        "Все верно, в дамми-ловушку не попались. Можно было бы выше не обрабатывать колонку с гендером, тогда здесь получили бы тот же результат.\n",
        "    \n",
        "</div>\n"
      ]
    },
    {
      "cell_type": "markdown",
      "id": "417221b8-d462-4f49-a184-5a7d3b401892",
      "metadata": {
        "id": "417221b8-d462-4f49-a184-5a7d3b401892"
      },
      "source": [
        "Теперь нам предстоит масштабировать признаки, что бы избежать автоматического определения важности признака т.к. для нас все признаки важны \\\n",
        "для этого будем использовать StandardScaler"
      ]
    },
    {
      "cell_type": "code",
      "execution_count": null,
      "id": "296b8825-1a3c-4621-abc4-5ab27b6021c2",
      "metadata": {
        "id": "296b8825-1a3c-4621-abc4-5ab27b6021c2"
      },
      "outputs": [],
      "source": [
        "features = df.drop(['exited'], axis = 1)\n",
        "target = df['exited']"
      ]
    },
    {
      "cell_type": "code",
      "execution_count": null,
      "id": "a2d685c4-b6fc-4aef-93c8-6dd34f1c6986",
      "metadata": {
        "id": "a2d685c4-b6fc-4aef-93c8-6dd34f1c6986"
      },
      "outputs": [],
      "source": [
        "features_train, features_valid,target_train, target_valid = train_test_split(\n",
        "    features, target, test_size= 0.4, random_state=12345)"
      ]
    },
    {
      "cell_type": "code",
      "execution_count": null,
      "id": "4b55a774-b426-4718-ab22-ea09bac7fef3",
      "metadata": {
        "id": "4b55a774-b426-4718-ab22-ea09bac7fef3"
      },
      "outputs": [],
      "source": [
        "features_valid, features_test, target_valid, target_test = train_test_split(\n",
        "    features_valid, target_valid,test_size= 0.5, random_state=12345)\n",
        ""
      ]
    },
    {
      "cell_type": "markdown",
      "id": "82a19c1b-8621-4f4e-aa21-084fac84e98a",
      "metadata": {
        "id": "82a19c1b-8621-4f4e-aa21-084fac84e98a"
      },
      "source": [
        "### StandardScaler"
      ]
    },
    {
      "cell_type": "markdown",
      "id": "1dc11d00-ba00-4235-8eda-9124301989d7",
      "metadata": {
        "id": "1dc11d00-ba00-4235-8eda-9124301989d7"
      },
      "source": [
        "scaler = StandardScaler()\n",
        "ss = ['credit_score', 'age', 'tenure', 'balance', 'num_of_products', 'estimated_salary']\n",
        "scaler.fit(df[ss])\n",
        "df[ss] = scaler.transform(df[ss])\n",
        "df.head()33"
      ]
    },
    {
      "cell_type": "code",
      "execution_count": null,
      "id": "007222fb-a972-4aad-aae3-2b498605a620",
      "metadata": {
        "id": "007222fb-a972-4aad-aae3-2b498605a620"
      },
      "outputs": [],
      "source": [
        "numeric = ['credit_score', 'age', 'tenure', 'balance', 'num_of_products', 'estimated_salary']\n",
        "scaler = StandardScaler()\n",
        "scaler.fit(features_train[numeric])\n",
        "features_train[numeric] = scaler.transform(features_train[numeric])\n",
        "features_valid[numeric] = scaler.transform(features_valid[numeric])\n",
        "features_test[numeric] = scaler.transform(features_test[numeric])\n"
      ]
    },
    {
      "cell_type": "code",
      "execution_count": null,
      "id": "73c38de3-99c1-42a1-a2ae-cdee9967c14d",
      "metadata": {
        "id": "73c38de3-99c1-42a1-a2ae-cdee9967c14d"
      },
      "outputs": [],
      "source": [
        "#features_train, features_valid, target_train, target_valid = train_test_split(\n",
        "   # features, target, test_size= 0.3, random_state=12345)"
      ]
    },
    {
      "cell_type": "markdown",
      "id": "03750a58-f2e9-467f-b3e8-dc3dff71e0d6",
      "metadata": {
        "id": "03750a58-f2e9-467f-b3e8-dc3dff71e0d6"
      },
      "source": [
        "### Перейдем к машинному обучению"
      ]
    },
    {
      "cell_type": "markdown",
      "id": "66c34789-528e-40d9-a0f8-939427c3da02",
      "metadata": {
        "id": "66c34789-528e-40d9-a0f8-939427c3da02"
      },
      "source": [
        "Начнем с дерева решений"
      ]
    },
    {
      "cell_type": "code",
      "execution_count": null,
      "id": "0430cce0-489e-4607-80f9-b3e9751ed35b",
      "metadata": {
        "id": "0430cce0-489e-4607-80f9-b3e9751ed35b",
        "outputId": "862b6e95-eb65-47a0-9fa1-4312cdddffa7"
      },
      "outputs": [
        {
          "name": "stdout",
          "output_type": "stream",
          "text": [
            "F1 лучшей модели 0.5710186513629841 ROC лучшей модели 0.7858012388170749 Глубина дерева: 9\n"
          ]
        }
      ],
      "source": [
        "best_model = None\n",
        "best_depth = 0\n",
        "best_roc = 0\n",
        "best_auc = 0\n",
        "best_f1 = 0\n",
        "\n",
        "for depth in range(1, 30):\n",
        "    model = DecisionTreeClassifier(random_state=12345,max_depth=depth)\n",
        "    model.fit(features_train, target_train)\n",
        "    predictions_valid = model.predict(features_valid)\n",
        "    f1_valid = f1_score(target_valid, predictions_valid)\n",
        "\n",
        "    if f1_valid > best_f1:\n",
        "        best_model = model\n",
        "        best_depth = depth\n",
        "        best_f1 = f1_valid\n",
        "        best_roc = roc_auc_score(target_valid, model.predict_proba(features_valid)[:,1])\n",
        "\n",
        "print(\"F1 лучшей модели\", best_f1, \"ROC лучшей модели\", best_roc, \"Глубина дерева:\", best_depth)"
      ]
    },
    {
      "cell_type": "markdown",
      "id": "3edd1fcf-0a64-4f59-9648-2bd101f06f3b",
      "metadata": {
        "id": "3edd1fcf-0a64-4f59-9648-2bd101f06f3b"
      },
      "source": [
        "Рассмотрим случайный лес"
      ]
    },
    {
      "cell_type": "code",
      "execution_count": null,
      "id": "70d06055-3d62-4192-9deb-1337fa6b8410",
      "metadata": {
        "id": "70d06055-3d62-4192-9deb-1337fa6b8410",
        "outputId": "7a57650a-65a9-4a54-da9b-7cb0bac9dc62"
      },
      "outputs": [
        {
          "name": "stdout",
          "output_type": "stream",
          "text": [
            "F1 лучшей модели 0.6074498567335244 ROC лучшей модели 0.8381311283034618 Глубина дерева: 15\n"
          ]
        }
      ],
      "source": [
        "best_model = None\n",
        "best_depth = 0\n",
        "best_roc = 0\n",
        "best_auc = 0\n",
        "best_f1 = 0\n",
        "for est in range(1, 30):\n",
        "    for depth in range (1, 30):\n",
        "        model = RandomForestClassifier(random_state=12345, n_estimators=est, max_depth=depth)\n",
        "\n",
        "        model.fit(features_train, target_train)\n",
        "\n",
        "        predictions_valid = model.predict(features_valid)\n",
        "\n",
        "        f1_valid = f1_score(target_valid, predictions_valid)\n",
        "\n",
        "        if f1_valid > best_f1:\n",
        "            best_model = model\n",
        "            best_f1 = f1_valid\n",
        "            best_roc = roc_auc_score(target_valid, model.predict_proba(features_valid)[:,1])\n",
        "            best_depth = depth\n",
        "            best_est = est\n",
        "print(\"F1 лучшей модели\", best_f1, \"ROC лучшей модели\", best_roc, \"Глубина дерева:\", best_depth)"
      ]
    },
    {
      "cell_type": "markdown",
      "id": "43b3cc47",
      "metadata": {
        "id": "43b3cc47"
      },
      "source": [
        "\n",
        "<div class=\"alert alert-warning\">\n",
        "<h2> Комментарий ревьюера <a class=\"tocSkip\"> </h2>\n",
        "    \n",
        "<b>Некоторые замечания и рекомендации💡:</b>\n",
        "\n",
        "С увеличением количества деревьев качество модели должно увеличиваться постепенно, поэтому здесь можно взять больший диапазон, но зато поставить шаг обучения:\n",
        "    \n",
        "`for est in range(1, 150, 15):`\n",
        "    \n",
        "С глубиной такого нет, там 6 может быть отличным вариантом, а 7 так себе, и 8 вновь хорошим. Поэтому по глубине у тебя все оптимально с подбором.\n",
        "       \n",
        "</div>\n",
        "  \n"
      ]
    },
    {
      "cell_type": "markdown",
      "id": "78c4fbe6-b2ba-40e4-a092-0437b88745df",
      "metadata": {
        "id": "78c4fbe6-b2ba-40e4-a092-0437b88745df"
      },
      "source": [
        "и последняя Логистическая регрессия\n"
      ]
    },
    {
      "cell_type": "code",
      "execution_count": null,
      "id": "a0fb59e1-566f-48d0-b4f6-84a7f9d1bf71",
      "metadata": {
        "id": "a0fb59e1-566f-48d0-b4f6-84a7f9d1bf71",
        "outputId": "4365005b-40db-461d-9cc3-bc36f5e0ff1d"
      },
      "outputs": [
        {
          "name": "stdout",
          "output_type": "stream",
          "text": [
            "F1 модели 0.3400673400673401 ROC модели 0.7592094677562773\n"
          ]
        }
      ],
      "source": [
        "model = LogisticRegression(random_state=12345)\n",
        "\n",
        "model.fit(features_train, target_train)\n",
        "\n",
        "predictions_valid = model.predict(features_valid)\n",
        "\n",
        "f1_valid = f1_score(target_valid, predictions_valid)\n",
        "roc_valid = roc_auc_score(target_valid, model.predict_proba(features_valid)[:,1])\n",
        "print(\"F1 модели\", f1_valid, \"ROC модели\", roc_valid)"
      ]
    },
    {
      "cell_type": "markdown",
      "id": "1b1a06c4-f2d8-4f38-a603-084e9ff30946",
      "metadata": {
        "id": "1b1a06c4-f2d8-4f38-a603-084e9ff30946"
      },
      "source": [
        "### Вывод\n",
        "Лучший результат показывает **Случайный лес**"
      ]
    },
    {
      "cell_type": "markdown",
      "id": "8e0e7752-3fc4-4c96-978f-d0636f3d6d56",
      "metadata": {
        "id": "8e0e7752-3fc4-4c96-978f-d0636f3d6d56"
      },
      "source": [
        "### Проверим баланс классов\n"
      ]
    },
    {
      "cell_type": "markdown",
      "id": "2f83722e-ca23-4867-b04e-6f6aba2cbbce",
      "metadata": {
        "id": "2f83722e-ca23-4867-b04e-6f6aba2cbbce"
      },
      "source": [
        "Для подсчёта классов в целевом признаке примените метод **value_counts()** с параметром Normаlize =True"
      ]
    },
    {
      "cell_type": "code",
      "execution_count": null,
      "id": "9e774cf8-3f32-4aea-a2bf-02d2936007a6",
      "metadata": {
        "id": "9e774cf8-3f32-4aea-a2bf-02d2936007a6",
        "outputId": "f0a34fce-d9db-4b82-8d5e-380d2f219b18"
      },
      "outputs": [
        {
          "data": {
            "text/plain": [
              "0    0.800667\n",
              "1    0.199333\n",
              "Name: exited, dtype: float64"
            ]
          },
          "execution_count": 37,
          "metadata": {},
          "output_type": "execute_result"
        }
      ],
      "source": [
        "target_train.value_counts(normalize = True)"
      ]
    },
    {
      "cell_type": "code",
      "execution_count": null,
      "id": "375e535e-67e0-4890-95b0-3bcc94537310",
      "metadata": {
        "id": "375e535e-67e0-4890-95b0-3bcc94537310",
        "outputId": "b05d0749-f9c9-4b9e-cb99-9efb6b003235"
      },
      "outputs": [
        {
          "data": {
            "text/plain": [
              "0    0.791\n",
              "1    0.209\n",
              "Name: exited, dtype: float64"
            ]
          },
          "execution_count": 38,
          "metadata": {},
          "output_type": "execute_result"
        }
      ],
      "source": [
        "target_valid.value_counts(normalize = True)\n"
      ]
    },
    {
      "cell_type": "markdown",
      "id": "a215ea4c-7245-404d-a5af-0947c320346b",
      "metadata": {
        "id": "a215ea4c-7245-404d-a5af-0947c320346b"
      },
      "source": [
        "Классы являются сбалансированными, когда значения  0 и 1 соотносятся 1:1\n",
        "значит у нас дисбаланс и нам нужно улучшить качество"
      ]
    },
    {
      "cell_type": "markdown",
      "id": "5e9420ef-3b11-46fd-b731-fe5daf274ccb",
      "metadata": {
        "id": "5e9420ef-3b11-46fd-b731-fe5daf274ccb"
      },
      "source": [
        "### Увеличим выборку"
      ]
    },
    {
      "cell_type": "code",
      "execution_count": null,
      "id": "254acce2-8695-4c49-9788-d2062427e122",
      "metadata": {
        "id": "254acce2-8695-4c49-9788-d2062427e122"
      },
      "outputs": [],
      "source": [
        "def upsample(features, target, repeat):\n",
        "    features_zeros = features[target == 0]\n",
        "    features_ones = features[target == 1]\n",
        "    target_zeros = target[target == 0]\n",
        "    target_ones = target[target == 1]\n",
        "\n",
        "    features_upsampled = pd.concat([features_zeros] + [features_ones] * repeat)\n",
        "    target_upsampled = pd.concat([target_zeros] + [target_ones] * repeat)\n",
        "\n",
        "    features_upsampled, target_upsampled = shuffle(\n",
        "        features_upsampled, target_upsampled, random_state=12345)\n",
        "\n",
        "    return features_upsampled, target_upsampled\n",
        "\n",
        "features_upsampled, target_upsampled = upsample(features_train, target_train,4)\n"
      ]
    },
    {
      "cell_type": "code",
      "execution_count": null,
      "id": "5f643c84-5a89-42d9-b224-74fab68426fe",
      "metadata": {
        "id": "5f643c84-5a89-42d9-b224-74fab68426fe",
        "outputId": "347c3d1d-4fb8-4c6d-c431-bc804742277e"
      },
      "outputs": [
        {
          "name": "stdout",
          "output_type": "stream",
          "text": [
            "F1 лучшей модели 0.6332665330661322 ROC лучшей модели 0.8544684821466377 Глубина дерева: 7 Кол-во деревьев 19\n"
          ]
        }
      ],
      "source": [
        "best_model = None\n",
        "best_depth = 0\n",
        "best_roc = 0\n",
        "best_auc = 0\n",
        "best_f1 = 0\n",
        "best_est = 0\n",
        "for est in range(1, 30):\n",
        "    for depth in range (1, 30):\n",
        "        model = RandomForestClassifier(random_state=12345, n_estimators=est, max_depth=depth)\n",
        "\n",
        "        model.fit(features_upsampled, target_upsampled)\n",
        "\n",
        "        predictions_valid = model.predict(features_valid)\n",
        "\n",
        "        f1_valid = f1_score(target_valid, predictions_valid)\n",
        "\n",
        "        if f1_valid > best_f1:\n",
        "            best_model = model\n",
        "            best_f1 = f1_valid\n",
        "            best_roc = roc_auc_score(target_valid, model.predict_proba(features_valid)[:,1])\n",
        "            best_depth = depth\n",
        "            best_est = est\n",
        "print(\"F1 лучшей модели\", best_f1, \"ROC лучшей модели\", best_roc, \"Глубина дерева:\", best_depth,'Кол-во деревьев', best_est )"
      ]
    },
    {
      "cell_type": "markdown",
      "id": "a016b101-39b0-4fed-8ea3-31fe974cfa80",
      "metadata": {
        "id": "a016b101-39b0-4fed-8ea3-31fe974cfa80"
      },
      "source": [
        "## А вот это уже неправда :)\n",
        "***f1=1,а это значит, что соотношение полноты и точности равно 1:1.***\n",
        "### f1 теперь 0,64, что говорит об увеличении (было 0,57)"
      ]
    },
    {
      "cell_type": "markdown",
      "id": "6519f171-b1ef-4612-a3f8-21a486dcf673",
      "metadata": {
        "id": "6519f171-b1ef-4612-a3f8-21a486dcf673"
      },
      "source": [
        "### Взвешивание классов"
      ]
    },
    {
      "cell_type": "code",
      "execution_count": null,
      "id": "e85892c7-f303-4bc7-bcdb-e2cf7003f877",
      "metadata": {
        "id": "e85892c7-f303-4bc7-bcdb-e2cf7003f877",
        "outputId": "ee563905-3311-44b6-d571-9173ccdf0e98"
      },
      "outputs": [
        {
          "name": "stdout",
          "output_type": "stream",
          "text": [
            "F1 лучшей модели 0.5985185185185184 ROC лучшей модели 0.837015860245949 Глубина дерева: 21 Кол-во деревьев 1\n"
          ]
        }
      ],
      "source": [
        "best_model = None\n",
        "best_depth = 0\n",
        "best_roc = 0\n",
        "best_auc = 0\n",
        "best_f1 = 0\n",
        "best_est = 0\n",
        "for est in range(1, 30):\n",
        "    for depth in range (1, 30):\n",
        "        model = RandomForestClassifier(random_state=12345, max_depth = depth) #class_weight='balanced'))\n",
        "        model.fit(features_train, target_train)\n",
        "        predictions_valid = model.predict(features_valid)\n",
        "        f1_valid = f1_score(target_valid, predictions_valid)\n",
        "        if f1_valid > best_f1:\n",
        "            best_model = model\n",
        "            best_f1 = f1_valid\n",
        "            best_roc = roc_auc_score(target_valid, model.predict_proba(features_valid)[:,1])\n",
        "            best_depth = depth\n",
        "            best_est = est\n",
        "\n",
        "\n",
        "print(\"F1 лучшей модели\", best_f1, \"ROC лучшей модели\", best_roc, \"Глубина дерева:\", best_depth, 'Кол-во деревьев', best_est )"
      ]
    },
    {
      "cell_type": "markdown",
      "id": "e00abb9c-038a-4e7b-9277-d4c669403f72",
      "metadata": {
        "id": "e00abb9c-038a-4e7b-9277-d4c669403f72"
      },
      "source": [
        "### Уменьшение выборки"
      ]
    },
    {
      "cell_type": "code",
      "execution_count": null,
      "id": "8a639158-2787-469e-8d26-52d2477bc405",
      "metadata": {
        "id": "8a639158-2787-469e-8d26-52d2477bc405"
      },
      "outputs": [],
      "source": [
        "def downsample(features, target, fraction):\n",
        "    features_zeros = features[target == 0]\n",
        "    features_ones = features[target == 1]\n",
        "    target_zeros = target[target == 0]\n",
        "    target_ones = target[target == 1]\n",
        "\n",
        "    features_downsampled = pd.concat(\n",
        "        [features_zeros.sample(frac=fraction, random_state=12345)] + [features_ones])\n",
        "    target_downsampled = pd.concat(\n",
        "        [target_zeros.sample(frac=fraction, random_state=12345)] + [target_ones])\n",
        "\n",
        "    features_downsampled, target_downsampled = shuffle(\n",
        "        features_downsampled, target_downsampled, random_state=12345)\n",
        "\n",
        "    return features_downsampled, target_downsampled\n",
        "\n",
        "features_downsampled, target_downsampled = downsample(features_train, target_train, 0.25)\n",
        "\n"
      ]
    },
    {
      "cell_type": "code",
      "execution_count": null,
      "id": "e7a84ce1-fb75-4a70-8d52-3e329ab6275c",
      "metadata": {
        "id": "e7a84ce1-fb75-4a70-8d52-3e329ab6275c",
        "outputId": "288c326c-f0e6-4949-a301-167522bf22b6"
      },
      "outputs": [
        {
          "name": "stdout",
          "output_type": "stream",
          "text": [
            "F1 лучшей модели 0.6168051708217912 ROC лучшей модели 0.8643547212846766 Глубина дерева: 8\n"
          ]
        }
      ],
      "source": [
        "best_model = None\n",
        "best_depth = 0\n",
        "best_roc = 0\n",
        "best_auc = 0\n",
        "best_f1 = 0\n",
        "best_est = 0\n",
        "for est in range(1, 30):\n",
        "    for depth in range (1, 30):\n",
        "        model = RandomForestClassifier(random_state=12345, max_depth = depth) #class_weight='balanced')\n",
        "        model.fit(features_downsampled, target_downsampled)\n",
        "        predictions_valid = model.predict(features_valid)\n",
        "        f1_valid = f1_score(target_valid, predictions_valid)\n",
        "        if f1_valid > best_f1:\n",
        "            best_model = model\n",
        "            best_f1 = f1_valid\n",
        "            best_roc = roc_auc_score(target_valid, model.predict_proba(features_valid)[:,1])\n",
        "            best_depth = depth\n",
        "            best_est = est\n",
        "\n",
        "\n",
        "print(\"F1 лучшей модели\", best_f1, \"ROC лучшей модели\", best_roc, \"Глубина дерева:\", best_depth,'Кол-во деревьев', best_est)"
      ]
    },
    {
      "cell_type": "markdown",
      "id": "9e564657-3d0d-4d9c-b350-4f630522d9f1",
      "metadata": {
        "id": "9e564657-3d0d-4d9c-b350-4f630522d9f1"
      },
      "source": [
        "### Вывод: Наилучший результат метрики f1_score модель показывает при глубине дерева 9.\n",
        "F1 лучшей модели 0.6418219461697723\\\n",
        "ROC лучшей модели 0.8583711370596616\\\n",
        "Глубина дерева: 9\\\n",
        "Кол-во деревьев 17"
      ]
    },
    {
      "cell_type": "markdown",
      "id": "ffe14945-a7ec-4e50-b407-98f0fa5cf133",
      "metadata": {
        "id": "ffe14945-a7ec-4e50-b407-98f0fa5cf133"
      },
      "source": [
        "### Протестируем модель"
      ]
    },
    {
      "cell_type": "code",
      "execution_count": null,
      "id": "caf03cef-f00b-4fb8-9380-7890daf4e426",
      "metadata": {
        "id": "caf03cef-f00b-4fb8-9380-7890daf4e426",
        "outputId": "afa21cbd-c940-4d2a-9ebd-7ca717221217"
      },
      "outputs": [
        {
          "name": "stdout",
          "output_type": "stream",
          "text": [
            "Accuracy 0.808 F1 score 0.6 Roc_auc 0.847645902759976\n",
            "Качество модели не ухудшилось\n",
            "\n"
          ]
        }
      ],
      "source": [
        "model_finally = RandomForestClassifier(random_state=12345, n_estimators=17, max_depth=9)\n",
        "\n",
        "model_finally.fit(features_upsampled, target_upsampled)\n",
        "predictions_finally = model_finally.predict(features_test)\n",
        "probabilities_finally = model_finally.predict_proba(features_test)\n",
        "\n",
        "accuracy_finally = accuracy_score(target_test, predictions_finally)\n",
        "f1_finally = f1_score(target_test, predictions_finally)\n",
        "roc_auc_finally = roc_auc_score(target_test, probabilities_finally[:,1])\n",
        "\n",
        "print('Accuracy', accuracy_finally,'F1 score', f1_finally,'Roc_auc', roc_auc_finally)\n",
        "print('Качество модели не ухудшилось')\n",
        "print()"
      ]
    },
    {
      "cell_type": "markdown",
      "id": "630118ed-4685-4f5e-863a-2b223c5b63ab",
      "metadata": {
        "id": "630118ed-4685-4f5e-863a-2b223c5b63ab"
      },
      "source": [
        "### Построим ROC-кривую"
      ]
    },
    {
      "cell_type": "code",
      "execution_count": null,
      "id": "b625efec-cac5-4156-8b0f-b0001c04adfa",
      "metadata": {
        "id": "b625efec-cac5-4156-8b0f-b0001c04adfa",
        "outputId": "bd47bf9a-999e-4c0e-b285-a5bbcaf6b68c"
      },
      "outputs": [
        {
          "data": {
            "text/plain": [
              "RandomForestClassifier(max_depth=9, n_estimators=17, random_state=12345)"
            ]
          },
          "execution_count": 49,
          "metadata": {},
          "output_type": "execute_result"
        }
      ],
      "source": [
        "model = RandomForestClassifier(random_state=12345, n_estimators=17,max_depth = 9)#class_weight='balanced')\n",
        "model.fit(features_test, target_test)\n"
      ]
    },
    {
      "cell_type": "code",
      "execution_count": null,
      "id": "e2a030f3-33fc-4dcc-8a84-86d0dcc63473",
      "metadata": {
        "id": "e2a030f3-33fc-4dcc-8a84-86d0dcc63473",
        "outputId": "b4df6197-c1c1-488e-c443-a4e158bcb90f"
      },
      "outputs": [
        {
          "data": {
            "text/plain": [
              "Text(0.5, 1.0, 'ROC-кривая')"
            ]
          },
          "execution_count": 50,
          "metadata": {},
          "output_type": "execute_result"
        },
        {
          "data": {
            "image/png": "[encoded data removed]",
            "text/plain": [
              "<Figure size 640x480 with 1 Axes>"
            ]
          },
          "metadata": {},
          "output_type": "display_data"
        }
      ],
      "source": [
        "probabilities_valid = model.predict_proba(features_valid)\n",
        "\n",
        "fpr, tpr, thresholds = roc_curve(target_valid, probabilities_valid[:, 1])\n",
        "\n",
        "plt.figure()\n",
        "plt.plot(fpr, tpr)\n",
        "plt.xlim([0.0, 1.0])\n",
        "plt.ylim([0.0, 1.0])\n",
        "plt.xlabel('FPR')\n",
        "plt.ylabel('TPR')\n",
        "plt.title('ROC-кривая')"
      ]
    },
    {
      "cell_type": "markdown",
      "id": "7fed4d6f-e369-4d04-b8a9-40d8ebe35fbf",
      "metadata": {
        "id": "7fed4d6f-e369-4d04-b8a9-40d8ebe35fbf"
      },
      "source": [
        "### Вывод:\n",
        "Перед проведением машинного обучения мы подготовили данные, отбросили лишнее и максимально перевели показатели классификации в регрессию, оценили корреляцию данных в DF \\\n",
        "Нашей целью было показать качество модели F1>0.59 на тестовой выборке и нам этого удалось достичь \\\n",
        "**наилучший результат у RandomForestClassifier** \\\n",
        "F1 лучшей модели 0.6437684003925417 \\\n",
        "ROC лучшей модели 0.86233364251248 \\\n",
        "Max_depth(Глубина дерева): 6 \\\n",
        "Кол-во деревьев 8 \\\n",
        "**худший показала LogisticRegression** \\\n",
        "применили несколько способов борьбы с дисбалансом (взвешивание классов, увеличение выборки, уменьшение выборки ) \\\n",
        "проверили, как преобразование данных влияет на способность модели предсказывать уход клиентов. \\\n",
        "наилучший показатель таких метрик как f1_score и roc_auc_score был достигнут на данных преобразованных при помощи увеличение выборки"
      ]
    },
    {
      "cell_type": "code",
      "execution_count": null,
      "id": "e2b85588-dc05-4b1b-a234-aaacd54e23dd",
      "metadata": {
        "id": "e2b85588-dc05-4b1b-a234-aaacd54e23dd"
      },
      "outputs": [],
      "source": []
    }
  ],
  "metadata": {
    "ExecuteTimeLog": [
      {
        "duration": 2280,
        "start_time": "2023-06-15T17:52:13.935Z"
      },
      {
        "duration": 217,
        "start_time": "2023-06-15T17:52:16.217Z"
      },
      {
        "duration": 0,
        "start_time": "2023-06-15T17:52:16.437Z"
      },
      {
        "duration": 0,
        "start_time": "2023-06-15T17:52:16.438Z"
      },
      {
        "duration": 0,
        "start_time": "2023-06-15T17:52:16.441Z"
      },
      {
        "duration": 0,
        "start_time": "2023-06-15T17:52:16.443Z"
      },
      {
        "duration": 0,
        "start_time": "2023-06-15T17:52:16.444Z"
      },
      {
        "duration": 0,
        "start_time": "2023-06-15T17:52:16.446Z"
      },
      {
        "duration": 0,
        "start_time": "2023-06-15T17:52:16.458Z"
      },
      {
        "duration": 0,
        "start_time": "2023-06-15T17:52:16.460Z"
      },
      {
        "duration": 0,
        "start_time": "2023-06-15T17:52:16.462Z"
      },
      {
        "duration": 0,
        "start_time": "2023-06-15T17:52:16.463Z"
      },
      {
        "duration": 0,
        "start_time": "2023-06-15T17:52:16.465Z"
      },
      {
        "duration": 0,
        "start_time": "2023-06-15T17:52:16.466Z"
      },
      {
        "duration": 0,
        "start_time": "2023-06-15T17:52:16.467Z"
      },
      {
        "duration": 0,
        "start_time": "2023-06-15T17:52:16.469Z"
      },
      {
        "duration": 0,
        "start_time": "2023-06-15T17:52:16.470Z"
      },
      {
        "duration": 0,
        "start_time": "2023-06-15T17:52:16.471Z"
      },
      {
        "duration": 0,
        "start_time": "2023-06-15T17:52:16.472Z"
      },
      {
        "duration": 0,
        "start_time": "2023-06-15T17:52:16.474Z"
      },
      {
        "duration": 0,
        "start_time": "2023-06-15T17:52:16.475Z"
      },
      {
        "duration": 0,
        "start_time": "2023-06-15T17:52:16.476Z"
      },
      {
        "duration": 0,
        "start_time": "2023-06-15T17:52:16.477Z"
      },
      {
        "duration": 0,
        "start_time": "2023-06-15T17:52:16.479Z"
      },
      {
        "duration": 0,
        "start_time": "2023-06-15T17:52:16.481Z"
      },
      {
        "duration": 0,
        "start_time": "2023-06-15T17:52:16.482Z"
      },
      {
        "duration": 0,
        "start_time": "2023-06-15T17:52:16.484Z"
      },
      {
        "duration": 0,
        "start_time": "2023-06-15T17:52:16.485Z"
      },
      {
        "duration": 0,
        "start_time": "2023-06-15T17:52:16.487Z"
      },
      {
        "duration": 0,
        "start_time": "2023-06-15T17:52:16.489Z"
      },
      {
        "duration": 1,
        "start_time": "2023-06-15T17:52:16.490Z"
      },
      {
        "duration": 0,
        "start_time": "2023-06-15T17:52:16.492Z"
      },
      {
        "duration": 0,
        "start_time": "2023-06-15T17:52:16.493Z"
      },
      {
        "duration": 0,
        "start_time": "2023-06-15T17:52:16.495Z"
      },
      {
        "duration": 0,
        "start_time": "2023-06-15T17:52:16.557Z"
      },
      {
        "duration": 0,
        "start_time": "2023-06-15T17:52:16.559Z"
      },
      {
        "duration": 0,
        "start_time": "2023-06-15T17:52:16.561Z"
      },
      {
        "duration": 0,
        "start_time": "2023-06-15T17:52:16.565Z"
      },
      {
        "duration": 0,
        "start_time": "2023-06-15T17:52:16.566Z"
      },
      {
        "duration": 0,
        "start_time": "2023-06-15T17:52:16.568Z"
      },
      {
        "duration": 0,
        "start_time": "2023-06-15T17:52:16.569Z"
      },
      {
        "duration": 0,
        "start_time": "2023-06-15T17:52:16.571Z"
      },
      {
        "duration": 0,
        "start_time": "2023-06-15T17:52:16.573Z"
      },
      {
        "duration": 0,
        "start_time": "2023-06-15T17:52:16.576Z"
      },
      {
        "duration": 178,
        "start_time": "2023-06-15T17:53:04.004Z"
      },
      {
        "duration": 23,
        "start_time": "2023-06-15T17:53:10.845Z"
      },
      {
        "duration": 15,
        "start_time": "2023-06-15T17:53:10.870Z"
      },
      {
        "duration": 20,
        "start_time": "2023-06-15T17:53:10.887Z"
      },
      {
        "duration": 5,
        "start_time": "2023-06-15T17:53:10.909Z"
      },
      {
        "duration": 21,
        "start_time": "2023-06-15T17:53:10.916Z"
      },
      {
        "duration": 26,
        "start_time": "2023-06-15T17:53:10.957Z"
      },
      {
        "duration": 19,
        "start_time": "2023-06-15T17:53:10.984Z"
      },
      {
        "duration": 23,
        "start_time": "2023-06-15T17:53:11.005Z"
      },
      {
        "duration": 12,
        "start_time": "2023-06-15T17:53:11.058Z"
      },
      {
        "duration": 8,
        "start_time": "2023-06-15T17:53:11.072Z"
      },
      {
        "duration": 21,
        "start_time": "2023-06-15T17:53:11.083Z"
      },
      {
        "duration": 14,
        "start_time": "2023-06-15T17:53:11.107Z"
      },
      {
        "duration": 36,
        "start_time": "2023-06-15T17:53:11.123Z"
      },
      {
        "duration": 6,
        "start_time": "2023-06-15T17:53:11.163Z"
      },
      {
        "duration": 13,
        "start_time": "2023-06-15T17:53:11.171Z"
      },
      {
        "duration": 8,
        "start_time": "2023-06-15T17:53:11.186Z"
      },
      {
        "duration": 6,
        "start_time": "2023-06-15T17:53:11.196Z"
      },
      {
        "duration": 16,
        "start_time": "2023-06-15T17:53:11.204Z"
      },
      {
        "duration": 42,
        "start_time": "2023-06-15T17:53:11.222Z"
      },
      {
        "duration": 3,
        "start_time": "2023-06-15T17:53:11.267Z"
      },
      {
        "duration": 15,
        "start_time": "2023-06-15T17:53:11.272Z"
      },
      {
        "duration": 7,
        "start_time": "2023-06-15T17:53:11.288Z"
      },
      {
        "duration": 31,
        "start_time": "2023-06-15T17:53:11.298Z"
      },
      {
        "duration": 23,
        "start_time": "2023-06-15T17:53:11.356Z"
      },
      {
        "duration": 502,
        "start_time": "2023-06-15T17:53:11.381Z"
      },
      {
        "duration": 24,
        "start_time": "2023-06-15T17:53:11.886Z"
      },
      {
        "duration": 49,
        "start_time": "2023-06-15T17:53:11.911Z"
      },
      {
        "duration": 6,
        "start_time": "2023-06-15T17:53:11.962Z"
      },
      {
        "duration": 21,
        "start_time": "2023-06-15T17:53:11.969Z"
      },
      {
        "duration": 880,
        "start_time": "2023-06-15T17:53:11.992Z"
      },
      {
        "duration": 118,
        "start_time": "2023-06-15T17:53:12.874Z"
      },
      {
        "duration": 0,
        "start_time": "2023-06-15T17:53:12.994Z"
      },
      {
        "duration": 0,
        "start_time": "2023-06-15T17:53:12.995Z"
      },
      {
        "duration": 0,
        "start_time": "2023-06-15T17:53:12.996Z"
      },
      {
        "duration": 0,
        "start_time": "2023-06-15T17:53:12.997Z"
      },
      {
        "duration": 0,
        "start_time": "2023-06-15T17:53:12.998Z"
      },
      {
        "duration": 0,
        "start_time": "2023-06-15T17:53:12.999Z"
      },
      {
        "duration": 0,
        "start_time": "2023-06-15T17:53:13.000Z"
      },
      {
        "duration": 0,
        "start_time": "2023-06-15T17:53:13.001Z"
      },
      {
        "duration": 0,
        "start_time": "2023-06-15T17:53:13.003Z"
      },
      {
        "duration": 0,
        "start_time": "2023-06-15T17:53:13.004Z"
      },
      {
        "duration": 0,
        "start_time": "2023-06-15T17:53:13.005Z"
      },
      {
        "duration": 522,
        "start_time": "2023-06-15T19:17:38.058Z"
      },
      {
        "duration": 12,
        "start_time": "2023-06-15T19:24:37.852Z"
      },
      {
        "duration": 594,
        "start_time": "2023-06-15T19:24:37.877Z"
      },
      {
        "duration": 0,
        "start_time": "2023-06-15T19:24:38.558Z"
      },
      {
        "duration": 1,
        "start_time": "2023-06-15T19:24:38.560Z"
      },
      {
        "duration": 0,
        "start_time": "2023-06-15T19:24:38.562Z"
      },
      {
        "duration": 0,
        "start_time": "2023-06-15T19:24:38.563Z"
      },
      {
        "duration": 0,
        "start_time": "2023-06-15T19:24:38.565Z"
      },
      {
        "duration": 0,
        "start_time": "2023-06-15T19:24:38.566Z"
      },
      {
        "duration": 0,
        "start_time": "2023-06-15T19:24:38.567Z"
      },
      {
        "duration": 0,
        "start_time": "2023-06-15T19:24:38.568Z"
      },
      {
        "duration": 0,
        "start_time": "2023-06-15T19:24:38.570Z"
      },
      {
        "duration": 0,
        "start_time": "2023-06-15T19:24:38.571Z"
      },
      {
        "duration": 0,
        "start_time": "2023-06-15T19:24:38.573Z"
      },
      {
        "duration": 0,
        "start_time": "2023-06-15T19:24:38.657Z"
      },
      {
        "duration": 0,
        "start_time": "2023-06-15T19:24:38.659Z"
      },
      {
        "duration": 0,
        "start_time": "2023-06-15T19:24:38.660Z"
      },
      {
        "duration": 0,
        "start_time": "2023-06-15T19:24:38.662Z"
      },
      {
        "duration": 0,
        "start_time": "2023-06-15T19:24:38.663Z"
      },
      {
        "duration": 0,
        "start_time": "2023-06-15T19:24:38.664Z"
      },
      {
        "duration": 0,
        "start_time": "2023-06-15T19:24:38.666Z"
      },
      {
        "duration": 0,
        "start_time": "2023-06-15T19:24:38.667Z"
      },
      {
        "duration": 0,
        "start_time": "2023-06-15T19:24:38.756Z"
      },
      {
        "duration": 0,
        "start_time": "2023-06-15T19:24:38.768Z"
      },
      {
        "duration": 0,
        "start_time": "2023-06-15T19:24:38.772Z"
      },
      {
        "duration": 0,
        "start_time": "2023-06-15T19:24:38.774Z"
      },
      {
        "duration": 0,
        "start_time": "2023-06-15T19:24:38.775Z"
      },
      {
        "duration": 0,
        "start_time": "2023-06-15T19:24:38.776Z"
      },
      {
        "duration": 0,
        "start_time": "2023-06-15T19:24:38.777Z"
      },
      {
        "duration": 0,
        "start_time": "2023-06-15T19:24:38.856Z"
      },
      {
        "duration": 0,
        "start_time": "2023-06-15T19:24:38.860Z"
      },
      {
        "duration": 0,
        "start_time": "2023-06-15T19:24:38.862Z"
      },
      {
        "duration": 0,
        "start_time": "2023-06-15T19:24:38.864Z"
      },
      {
        "duration": 0,
        "start_time": "2023-06-15T19:24:38.866Z"
      },
      {
        "duration": 599101,
        "start_time": "2023-06-15T19:24:45.260Z"
      },
      {
        "duration": 600,
        "start_time": "2023-06-15T19:34:44.366Z"
      },
      {
        "duration": 98,
        "start_time": "2023-06-15T19:34:44.968Z"
      },
      {
        "duration": 92,
        "start_time": "2023-06-15T19:34:45.072Z"
      },
      {
        "duration": 202,
        "start_time": "2023-06-15T19:34:45.170Z"
      },
      {
        "duration": 2391904,
        "start_time": "2023-06-15T19:34:45.460Z"
      },
      {
        "duration": 1209,
        "start_time": "2023-06-19T03:40:53.094Z"
      },
      {
        "duration": 183,
        "start_time": "2023-06-19T03:40:54.305Z"
      },
      {
        "duration": 2316,
        "start_time": "2023-06-20T06:52:38.367Z"
      },
      {
        "duration": 205,
        "start_time": "2023-06-20T06:52:40.685Z"
      }
    ],
    "kernelspec": {
      "display_name": "Python 3 (ipykernel)",
      "language": "python",
      "name": "python3"
    },
    "language_info": {
      "codemirror_mode": {
        "name": "ipython",
        "version": 3
      },
      "file_extension": ".py",
      "mimetype": "text/x-python",
      "name": "python",
      "nbconvert_exporter": "python",
      "pygments_lexer": "ipython3",
      "version": "3.9.5"
    },
    "toc": {
      "base_numbering": 1,
      "nav_menu": {},
      "number_sections": true,
      "sideBar": true,
      "skip_h1_title": true,
      "title_cell": "Table of Contents",
      "title_sidebar": "Contents",
      "toc_cell": false,
      "toc_position": {},
      "toc_section_display": true,
      "toc_window_display": false
    },
    "colab": {
      "provenance": []
    }
  },
  "nbformat": 4,
  "nbformat_minor": 5
}